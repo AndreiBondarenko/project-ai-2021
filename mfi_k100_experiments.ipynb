{
 "cells": [
  {
   "cell_type": "code",
   "execution_count": 3,
   "id": "9eb4cd4c-f9ec-4bce-9c5f-2ddc0e14fec2",
   "metadata": {},
   "outputs": [
    {
     "data": {
      "application/vnd.jupyter.widget-view+json": {
       "model_id": "c4de74614a5849268ad3e52e663cbc0b",
       "version_major": 2,
       "version_minor": 0
      },
      "text/plain": [
       "  0%|          | 0/10 [00:00<?, ?it/s]"
      ]
     },
     "metadata": {},
     "output_type": "display_data"
    },
    {
     "data": {
      "application/vnd.jupyter.widget-view+json": {
       "model_id": "561123322db34a71be3625aabfe22c32",
       "version_major": 2,
       "version_minor": 0
      },
      "text/plain": [
       "  0%|          | 0/10 [00:00<?, ?it/s]"
      ]
     },
     "metadata": {},
     "output_type": "display_data"
    },
    {
     "data": {
      "application/vnd.jupyter.widget-view+json": {
       "model_id": "4bbed224bfc94657981919480acdfee2",
       "version_major": 2,
       "version_minor": 0
      },
      "text/plain": [
       "  0%|          | 0/10 [00:00<?, ?it/s]"
      ]
     },
     "metadata": {},
     "output_type": "display_data"
    },
    {
     "data": {
      "application/vnd.jupyter.widget-view+json": {
       "model_id": "29466b2f807443d39222162463117c85",
       "version_major": 2,
       "version_minor": 0
      },
      "text/plain": [
       "  0%|          | 0/10 [00:00<?, ?it/s]"
      ]
     },
     "metadata": {},
     "output_type": "display_data"
    },
    {
     "data": {
      "application/vnd.jupyter.widget-view+json": {
       "model_id": "b07cdf8d6445485fac4fe55bb7235ff3",
       "version_major": 2,
       "version_minor": 0
      },
      "text/plain": [
       "  0%|          | 0/10 [00:00<?, ?it/s]"
      ]
     },
     "metadata": {},
     "output_type": "display_data"
    },
    {
     "data": {
      "application/vnd.jupyter.widget-view+json": {
       "model_id": "b5cc05d7d17f4d448d5021d1fb4edd13",
       "version_major": 2,
       "version_minor": 0
      },
      "text/plain": [
       "  0%|          | 0/148438 [00:00<?, ?it/s]"
      ]
     },
     "metadata": {},
     "output_type": "display_data"
    },
    {
     "data": {
      "application/vnd.jupyter.widget-view+json": {
       "model_id": "f4215aef3f5649d3a843fd647c90699a",
       "version_major": 2,
       "version_minor": 0
      },
      "text/plain": [
       "  0%|          | 0/148438 [00:00<?, ?it/s]"
      ]
     },
     "metadata": {},
     "output_type": "display_data"
    },
    {
     "data": {
      "application/vnd.jupyter.widget-view+json": {
       "model_id": "d875f48e83694c6695ae75af651570d0",
       "version_major": 2,
       "version_minor": 0
      },
      "text/plain": [
       "  0%|          | 0/148438 [00:00<?, ?it/s]"
      ]
     },
     "metadata": {},
     "output_type": "display_data"
    },
    {
     "data": {
      "application/vnd.jupyter.widget-view+json": {
       "model_id": "806f96e2de1e4da4851bb209bb9b6a6a",
       "version_major": 2,
       "version_minor": 0
      },
      "text/plain": [
       "  0%|          | 0/148438 [00:00<?, ?it/s]"
      ]
     },
     "metadata": {},
     "output_type": "display_data"
    },
    {
     "data": {
      "application/vnd.jupyter.widget-view+json": {
       "model_id": "64253af5dc8942af9250a9986e31acc9",
       "version_major": 2,
       "version_minor": 0
      },
      "text/plain": [
       "  0%|          | 0/148438 [00:00<?, ?it/s]"
      ]
     },
     "metadata": {},
     "output_type": "display_data"
    }
   ],
   "source": [
    "%run mfi_experiment.py experiment-k100-l001 100 0.01"
   ]
  },
  {
   "cell_type": "code",
   "execution_count": 1,
   "id": "5f2c11ab-a945-428d-9b7f-cbbe9fb671e9",
   "metadata": {},
   "outputs": [
    {
     "data": {
      "text/html": [
       "<pre style=\"white-space:pre;overflow-x:auto;line-height:normal;font-family:Menlo,'DejaVu Sans Mono',consolas,'Courier New',monospace\">┏━━━━━━┳━━━━━━━━━━━━━━━━━━━┳━━━━━━━━━━━━━━━━━━━┳━━━━━━━━━━━━━━━━━━━┳━━━━━━━━━━━━━━━━━━━┓\n",
       "┃<span style=\"color: #800080; text-decoration-color: #800080; font-weight: bold\"> Fold </span>┃<span style=\"color: #800080; text-decoration-color: #800080; font-weight: bold\"> Recall@5          </span>┃<span style=\"color: #800080; text-decoration-color: #800080; font-weight: bold\"> Recall@10         </span>┃<span style=\"color: #800080; text-decoration-color: #800080; font-weight: bold\"> nDCG@5            </span>┃<span style=\"color: #800080; text-decoration-color: #800080; font-weight: bold\"> nDCG@10           </span>┃\n",
       "┡━━━━━━╇━━━━━━━━━━━━━━━━━━━╇━━━━━━━━━━━━━━━━━━━╇━━━━━━━━━━━━━━━━━━━╇━━━━━━━━━━━━━━━━━━━┩\n",
       "│ 1    │ 0.17686           │ 0.24783           │ 0.33296           │ 0.36915           │\n",
       "│ 2    │ 0.17572           │ 0.24322           │ 0.33501           │ 0.37200           │\n",
       "│ 3    │ 0.18749           │ 0.25807           │ 0.34676           │ 0.38230           │\n",
       "│ 4    │ 0.17230           │ 0.24050           │ 0.33358           │ 0.36879           │\n",
       "│ 5    │ 0.18111           │ 0.24887           │ 0.33865           │ 0.37473           │\n",
       "├──────┼───────────────────┼───────────────────┼───────────────────┼───────────────────┤\n",
       "│      │ 0.17870 ± 0.00522 │ 0.24770 ± 0.00601 │ 0.33739 ± 0.00508 │ 0.37340 ± 0.00495 │\n",
       "└──────┴───────────────────┴───────────────────┴───────────────────┴───────────────────┘\n",
       "</pre>\n"
      ],
      "text/plain": [
       "┏━━━━━━┳━━━━━━━━━━━━━━━━━━━┳━━━━━━━━━━━━━━━━━━━┳━━━━━━━━━━━━━━━━━━━┳━━━━━━━━━━━━━━━━━━━┓\n",
       "┃\u001b[1;35m \u001b[0m\u001b[1;35mFold\u001b[0m\u001b[1;35m \u001b[0m┃\u001b[1;35m \u001b[0m\u001b[1;35mRecall@5         \u001b[0m\u001b[1;35m \u001b[0m┃\u001b[1;35m \u001b[0m\u001b[1;35mRecall@10        \u001b[0m\u001b[1;35m \u001b[0m┃\u001b[1;35m \u001b[0m\u001b[1;35mnDCG@5           \u001b[0m\u001b[1;35m \u001b[0m┃\u001b[1;35m \u001b[0m\u001b[1;35mnDCG@10          \u001b[0m\u001b[1;35m \u001b[0m┃\n",
       "┡━━━━━━╇━━━━━━━━━━━━━━━━━━━╇━━━━━━━━━━━━━━━━━━━╇━━━━━━━━━━━━━━━━━━━╇━━━━━━━━━━━━━━━━━━━┩\n",
       "│ 1    │ 0.17686           │ 0.24783           │ 0.33296           │ 0.36915           │\n",
       "│ 2    │ 0.17572           │ 0.24322           │ 0.33501           │ 0.37200           │\n",
       "│ 3    │ 0.18749           │ 0.25807           │ 0.34676           │ 0.38230           │\n",
       "│ 4    │ 0.17230           │ 0.24050           │ 0.33358           │ 0.36879           │\n",
       "│ 5    │ 0.18111           │ 0.24887           │ 0.33865           │ 0.37473           │\n",
       "├──────┼───────────────────┼───────────────────┼───────────────────┼───────────────────┤\n",
       "│      │ 0.17870 ± 0.00522 │ 0.24770 ± 0.00601 │ 0.33739 ± 0.00508 │ 0.37340 ± 0.00495 │\n",
       "└──────┴───────────────────┴───────────────────┴───────────────────┴───────────────────┘\n"
      ]
     },
     "metadata": {},
     "output_type": "display_data"
    },
    {
     "data": {
      "image/png": "[encoded data removed]",
      "text/plain": [
       "<Figure size 432x288 with 1 Axes>"
      ]
     },
     "metadata": {
      "needs_background": "light"
     },
     "output_type": "display_data"
    }
   ],
   "source": [
    "%run mfi_experiment_plot.py experiment-k100-l001"
   ]
  },
  {
   "cell_type": "code",
   "execution_count": null,
   "id": "5085c482-1c0e-4a16-8acb-52a2531937d1",
   "metadata": {},
   "outputs": [],
   "source": [
    "%run mfi_experiment.py experiment-k100-l005 100 0.05"
   ]
  },
  {
   "cell_type": "code",
   "execution_count": null,
   "id": "d424e652-2512-4b98-89f4-a05b8bf2d4f6",
   "metadata": {},
   "outputs": [],
   "source": [
    "%run mfi_experiment.py experiment-k100-l01 100 0.1"
   ]
  }
 ],
 "metadata": {
  "kernelspec": {
   "display_name": "Python 3 (ipykernel)",
   "language": "python",
   "name": "python3"
  },
  "language_info": {
   "codemirror_mode": {
    "name": "ipython",
    "version": 3
   },
   "file_extension": ".py",
   "mimetype": "text/x-python",
   "name": "python",
   "nbconvert_exporter": "python",
   "pygments_lexer": "ipython3",
   "version": "3.8.5"
  }
 },
 "nbformat": 4,
 "nbformat_minor": 5
}
