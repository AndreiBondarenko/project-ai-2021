{
 "cells": [
  {
   "cell_type": "code",
   "execution_count": 3,
   "id": "9eb4cd4c-f9ec-4bce-9c5f-2ddc0e14fec2",
   "metadata": {
    "collapsed": true,
    "jupyter": {
     "outputs_hidden": true,
     "source_hidden": true
    },
    "tags": []
   },
   "outputs": [
    {
     "data": {
      "application/vnd.jupyter.widget-view+json": {
       "model_id": "c4de74614a5849268ad3e52e663cbc0b",
       "version_major": 2,
       "version_minor": 0
      },
      "text/plain": [
       "  0%|          | 0/10 [00:00<?, ?it/s]"
      ]
     },
     "metadata": {},
     "output_type": "display_data"
    },
    {
     "data": {
      "application/vnd.jupyter.widget-view+json": {
       "model_id": "561123322db34a71be3625aabfe22c32",
       "version_major": 2,
       "version_minor": 0
      },
      "text/plain": [
       "  0%|          | 0/10 [00:00<?, ?it/s]"
      ]
     },
     "metadata": {},
     "output_type": "display_data"
    },
    {
     "data": {
      "application/vnd.jupyter.widget-view+json": {
       "model_id": "4bbed224bfc94657981919480acdfee2",
       "version_major": 2,
       "version_minor": 0
      },
      "text/plain": [
       "  0%|          | 0/10 [00:00<?, ?it/s]"
      ]
     },
     "metadata": {},
     "output_type": "display_data"
    },
    {
     "data": {
      "application/vnd.jupyter.widget-view+json": {
       "model_id": "29466b2f807443d39222162463117c85",
       "version_major": 2,
       "version_minor": 0
      },
      "text/plain": [
       "  0%|          | 0/10 [00:00<?, ?it/s]"
      ]
     },
     "metadata": {},
     "output_type": "display_data"
    },
    {
     "data": {
      "application/vnd.jupyter.widget-view+json": {
       "model_id": "b07cdf8d6445485fac4fe55bb7235ff3",
       "version_major": 2,
       "version_minor": 0
      },
      "text/plain": [
       "  0%|          | 0/10 [00:00<?, ?it/s]"
      ]
     },
     "metadata": {},
     "output_type": "display_data"
    },
    {
     "data": {
      "application/vnd.jupyter.widget-view+json": {
       "model_id": "b5cc05d7d17f4d448d5021d1fb4edd13",
       "version_major": 2,
       "version_minor": 0
      },
      "text/plain": [
       "  0%|          | 0/148438 [00:00<?, ?it/s]"
      ]
     },
     "metadata": {},
     "output_type": "display_data"
    },
    {
     "data": {
      "application/vnd.jupyter.widget-view+json": {
       "model_id": "f4215aef3f5649d3a843fd647c90699a",
       "version_major": 2,
       "version_minor": 0
      },
      "text/plain": [
       "  0%|          | 0/148438 [00:00<?, ?it/s]"
      ]
     },
     "metadata": {},
     "output_type": "display_data"
    },
    {
     "data": {
      "application/vnd.jupyter.widget-view+json": {
       "model_id": "d875f48e83694c6695ae75af651570d0",
       "version_major": 2,
       "version_minor": 0
      },
      "text/plain": [
       "  0%|          | 0/148438 [00:00<?, ?it/s]"
      ]
     },
     "metadata": {},
     "output_type": "display_data"
    },
    {
     "data": {
      "application/vnd.jupyter.widget-view+json": {
       "model_id": "806f96e2de1e4da4851bb209bb9b6a6a",
       "version_major": 2,
       "version_minor": 0
      },
      "text/plain": [
       "  0%|          | 0/148438 [00:00<?, ?it/s]"
      ]
     },
     "metadata": {},
     "output_type": "display_data"
    },
    {
     "data": {
      "application/vnd.jupyter.widget-view+json": {
       "model_id": "64253af5dc8942af9250a9986e31acc9",
       "version_major": 2,
       "version_minor": 0
      },
      "text/plain": [
       "  0%|          | 0/148438 [00:00<?, ?it/s]"
      ]
     },
     "metadata": {},
     "output_type": "display_data"
    }
   ],
   "source": [
    "%run mfi_experiment.py experiment-k100-l001 100 0.01"
   ]
  },
  {
   "cell_type": "code",
   "execution_count": 1,
   "id": "5f2c11ab-a945-428d-9b7f-cbbe9fb671e9",
   "metadata": {},
   "outputs": [
    {
     "data": {
      "text/html": [
       "<pre style=\"white-space:pre;overflow-x:auto;line-height:normal;font-family:Menlo,'DejaVu Sans Mono',consolas,'Courier New',monospace\">┏━━━━━━┳━━━━━━━━━━━━━━━━━━━┳━━━━━━━━━━━━━━━━━━━┳━━━━━━━━━━━━━━━━━━━┳━━━━━━━━━━━━━━━━━━━┓\n",
       "┃<span style=\"color: #800080; text-decoration-color: #800080; font-weight: bold\"> Fold </span>┃<span style=\"color: #800080; text-decoration-color: #800080; font-weight: bold\"> Recall@5          </span>┃<span style=\"color: #800080; text-decoration-color: #800080; font-weight: bold\"> Recall@10         </span>┃<span style=\"color: #800080; text-decoration-color: #800080; font-weight: bold\"> nDCG@5            </span>┃<span style=\"color: #800080; text-decoration-color: #800080; font-weight: bold\"> nDCG@10           </span>┃\n",
       "┡━━━━━━╇━━━━━━━━━━━━━━━━━━━╇━━━━━━━━━━━━━━━━━━━╇━━━━━━━━━━━━━━━━━━━╇━━━━━━━━━━━━━━━━━━━┩\n",
       "│ 1    │ 0.17686           │ 0.24783           │ 0.33296           │ 0.36915           │\n",
       "│ 2    │ 0.17572           │ 0.24322           │ 0.33501           │ 0.37200           │\n",
       "│ 3    │ 0.18749           │ 0.25807           │ 0.34676           │ 0.38230           │\n",
       "│ 4    │ 0.17230           │ 0.24050           │ 0.33358           │ 0.36879           │\n",
       "│ 5    │ 0.18111           │ 0.24887           │ 0.33865           │ 0.37473           │\n",
       "├──────┼───────────────────┼───────────────────┼───────────────────┼───────────────────┤\n",
       "│      │ 0.17870 ± 0.00522 │ 0.24770 ± 0.00601 │ 0.33739 ± 0.00508 │ 0.37340 ± 0.00495 │\n",
       "└──────┴───────────────────┴───────────────────┴───────────────────┴───────────────────┘\n",
       "</pre>\n"
      ],
      "text/plain": [
       "┏━━━━━━┳━━━━━━━━━━━━━━━━━━━┳━━━━━━━━━━━━━━━━━━━┳━━━━━━━━━━━━━━━━━━━┳━━━━━━━━━━━━━━━━━━━┓\n",
       "┃\u001b[1;35m \u001b[0m\u001b[1;35mFold\u001b[0m\u001b[1;35m \u001b[0m┃\u001b[1;35m \u001b[0m\u001b[1;35mRecall@5         \u001b[0m\u001b[1;35m \u001b[0m┃\u001b[1;35m \u001b[0m\u001b[1;35mRecall@10        \u001b[0m\u001b[1;35m \u001b[0m┃\u001b[1;35m \u001b[0m\u001b[1;35mnDCG@5           \u001b[0m\u001b[1;35m \u001b[0m┃\u001b[1;35m \u001b[0m\u001b[1;35mnDCG@10          \u001b[0m\u001b[1;35m \u001b[0m┃\n",
       "┡━━━━━━╇━━━━━━━━━━━━━━━━━━━╇━━━━━━━━━━━━━━━━━━━╇━━━━━━━━━━━━━━━━━━━╇━━━━━━━━━━━━━━━━━━━┩\n",
       "│ 1    │ 0.17686           │ 0.24783           │ 0.33296           │ 0.36915           │\n",
       "│ 2    │ 0.17572           │ 0.24322           │ 0.33501           │ 0.37200           │\n",
       "│ 3    │ 0.18749           │ 0.25807           │ 0.34676           │ 0.38230           │\n",
       "│ 4    │ 0.17230           │ 0.24050           │ 0.33358           │ 0.36879           │\n",
       "│ 5    │ 0.18111           │ 0.24887           │ 0.33865           │ 0.37473           │\n",
       "├──────┼───────────────────┼───────────────────┼───────────────────┼───────────────────┤\n",
       "│      │ 0.17870 ± 0.00522 │ 0.24770 ± 0.00601 │ 0.33739 ± 0.00508 │ 0.37340 ± 0.00495 │\n",
       "└──────┴───────────────────┴───────────────────┴───────────────────┴───────────────────┘\n"
      ]
     },
     "metadata": {},
     "output_type": "display_data"
    },
    {
     "data": {
      "image/png": "[encoded data removed]",
      "text/plain": [
       "<Figure size 432x288 with 1 Axes>"
      ]
     },
     "metadata": {
      "needs_background": "light"
     },
     "output_type": "display_data"
    }
   ],
   "source": [
    "%run mfi_experiment_plot.py experiment-k100-l001"
   ]
  },
  {
   "cell_type": "code",
   "execution_count": 2,
   "id": "5085c482-1c0e-4a16-8acb-52a2531937d1",
   "metadata": {
    "collapsed": true,
    "jupyter": {
     "outputs_hidden": true,
     "source_hidden": true
    },
    "tags": []
   },
   "outputs": [
    {
     "data": {
      "application/vnd.jupyter.widget-view+json": {
       "model_id": "387d7a5eea6b4803a877085698cc69fe",
       "version_major": 2,
       "version_minor": 0
      },
      "text/plain": [
       "  0%|          | 0/10 [00:00<?, ?it/s]"
      ]
     },
     "metadata": {},
     "output_type": "display_data"
    },
    {
     "data": {
      "application/vnd.jupyter.widget-view+json": {
       "model_id": "96022da28d2e4c338ed63cbcd8fbb128",
       "version_major": 2,
       "version_minor": 0
      },
      "text/plain": [
       "  0%|          | 0/10 [00:00<?, ?it/s]"
      ]
     },
     "metadata": {},
     "output_type": "display_data"
    },
    {
     "data": {
      "application/vnd.jupyter.widget-view+json": {
       "model_id": "d61030d6afe04121bda9a6f289e4a7a9",
       "version_major": 2,
       "version_minor": 0
      },
      "text/plain": [
       "  0%|          | 0/10 [00:00<?, ?it/s]"
      ]
     },
     "metadata": {},
     "output_type": "display_data"
    },
    {
     "data": {
      "application/vnd.jupyter.widget-view+json": {
       "model_id": "3c78b43d28a84ae481acfb280b421ccd",
       "version_major": 2,
       "version_minor": 0
      },
      "text/plain": [
       "  0%|          | 0/10 [00:00<?, ?it/s]"
      ]
     },
     "metadata": {},
     "output_type": "display_data"
    },
    {
     "data": {
      "application/vnd.jupyter.widget-view+json": {
       "model_id": "9268b3408ca54074a30e3a0415469c7f",
       "version_major": 2,
       "version_minor": 0
      },
      "text/plain": [
       "  0%|          | 0/10 [00:00<?, ?it/s]"
      ]
     },
     "metadata": {},
     "output_type": "display_data"
    },
    {
     "data": {
      "application/vnd.jupyter.widget-view+json": {
       "model_id": "b16b787de4ee4edfbf10ae2980129a37",
       "version_major": 2,
       "version_minor": 0
      },
      "text/plain": [
       "  0%|          | 0/148438 [00:00<?, ?it/s]"
      ]
     },
     "metadata": {},
     "output_type": "display_data"
    },
    {
     "data": {
      "application/vnd.jupyter.widget-view+json": {
       "model_id": "87be64387e1f4ee1a20bcc7bfb8ed40c",
       "version_major": 2,
       "version_minor": 0
      },
      "text/plain": [
       "  0%|          | 0/148438 [00:00<?, ?it/s]"
      ]
     },
     "metadata": {},
     "output_type": "display_data"
    },
    {
     "data": {
      "application/vnd.jupyter.widget-view+json": {
       "model_id": "276e6221895f4c9db5580266807e4639",
       "version_major": 2,
       "version_minor": 0
      },
      "text/plain": [
       "  0%|          | 0/148438 [00:00<?, ?it/s]"
      ]
     },
     "metadata": {},
     "output_type": "display_data"
    },
    {
     "data": {
      "application/vnd.jupyter.widget-view+json": {
       "model_id": "81dbdc11e2574f8896708b0572fea3af",
       "version_major": 2,
       "version_minor": 0
      },
      "text/plain": [
       "  0%|          | 0/148438 [00:00<?, ?it/s]"
      ]
     },
     "metadata": {},
     "output_type": "display_data"
    },
    {
     "data": {
      "application/vnd.jupyter.widget-view+json": {
       "model_id": "07ad61631eb3423c9ba2bdb9688dbdb6",
       "version_major": 2,
       "version_minor": 0
      },
      "text/plain": [
       "  0%|          | 0/148438 [00:00<?, ?it/s]"
      ]
     },
     "metadata": {},
     "output_type": "display_data"
    }
   ],
   "source": [
    "%run mfi_experiment.py experiment-k100-l005 100 0.05"
   ]
  },
  {
   "cell_type": "code",
   "execution_count": 5,
   "id": "857f8cdb-d97f-431c-9972-7a956912215e",
   "metadata": {},
   "outputs": [
    {
     "data": {
      "text/html": [
       "<pre style=\"white-space:pre;overflow-x:auto;line-height:normal;font-family:Menlo,'DejaVu Sans Mono',consolas,'Courier New',monospace\">┏━━━━━━┳━━━━━━━━━━━━━━━━━━━┳━━━━━━━━━━━━━━━━━━━┳━━━━━━━━━━━━━━━━━━━┳━━━━━━━━━━━━━━━━━━━┓\n",
       "┃<span style=\"color: #800080; text-decoration-color: #800080; font-weight: bold\"> Fold </span>┃<span style=\"color: #800080; text-decoration-color: #800080; font-weight: bold\"> Recall@5          </span>┃<span style=\"color: #800080; text-decoration-color: #800080; font-weight: bold\"> Recall@10         </span>┃<span style=\"color: #800080; text-decoration-color: #800080; font-weight: bold\"> nDCG@5            </span>┃<span style=\"color: #800080; text-decoration-color: #800080; font-weight: bold\"> nDCG@10           </span>┃\n",
       "┡━━━━━━╇━━━━━━━━━━━━━━━━━━━╇━━━━━━━━━━━━━━━━━━━╇━━━━━━━━━━━━━━━━━━━╇━━━━━━━━━━━━━━━━━━━┩\n",
       "│ 1    │ 0.17776           │ 0.24845           │ 0.33405           │ 0.36964           │\n",
       "│ 2    │ 0.17663           │ 0.24452           │ 0.33623           │ 0.37273           │\n",
       "│ 3    │ 0.18782           │ 0.25816           │ 0.34822           │ 0.38368           │\n",
       "│ 4    │ 0.17308           │ 0.24039           │ 0.33340           │ 0.37156           │\n",
       "│ 5    │ 0.18152           │ 0.24941           │ 0.33921           │ 0.37516           │\n",
       "├──────┼───────────────────┼───────────────────┼───────────────────┼───────────────────┤\n",
       "│      │ 0.17936 ± 0.00501 │ 0.24818 ± 0.00592 │ 0.33822 ± 0.00540 │ 0.37455 ± 0.00490 │\n",
       "└──────┴───────────────────┴───────────────────┴───────────────────┴───────────────────┘\n",
       "</pre>\n"
      ],
      "text/plain": [
       "┏━━━━━━┳━━━━━━━━━━━━━━━━━━━┳━━━━━━━━━━━━━━━━━━━┳━━━━━━━━━━━━━━━━━━━┳━━━━━━━━━━━━━━━━━━━┓\n",
       "┃\u001b[1;35m \u001b[0m\u001b[1;35mFold\u001b[0m\u001b[1;35m \u001b[0m┃\u001b[1;35m \u001b[0m\u001b[1;35mRecall@5         \u001b[0m\u001b[1;35m \u001b[0m┃\u001b[1;35m \u001b[0m\u001b[1;35mRecall@10        \u001b[0m\u001b[1;35m \u001b[0m┃\u001b[1;35m \u001b[0m\u001b[1;35mnDCG@5           \u001b[0m\u001b[1;35m \u001b[0m┃\u001b[1;35m \u001b[0m\u001b[1;35mnDCG@10          \u001b[0m\u001b[1;35m \u001b[0m┃\n",
       "┡━━━━━━╇━━━━━━━━━━━━━━━━━━━╇━━━━━━━━━━━━━━━━━━━╇━━━━━━━━━━━━━━━━━━━╇━━━━━━━━━━━━━━━━━━━┩\n",
       "│ 1    │ 0.17776           │ 0.24845           │ 0.33405           │ 0.36964           │\n",
       "│ 2    │ 0.17663           │ 0.24452           │ 0.33623           │ 0.37273           │\n",
       "│ 3    │ 0.18782           │ 0.25816           │ 0.34822           │ 0.38368           │\n",
       "│ 4    │ 0.17308           │ 0.24039           │ 0.33340           │ 0.37156           │\n",
       "│ 5    │ 0.18152           │ 0.24941           │ 0.33921           │ 0.37516           │\n",
       "├──────┼───────────────────┼───────────────────┼───────────────────┼───────────────────┤\n",
       "│      │ 0.17936 ± 0.00501 │ 0.24818 ± 0.00592 │ 0.33822 ± 0.00540 │ 0.37455 ± 0.00490 │\n",
       "└──────┴───────────────────┴───────────────────┴───────────────────┴───────────────────┘\n"
      ]
     },
     "metadata": {},
     "output_type": "display_data"
    },
    {
     "data": {
      "image/png": "[encoded data removed]",
      "text/plain": [
       "<Figure size 432x288 with 1 Axes>"
      ]
     },
     "metadata": {
      "needs_background": "light"
     },
     "output_type": "display_data"
    }
   ],
   "source": [
    "%run mfi_experiment_plot.py experiment-k100-l005"
   ]
  },
  {
   "cell_type": "code",
   "execution_count": 3,
   "id": "d424e652-2512-4b98-89f4-a05b8bf2d4f6",
   "metadata": {
    "collapsed": true,
    "jupyter": {
     "outputs_hidden": true,
     "source_hidden": true
    },
    "tags": []
   },
   "outputs": [
    {
     "data": {
      "application/vnd.jupyter.widget-view+json": {
       "model_id": "592e60f37a30412eac589ea4e2725fa8",
       "version_major": 2,
       "version_minor": 0
      },
      "text/plain": [
       "  0%|          | 0/10 [00:00<?, ?it/s]"
      ]
     },
     "metadata": {},
     "output_type": "display_data"
    },
    {
     "data": {
      "application/vnd.jupyter.widget-view+json": {
       "model_id": "b35b7fab88784b2d9c21a112da9bd2a9",
       "version_major": 2,
       "version_minor": 0
      },
      "text/plain": [
       "  0%|          | 0/10 [00:00<?, ?it/s]"
      ]
     },
     "metadata": {},
     "output_type": "display_data"
    },
    {
     "data": {
      "application/vnd.jupyter.widget-view+json": {
       "model_id": "a9e646d9cc55494491b2c0f14dc61319",
       "version_major": 2,
       "version_minor": 0
      },
      "text/plain": [
       "  0%|          | 0/10 [00:00<?, ?it/s]"
      ]
     },
     "metadata": {},
     "output_type": "display_data"
    },
    {
     "data": {
      "application/vnd.jupyter.widget-view+json": {
       "model_id": "79ed64e80a234d1bb7f063aa3fbaae8e",
       "version_major": 2,
       "version_minor": 0
      },
      "text/plain": [
       "  0%|          | 0/10 [00:00<?, ?it/s]"
      ]
     },
     "metadata": {},
     "output_type": "display_data"
    },
    {
     "data": {
      "application/vnd.jupyter.widget-view+json": {
       "model_id": "d7468e64ca644d789da63aee2b491c81",
       "version_major": 2,
       "version_minor": 0
      },
      "text/plain": [
       "  0%|          | 0/10 [00:00<?, ?it/s]"
      ]
     },
     "metadata": {},
     "output_type": "display_data"
    },
    {
     "data": {
      "application/vnd.jupyter.widget-view+json": {
       "model_id": "1fedf21892474837b0e9e2a37859d32a",
       "version_major": 2,
       "version_minor": 0
      },
      "text/plain": [
       "  0%|          | 0/148438 [00:00<?, ?it/s]"
      ]
     },
     "metadata": {},
     "output_type": "display_data"
    },
    {
     "data": {
      "application/vnd.jupyter.widget-view+json": {
       "model_id": "6c7db0527e71479cbef0498f04b5887d",
       "version_major": 2,
       "version_minor": 0
      },
      "text/plain": [
       "  0%|          | 0/148438 [00:00<?, ?it/s]"
      ]
     },
     "metadata": {},
     "output_type": "display_data"
    },
    {
     "data": {
      "application/vnd.jupyter.widget-view+json": {
       "model_id": "ad61885084ae4eb881dcc1c589556f87",
       "version_major": 2,
       "version_minor": 0
      },
      "text/plain": [
       "  0%|          | 0/148438 [00:00<?, ?it/s]"
      ]
     },
     "metadata": {},
     "output_type": "display_data"
    },
    {
     "data": {
      "application/vnd.jupyter.widget-view+json": {
       "model_id": "02cf710c1ad44bd592b0adc261d72985",
       "version_major": 2,
       "version_minor": 0
      },
      "text/plain": [
       "  0%|          | 0/148438 [00:00<?, ?it/s]"
      ]
     },
     "metadata": {},
     "output_type": "display_data"
    },
    {
     "data": {
      "application/vnd.jupyter.widget-view+json": {
       "model_id": "f3e32b527cfb4c4fb0ed146557bdf53e",
       "version_major": 2,
       "version_minor": 0
      },
      "text/plain": [
       "  0%|          | 0/148438 [00:00<?, ?it/s]"
      ]
     },
     "metadata": {},
     "output_type": "display_data"
    }
   ],
   "source": [
    "%run mfi_experiment.py experiment-k100-l01 100 0.1"
   ]
  },
  {
   "cell_type": "code",
   "execution_count": 6,
   "id": "e100adee-085f-4bed-8b06-4d48c8191c77",
   "metadata": {},
   "outputs": [
    {
     "data": {
      "text/html": [
       "<pre style=\"white-space:pre;overflow-x:auto;line-height:normal;font-family:Menlo,'DejaVu Sans Mono',consolas,'Courier New',monospace\">┏━━━━━━┳━━━━━━━━━━━━━━━━━━━┳━━━━━━━━━━━━━━━━━━━┳━━━━━━━━━━━━━━━━━━━┳━━━━━━━━━━━━━━━━━━━┓\n",
       "┃<span style=\"color: #800080; text-decoration-color: #800080; font-weight: bold\"> Fold </span>┃<span style=\"color: #800080; text-decoration-color: #800080; font-weight: bold\"> Recall@5          </span>┃<span style=\"color: #800080; text-decoration-color: #800080; font-weight: bold\"> Recall@10         </span>┃<span style=\"color: #800080; text-decoration-color: #800080; font-weight: bold\"> nDCG@5            </span>┃<span style=\"color: #800080; text-decoration-color: #800080; font-weight: bold\"> nDCG@10           </span>┃\n",
       "┡━━━━━━╇━━━━━━━━━━━━━━━━━━━╇━━━━━━━━━━━━━━━━━━━╇━━━━━━━━━━━━━━━━━━━╇━━━━━━━━━━━━━━━━━━━┩\n",
       "│ 1    │ 0.17723           │ 0.24860           │ 0.33348           │ 0.37028           │\n",
       "│ 2    │ 0.17700           │ 0.24478           │ 0.33782           │ 0.37394           │\n",
       "│ 3    │ 0.18879           │ 0.25968           │ 0.34971           │ 0.38540           │\n",
       "│ 4    │ 0.17347           │ 0.24111           │ 0.33483           │ 0.36984           │\n",
       "│ 5    │ 0.18162           │ 0.24950           │ 0.33866           │ 0.37606           │\n",
       "├──────┼───────────────────┼───────────────────┼───────────────────┼───────────────────┤\n",
       "│      │ 0.17962 ± 0.00526 │ 0.24873 ± 0.00623 │ 0.33890 ± 0.00573 │ 0.37510 ± 0.00564 │\n",
       "└──────┴───────────────────┴───────────────────┴───────────────────┴───────────────────┘\n",
       "</pre>\n"
      ],
      "text/plain": [
       "┏━━━━━━┳━━━━━━━━━━━━━━━━━━━┳━━━━━━━━━━━━━━━━━━━┳━━━━━━━━━━━━━━━━━━━┳━━━━━━━━━━━━━━━━━━━┓\n",
       "┃\u001b[1;35m \u001b[0m\u001b[1;35mFold\u001b[0m\u001b[1;35m \u001b[0m┃\u001b[1;35m \u001b[0m\u001b[1;35mRecall@5         \u001b[0m\u001b[1;35m \u001b[0m┃\u001b[1;35m \u001b[0m\u001b[1;35mRecall@10        \u001b[0m\u001b[1;35m \u001b[0m┃\u001b[1;35m \u001b[0m\u001b[1;35mnDCG@5           \u001b[0m\u001b[1;35m \u001b[0m┃\u001b[1;35m \u001b[0m\u001b[1;35mnDCG@10          \u001b[0m\u001b[1;35m \u001b[0m┃\n",
       "┡━━━━━━╇━━━━━━━━━━━━━━━━━━━╇━━━━━━━━━━━━━━━━━━━╇━━━━━━━━━━━━━━━━━━━╇━━━━━━━━━━━━━━━━━━━┩\n",
       "│ 1    │ 0.17723           │ 0.24860           │ 0.33348           │ 0.37028           │\n",
       "│ 2    │ 0.17700           │ 0.24478           │ 0.33782           │ 0.37394           │\n",
       "│ 3    │ 0.18879           │ 0.25968           │ 0.34971           │ 0.38540           │\n",
       "│ 4    │ 0.17347           │ 0.24111           │ 0.33483           │ 0.36984           │\n",
       "│ 5    │ 0.18162           │ 0.24950           │ 0.33866           │ 0.37606           │\n",
       "├──────┼───────────────────┼───────────────────┼───────────────────┼───────────────────┤\n",
       "│      │ 0.17962 ± 0.00526 │ 0.24873 ± 0.00623 │ 0.33890 ± 0.00573 │ 0.37510 ± 0.00564 │\n",
       "└──────┴───────────────────┴───────────────────┴───────────────────┴───────────────────┘\n"
      ]
     },
     "metadata": {},
     "output_type": "display_data"
    },
    {
     "data": {
      "image/png": "[encoded data removed]",
      "text/plain": [
       "<Figure size 432x288 with 1 Axes>"
      ]
     },
     "metadata": {
      "needs_background": "light"
     },
     "output_type": "display_data"
    }
   ],
   "source": [
    "%run mfi_experiment_plot.py experiment-k100-l01"
   ]
  },
  {
   "cell_type": "code",
   "execution_count": null,
   "id": "108f71dc-c8f5-49b1-8a2e-f09fb3d83ab9",
   "metadata": {},
   "outputs": [],
   "source": []
  }
 ],
 "metadata": {
  "kernelspec": {
   "display_name": "Python 3 (ipykernel)",
   "language": "python",
   "name": "python3"
  },
  "language_info": {
   "codemirror_mode": {
    "name": "ipython",
    "version": 3
   },
   "file_extension": ".py",
   "mimetype": "text/x-python",
   "name": "python",
   "nbconvert_exporter": "python",
   "pygments_lexer": "ipython3",
   "version": "3.8.5"
  }
 },
 "nbformat": 4,
 "nbformat_minor": 5
}
