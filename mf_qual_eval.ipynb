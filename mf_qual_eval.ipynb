{
 "cells": [
  {
   "cell_type": "code",
   "execution_count": 1,
   "id": "a29b34b2-6091-478e-8731-d56eb7a0caa3",
   "metadata": {},
   "outputs": [],
   "source": [
    "import numpy as np\n",
    "from tqdm import tqdm\n",
    "import matplotlib.pyplot as plt\n",
    "from recommenders.mf import MatrixFactorization\n",
    "from recommenders.popularity import Popularity\n",
    "import scipy.sparse\n",
    "from utils import read_json_fast, recall_at_k\n",
    "import gdown\n",
    "import pandas as pd\n",
    "import random\n",
    "%matplotlib inline"
   ]
  },
  {
   "cell_type": "code",
   "execution_count": 2,
   "id": "6f0839ef-86b7-4573-a4f1-38b0e85a784a",
   "metadata": {},
   "outputs": [],
   "source": [
    "x = scipy.sparse.load_npz('./data/train.npz')\n",
    "y = scipy.sparse.load_npz('./data/test.npz')"
   ]
  },
  {
   "cell_type": "code",
   "execution_count": 3,
   "id": "b9573603-2078-43c2-ad7f-cad7fb6d732c",
   "metadata": {},
   "outputs": [],
   "source": [
    "P = Popularity()\n",
    "P.train(x)"
   ]
  },
  {
   "cell_type": "code",
   "execution_count": 4,
   "id": "8d09b660-c0ab-4cc0-bfb9-5739074399b9",
   "metadata": {},
   "outputs": [],
   "source": [
    "M = MatrixFactorization(K=100, iterations=200, gamma=0.3) # after 200-250 iterations, test error increases"
   ]
  },
  {
   "cell_type": "code",
   "execution_count": 5,
   "id": "d02ace7b-96c9-4f42-b2c7-48ea3d91f961",
   "metadata": {},
   "outputs": [],
   "source": [
    "M.load(\"checkpoint.model\")"
   ]
  },
  {
   "cell_type": "code",
   "execution_count": 6,
   "id": "b54212f7-c1a6-455d-b19e-ceaa4e6383fd",
   "metadata": {},
   "outputs": [],
   "source": [
    "_y = y.tocsr()"
   ]
  },
  {
   "cell_type": "code",
   "execution_count": 7,
   "id": "c43f3f3e-a54e-4e4a-81de-88a85ed2880e",
   "metadata": {},
   "outputs": [
    {
     "name": "stdout",
     "output_type": "stream",
     "text": [
      "File exists: ./data/BOOKS.json.gz\n"
     ]
    },
    {
     "data": {
      "text/plain": [
       "'./data/BOOKS.json.gz'"
      ]
     },
     "execution_count": 7,
     "metadata": {},
     "output_type": "execute_result"
    }
   ],
   "source": [
    "gdown.cached_download(\"https://drive.google.com/uc?id=1ICk5x0HXvXDp5Zt54CKPh5qz1HyUIn9m\", \"./data/BOOKS.json.gz\", quiet=False)"
   ]
  },
  {
   "cell_type": "code",
   "execution_count": 8,
   "id": "5d679ab7-e10a-4914-b9eb-d96fca6ad5a0",
   "metadata": {},
   "outputs": [
    {
     "name": "stdout",
     "output_type": "stream",
     "text": [
      "Processing BOOKS.json.gz:\n"
     ]
    },
    {
     "data": {
      "application/vnd.jupyter.widget-view+json": {
       "model_id": "d528da6f236d4f719ba60b8ba6bff82b",
       "version_major": 2,
       "version_minor": 0
      },
      "text/plain": [
       "0lines [00:00, ?lines/s]"
      ]
     },
     "metadata": {},
     "output_type": "display_data"
    }
   ],
   "source": [
    "df_books = read_json_fast(\"./data/BOOKS.json.gz\")"
   ]
  },
  {
   "cell_type": "code",
   "execution_count": 9,
   "id": "4c24540d-a1f3-4bac-98c3-d7dffb47db3f",
   "metadata": {},
   "outputs": [],
   "source": [
    "df_books = df_books.set_index('book_id').sort_index()"
   ]
  },
  {
   "cell_type": "code",
   "execution_count": 10,
   "id": "37360cee-beed-4228-a305-834651361b20",
   "metadata": {},
   "outputs": [],
   "source": [
    "user_id_map = pd.read_pickle(\"./data/user_id_map.pkl\")\n",
    "item_id_map = pd.read_pickle(\"./data/book_id_map.pkl\")"
   ]
  },
  {
   "cell_type": "code",
   "execution_count": 11,
   "id": "ffe9959b-5832-4f4e-9463-7390e0503799",
   "metadata": {},
   "outputs": [],
   "source": [
    "user_id_map = user_id_map.set_index('user_id_seq').sort_index()"
   ]
  },
  {
   "cell_type": "code",
   "execution_count": 12,
   "id": "7fcf92ee-95a0-4fd6-9d69-85bdd2ca8ff9",
   "metadata": {},
   "outputs": [],
   "source": [
    "item_id_map = item_id_map.set_index('book_id_seq').sort_index()"
   ]
  },
  {
   "cell_type": "code",
   "execution_count": 118,
   "id": "a84db3b4-599f-4074-8ab9-336a72943e0c",
   "metadata": {},
   "outputs": [],
   "source": [
    "r = 0\n",
    "u = 0\n",
    "while r < 0.25:\n",
    "    u = random.randrange(y.shape[0])\n",
    "    future = _y[u]\n",
    "    topk = M.recommend_sim(k=10, user=u)\n",
    "    topk_conv = item_id_map.iloc[topk]\n",
    "    r = recall_at_k(topk, future)"
   ]
  },
  {
   "cell_type": "code",
   "execution_count": 122,
   "id": "431d9c77-ee6f-41aa-8919-020da05d06ee",
   "metadata": {},
   "outputs": [],
   "source": [
    "u = 27928"
   ]
  },
  {
   "cell_type": "code",
   "execution_count": 123,
   "id": "3b650bd1-8052-4fae-86e0-b5a546010dc1",
   "metadata": {},
   "outputs": [
    {
     "name": "stdout",
     "output_type": "stream",
     "text": [
      "HISTORY\n"
     ]
    },
    {
     "data": {
      "text/plain": [
       "book_id\n",
       "1456034    The Merlin Prophecy (Avalon High: Coronation, #1)\n",
       "146106                  The Castafiore Emerald (Tintin, #21)\n",
       "146109                  Red Rackham's Treasure (Tintin, #12)\n",
       "146128                      Land of Black Gold (Tintin, #15)\n",
       "165555           The Crab with the Golden Claws (Tintin, #9)\n",
       "165556                   Explorers on the Moon (Tintin, #17)\n",
       "179172                        Destination Moon (Tintin, #16)\n",
       "179174               The Secret of the Unicorn (Tintin, #11)\n",
       "192043                    Flight 714 to Sydney (Tintin, #22)\n",
       "2061690             Homecoming (Avalon High: Coronation, #2)\n",
       "6297388          Hunter's Moon (Avalon High: Coronation, #3)\n",
       "790192                        Tintin in America (Tintin #3 )\n",
       "89313                            The Blue Lotus (Tintin, #5)\n",
       "Name: title, dtype: object"
      ]
     },
     "metadata": {},
     "output_type": "display_data"
    }
   ],
   "source": [
    "print('HISTORY')\n",
    "history = M.old_recs[u]\n",
    "history_conv = item_id_map.iloc[history.nonzero()[1]]\n",
    "display(df_books.loc[history_conv['book_id']]['title'])"
   ]
  },
  {
   "cell_type": "code",
   "execution_count": 124,
   "id": "725a084b-705e-41df-971b-3db86e8d42fc",
   "metadata": {},
   "outputs": [
    {
     "name": "stdout",
     "output_type": "stream",
     "text": [
      "FUTURE\n"
     ]
    },
    {
     "data": {
      "text/plain": [
       "book_id\n",
       "1169557                                 Prisoners of the Sun\n",
       "146104                 The Seven Crystal Balls (Tintin, #13)\n",
       "146122                     Cigars of the Pharaoh (Tintin #4)\n",
       "15196      Maus I: A Survivor's Tale: My Father Bleeds Hi...\n",
       "19487                       City of Glass: The Graphic Novel\n",
       "87425                          Tintin in Tibet (Tintin, #20)\n",
       "Name: title, dtype: object"
      ]
     },
     "metadata": {},
     "output_type": "display_data"
    }
   ],
   "source": [
    "print('FUTURE')\n",
    "future = _y[u]\n",
    "future_conv = item_id_map.iloc[future.nonzero()[1]]\n",
    "display(df_books.loc[future_conv['book_id']]['title'])"
   ]
  },
  {
   "cell_type": "code",
   "execution_count": 125,
   "id": "d9b614d1-5218-4183-9cc8-a8be8b60cd85",
   "metadata": {},
   "outputs": [
    {
     "name": "stdout",
     "output_type": "stream",
     "text": [
      "RECOMMENDATIONS (Similarity):\n"
     ]
    },
    {
     "data": {
      "text/plain": [
       "book_id\n",
       "165526          The Red Sea Sharks (Tintin, #19)\n",
       "96428         Prisoners of the Sun (Tintin, #14)\n",
       "146144               The Blue Lotus (Tintin, #5)\n",
       "146122         Cigars of the Pharaoh (Tintin #4)\n",
       "191960             The Black Island (Tintin, #7)\n",
       "146103                      Flight 714 To Sydney\n",
       "146104     The Seven Crystal Balls (Tintin, #13)\n",
       "87425              Tintin in Tibet (Tintin, #20)\n",
       "146107           The Shooting Star (Tintin, #10)\n",
       "1169556              The Broken Ear (Tintin, #6)\n",
       "Name: title, dtype: object"
      ]
     },
     "metadata": {},
     "output_type": "display_data"
    },
    {
     "name": "stdout",
     "output_type": "stream",
     "text": [
      "\n",
      "RECALL@10\n"
     ]
    },
    {
     "data": {
      "text/plain": [
       "0.5"
      ]
     },
     "execution_count": 125,
     "metadata": {},
     "output_type": "execute_result"
    }
   ],
   "source": [
    "topk = M.recommend_sim(k=10, user=u)\n",
    "topk_conv = item_id_map.iloc[topk]\n",
    "print('RECOMMENDATIONS (Similarity):')\n",
    "display(df_books.loc[topk_conv['book_id']]['title'])\n",
    "print('\\nRECALL@10')\n",
    "recall_at_k(topk, future)"
   ]
  },
  {
   "cell_type": "code",
   "execution_count": null,
   "id": "4ab76224-24c4-4339-9536-96ac9c6eadff",
   "metadata": {},
   "outputs": [],
   "source": []
  }
 ],
 "metadata": {
  "kernelspec": {
   "display_name": "Python 3 (ipykernel)",
   "language": "python",
   "name": "python3"
  },
  "language_info": {
   "codemirror_mode": {
    "name": "ipython",
    "version": 3
   },
   "file_extension": ".py",
   "mimetype": "text/x-python",
   "name": "python",
   "nbconvert_exporter": "python",
   "pygments_lexer": "ipython3",
   "version": "3.8.5"
  }
 },
 "nbformat": 4,
 "nbformat_minor": 5
}
