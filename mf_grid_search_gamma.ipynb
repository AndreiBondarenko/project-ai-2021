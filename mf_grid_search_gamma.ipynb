{
 "cells": [
  {
   "cell_type": "code",
   "execution_count": 1,
   "id": "5951f8fa-af19-43cd-b06d-ba04236f1ea0",
   "metadata": {},
   "outputs": [],
   "source": [
    "import utils\n",
    "import numpy as np\n",
    "from tqdm.auto import tqdm\n",
    "import scipy.sparse as sps\n",
    "import matplotlib.pyplot as plt\n",
    "from recommenders.mf import MatrixFactorization\n",
    "%matplotlib inline"
   ]
  },
  {
   "cell_type": "code",
   "execution_count": 2,
   "id": "74cc8d9f-0c41-4751-93eb-21d0ee233a64",
   "metadata": {},
   "outputs": [],
   "source": [
    "x = sps.load_npz('./data/train.npz')\n",
    "y = sps.load_npz('./data/test.npz')\n",
    "_y = y.tocsr()"
   ]
  },
  {
   "cell_type": "code",
   "execution_count": 3,
   "id": "0dfec3c5-0281-4e95-a8f5-b70c571009c1",
   "metadata": {},
   "outputs": [],
   "source": [
    "K = 10"
   ]
  },
  {
   "cell_type": "code",
   "execution_count": 4,
   "id": "1616e5f7-7f0a-4561-8d60-fbd0b0efbc0b",
   "metadata": {},
   "outputs": [
    {
     "name": "stdout",
     "output_type": "stream",
     "text": [
      "\n",
      "GAMMA = 0.1\n"
     ]
    },
    {
     "data": {
      "application/vnd.jupyter.widget-view+json": {
       "model_id": "",
       "version_major": 2,
       "version_minor": 0
      },
      "text/plain": [
       "  0%|          | 0/68401 [00:00<?, ?it/s]"
      ]
     },
     "metadata": {},
     "output_type": "display_data"
    },
    {
     "name": "stdout",
     "output_type": "stream",
     "text": [
      "AVG. PRECISION@10:  0.01090042543237672\n",
      "AVG. RECALL@10:  0.008711011580435682\n",
      "AVG. NDCG@10:  0.038177037842102655\n",
      "\n",
      "GAMMA = 0.15000000000000002\n"
     ]
    },
    {
     "data": {
      "application/vnd.jupyter.widget-view+json": {
       "model_id": "",
       "version_major": 2,
       "version_minor": 0
      },
      "text/plain": [
       "  0%|          | 0/68401 [00:00<?, ?it/s]"
      ]
     },
     "metadata": {},
     "output_type": "display_data"
    },
    {
     "name": "stdout",
     "output_type": "stream",
     "text": [
      "AVG. PRECISION@10:  0.02107863920118127\n",
      "AVG. RECALL@10:  0.019344841399276308\n",
      "AVG. NDCG@10:  0.09012437427484614\n",
      "\n",
      "GAMMA = 0.20000000000000004\n"
     ]
    },
    {
     "data": {
      "application/vnd.jupyter.widget-view+json": {
       "model_id": "",
       "version_major": 2,
       "version_minor": 0
      },
      "text/plain": [
       "  0%|          | 0/68401 [00:00<?, ?it/s]"
      ]
     },
     "metadata": {},
     "output_type": "display_data"
    },
    {
     "name": "stdout",
     "output_type": "stream",
     "text": [
      "AVG. PRECISION@10:  0.02853905644654318\n",
      "AVG. RECALL@10:  0.027778222395468264\n",
      "AVG. NDCG@10:  0.1141996486022671\n",
      "\n",
      "GAMMA = 0.25000000000000006\n"
     ]
    },
    {
     "data": {
      "application/vnd.jupyter.widget-view+json": {
       "model_id": "",
       "version_major": 2,
       "version_minor": 0
      },
      "text/plain": [
       "  0%|          | 0/68401 [00:00<?, ?it/s]"
      ]
     },
     "metadata": {},
     "output_type": "display_data"
    },
    {
     "name": "stdout",
     "output_type": "stream",
     "text": [
      "AVG. PRECISION@10:  0.033098931302173944\n",
      "AVG. RECALL@10:  0.03255650104916798\n",
      "AVG. NDCG@10:  0.12331623431090494\n",
      "\n",
      "GAMMA = 0.30000000000000004\n"
     ]
    },
    {
     "data": {
      "application/vnd.jupyter.widget-view+json": {
       "model_id": "",
       "version_major": 2,
       "version_minor": 0
      },
      "text/plain": [
       "  0%|          | 0/68401 [00:00<?, ?it/s]"
      ]
     },
     "metadata": {},
     "output_type": "display_data"
    },
    {
     "name": "stdout",
     "output_type": "stream",
     "text": [
      "AVG. PRECISION@10:  0.035391295448896944\n",
      "AVG. RECALL@10:  0.03474704315122944\n",
      "AVG. NDCG@10:  0.12630373537468242\n",
      "\n",
      "GAMMA = 0.3500000000000001\n"
     ]
    },
    {
     "data": {
      "application/vnd.jupyter.widget-view+json": {
       "model_id": "",
       "version_major": 2,
       "version_minor": 0
      },
      "text/plain": [
       "  0%|          | 0/68401 [00:00<?, ?it/s]"
      ]
     },
     "metadata": {},
     "output_type": "display_data"
    },
    {
     "name": "stdout",
     "output_type": "stream",
     "text": [
      "AVG. PRECISION@10:  0.03540006725047879\n",
      "AVG. RECALL@10:  0.0345770202898517\n",
      "AVG. NDCG@10:  0.12625778807876828\n",
      "\n",
      "GAMMA = 0.40000000000000013\n"
     ]
    },
    {
     "data": {
      "application/vnd.jupyter.widget-view+json": {
       "model_id": "",
       "version_major": 2,
       "version_minor": 0
      },
      "text/plain": [
       "  0%|          | 0/68401 [00:00<?, ?it/s]"
      ]
     },
     "metadata": {},
     "output_type": "display_data"
    },
    {
     "name": "stdout",
     "output_type": "stream",
     "text": [
      "AVG. PRECISION@10:  0.035172000409350736\n",
      "AVG. RECALL@10:  0.03434447853032841\n",
      "AVG. NDCG@10:  0.1261791378710356\n",
      "\n",
      "GAMMA = 0.45000000000000007\n"
     ]
    },
    {
     "data": {
      "application/vnd.jupyter.widget-view+json": {
       "model_id": "",
       "version_major": 2,
       "version_minor": 0
      },
      "text/plain": [
       "  0%|          | 0/68401 [00:00<?, ?it/s]"
      ]
     },
     "metadata": {},
     "output_type": "display_data"
    },
    {
     "name": "stdout",
     "output_type": "stream",
     "text": [
      "AVG. PRECISION@10:  0.03487083522170728\n",
      "AVG. RECALL@10:  0.03409693022060099\n",
      "AVG. NDCG@10:  0.12612034294426125\n",
      "\n",
      "GAMMA = 0.5000000000000001\n"
     ]
    },
    {
     "data": {
      "application/vnd.jupyter.widget-view+json": {
       "model_id": "",
       "version_major": 2,
       "version_minor": 0
      },
      "text/plain": [
       "  0%|          | 0/68401 [00:00<?, ?it/s]"
      ]
     },
     "metadata": {},
     "output_type": "display_data"
    },
    {
     "name": "stdout",
     "output_type": "stream",
     "text": [
      "AVG. PRECISION@10:  0.03446587038201196\n",
      "AVG. RECALL@10:  0.03364559847510424\n",
      "AVG. NDCG@10:  0.12563756185757916\n",
      "\n",
      "GAMMA = 0.5500000000000002\n"
     ]
    },
    {
     "data": {
      "application/vnd.jupyter.widget-view+json": {
       "model_id": "",
       "version_major": 2,
       "version_minor": 0
      },
      "text/plain": [
       "  0%|          | 0/68401 [00:00<?, ?it/s]"
      ]
     },
     "metadata": {},
     "output_type": "display_data"
    },
    {
     "name": "stdout",
     "output_type": "stream",
     "text": [
      "AVG. PRECISION@10:  0.03416616716129881\n",
      "AVG. RECALL@10:  0.03328729434757837\n",
      "AVG. NDCG@10:  0.12491412362662653\n",
      "\n",
      "GAMMA = 0.6000000000000002\n"
     ]
    },
    {
     "data": {
      "application/vnd.jupyter.widget-view+json": {
       "model_id": "",
       "version_major": 2,
       "version_minor": 0
      },
      "text/plain": [
       "  0%|          | 0/68401 [00:00<?, ?it/s]"
      ]
     },
     "metadata": {},
     "output_type": "display_data"
    },
    {
     "name": "stdout",
     "output_type": "stream",
     "text": [
      "AVG. PRECISION@10:  0.033793365594070264\n",
      "AVG. RECALL@10:  0.03290020884022345\n",
      "AVG. NDCG@10:  0.1241008384321241\n",
      "\n",
      "GAMMA = 0.6500000000000001\n"
     ]
    },
    {
     "data": {
      "application/vnd.jupyter.widget-view+json": {
       "model_id": "",
       "version_major": 2,
       "version_minor": 0
      },
      "text/plain": [
       "  0%|          | 0/68401 [00:00<?, ?it/s]"
      ]
     },
     "metadata": {},
     "output_type": "display_data"
    },
    {
     "name": "stdout",
     "output_type": "stream",
     "text": [
      "AVG. PRECISION@10:  0.03357260858759374\n",
      "AVG. RECALL@10:  0.03268697775083121\n",
      "AVG. NDCG@10:  0.1235922015458422\n",
      "\n",
      "GAMMA = 0.7000000000000002\n"
     ]
    },
    {
     "data": {
      "application/vnd.jupyter.widget-view+json": {
       "model_id": "",
       "version_major": 2,
       "version_minor": 0
      },
      "text/plain": [
       "  0%|          | 0/68401 [00:00<?, ?it/s]"
      ]
     },
     "metadata": {},
     "output_type": "display_data"
    },
    {
     "name": "stdout",
     "output_type": "stream",
     "text": [
      "AVG. PRECISION@10:  0.03343225976228418\n",
      "AVG. RECALL@10:  0.03255428987035376\n",
      "AVG. NDCG@10:  0.1233035201066992\n",
      "\n",
      "GAMMA = 0.7500000000000002\n"
     ]
    },
    {
     "data": {
      "application/vnd.jupyter.widget-view+json": {
       "model_id": "",
       "version_major": 2,
       "version_minor": 0
      },
      "text/plain": [
       "  0%|          | 0/68401 [00:00<?, ?it/s]"
      ]
     },
     "metadata": {},
     "output_type": "display_data"
    },
    {
     "name": "stdout",
     "output_type": "stream",
     "text": [
      "AVG. PRECISION@10:  0.033294834870835226\n",
      "AVG. RECALL@10:  0.032397730575655294\n",
      "AVG. NDCG@10:  0.12295372343027623\n",
      "\n",
      "GAMMA = 0.8000000000000002\n"
     ]
    },
    {
     "data": {
      "application/vnd.jupyter.widget-view+json": {
       "model_id": "",
       "version_major": 2,
       "version_minor": 0
      },
      "text/plain": [
       "  0%|          | 0/68401 [00:00<?, ?it/s]"
      ]
     },
     "metadata": {},
     "output_type": "display_data"
    },
    {
     "name": "stdout",
     "output_type": "stream",
     "text": [
      "AVG. PRECISION@10:  0.03318518735106212\n",
      "AVG. RECALL@10:  0.03231944517824759\n",
      "AVG. NDCG@10:  0.12263169474976726\n",
      "\n",
      "GAMMA = 0.8500000000000002\n"
     ]
    },
    {
     "data": {
      "application/vnd.jupyter.widget-view+json": {
       "model_id": "",
       "version_major": 2,
       "version_minor": 0
      },
      "text/plain": [
       "  0%|          | 0/68401 [00:00<?, ?it/s]"
      ]
     },
     "metadata": {},
     "output_type": "display_data"
    },
    {
     "name": "stdout",
     "output_type": "stream",
     "text": [
      "AVG. PRECISION@10:  0.03311939883919827\n",
      "AVG. RECALL@10:  0.032283661186954575\n",
      "AVG. NDCG@10:  0.12242821923055651\n",
      "\n",
      "GAMMA = 0.9000000000000002\n"
     ]
    },
    {
     "data": {
      "application/vnd.jupyter.widget-view+json": {
       "model_id": "",
       "version_major": 2,
       "version_minor": 0
      },
      "text/plain": [
       "  0%|          | 0/68401 [00:00<?, ?it/s]"
      ]
     },
     "metadata": {},
     "output_type": "display_data"
    },
    {
     "name": "stdout",
     "output_type": "stream",
     "text": [
      "AVG. PRECISION@10:  0.03310185523603456\n",
      "AVG. RECALL@10:  0.032331944191671055\n",
      "AVG. NDCG@10:  0.12241604258952901\n"
     ]
    }
   ],
   "source": [
    "for gamma in np.arange(.1,.95,.05):\n",
    "    print(f'\\nGAMMA = {gamma}')\n",
    "    recommender = MatrixFactorization(K=100, iterations=200, gamma=gamma)\n",
    "    recommender.load(\"checkpoint.model\")\n",
    "    precision_scores = []\n",
    "    recall_scores = []\n",
    "    ndcg_scores = []\n",
    "    for i in tqdm(range(y.shape[0]), leave=False):\n",
    "        topk = recommender.recommend(k=K, user=i)\n",
    "        actual = _y[i]\n",
    "        precision_scores.append(utils.precision_at_k(topk, actual))\n",
    "        recall_scores.append(utils.recall_at_k(topk, actual))\n",
    "        ndcg_scores.append(utils.ndcg_at_k(topk, actual))\n",
    "    print(f'AVG. PRECISION@{K}: ', np.mean(precision_scores))\n",
    "    print(f'AVG. RECALL@{K}: ', np.mean(recall_scores))\n",
    "    print(f'AVG. NDCG@{K}: ', np.mean(ndcg_scores))"
   ]
  },
  {
   "cell_type": "code",
   "execution_count": null,
   "id": "e0a52a91-9543-4438-8f54-c7f8ed3aa77f",
   "metadata": {},
   "outputs": [],
   "source": []
  }
 ],
 "metadata": {
  "kernelspec": {
   "display_name": "Python 3 (ipykernel)",
   "language": "python",
   "name": "python3"
  },
  "language_info": {
   "codemirror_mode": {
    "name": "ipython",
    "version": 3
   },
   "file_extension": ".py",
   "mimetype": "text/x-python",
   "name": "python",
   "nbconvert_exporter": "python",
   "pygments_lexer": "ipython3",
   "version": "3.8.5"
  }
 },
 "nbformat": 4,
 "nbformat_minor": 5
}
