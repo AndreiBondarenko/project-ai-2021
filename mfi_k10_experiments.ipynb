{
 "cells": [
  {
   "cell_type": "code",
   "execution_count": 1,
   "id": "9eb4cd4c-f9ec-4bce-9c5f-2ddc0e14fec2",
   "metadata": {
    "collapsed": true,
    "jupyter": {
     "outputs_hidden": true,
     "source_hidden": true
    },
    "tags": []
   },
   "outputs": [
    {
     "data": {
      "application/vnd.jupyter.widget-view+json": {
       "model_id": "362836b8e486464a982817092ba82da0",
       "version_major": 2,
       "version_minor": 0
      },
      "text/plain": [
       "  0%|          | 0/10 [00:00<?, ?it/s]"
      ]
     },
     "metadata": {},
     "output_type": "display_data"
    },
    {
     "data": {
      "application/vnd.jupyter.widget-view+json": {
       "model_id": "27397a9f3a9f489fa1dbec999d40926d",
       "version_major": 2,
       "version_minor": 0
      },
      "text/plain": [
       "  0%|          | 0/10 [00:00<?, ?it/s]"
      ]
     },
     "metadata": {},
     "output_type": "display_data"
    },
    {
     "data": {
      "application/vnd.jupyter.widget-view+json": {
       "model_id": "2e9b48e22c0645aea1f3a0573f24de47",
       "version_major": 2,
       "version_minor": 0
      },
      "text/plain": [
       "  0%|          | 0/10 [00:00<?, ?it/s]"
      ]
     },
     "metadata": {},
     "output_type": "display_data"
    },
    {
     "data": {
      "application/vnd.jupyter.widget-view+json": {
       "model_id": "1d97df602d2548ecb9458f3f8678185b",
       "version_major": 2,
       "version_minor": 0
      },
      "text/plain": [
       "  0%|          | 0/10 [00:00<?, ?it/s]"
      ]
     },
     "metadata": {},
     "output_type": "display_data"
    },
    {
     "data": {
      "application/vnd.jupyter.widget-view+json": {
       "model_id": "dddac1bc477c4d7196517f63b7a93d74",
       "version_major": 2,
       "version_minor": 0
      },
      "text/plain": [
       "  0%|          | 0/10 [00:00<?, ?it/s]"
      ]
     },
     "metadata": {},
     "output_type": "display_data"
    },
    {
     "data": {
      "application/vnd.jupyter.widget-view+json": {
       "model_id": "8654ea061402480ba9f4ec885dc03835",
       "version_major": 2,
       "version_minor": 0
      },
      "text/plain": [
       "  0%|          | 0/148438 [00:00<?, ?it/s]"
      ]
     },
     "metadata": {},
     "output_type": "display_data"
    },
    {
     "data": {
      "application/vnd.jupyter.widget-view+json": {
       "model_id": "11d87d05152447198e36f5e003610eee",
       "version_major": 2,
       "version_minor": 0
      },
      "text/plain": [
       "  0%|          | 0/148438 [00:00<?, ?it/s]"
      ]
     },
     "metadata": {},
     "output_type": "display_data"
    },
    {
     "data": {
      "application/vnd.jupyter.widget-view+json": {
       "model_id": "92215d904de449ebb85fcc08f7abe195",
       "version_major": 2,
       "version_minor": 0
      },
      "text/plain": [
       "  0%|          | 0/148438 [00:00<?, ?it/s]"
      ]
     },
     "metadata": {},
     "output_type": "display_data"
    },
    {
     "data": {
      "application/vnd.jupyter.widget-view+json": {
       "model_id": "a773b7b3f5ec401d83b7f72883ca3c16",
       "version_major": 2,
       "version_minor": 0
      },
      "text/plain": [
       "  0%|          | 0/148438 [00:00<?, ?it/s]"
      ]
     },
     "metadata": {},
     "output_type": "display_data"
    },
    {
     "data": {
      "application/vnd.jupyter.widget-view+json": {
       "model_id": "08e347b5ffe54241a1f1c2ba77c2c21e",
       "version_major": 2,
       "version_minor": 0
      },
      "text/plain": [
       "  0%|          | 0/148438 [00:00<?, ?it/s]"
      ]
     },
     "metadata": {},
     "output_type": "display_data"
    }
   ],
   "source": [
    "%run mfi_experiment.py experiment-k10-l001 10 0.01"
   ]
  },
  {
   "cell_type": "code",
   "execution_count": 5,
   "id": "5f2c11ab-a945-428d-9b7f-cbbe9fb671e9",
   "metadata": {},
   "outputs": [
    {
     "data": {
      "text/html": [
       "<pre style=\"white-space:pre;overflow-x:auto;line-height:normal;font-family:Menlo,'DejaVu Sans Mono',consolas,'Courier New',monospace\">┏━━━━━━┳━━━━━━━━━━━━━━━━━━━┳━━━━━━━━━━━━━━━━━━━┳━━━━━━━━━━━━━━━━━━━┳━━━━━━━━━━━━━━━━━━━┓\n",
       "┃<span style=\"color: #800080; text-decoration-color: #800080; font-weight: bold\"> Fold </span>┃<span style=\"color: #800080; text-decoration-color: #800080; font-weight: bold\"> Recall@5          </span>┃<span style=\"color: #800080; text-decoration-color: #800080; font-weight: bold\"> Recall@10         </span>┃<span style=\"color: #800080; text-decoration-color: #800080; font-weight: bold\"> nDCG@5            </span>┃<span style=\"color: #800080; text-decoration-color: #800080; font-weight: bold\"> nDCG@10           </span>┃\n",
       "┡━━━━━━╇━━━━━━━━━━━━━━━━━━━╇━━━━━━━━━━━━━━━━━━━╇━━━━━━━━━━━━━━━━━━━╇━━━━━━━━━━━━━━━━━━━┩\n",
       "│ 1    │ 0.07435           │ 0.11882           │ 0.16908           │ 0.20375           │\n",
       "│ 2    │ 0.06830           │ 0.11221           │ 0.16118           │ 0.19691           │\n",
       "│ 3    │ 0.08717           │ 0.13798           │ 0.18718           │ 0.22273           │\n",
       "│ 4    │ 0.08134           │ 0.12893           │ 0.18044           │ 0.21635           │\n",
       "│ 5    │ 0.08740           │ 0.13509           │ 0.18113           │ 0.21675           │\n",
       "├──────┼───────────────────┼───────────────────┼───────────────────┼───────────────────┤\n",
       "│      │ 0.07971 ± 0.00744 │ 0.12661 ± 0.00974 │ 0.17580 ± 0.00936 │ 0.21130 ± 0.00949 │\n",
       "└──────┴───────────────────┴───────────────────┴───────────────────┴───────────────────┘\n",
       "</pre>\n"
      ],
      "text/plain": [
       "┏━━━━━━┳━━━━━━━━━━━━━━━━━━━┳━━━━━━━━━━━━━━━━━━━┳━━━━━━━━━━━━━━━━━━━┳━━━━━━━━━━━━━━━━━━━┓\n",
       "┃\u001b[1;35m \u001b[0m\u001b[1;35mFold\u001b[0m\u001b[1;35m \u001b[0m┃\u001b[1;35m \u001b[0m\u001b[1;35mRecall@5         \u001b[0m\u001b[1;35m \u001b[0m┃\u001b[1;35m \u001b[0m\u001b[1;35mRecall@10        \u001b[0m\u001b[1;35m \u001b[0m┃\u001b[1;35m \u001b[0m\u001b[1;35mnDCG@5           \u001b[0m\u001b[1;35m \u001b[0m┃\u001b[1;35m \u001b[0m\u001b[1;35mnDCG@10          \u001b[0m\u001b[1;35m \u001b[0m┃\n",
       "┡━━━━━━╇━━━━━━━━━━━━━━━━━━━╇━━━━━━━━━━━━━━━━━━━╇━━━━━━━━━━━━━━━━━━━╇━━━━━━━━━━━━━━━━━━━┩\n",
       "│ 1    │ 0.07435           │ 0.11882           │ 0.16908           │ 0.20375           │\n",
       "│ 2    │ 0.06830           │ 0.11221           │ 0.16118           │ 0.19691           │\n",
       "│ 3    │ 0.08717           │ 0.13798           │ 0.18718           │ 0.22273           │\n",
       "│ 4    │ 0.08134           │ 0.12893           │ 0.18044           │ 0.21635           │\n",
       "│ 5    │ 0.08740           │ 0.13509           │ 0.18113           │ 0.21675           │\n",
       "├──────┼───────────────────┼───────────────────┼───────────────────┼───────────────────┤\n",
       "│      │ 0.07971 ± 0.00744 │ 0.12661 ± 0.00974 │ 0.17580 ± 0.00936 │ 0.21130 ± 0.00949 │\n",
       "└──────┴───────────────────┴───────────────────┴───────────────────┴───────────────────┘\n"
      ]
     },
     "metadata": {},
     "output_type": "display_data"
    },
    {
     "data": {
      "image/png": "[encoded data removed]",
      "text/plain": [
       "<Figure size 432x288 with 1 Axes>"
      ]
     },
     "metadata": {
      "needs_background": "light"
     },
     "output_type": "display_data"
    }
   ],
   "source": [
    "%run mfi_experiment_plot.py experiment-k10-l001"
   ]
  },
  {
   "cell_type": "code",
   "execution_count": 3,
   "id": "5085c482-1c0e-4a16-8acb-52a2531937d1",
   "metadata": {
    "collapsed": true,
    "jupyter": {
     "outputs_hidden": true,
     "source_hidden": true
    },
    "tags": []
   },
   "outputs": [
    {
     "data": {
      "application/vnd.jupyter.widget-view+json": {
       "model_id": "81d77499a291442a88e51fe4a0ee6923",
       "version_major": 2,
       "version_minor": 0
      },
      "text/plain": [
       "  0%|          | 0/10 [00:00<?, ?it/s]"
      ]
     },
     "metadata": {},
     "output_type": "display_data"
    },
    {
     "data": {
      "application/vnd.jupyter.widget-view+json": {
       "model_id": "05f7803a670448f78851061da1ef90ae",
       "version_major": 2,
       "version_minor": 0
      },
      "text/plain": [
       "  0%|          | 0/10 [00:00<?, ?it/s]"
      ]
     },
     "metadata": {},
     "output_type": "display_data"
    },
    {
     "data": {
      "application/vnd.jupyter.widget-view+json": {
       "model_id": "da76300cc2fc499d9c9b16c48181078d",
       "version_major": 2,
       "version_minor": 0
      },
      "text/plain": [
       "  0%|          | 0/10 [00:00<?, ?it/s]"
      ]
     },
     "metadata": {},
     "output_type": "display_data"
    },
    {
     "data": {
      "application/vnd.jupyter.widget-view+json": {
       "model_id": "e6ed0608afba45eeb18be662d599c0fa",
       "version_major": 2,
       "version_minor": 0
      },
      "text/plain": [
       "  0%|          | 0/10 [00:00<?, ?it/s]"
      ]
     },
     "metadata": {},
     "output_type": "display_data"
    },
    {
     "data": {
      "application/vnd.jupyter.widget-view+json": {
       "model_id": "af21812f21db4bcd9db4541f9a425a6a",
       "version_major": 2,
       "version_minor": 0
      },
      "text/plain": [
       "  0%|          | 0/10 [00:00<?, ?it/s]"
      ]
     },
     "metadata": {},
     "output_type": "display_data"
    },
    {
     "data": {
      "application/vnd.jupyter.widget-view+json": {
       "model_id": "9f0e9d9e4a8242119c475a5063f64e88",
       "version_major": 2,
       "version_minor": 0
      },
      "text/plain": [
       "  0%|          | 0/148438 [00:00<?, ?it/s]"
      ]
     },
     "metadata": {},
     "output_type": "display_data"
    },
    {
     "data": {
      "application/vnd.jupyter.widget-view+json": {
       "model_id": "0c007ab90f9d491687ac722c3e9a416b",
       "version_major": 2,
       "version_minor": 0
      },
      "text/plain": [
       "  0%|          | 0/148438 [00:00<?, ?it/s]"
      ]
     },
     "metadata": {},
     "output_type": "display_data"
    },
    {
     "data": {
      "application/vnd.jupyter.widget-view+json": {
       "model_id": "01542e73ac3a4a2b8dfcf72e92a75911",
       "version_major": 2,
       "version_minor": 0
      },
      "text/plain": [
       "  0%|          | 0/148438 [00:00<?, ?it/s]"
      ]
     },
     "metadata": {},
     "output_type": "display_data"
    },
    {
     "data": {
      "application/vnd.jupyter.widget-view+json": {
       "model_id": "6ee1cae268604eda83725c9642535495",
       "version_major": 2,
       "version_minor": 0
      },
      "text/plain": [
       "  0%|          | 0/148438 [00:00<?, ?it/s]"
      ]
     },
     "metadata": {},
     "output_type": "display_data"
    },
    {
     "data": {
      "application/vnd.jupyter.widget-view+json": {
       "model_id": "370cf5bb803a4176859f493ec1e53654",
       "version_major": 2,
       "version_minor": 0
      },
      "text/plain": [
       "  0%|          | 0/148438 [00:00<?, ?it/s]"
      ]
     },
     "metadata": {},
     "output_type": "display_data"
    }
   ],
   "source": [
    "%run mfi_experiment.py experiment-k10-l005 10 0.05"
   ]
  },
  {
   "cell_type": "code",
   "execution_count": 6,
   "id": "7aa64b1c-8cc8-4d92-bba8-b6f78c1420e4",
   "metadata": {},
   "outputs": [
    {
     "data": {
      "text/html": [
       "<pre style=\"white-space:pre;overflow-x:auto;line-height:normal;font-family:Menlo,'DejaVu Sans Mono',consolas,'Courier New',monospace\">┏━━━━━━┳━━━━━━━━━━━━━━━━━━━┳━━━━━━━━━━━━━━━━━━━┳━━━━━━━━━━━━━━━━━━━┳━━━━━━━━━━━━━━━━━━━┓\n",
       "┃<span style=\"color: #800080; text-decoration-color: #800080; font-weight: bold\"> Fold </span>┃<span style=\"color: #800080; text-decoration-color: #800080; font-weight: bold\"> Recall@5          </span>┃<span style=\"color: #800080; text-decoration-color: #800080; font-weight: bold\"> Recall@10         </span>┃<span style=\"color: #800080; text-decoration-color: #800080; font-weight: bold\"> nDCG@5            </span>┃<span style=\"color: #800080; text-decoration-color: #800080; font-weight: bold\"> nDCG@10           </span>┃\n",
       "┡━━━━━━╇━━━━━━━━━━━━━━━━━━━╇━━━━━━━━━━━━━━━━━━━╇━━━━━━━━━━━━━━━━━━━╇━━━━━━━━━━━━━━━━━━━┩\n",
       "│ 1    │ 0.07342           │ 0.11939           │ 0.16125           │ 0.19752           │\n",
       "│ 2    │ 0.07015           │ 0.11352           │ 0.16345           │ 0.19975           │\n",
       "│ 3    │ 0.08816           │ 0.13910           │ 0.18710           │ 0.22301           │\n",
       "│ 4    │ 0.08163           │ 0.12753           │ 0.18212           │ 0.21568           │\n",
       "│ 5    │ 0.08754           │ 0.13642           │ 0.18147           │ 0.21806           │\n",
       "├──────┼───────────────────┼───────────────────┼───────────────────┼───────────────────┤\n",
       "│      │ 0.08018 ± 0.00730 │ 0.12719 ± 0.00974 │ 0.17508 ± 0.01060 │ 0.21080 ± 0.01024 │\n",
       "└──────┴───────────────────┴───────────────────┴───────────────────┴───────────────────┘\n",
       "</pre>\n"
      ],
      "text/plain": [
       "┏━━━━━━┳━━━━━━━━━━━━━━━━━━━┳━━━━━━━━━━━━━━━━━━━┳━━━━━━━━━━━━━━━━━━━┳━━━━━━━━━━━━━━━━━━━┓\n",
       "┃\u001b[1;35m \u001b[0m\u001b[1;35mFold\u001b[0m\u001b[1;35m \u001b[0m┃\u001b[1;35m \u001b[0m\u001b[1;35mRecall@5         \u001b[0m\u001b[1;35m \u001b[0m┃\u001b[1;35m \u001b[0m\u001b[1;35mRecall@10        \u001b[0m\u001b[1;35m \u001b[0m┃\u001b[1;35m \u001b[0m\u001b[1;35mnDCG@5           \u001b[0m\u001b[1;35m \u001b[0m┃\u001b[1;35m \u001b[0m\u001b[1;35mnDCG@10          \u001b[0m\u001b[1;35m \u001b[0m┃\n",
       "┡━━━━━━╇━━━━━━━━━━━━━━━━━━━╇━━━━━━━━━━━━━━━━━━━╇━━━━━━━━━━━━━━━━━━━╇━━━━━━━━━━━━━━━━━━━┩\n",
       "│ 1    │ 0.07342           │ 0.11939           │ 0.16125           │ 0.19752           │\n",
       "│ 2    │ 0.07015           │ 0.11352           │ 0.16345           │ 0.19975           │\n",
       "│ 3    │ 0.08816           │ 0.13910           │ 0.18710           │ 0.22301           │\n",
       "│ 4    │ 0.08163           │ 0.12753           │ 0.18212           │ 0.21568           │\n",
       "│ 5    │ 0.08754           │ 0.13642           │ 0.18147           │ 0.21806           │\n",
       "├──────┼───────────────────┼───────────────────┼───────────────────┼───────────────────┤\n",
       "│      │ 0.08018 ± 0.00730 │ 0.12719 ± 0.00974 │ 0.17508 ± 0.01060 │ 0.21080 ± 0.01024 │\n",
       "└──────┴───────────────────┴───────────────────┴───────────────────┴───────────────────┘\n"
      ]
     },
     "metadata": {},
     "output_type": "display_data"
    },
    {
     "data": {
      "image/png": "[encoded data removed]",
      "text/plain": [
       "<Figure size 432x288 with 1 Axes>"
      ]
     },
     "metadata": {
      "needs_background": "light"
     },
     "output_type": "display_data"
    }
   ],
   "source": [
    "%run mfi_experiment_plot.py experiment-k10-l005"
   ]
  },
  {
   "cell_type": "code",
   "execution_count": 4,
   "id": "d424e652-2512-4b98-89f4-a05b8bf2d4f6",
   "metadata": {
    "collapsed": true,
    "jupyter": {
     "outputs_hidden": true,
     "source_hidden": true
    },
    "tags": []
   },
   "outputs": [
    {
     "data": {
      "application/vnd.jupyter.widget-view+json": {
       "model_id": "daef999b326b47db94efe376e0540934",
       "version_major": 2,
       "version_minor": 0
      },
      "text/plain": [
       "  0%|          | 0/10 [00:00<?, ?it/s]"
      ]
     },
     "metadata": {},
     "output_type": "display_data"
    },
    {
     "data": {
      "application/vnd.jupyter.widget-view+json": {
       "model_id": "c09c4b98c5ac45b5bab62cf77b31280d",
       "version_major": 2,
       "version_minor": 0
      },
      "text/plain": [
       "  0%|          | 0/10 [00:00<?, ?it/s]"
      ]
     },
     "metadata": {},
     "output_type": "display_data"
    },
    {
     "data": {
      "application/vnd.jupyter.widget-view+json": {
       "model_id": "6c03ecc6743c49c4a1bef9873dbd9405",
       "version_major": 2,
       "version_minor": 0
      },
      "text/plain": [
       "  0%|          | 0/10 [00:00<?, ?it/s]"
      ]
     },
     "metadata": {},
     "output_type": "display_data"
    },
    {
     "data": {
      "application/vnd.jupyter.widget-view+json": {
       "model_id": "8e3dc0d4677c415490046653474c0a5b",
       "version_major": 2,
       "version_minor": 0
      },
      "text/plain": [
       "  0%|          | 0/10 [00:00<?, ?it/s]"
      ]
     },
     "metadata": {},
     "output_type": "display_data"
    },
    {
     "data": {
      "application/vnd.jupyter.widget-view+json": {
       "model_id": "8274ab8258224cc3972c922b66518eaf",
       "version_major": 2,
       "version_minor": 0
      },
      "text/plain": [
       "  0%|          | 0/10 [00:00<?, ?it/s]"
      ]
     },
     "metadata": {},
     "output_type": "display_data"
    },
    {
     "data": {
      "application/vnd.jupyter.widget-view+json": {
       "model_id": "0cd1239d5def46abb7bfbba3f7640e1a",
       "version_major": 2,
       "version_minor": 0
      },
      "text/plain": [
       "  0%|          | 0/148438 [00:00<?, ?it/s]"
      ]
     },
     "metadata": {},
     "output_type": "display_data"
    },
    {
     "data": {
      "application/vnd.jupyter.widget-view+json": {
       "model_id": "85ddd899c26c41f5bd229aff48f155c3",
       "version_major": 2,
       "version_minor": 0
      },
      "text/plain": [
       "  0%|          | 0/148438 [00:00<?, ?it/s]"
      ]
     },
     "metadata": {},
     "output_type": "display_data"
    },
    {
     "data": {
      "application/vnd.jupyter.widget-view+json": {
       "model_id": "d03f09f04fef42b59afa5476b6bc9beb",
       "version_major": 2,
       "version_minor": 0
      },
      "text/plain": [
       "  0%|          | 0/148438 [00:00<?, ?it/s]"
      ]
     },
     "metadata": {},
     "output_type": "display_data"
    },
    {
     "data": {
      "application/vnd.jupyter.widget-view+json": {
       "model_id": "0b0140d24daf41fdae6788a07dcd3c37",
       "version_major": 2,
       "version_minor": 0
      },
      "text/plain": [
       "  0%|          | 0/148438 [00:00<?, ?it/s]"
      ]
     },
     "metadata": {},
     "output_type": "display_data"
    },
    {
     "data": {
      "application/vnd.jupyter.widget-view+json": {
       "model_id": "d1718efe2dac489bbcb3959de7630400",
       "version_major": 2,
       "version_minor": 0
      },
      "text/plain": [
       "  0%|          | 0/148438 [00:00<?, ?it/s]"
      ]
     },
     "metadata": {},
     "output_type": "display_data"
    }
   ],
   "source": [
    "%run mfi_experiment.py experiment-k10-l01 10 0.1"
   ]
  },
  {
   "cell_type": "code",
   "execution_count": 7,
   "id": "e100adee-085f-4bed-8b06-4d48c8191c77",
   "metadata": {},
   "outputs": [
    {
     "data": {
      "text/html": [
       "<pre style=\"white-space:pre;overflow-x:auto;line-height:normal;font-family:Menlo,'DejaVu Sans Mono',consolas,'Courier New',monospace\">┏━━━━━━┳━━━━━━━━━━━━━━━━━━━┳━━━━━━━━━━━━━━━━━━━┳━━━━━━━━━━━━━━━━━━━┳━━━━━━━━━━━━━━━━━━━┓\n",
       "┃<span style=\"color: #800080; text-decoration-color: #800080; font-weight: bold\"> Fold </span>┃<span style=\"color: #800080; text-decoration-color: #800080; font-weight: bold\"> Recall@5          </span>┃<span style=\"color: #800080; text-decoration-color: #800080; font-weight: bold\"> Recall@10         </span>┃<span style=\"color: #800080; text-decoration-color: #800080; font-weight: bold\"> nDCG@5            </span>┃<span style=\"color: #800080; text-decoration-color: #800080; font-weight: bold\"> nDCG@10           </span>┃\n",
       "┡━━━━━━╇━━━━━━━━━━━━━━━━━━━╇━━━━━━━━━━━━━━━━━━━╇━━━━━━━━━━━━━━━━━━━╇━━━━━━━━━━━━━━━━━━━┩\n",
       "│ 1    │ 0.07313           │ 0.11852           │ 0.17041           │ 0.20837           │\n",
       "│ 2    │ 0.06899           │ 0.11232           │ 0.15858           │ 0.19427           │\n",
       "│ 3    │ 0.08817           │ 0.13967           │ 0.18849           │ 0.22431           │\n",
       "│ 4    │ 0.08202           │ 0.13007           │ 0.18306           │ 0.21884           │\n",
       "│ 5    │ 0.08778           │ 0.13529           │ 0.18343           │ 0.21769           │\n",
       "├──────┼───────────────────┼───────────────────┼───────────────────┼───────────────────┤\n",
       "│      │ 0.08002 ± 0.00774 │ 0.12717 ± 0.01026 │ 0.17679 ± 0.01089 │ 0.21270 ± 0.01054 │\n",
       "└──────┴───────────────────┴───────────────────┴───────────────────┴───────────────────┘\n",
       "</pre>\n"
      ],
      "text/plain": [
       "┏━━━━━━┳━━━━━━━━━━━━━━━━━━━┳━━━━━━━━━━━━━━━━━━━┳━━━━━━━━━━━━━━━━━━━┳━━━━━━━━━━━━━━━━━━━┓\n",
       "┃\u001b[1;35m \u001b[0m\u001b[1;35mFold\u001b[0m\u001b[1;35m \u001b[0m┃\u001b[1;35m \u001b[0m\u001b[1;35mRecall@5         \u001b[0m\u001b[1;35m \u001b[0m┃\u001b[1;35m \u001b[0m\u001b[1;35mRecall@10        \u001b[0m\u001b[1;35m \u001b[0m┃\u001b[1;35m \u001b[0m\u001b[1;35mnDCG@5           \u001b[0m\u001b[1;35m \u001b[0m┃\u001b[1;35m \u001b[0m\u001b[1;35mnDCG@10          \u001b[0m\u001b[1;35m \u001b[0m┃\n",
       "┡━━━━━━╇━━━━━━━━━━━━━━━━━━━╇━━━━━━━━━━━━━━━━━━━╇━━━━━━━━━━━━━━━━━━━╇━━━━━━━━━━━━━━━━━━━┩\n",
       "│ 1    │ 0.07313           │ 0.11852           │ 0.17041           │ 0.20837           │\n",
       "│ 2    │ 0.06899           │ 0.11232           │ 0.15858           │ 0.19427           │\n",
       "│ 3    │ 0.08817           │ 0.13967           │ 0.18849           │ 0.22431           │\n",
       "│ 4    │ 0.08202           │ 0.13007           │ 0.18306           │ 0.21884           │\n",
       "│ 5    │ 0.08778           │ 0.13529           │ 0.18343           │ 0.21769           │\n",
       "├──────┼───────────────────┼───────────────────┼───────────────────┼───────────────────┤\n",
       "│      │ 0.08002 ± 0.00774 │ 0.12717 ± 0.01026 │ 0.17679 ± 0.01089 │ 0.21270 ± 0.01054 │\n",
       "└──────┴───────────────────┴───────────────────┴───────────────────┴───────────────────┘\n"
      ]
     },
     "metadata": {},
     "output_type": "display_data"
    },
    {
     "data": {
      "image/png": "[encoded data removed]",
      "text/plain": [
       "<Figure size 432x288 with 1 Axes>"
      ]
     },
     "metadata": {
      "needs_background": "light"
     },
     "output_type": "display_data"
    }
   ],
   "source": [
    "%run mfi_experiment_plot.py experiment-k10-l01"
   ]
  },
  {
   "cell_type": "code",
   "execution_count": null,
   "id": "d75ccc7b-9295-4a0f-9bd4-9327a4a7205f",
   "metadata": {},
   "outputs": [],
   "source": []
  }
 ],
 "metadata": {
  "kernelspec": {
   "display_name": "Python 3 (ipykernel)",
   "language": "python",
   "name": "python3"
  },
  "language_info": {
   "codemirror_mode": {
    "name": "ipython",
    "version": 3
   },
   "file_extension": ".py",
   "mimetype": "text/x-python",
   "name": "python",
   "nbconvert_exporter": "python",
   "pygments_lexer": "ipython3",
   "version": "3.8.5"
  }
 },
 "nbformat": 4,
 "nbformat_minor": 5
}
