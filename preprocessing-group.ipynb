{
 "cells": [
  {
   "cell_type": "markdown",
   "metadata": {
    "tags": []
   },
   "source": [
    "# Data loading and preprocessing"
   ]
  },
  {
   "cell_type": "markdown",
   "metadata": {},
   "source": [
    "In this notebook we retrieve our dataset and preprocess it into a format that is ready to use for training our matrix factorization based recommender system."
   ]
  },
  {
   "cell_type": "markdown",
   "metadata": {},
   "source": [
    "First, we import the necessary Python packages."
   ]
  },
  {
   "cell_type": "code",
   "execution_count": 1,
   "metadata": {},
   "outputs": [],
   "source": [
    "import gdown\n",
    "import numpy as np\n",
    "import pandas as pd\n",
    "import scipy.sparse\n",
    "from tqdm.auto import tqdm\n",
    "import itertools\n",
    "import json\n",
    "import gzip\n",
    "import math\n",
    "from utils import read_json_fast\n",
    "tqdm.pandas() # for progress_apply etc."
   ]
  },
  {
   "cell_type": "markdown",
   "metadata": {
    "tags": []
   },
   "source": [
    "## Loading"
   ]
  },
  {
   "cell_type": "markdown",
   "metadata": {},
   "source": [
    "Next, we download the files for our dataset (Goodreads). We use the gdown package to retrieve them from the Google Drive they're originally hosted on. \n",
    "\n",
    "> Since we will be implementing a collaborative filtering algorithm, we only need the interactions part of the dataset. The code for reading in the other parts of the dataset were left as comments for potential future reference."
   ]
  },
  {
   "cell_type": "markdown",
   "metadata": {},
   "source": [
    "We define the URLs for each file..."
   ]
  },
  {
   "cell_type": "code",
   "execution_count": 2,
   "metadata": {},
   "outputs": [],
   "source": [
    "URLS = {\n",
    "    # \"BOOKS\": \"https://drive.google.com/uc?id=1ICk5x0HXvXDp5Zt54CKPh5qz1HyUIn9m\",\n",
    "    # \"AUTHORS\": \"https://drive.google.com/uc?id=19cdwyXwfXx_HDIgxXaHzH0mrx8nMyLvC\",\n",
    "    # \"REVIEWS\": \"https://drive.google.com/u/0/uc?id=1V4MLeoEiPQdocCbUHjR_7L9ZmxTufPFe\",\n",
    "    \"INTERACTIONS\": \"https://drive.google.com/uc?id=1CCj-cQw_mJLMdvF_YYfQ7ibKA-dC_GA2\"\n",
    "}"
   ]
  },
  {
   "cell_type": "markdown",
   "metadata": {},
   "source": [
    "and download each file. (if they haven't been downloaded in a previous run of the notebook)"
   ]
  },
  {
   "cell_type": "code",
   "execution_count": 3,
   "metadata": {},
   "outputs": [
    {
     "name": "stdout",
     "output_type": "stream",
     "text": [
      "File exists: ./data/INTERACTIONS.json.gz\n"
     ]
    }
   ],
   "source": [
    "for name, url in URLS.items():\n",
    "    gdown.cached_download(url, f\"./data/{name}.json.gz\", quiet=False)"
   ]
  },
  {
   "cell_type": "markdown",
   "metadata": {},
   "source": [
    "We define the dataset file locations..."
   ]
  },
  {
   "cell_type": "code",
   "execution_count": 4,
   "metadata": {},
   "outputs": [],
   "source": [
    "# books_file = './data/BOOKS.json.gz' # book metadata\n",
    "interactions_file = './data/INTERACTIONS.json.gz' # user-book interactions (ratings)\n",
    "# reviews_file = './data/REVIEWS.json.gz' # user-book interactions (reviews)\n",
    "# authors_file = './data/AUTHORS.json.gz' # author metadata"
   ]
  },
  {
   "cell_type": "markdown",
   "metadata": {},
   "source": [
    "and load the necessary files."
   ]
  },
  {
   "cell_type": "code",
   "execution_count": 5,
   "metadata": {},
   "outputs": [
    {
     "name": "stdout",
     "output_type": "stream",
     "text": [
      "Processing INTERACTIONS.json.gz:\n"
     ]
    },
    {
     "data": {
      "application/vnd.jupyter.widget-view+json": {
       "model_id": "73aff6cb8e65401190f7878e1401b568",
       "version_major": 2,
       "version_minor": 0
      },
      "text/plain": [
       "0lines [00:00, ?lines/s]"
      ]
     },
     "metadata": {},
     "output_type": "display_data"
    },
    {
     "name": "stdout",
     "output_type": "stream",
     "text": [
      "Wall time: 56 s\n"
     ]
    }
   ],
   "source": [
    "%%time\n",
    "# df_books = read_json_fast(books_file)\n",
    "df_interactions = read_json_fast(interactions_file)\n",
    "# df_authors =  read_json_fast(authors_file)"
   ]
  },
  {
   "cell_type": "markdown",
   "metadata": {},
   "source": [
    "Now we look at the contents of the loaded dataset."
   ]
  },
  {
   "cell_type": "code",
   "execution_count": 6,
   "metadata": {},
   "outputs": [
    {
     "data": {
      "text/html": [
       "<div>\n",
       "<style scoped>\n",
       "    .dataframe tbody tr th:only-of-type {\n",
       "        vertical-align: middle;\n",
       "    }\n",
       "\n",
       "    .dataframe tbody tr th {\n",
       "        vertical-align: top;\n",
       "    }\n",
       "\n",
       "    .dataframe thead th {\n",
       "        text-align: right;\n",
       "    }\n",
       "</style>\n",
       "<table border=\"1\" class=\"dataframe\">\n",
       "  <thead>\n",
       "    <tr style=\"text-align: right;\">\n",
       "      <th></th>\n",
       "      <th>user_id</th>\n",
       "      <th>book_id</th>\n",
       "      <th>review_id</th>\n",
       "      <th>is_read</th>\n",
       "      <th>rating</th>\n",
       "      <th>review_text_incomplete</th>\n",
       "      <th>date_added</th>\n",
       "      <th>date_updated</th>\n",
       "      <th>read_at</th>\n",
       "      <th>started_at</th>\n",
       "    </tr>\n",
       "  </thead>\n",
       "  <tbody>\n",
       "    <tr>\n",
       "      <th>0</th>\n",
       "      <td>8842281e1d1347389f2ab93d60773d4d</td>\n",
       "      <td>836610</td>\n",
       "      <td>6b4db26aafeaf0da77c7de6214331e1e</td>\n",
       "      <td>False</td>\n",
       "      <td>0</td>\n",
       "      <td></td>\n",
       "      <td>Mon Aug 21 12:11:00 -0700 2017</td>\n",
       "      <td>Mon Aug 21 12:11:00 -0700 2017</td>\n",
       "      <td></td>\n",
       "      <td></td>\n",
       "    </tr>\n",
       "  </tbody>\n",
       "</table>\n",
       "</div>"
      ],
      "text/plain": [
       "                            user_id book_id                         review_id  \\\n",
       "0  8842281e1d1347389f2ab93d60773d4d  836610  6b4db26aafeaf0da77c7de6214331e1e   \n",
       "\n",
       "   is_read  rating review_text_incomplete                      date_added  \\\n",
       "0    False       0                         Mon Aug 21 12:11:00 -0700 2017   \n",
       "\n",
       "                     date_updated read_at started_at  \n",
       "0  Mon Aug 21 12:11:00 -0700 2017                     "
      ]
     },
     "metadata": {},
     "output_type": "display_data"
    }
   ],
   "source": [
    "display(df_interactions.head(1))"
   ]
  },
  {
   "cell_type": "markdown",
   "metadata": {},
   "source": [
    "We can see that the dataset contains quite a few columns that are of no use to us. To make everything a little less cluttered we remove the columns that we don't use from the dataframe."
   ]
  },
  {
   "cell_type": "code",
   "execution_count": 7,
   "metadata": {},
   "outputs": [],
   "source": [
    "df_interactions = df_interactions[['user_id', 'book_id', 'rating']]"
   ]
  },
  {
   "cell_type": "code",
   "execution_count": 8,
   "metadata": {},
   "outputs": [
    {
     "data": {
      "text/html": [
       "<div>\n",
       "<style scoped>\n",
       "    .dataframe tbody tr th:only-of-type {\n",
       "        vertical-align: middle;\n",
       "    }\n",
       "\n",
       "    .dataframe tbody tr th {\n",
       "        vertical-align: top;\n",
       "    }\n",
       "\n",
       "    .dataframe thead th {\n",
       "        text-align: right;\n",
       "    }\n",
       "</style>\n",
       "<table border=\"1\" class=\"dataframe\">\n",
       "  <thead>\n",
       "    <tr style=\"text-align: right;\">\n",
       "      <th></th>\n",
       "      <th>user_id</th>\n",
       "      <th>book_id</th>\n",
       "      <th>rating</th>\n",
       "    </tr>\n",
       "  </thead>\n",
       "  <tbody>\n",
       "    <tr>\n",
       "      <th>0</th>\n",
       "      <td>8842281e1d1347389f2ab93d60773d4d</td>\n",
       "      <td>836610</td>\n",
       "      <td>0</td>\n",
       "    </tr>\n",
       "  </tbody>\n",
       "</table>\n",
       "</div>"
      ],
      "text/plain": [
       "                            user_id book_id  rating\n",
       "0  8842281e1d1347389f2ab93d60773d4d  836610       0"
      ]
     },
     "metadata": {},
     "output_type": "display_data"
    }
   ],
   "source": [
    "display(df_interactions.head(1))"
   ]
  },
  {
   "cell_type": "markdown",
   "metadata": {
    "tags": []
   },
   "source": [
    "## Pre-processing"
   ]
  },
  {
   "cell_type": "markdown",
   "metadata": {},
   "source": [
    "Now we define a pre-processing function that removes users that occur in less than minsup interactions."
   ]
  },
  {
   "cell_type": "code",
   "execution_count": 33,
   "metadata": {},
   "outputs": [],
   "source": [
    "def preprocess(df, minsup_user=5, minsup_item=35):\n",
    "    \"\"\"\n",
    "    Goal: - Remove users that have less than minsup interactions\n",
    "               \n",
    "    :input df: Dataframe containing user_id and item_id \n",
    "    \"\"\"\n",
    "    # drop items with less then minsup user interactions\n",
    "    before = df.shape[0]\n",
    "    g1 = df.groupby('book_id', as_index=False)['user_id'].size()\n",
    "    g2 = df.groupby('user_id', as_index=False)['book_id'].size()\n",
    "    g1 = g1.rename({'size': 'user_sup'}, axis='columns')\n",
    "    g1 = g1[g1.user_sup >= minsup_item]\n",
    "    df = pd.merge(df, g1, how='inner', on=['book_id'])\n",
    "    print(f\"After dropping items with less than {minsup_item} interactions: {before} -> {df.shape[0]}\")\n",
    "    # drop users with less then minsup items in history\n",
    "    before = df.shape[0]\n",
    "    g2 = g2.rename({'size': 'user_sup'}, axis='columns')\n",
    "    g2 = g2[g2.user_sup >= minsup_user]\n",
    "    df = pd.merge(df, g2, how='inner', on=['user_id'])\n",
    "    print(f\"After dropping users with less than {minsup_user} interactions: {before} -> {df.shape[0]}\")\n",
    "    return df"
   ]
  },
  {
   "cell_type": "markdown",
   "metadata": {},
   "source": [
    "Then we apply the pre-processing function to the dataframe and log the change in number of samples, number of unique users and number of unique items."
   ]
  },
  {
   "cell_type": "code",
   "execution_count": 34,
   "metadata": {},
   "outputs": [
    {
     "name": "stdout",
     "output_type": "stream",
     "text": [
      "number of unique users: 342415\n",
      "number of unique items: 89411\n",
      "After dropping items with less than 35 interactions: 7347630 -> 6686728\n",
      "After dropping users with less than 5 interactions: 6686728 -> 6355864\n",
      "number of unique users: 148304\n",
      "number of unique items: 26431\n"
     ]
    },
    {
     "data": {
      "text/html": [
       "<div>\n",
       "<style scoped>\n",
       "    .dataframe tbody tr th:only-of-type {\n",
       "        vertical-align: middle;\n",
       "    }\n",
       "\n",
       "    .dataframe tbody tr th {\n",
       "        vertical-align: top;\n",
       "    }\n",
       "\n",
       "    .dataframe thead th {\n",
       "        text-align: right;\n",
       "    }\n",
       "</style>\n",
       "<table border=\"1\" class=\"dataframe\">\n",
       "  <thead>\n",
       "    <tr style=\"text-align: right;\">\n",
       "      <th></th>\n",
       "      <th>user_id</th>\n",
       "      <th>book_id</th>\n",
       "      <th>rating</th>\n",
       "      <th>user_sup_x</th>\n",
       "      <th>user_sup_y</th>\n",
       "      <th>user_id_seq</th>\n",
       "      <th>book_id_seq</th>\n",
       "    </tr>\n",
       "  </thead>\n",
       "  <tbody>\n",
       "    <tr>\n",
       "      <th>0</th>\n",
       "      <td>8842281e1d1347389f2ab93d60773d4d</td>\n",
       "      <td>836610</td>\n",
       "      <td>0</td>\n",
       "      <td>2227</td>\n",
       "      <td>14</td>\n",
       "      <td>79025</td>\n",
       "      <td>24838</td>\n",
       "    </tr>\n",
       "    <tr>\n",
       "      <th>1</th>\n",
       "      <td>8842281e1d1347389f2ab93d60773d4d</td>\n",
       "      <td>7648967</td>\n",
       "      <td>0</td>\n",
       "      <td>218</td>\n",
       "      <td>14</td>\n",
       "      <td>79025</td>\n",
       "      <td>23911</td>\n",
       "    </tr>\n",
       "    <tr>\n",
       "      <th>2</th>\n",
       "      <td>8842281e1d1347389f2ab93d60773d4d</td>\n",
       "      <td>15704307</td>\n",
       "      <td>0</td>\n",
       "      <td>26157</td>\n",
       "      <td>14</td>\n",
       "      <td>79025</td>\n",
       "      <td>4944</td>\n",
       "    </tr>\n",
       "    <tr>\n",
       "      <th>3</th>\n",
       "      <td>8842281e1d1347389f2ab93d60773d4d</td>\n",
       "      <td>6902644</td>\n",
       "      <td>0</td>\n",
       "      <td>1356</td>\n",
       "      <td>14</td>\n",
       "      <td>79025</td>\n",
       "      <td>22859</td>\n",
       "    </tr>\n",
       "    <tr>\n",
       "      <th>4</th>\n",
       "      <td>8842281e1d1347389f2ab93d60773d4d</td>\n",
       "      <td>9844623</td>\n",
       "      <td>0</td>\n",
       "      <td>1163</td>\n",
       "      <td>14</td>\n",
       "      <td>79025</td>\n",
       "      <td>26319</td>\n",
       "    </tr>\n",
       "  </tbody>\n",
       "</table>\n",
       "</div>"
      ],
      "text/plain": [
       "                            user_id   book_id  rating  user_sup_x  user_sup_y  \\\n",
       "0  8842281e1d1347389f2ab93d60773d4d    836610       0        2227          14   \n",
       "1  8842281e1d1347389f2ab93d60773d4d   7648967       0         218          14   \n",
       "2  8842281e1d1347389f2ab93d60773d4d  15704307       0       26157          14   \n",
       "3  8842281e1d1347389f2ab93d60773d4d   6902644       0        1356          14   \n",
       "4  8842281e1d1347389f2ab93d60773d4d   9844623       0        1163          14   \n",
       "\n",
       "   user_id_seq  book_id_seq  \n",
       "0        79025        24838  \n",
       "1        79025        23911  \n",
       "2        79025         4944  \n",
       "3        79025        22859  \n",
       "4        79025        26319  "
      ]
     },
     "metadata": {},
     "output_type": "display_data"
    }
   ],
   "source": [
    "#print number of users and items\n",
    "print(f\"number of unique users: {df_interactions['user_id'].nunique()}\")\n",
    "print(f\"number of unique items: {df_interactions['book_id'].nunique()}\")\n",
    "processed_df_interactions = preprocess(df_interactions.copy())\n",
    "# display(processed_df_interactions.head(5))\n",
    "print(f\"number of unique users: {processed_df_interactions['user_id'].nunique()}\")\n",
    "print(f\"number of unique items: {processed_df_interactions['book_id'].nunique()}\")\n",
    "# create sequential ids\n",
    "processed_df_interactions['user_id_seq'] = processed_df_interactions['user_id'].astype('category').cat.codes\n",
    "processed_df_interactions['book_id_seq'] = processed_df_interactions['book_id'].astype('category').cat.codes\n",
    "# merge book id and rating for easier \n",
    "display(processed_df_interactions.head(5))"
   ]
  },
  {
   "cell_type": "markdown",
   "metadata": {},
   "source": [
    "We store the mapping from user/book id's to their sequential id in an external file. This might come in handy in other notebooks."
   ]
  },
  {
   "cell_type": "code",
   "execution_count": 35,
   "metadata": {},
   "outputs": [],
   "source": [
    "processed_df_interactions[['user_id', 'user_id_seq']].drop_duplicates().to_pickle(\"./group/user_id_map_group.pkl\")\n",
    "processed_df_interactions[['book_id', 'book_id_seq']].drop_duplicates().to_pickle(\"./group/book_id_map_group.pkl\")"
   ]
  },
  {
   "cell_type": "markdown",
   "metadata": {},
   "source": [
    "We group the interactions by user."
   ]
  },
  {
   "cell_type": "code",
   "execution_count": 71,
   "metadata": {},
   "outputs": [],
   "source": [
    "# Group per user\n",
    "grouped_df = processed_df_interactions.groupby(by='user_id_seq')[['book_id_seq', 'rating']].agg(list)"
   ]
  },
  {
   "cell_type": "code",
   "execution_count": 72,
   "metadata": {},
   "outputs": [
    {
     "data": {
      "text/html": [
       "<div>\n",
       "<style scoped>\n",
       "    .dataframe tbody tr th:only-of-type {\n",
       "        vertical-align: middle;\n",
       "    }\n",
       "\n",
       "    .dataframe tbody tr th {\n",
       "        vertical-align: top;\n",
       "    }\n",
       "\n",
       "    .dataframe thead th {\n",
       "        text-align: right;\n",
       "    }\n",
       "</style>\n",
       "<table border=\"1\" class=\"dataframe\">\n",
       "  <thead>\n",
       "    <tr style=\"text-align: right;\">\n",
       "      <th></th>\n",
       "      <th>book_id_seq</th>\n",
       "      <th>rating</th>\n",
       "    </tr>\n",
       "    <tr>\n",
       "      <th>user_id_seq</th>\n",
       "      <th></th>\n",
       "      <th></th>\n",
       "    </tr>\n",
       "  </thead>\n",
       "  <tbody>\n",
       "    <tr>\n",
       "      <th>0</th>\n",
       "      <td>[14718, 20012, 15687, 15681, 15690, 15695, 156...</td>\n",
       "      <td>[4, 5, 4, 4, 4, 3, 4, 4, 4, 4, 4, 4, 4, 4, 4, ...</td>\n",
       "    </tr>\n",
       "    <tr>\n",
       "      <th>1</th>\n",
       "      <td>[19644, 13083, 13078, 20743, 10169, 19405, 183...</td>\n",
       "      <td>[4, 4, 0, 0, 0, 3, 4, 3, 0, 0, 3, 3, 3, 4]</td>\n",
       "    </tr>\n",
       "    <tr>\n",
       "      <th>2</th>\n",
       "      <td>[21787, 3072, 3736, 6849, 24072, 11054, 9804, ...</td>\n",
       "      <td>[0, 4, 4, 5, 5, 4, 4, 0, 0, 4, 4, 4, 5, 4, 5, ...</td>\n",
       "    </tr>\n",
       "    <tr>\n",
       "      <th>3</th>\n",
       "      <td>[25919, 4788, 13180, 25656, 25930, 25932, 1958...</td>\n",
       "      <td>[5, 4, 5, 3, 4, 3, 4, 4, 4, 4, 4, 4, 4, 3, 4, ...</td>\n",
       "    </tr>\n",
       "    <tr>\n",
       "      <th>4</th>\n",
       "      <td>[9609, 4043, 7052]</td>\n",
       "      <td>[2, 4, 0]</td>\n",
       "    </tr>\n",
       "  </tbody>\n",
       "</table>\n",
       "</div>"
      ],
      "text/plain": [
       "                                                   book_id_seq  \\\n",
       "user_id_seq                                                      \n",
       "0            [14718, 20012, 15687, 15681, 15690, 15695, 156...   \n",
       "1            [19644, 13083, 13078, 20743, 10169, 19405, 183...   \n",
       "2            [21787, 3072, 3736, 6849, 24072, 11054, 9804, ...   \n",
       "3            [25919, 4788, 13180, 25656, 25930, 25932, 1958...   \n",
       "4                                           [9609, 4043, 7052]   \n",
       "\n",
       "                                                        rating  \n",
       "user_id_seq                                                     \n",
       "0            [4, 5, 4, 4, 4, 3, 4, 4, 4, 4, 4, 4, 4, 4, 4, ...  \n",
       "1                   [4, 4, 0, 0, 0, 3, 4, 3, 0, 0, 3, 3, 3, 4]  \n",
       "2            [0, 4, 4, 5, 5, 4, 4, 0, 0, 4, 4, 4, 5, 4, 5, ...  \n",
       "3            [5, 4, 5, 3, 4, 3, 4, 4, 4, 4, 4, 4, 4, 3, 4, ...  \n",
       "4                                                    [2, 4, 0]  "
      ]
     },
     "execution_count": 72,
     "metadata": {},
     "output_type": "execute_result"
    }
   ],
   "source": [
    "grouped_df.head()"
   ]
  },
  {
   "cell_type": "markdown",
   "metadata": {},
   "source": [
    "We zip the book_id_seq and rating columns for easier random splitting."
   ]
  },
  {
   "cell_type": "code",
   "execution_count": 73,
   "metadata": {},
   "outputs": [
    {
     "data": {
      "application/vnd.jupyter.widget-view+json": {
       "model_id": "9898796416ec45bc9f5218359a821eab",
       "version_major": 2,
       "version_minor": 0
      },
      "text/plain": [
       "  0%|          | 0/148304 [00:00<?, ?it/s]"
      ]
     },
     "metadata": {},
     "output_type": "display_data"
    },
    {
     "data": {
      "text/html": [
       "<div>\n",
       "<style scoped>\n",
       "    .dataframe tbody tr th:only-of-type {\n",
       "        vertical-align: middle;\n",
       "    }\n",
       "\n",
       "    .dataframe tbody tr th {\n",
       "        vertical-align: top;\n",
       "    }\n",
       "\n",
       "    .dataframe thead th {\n",
       "        text-align: right;\n",
       "    }\n",
       "</style>\n",
       "<table border=\"1\" class=\"dataframe\">\n",
       "  <thead>\n",
       "    <tr style=\"text-align: right;\">\n",
       "      <th></th>\n",
       "      <th>book_id_seq</th>\n",
       "      <th>rating</th>\n",
       "      <th>interactions</th>\n",
       "    </tr>\n",
       "    <tr>\n",
       "      <th>user_id_seq</th>\n",
       "      <th></th>\n",
       "      <th></th>\n",
       "      <th></th>\n",
       "    </tr>\n",
       "  </thead>\n",
       "  <tbody>\n",
       "    <tr>\n",
       "      <th>0</th>\n",
       "      <td>[14718, 20012, 15687, 15681, 15690, 15695, 156...</td>\n",
       "      <td>[4, 5, 4, 4, 4, 3, 4, 4, 4, 4, 4, 4, 4, 4, 4, ...</td>\n",
       "      <td>[(14718, 4), (20012, 5), (15687, 4), (15681, 4...</td>\n",
       "    </tr>\n",
       "    <tr>\n",
       "      <th>1</th>\n",
       "      <td>[19644, 13083, 13078, 20743, 10169, 19405, 183...</td>\n",
       "      <td>[4, 4, 0, 0, 0, 3, 4, 3, 0, 0, 3, 3, 3, 4]</td>\n",
       "      <td>[(19644, 4), (13083, 4), (13078, 0), (20743, 0...</td>\n",
       "    </tr>\n",
       "    <tr>\n",
       "      <th>2</th>\n",
       "      <td>[21787, 3072, 3736, 6849, 24072, 11054, 9804, ...</td>\n",
       "      <td>[0, 4, 4, 5, 5, 4, 4, 0, 0, 4, 4, 4, 5, 4, 5, ...</td>\n",
       "      <td>[(21787, 0), (3072, 4), (3736, 4), (6849, 5), ...</td>\n",
       "    </tr>\n",
       "    <tr>\n",
       "      <th>3</th>\n",
       "      <td>[25919, 4788, 13180, 25656, 25930, 25932, 1958...</td>\n",
       "      <td>[5, 4, 5, 3, 4, 3, 4, 4, 4, 4, 4, 4, 4, 3, 4, ...</td>\n",
       "      <td>[(25919, 5), (4788, 4), (13180, 5), (25656, 3)...</td>\n",
       "    </tr>\n",
       "    <tr>\n",
       "      <th>4</th>\n",
       "      <td>[9609, 4043, 7052]</td>\n",
       "      <td>[2, 4, 0]</td>\n",
       "      <td>[(9609, 2), (4043, 4), (7052, 0)]</td>\n",
       "    </tr>\n",
       "  </tbody>\n",
       "</table>\n",
       "</div>"
      ],
      "text/plain": [
       "                                                   book_id_seq  \\\n",
       "user_id_seq                                                      \n",
       "0            [14718, 20012, 15687, 15681, 15690, 15695, 156...   \n",
       "1            [19644, 13083, 13078, 20743, 10169, 19405, 183...   \n",
       "2            [21787, 3072, 3736, 6849, 24072, 11054, 9804, ...   \n",
       "3            [25919, 4788, 13180, 25656, 25930, 25932, 1958...   \n",
       "4                                           [9609, 4043, 7052]   \n",
       "\n",
       "                                                        rating  \\\n",
       "user_id_seq                                                      \n",
       "0            [4, 5, 4, 4, 4, 3, 4, 4, 4, 4, 4, 4, 4, 4, 4, ...   \n",
       "1                   [4, 4, 0, 0, 0, 3, 4, 3, 0, 0, 3, 3, 3, 4]   \n",
       "2            [0, 4, 4, 5, 5, 4, 4, 0, 0, 4, 4, 4, 5, 4, 5, ...   \n",
       "3            [5, 4, 5, 3, 4, 3, 4, 4, 4, 4, 4, 4, 4, 3, 4, ...   \n",
       "4                                                    [2, 4, 0]   \n",
       "\n",
       "                                                  interactions  \n",
       "user_id_seq                                                     \n",
       "0            [(14718, 4), (20012, 5), (15687, 4), (15681, 4...  \n",
       "1            [(19644, 4), (13083, 4), (13078, 0), (20743, 0...  \n",
       "2            [(21787, 0), (3072, 4), (3736, 4), (6849, 5), ...  \n",
       "3            [(25919, 5), (4788, 4), (13180, 5), (25656, 3)...  \n",
       "4                            [(9609, 2), (4043, 4), (7052, 0)]  "
      ]
     },
     "execution_count": 73,
     "metadata": {},
     "output_type": "execute_result"
    }
   ],
   "source": [
    "grouped_df['interactions'] = grouped_df.progress_apply(lambda row: list(zip(row['book_id_seq'], row['rating'])), axis=1)\n",
    "grouped_df = grouped_df[grouped_df['interactions'].map(len) > 1]\n",
    "grouped_df.head()"
   ]
  },
  {
   "cell_type": "markdown",
   "metadata": {},
   "source": [
    "We create 5 random 80/20 train/test splits for validation."
   ]
  },
  {
   "cell_type": "code",
   "execution_count": 74,
   "metadata": {},
   "outputs": [],
   "source": [
    "from sklearn.model_selection import train_test_split as split"
   ]
  },
  {
   "cell_type": "code",
   "execution_count": 75,
   "metadata": {},
   "outputs": [
    {
     "data": {
      "application/vnd.jupyter.widget-view+json": {
       "model_id": "09ab8b03d34b4e67a2aece4860b99a8b",
       "version_major": 2,
       "version_minor": 0
      },
      "text/plain": [
       "  0%|          | 0/148001 [00:00<?, ?it/s]"
      ]
     },
     "metadata": {},
     "output_type": "display_data"
    },
    {
     "data": {
      "application/vnd.jupyter.widget-view+json": {
       "model_id": "4d8e4f2b74644b60a1cd68a4d3a3a9f8",
       "version_major": 2,
       "version_minor": 0
      },
      "text/plain": [
       "  0%|          | 0/148001 [00:00<?, ?it/s]"
      ]
     },
     "metadata": {},
     "output_type": "display_data"
    },
    {
     "data": {
      "application/vnd.jupyter.widget-view+json": {
       "model_id": "c9a64465bc174892801278a4b8ce1ac6",
       "version_major": 2,
       "version_minor": 0
      },
      "text/plain": [
       "  0%|          | 0/148001 [00:00<?, ?it/s]"
      ]
     },
     "metadata": {},
     "output_type": "display_data"
    },
    {
     "data": {
      "application/vnd.jupyter.widget-view+json": {
       "model_id": "17a2283145534036b6e878533cc9d9aa",
       "version_major": 2,
       "version_minor": 0
      },
      "text/plain": [
       "  0%|          | 0/148001 [00:00<?, ?it/s]"
      ]
     },
     "metadata": {},
     "output_type": "display_data"
    },
    {
     "data": {
      "application/vnd.jupyter.widget-view+json": {
       "model_id": "23c979cee40c4a46b3a81cb4dcac3a67",
       "version_major": 2,
       "version_minor": 0
      },
      "text/plain": [
       "  0%|          | 0/148001 [00:00<?, ?it/s]"
      ]
     },
     "metadata": {},
     "output_type": "display_data"
    }
   ],
   "source": [
    "# Split dataset into 0.8 training and 0.2 test samples, split randomly into 5 folds\n",
    "percentage_train = 0.8\n",
    "\n",
    "for i in range(1,6):\n",
    "    grouped_df[[f'train{i}', f'test{i}']] = grouped_df.progress_apply(\n",
    "        lambda row: split(row['interactions'], train_size=percentage_train, random_state=i), \n",
    "        axis=1, \n",
    "        result_type='expand'\n",
    "    )"
   ]
  },
  {
   "cell_type": "code",
   "execution_count": 76,
   "metadata": {},
   "outputs": [
    {
     "data": {
      "text/html": [
       "<div>\n",
       "<style scoped>\n",
       "    .dataframe tbody tr th:only-of-type {\n",
       "        vertical-align: middle;\n",
       "    }\n",
       "\n",
       "    .dataframe tbody tr th {\n",
       "        vertical-align: top;\n",
       "    }\n",
       "\n",
       "    .dataframe thead th {\n",
       "        text-align: right;\n",
       "    }\n",
       "</style>\n",
       "<table border=\"1\" class=\"dataframe\">\n",
       "  <thead>\n",
       "    <tr style=\"text-align: right;\">\n",
       "      <th></th>\n",
       "      <th>book_id_seq</th>\n",
       "      <th>rating</th>\n",
       "      <th>interactions</th>\n",
       "      <th>train1</th>\n",
       "      <th>test1</th>\n",
       "      <th>train2</th>\n",
       "      <th>test2</th>\n",
       "      <th>train3</th>\n",
       "      <th>test3</th>\n",
       "      <th>train4</th>\n",
       "      <th>test4</th>\n",
       "      <th>train5</th>\n",
       "      <th>test5</th>\n",
       "    </tr>\n",
       "    <tr>\n",
       "      <th>user_id_seq</th>\n",
       "      <th></th>\n",
       "      <th></th>\n",
       "      <th></th>\n",
       "      <th></th>\n",
       "      <th></th>\n",
       "      <th></th>\n",
       "      <th></th>\n",
       "      <th></th>\n",
       "      <th></th>\n",
       "      <th></th>\n",
       "      <th></th>\n",
       "      <th></th>\n",
       "      <th></th>\n",
       "    </tr>\n",
       "  </thead>\n",
       "  <tbody>\n",
       "    <tr>\n",
       "      <th>0</th>\n",
       "      <td>[14718, 20012, 15687, 15681, 15690, 15695, 156...</td>\n",
       "      <td>[4, 5, 4, 4, 4, 3, 4, 4, 4, 4, 4, 4, 4, 4, 4, ...</td>\n",
       "      <td>[(14718, 4), (20012, 5), (15687, 4), (15681, 4...</td>\n",
       "      <td>[(15691, 4), (15682, 4), (15690, 4), (15687, 4...</td>\n",
       "      <td>[(15680, 4), (20013, 5), (15681, 4), (15686, 4...</td>\n",
       "      <td>[(15684, 4), (15681, 4), (15679, 4), (15688, 4...</td>\n",
       "      <td>[(15676, 5), (14718, 4), (15678, 4), (15689, 4...</td>\n",
       "      <td>[(15684, 4), (20012, 5), (15687, 4), (15676, 5...</td>\n",
       "      <td>[(15678, 4), (15679, 4), (15691, 4), (15692, 4...</td>\n",
       "      <td>[(15682, 4), (15689, 4), (15694, 4), (15687, 4...</td>\n",
       "      <td>[(15678, 4), (15676, 5), (14718, 4), (15681, 4...</td>\n",
       "      <td>[(19879, 4), (15680, 4), (15682, 4), (15695, 3...</td>\n",
       "      <td>[(15683, 4), (15687, 4), (15691, 4), (20013, 5...</td>\n",
       "    </tr>\n",
       "    <tr>\n",
       "      <th>1</th>\n",
       "      <td>[19644, 13083, 13078, 20743, 10169, 19405, 183...</td>\n",
       "      <td>[4, 4, 0, 0, 0, 3, 4, 3, 0, 0, 3, 3, 3, 4]</td>\n",
       "      <td>[(19644, 4), (13083, 4), (13078, 0), (20743, 0...</td>\n",
       "      <td>[(13078, 0), (7657, 3), (10169, 0), (13083, 4)...</td>\n",
       "      <td>[(20743, 0), (16656, 3), (18302, 4)]</td>\n",
       "      <td>[(19644, 4), (2618, 0), (20743, 0), (13083, 4)...</td>\n",
       "      <td>[(21056, 3), (10169, 0), (19405, 3)]</td>\n",
       "      <td>[(13078, 0), (24036, 4), (18302, 4), (19405, 3...</td>\n",
       "      <td>[(16656, 3), (10169, 0), (13083, 4)]</td>\n",
       "      <td>[(2618, 0), (18302, 4), (24036, 4), (13078, 0)...</td>\n",
       "      <td>[(10169, 0), (20743, 0), (21056, 3)]</td>\n",
       "      <td>[(13078, 0), (7657, 3), (24036, 4), (21056, 3)...</td>\n",
       "      <td>[(19405, 3), (13083, 4), (16656, 3)]</td>\n",
       "    </tr>\n",
       "    <tr>\n",
       "      <th>2</th>\n",
       "      <td>[21787, 3072, 3736, 6849, 24072, 11054, 9804, ...</td>\n",
       "      <td>[0, 4, 4, 5, 5, 4, 4, 0, 0, 4, 4, 4, 5, 4, 5, ...</td>\n",
       "      <td>[(21787, 0), (3072, 4), (3736, 4), (6849, 5), ...</td>\n",
       "      <td>[(18898, 5), (13069, 0), (16479, 5), (24072, 5...</td>\n",
       "      <td>[(9804, 4), (6849, 5), (5238, 4), (3736, 4)]</td>\n",
       "      <td>[(3798, 4), (11054, 4), (6849, 5), (3072, 4), ...</td>\n",
       "      <td>[(5191, 4), (24072, 5), (3369, 0), (21787, 0)]</td>\n",
       "      <td>[(24072, 5), (5238, 4), (9804, 4), (13069, 0),...</td>\n",
       "      <td>[(4058, 4), (3736, 4), (3072, 4), (18898, 5)]</td>\n",
       "      <td>[(24072, 5), (21787, 0), (16479, 5), (19299, 5...</td>\n",
       "      <td>[(9804, 4), (6849, 5), (3369, 0), (4058, 4)]</td>\n",
       "      <td>[(4058, 4), (1800, 0), (19299, 5), (13069, 0),...</td>\n",
       "      <td>[(11054, 4), (3072, 4), (3798, 4), (3736, 4)]</td>\n",
       "    </tr>\n",
       "    <tr>\n",
       "      <th>3</th>\n",
       "      <td>[25919, 4788, 13180, 25656, 25930, 25932, 1958...</td>\n",
       "      <td>[5, 4, 5, 3, 4, 3, 4, 4, 4, 4, 4, 4, 4, 3, 4, ...</td>\n",
       "      <td>[(25919, 5), (4788, 4), (13180, 5), (25656, 3)...</td>\n",
       "      <td>[(13180, 5), (1554, 4), (25930, 4), (19897, 4)...</td>\n",
       "      <td>[(25656, 3), (446, 3), (19589, 4), (21853, 4)]</td>\n",
       "      <td>[(17940, 4), (25932, 3), (25656, 3), (21853, 4...</td>\n",
       "      <td>[(26152, 4), (25930, 4), (20244, 3), (25919, 5)]</td>\n",
       "      <td>[(25930, 4), (446, 3), (19589, 4), (25921, 4),...</td>\n",
       "      <td>[(1554, 4), (13180, 5), (4788, 4), (19897, 4)]</td>\n",
       "      <td>[(25926, 3), (25930, 4), (25919, 5), (19897, 4...</td>\n",
       "      <td>[(5952, 4), (25656, 3), (20244, 3), (19589, 4)]</td>\n",
       "      <td>[(26152, 4), (4788, 4), (24897, 4), (21853, 4)...</td>\n",
       "      <td>[(13180, 5), (25932, 3), (19897, 4), (5952, 4)]</td>\n",
       "    </tr>\n",
       "    <tr>\n",
       "      <th>4</th>\n",
       "      <td>[9609, 4043, 7052]</td>\n",
       "      <td>[2, 4, 0]</td>\n",
       "      <td>[(9609, 2), (4043, 4), (7052, 0)]</td>\n",
       "      <td>[(7052, 0), (4043, 4)]</td>\n",
       "      <td>[(9609, 2)]</td>\n",
       "      <td>[(4043, 4), (9609, 2)]</td>\n",
       "      <td>[(7052, 0)]</td>\n",
       "      <td>[(9609, 2), (7052, 0)]</td>\n",
       "      <td>[(4043, 4)]</td>\n",
       "      <td>[(9609, 2), (7052, 0)]</td>\n",
       "      <td>[(4043, 4)]</td>\n",
       "      <td>[(4043, 4), (7052, 0)]</td>\n",
       "      <td>[(9609, 2)]</td>\n",
       "    </tr>\n",
       "  </tbody>\n",
       "</table>\n",
       "</div>"
      ],
      "text/plain": [
       "                                                   book_id_seq  \\\n",
       "user_id_seq                                                      \n",
       "0            [14718, 20012, 15687, 15681, 15690, 15695, 156...   \n",
       "1            [19644, 13083, 13078, 20743, 10169, 19405, 183...   \n",
       "2            [21787, 3072, 3736, 6849, 24072, 11054, 9804, ...   \n",
       "3            [25919, 4788, 13180, 25656, 25930, 25932, 1958...   \n",
       "4                                           [9609, 4043, 7052]   \n",
       "\n",
       "                                                        rating  \\\n",
       "user_id_seq                                                      \n",
       "0            [4, 5, 4, 4, 4, 3, 4, 4, 4, 4, 4, 4, 4, 4, 4, ...   \n",
       "1                   [4, 4, 0, 0, 0, 3, 4, 3, 0, 0, 3, 3, 3, 4]   \n",
       "2            [0, 4, 4, 5, 5, 4, 4, 0, 0, 4, 4, 4, 5, 4, 5, ...   \n",
       "3            [5, 4, 5, 3, 4, 3, 4, 4, 4, 4, 4, 4, 4, 3, 4, ...   \n",
       "4                                                    [2, 4, 0]   \n",
       "\n",
       "                                                  interactions  \\\n",
       "user_id_seq                                                      \n",
       "0            [(14718, 4), (20012, 5), (15687, 4), (15681, 4...   \n",
       "1            [(19644, 4), (13083, 4), (13078, 0), (20743, 0...   \n",
       "2            [(21787, 0), (3072, 4), (3736, 4), (6849, 5), ...   \n",
       "3            [(25919, 5), (4788, 4), (13180, 5), (25656, 3)...   \n",
       "4                            [(9609, 2), (4043, 4), (7052, 0)]   \n",
       "\n",
       "                                                        train1  \\\n",
       "user_id_seq                                                      \n",
       "0            [(15691, 4), (15682, 4), (15690, 4), (15687, 4...   \n",
       "1            [(13078, 0), (7657, 3), (10169, 0), (13083, 4)...   \n",
       "2            [(18898, 5), (13069, 0), (16479, 5), (24072, 5...   \n",
       "3            [(13180, 5), (1554, 4), (25930, 4), (19897, 4)...   \n",
       "4                                       [(7052, 0), (4043, 4)]   \n",
       "\n",
       "                                                         test1  \\\n",
       "user_id_seq                                                      \n",
       "0            [(15680, 4), (20013, 5), (15681, 4), (15686, 4...   \n",
       "1                         [(20743, 0), (16656, 3), (18302, 4)]   \n",
       "2                 [(9804, 4), (6849, 5), (5238, 4), (3736, 4)]   \n",
       "3               [(25656, 3), (446, 3), (19589, 4), (21853, 4)]   \n",
       "4                                                  [(9609, 2)]   \n",
       "\n",
       "                                                        train2  \\\n",
       "user_id_seq                                                      \n",
       "0            [(15684, 4), (15681, 4), (15679, 4), (15688, 4...   \n",
       "1            [(19644, 4), (2618, 0), (20743, 0), (13083, 4)...   \n",
       "2            [(3798, 4), (11054, 4), (6849, 5), (3072, 4), ...   \n",
       "3            [(17940, 4), (25932, 3), (25656, 3), (21853, 4...   \n",
       "4                                       [(4043, 4), (9609, 2)]   \n",
       "\n",
       "                                                         test2  \\\n",
       "user_id_seq                                                      \n",
       "0            [(15676, 5), (14718, 4), (15678, 4), (15689, 4...   \n",
       "1                         [(21056, 3), (10169, 0), (19405, 3)]   \n",
       "2               [(5191, 4), (24072, 5), (3369, 0), (21787, 0)]   \n",
       "3             [(26152, 4), (25930, 4), (20244, 3), (25919, 5)]   \n",
       "4                                                  [(7052, 0)]   \n",
       "\n",
       "                                                        train3  \\\n",
       "user_id_seq                                                      \n",
       "0            [(15684, 4), (20012, 5), (15687, 4), (15676, 5...   \n",
       "1            [(13078, 0), (24036, 4), (18302, 4), (19405, 3...   \n",
       "2            [(24072, 5), (5238, 4), (9804, 4), (13069, 0),...   \n",
       "3            [(25930, 4), (446, 3), (19589, 4), (25921, 4),...   \n",
       "4                                       [(9609, 2), (7052, 0)]   \n",
       "\n",
       "                                                         test3  \\\n",
       "user_id_seq                                                      \n",
       "0            [(15678, 4), (15679, 4), (15691, 4), (15692, 4...   \n",
       "1                         [(16656, 3), (10169, 0), (13083, 4)]   \n",
       "2                [(4058, 4), (3736, 4), (3072, 4), (18898, 5)]   \n",
       "3               [(1554, 4), (13180, 5), (4788, 4), (19897, 4)]   \n",
       "4                                                  [(4043, 4)]   \n",
       "\n",
       "                                                        train4  \\\n",
       "user_id_seq                                                      \n",
       "0            [(15682, 4), (15689, 4), (15694, 4), (15687, 4...   \n",
       "1            [(2618, 0), (18302, 4), (24036, 4), (13078, 0)...   \n",
       "2            [(24072, 5), (21787, 0), (16479, 5), (19299, 5...   \n",
       "3            [(25926, 3), (25930, 4), (25919, 5), (19897, 4...   \n",
       "4                                       [(9609, 2), (7052, 0)]   \n",
       "\n",
       "                                                         test4  \\\n",
       "user_id_seq                                                      \n",
       "0            [(15678, 4), (15676, 5), (14718, 4), (15681, 4...   \n",
       "1                         [(10169, 0), (20743, 0), (21056, 3)]   \n",
       "2                 [(9804, 4), (6849, 5), (3369, 0), (4058, 4)]   \n",
       "3              [(5952, 4), (25656, 3), (20244, 3), (19589, 4)]   \n",
       "4                                                  [(4043, 4)]   \n",
       "\n",
       "                                                        train5  \\\n",
       "user_id_seq                                                      \n",
       "0            [(19879, 4), (15680, 4), (15682, 4), (15695, 3...   \n",
       "1            [(13078, 0), (7657, 3), (24036, 4), (21056, 3)...   \n",
       "2            [(4058, 4), (1800, 0), (19299, 5), (13069, 0),...   \n",
       "3            [(26152, 4), (4788, 4), (24897, 4), (21853, 4)...   \n",
       "4                                       [(4043, 4), (7052, 0)]   \n",
       "\n",
       "                                                         test5  \n",
       "user_id_seq                                                     \n",
       "0            [(15683, 4), (15687, 4), (15691, 4), (20013, 5...  \n",
       "1                         [(19405, 3), (13083, 4), (16656, 3)]  \n",
       "2                [(11054, 4), (3072, 4), (3798, 4), (3736, 4)]  \n",
       "3              [(13180, 5), (25932, 3), (19897, 4), (5952, 4)]  \n",
       "4                                                  [(9609, 2)]  "
      ]
     },
     "execution_count": 76,
     "metadata": {},
     "output_type": "execute_result"
    }
   ],
   "source": [
    "grouped_df.head()"
   ]
  },
  {
   "cell_type": "markdown",
   "metadata": {},
   "source": [
    "Finally, we create a sparse representation of the user-item interaction matrix for our train and test set."
   ]
  },
  {
   "cell_type": "code",
   "execution_count": 77,
   "metadata": {},
   "outputs": [
    {
     "data": {
      "application/vnd.jupyter.widget-view+json": {
       "model_id": "0ad4ea7caeb446f4b48ba4a8952525ea",
       "version_major": 2,
       "version_minor": 0
      },
      "text/plain": [
       "0it [00:00, ?it/s]"
      ]
     },
     "metadata": {},
     "output_type": "display_data"
    },
    {
     "data": {
      "application/vnd.jupyter.widget-view+json": {
       "model_id": "91714a8a6f6447329b1dde3661f0ebf6",
       "version_major": 2,
       "version_minor": 0
      },
      "text/plain": [
       "0it [00:00, ?it/s]"
      ]
     },
     "metadata": {},
     "output_type": "display_data"
    },
    {
     "data": {
      "application/vnd.jupyter.widget-view+json": {
       "model_id": "877f41e4f6534ceb8624eb9398e5995d",
       "version_major": 2,
       "version_minor": 0
      },
      "text/plain": [
       "0it [00:00, ?it/s]"
      ]
     },
     "metadata": {},
     "output_type": "display_data"
    },
    {
     "data": {
      "application/vnd.jupyter.widget-view+json": {
       "model_id": "543477f18a5c4de08b17a3e34605f7f6",
       "version_major": 2,
       "version_minor": 0
      },
      "text/plain": [
       "0it [00:00, ?it/s]"
      ]
     },
     "metadata": {},
     "output_type": "display_data"
    },
    {
     "data": {
      "application/vnd.jupyter.widget-view+json": {
       "model_id": "4d65f27117134d41a5ee7518ad90f0e9",
       "version_major": 2,
       "version_minor": 0
      },
      "text/plain": [
       "0it [00:00, ?it/s]"
      ]
     },
     "metadata": {},
     "output_type": "display_data"
    },
    {
     "data": {
      "application/vnd.jupyter.widget-view+json": {
       "model_id": "6b079106640648d4a3d731b696283f89",
       "version_major": 2,
       "version_minor": 0
      },
      "text/plain": [
       "0it [00:00, ?it/s]"
      ]
     },
     "metadata": {},
     "output_type": "display_data"
    },
    {
     "data": {
      "application/vnd.jupyter.widget-view+json": {
       "model_id": "a74e50a9c16142e78a7e795cdf89b582",
       "version_major": 2,
       "version_minor": 0
      },
      "text/plain": [
       "0it [00:00, ?it/s]"
      ]
     },
     "metadata": {},
     "output_type": "display_data"
    },
    {
     "data": {
      "application/vnd.jupyter.widget-view+json": {
       "model_id": "2fc00401b4a443e3b4370217c9f7e9b4",
       "version_major": 2,
       "version_minor": 0
      },
      "text/plain": [
       "0it [00:00, ?it/s]"
      ]
     },
     "metadata": {},
     "output_type": "display_data"
    },
    {
     "data": {
      "application/vnd.jupyter.widget-view+json": {
       "model_id": "b2b75e3bd5d546acb6b6eb060c56f1b8",
       "version_major": 2,
       "version_minor": 0
      },
      "text/plain": [
       "0it [00:00, ?it/s]"
      ]
     },
     "metadata": {},
     "output_type": "display_data"
    },
    {
     "data": {
      "application/vnd.jupyter.widget-view+json": {
       "model_id": "aada67dca7584fec849474fa1d2d45c6",
       "version_major": 2,
       "version_minor": 0
      },
      "text/plain": [
       "0it [00:00, ?it/s]"
      ]
     },
     "metadata": {},
     "output_type": "display_data"
    }
   ],
   "source": [
    "def create_sparse_repr(df, column, shape):\n",
    "    user_ids = []\n",
    "    item_ids = []\n",
    "    values = []\n",
    "    for idx, row in tqdm(df.iterrows()):\n",
    "        interactions = row[column]\n",
    "        items, ratings = list(zip(*interactions))\n",
    "        item_ids.extend(items)\n",
    "        values.extend(ratings)\n",
    "        user_ids.extend([idx] * len(items))\n",
    "    matrix = scipy.sparse.coo_matrix((values, (user_ids, item_ids)), shape=shape, dtype=np.int32)\n",
    "    return matrix\n",
    "    \n",
    "\n",
    "shape = (processed_df_interactions['user_id_seq'].max() + 1,  processed_df_interactions['book_id_seq'].max() + 1)\n",
    "\n",
    "for i in range(1,6):\n",
    "    train = create_sparse_repr(grouped_df, column=f'train{i}', shape=shape)\n",
    "    test = create_sparse_repr(grouped_df, column=f'test{i}', shape=shape)\n",
    "    # We store the train and test set externally to be used in the training and evaluating notebook.\n",
    "    scipy.sparse.save_npz(f'./group/train{i}.npz', train)\n",
    "    scipy.sparse.save_npz(f'./group/test{i}.npz', test)"
   ]
  },
  {
   "cell_type": "code",
   "execution_count": null,
   "metadata": {},
   "outputs": [],
   "source": []
  }
 ],
 "metadata": {
  "kernelspec": {
   "display_name": "Python 3 (ipykernel)",
   "language": "python",
   "name": "python3"
  },
  "language_info": {
   "codemirror_mode": {
    "name": "ipython",
    "version": 3
   },
   "file_extension": ".py",
   "mimetype": "text/x-python",
   "name": "python",
   "nbconvert_exporter": "python",
   "pygments_lexer": "ipython3",
   "version": "3.8.5"
  }
 },
 "nbformat": 4,
 "nbformat_minor": 4
}
