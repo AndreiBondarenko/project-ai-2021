{
 "cells": [
  {
   "cell_type": "code",
   "execution_count": 5,
   "id": "9eb4cd4c-f9ec-4bce-9c5f-2ddc0e14fec2",
   "metadata": {
    "tags": []
   },
   "outputs": [
    {
     "data": {
      "application/vnd.jupyter.widget-view+json": {
       "model_id": "60d61d97068c41ffbfb571f9742ec758",
       "version_major": 2,
       "version_minor": 0
      },
      "text/plain": [
       "  0%|          | 0/148304 [00:00<?, ?it/s]"
      ]
     },
     "metadata": {},
     "output_type": "display_data"
    },
    {
     "data": {
      "application/vnd.jupyter.widget-view+json": {
       "model_id": "8dba33e4776344ce902f7709d83822ee",
       "version_major": 2,
       "version_minor": 0
      },
      "text/plain": [
       "  0%|          | 0/148304 [00:00<?, ?it/s]"
      ]
     },
     "metadata": {},
     "output_type": "display_data"
    },
    {
     "data": {
      "application/vnd.jupyter.widget-view+json": {
       "model_id": "f80b56637af8492aa2b84739013dbab1",
       "version_major": 2,
       "version_minor": 0
      },
      "text/plain": [
       "  0%|          | 0/148304 [00:00<?, ?it/s]"
      ]
     },
     "metadata": {},
     "output_type": "display_data"
    },
    {
     "data": {
      "application/vnd.jupyter.widget-view+json": {
       "model_id": "79a851b14e2b447ea9522dcba5285bbe",
       "version_major": 2,
       "version_minor": 0
      },
      "text/plain": [
       "  0%|          | 0/148304 [00:00<?, ?it/s]"
      ]
     },
     "metadata": {},
     "output_type": "display_data"
    },
    {
     "data": {
      "application/vnd.jupyter.widget-view+json": {
       "model_id": "d03003f4dcc24a5a8d8c9973d9146d95",
       "version_major": 2,
       "version_minor": 0
      },
      "text/plain": [
       "  0%|          | 0/148304 [00:00<?, ?it/s]"
      ]
     },
     "metadata": {},
     "output_type": "display_data"
    }
   ],
   "source": [
    "%run mfi_experiment_group.py experiment-group 100 0.1"
   ]
  },
  {
   "cell_type": "code",
   "execution_count": 6,
   "id": "5f2c11ab-a945-428d-9b7f-cbbe9fb671e9",
   "metadata": {},
   "outputs": [
    {
     "data": {
      "text/html": [
       "<pre style=\"white-space:pre;overflow-x:auto;line-height:normal;font-family:Menlo,'DejaVu Sans Mono',consolas,'Courier New',monospace\">┏━━━━━━┳━━━━━━━━━━━━━━━━━━━┳━━━━━━━━━━━━━━━━━━━┳━━━━━━━━━━━━━━━━━━━┳━━━━━━━━━━━━━━━━━━━┓\n",
       "┃<span style=\"color: #800080; text-decoration-color: #800080; font-weight: bold\"> Fold </span>┃<span style=\"color: #800080; text-decoration-color: #800080; font-weight: bold\"> Recall@5          </span>┃<span style=\"color: #800080; text-decoration-color: #800080; font-weight: bold\"> Recall@10         </span>┃<span style=\"color: #800080; text-decoration-color: #800080; font-weight: bold\"> nDCG@5            </span>┃<span style=\"color: #800080; text-decoration-color: #800080; font-weight: bold\"> nDCG@10           </span>┃\n",
       "┡━━━━━━╇━━━━━━━━━━━━━━━━━━━╇━━━━━━━━━━━━━━━━━━━╇━━━━━━━━━━━━━━━━━━━╇━━━━━━━━━━━━━━━━━━━┩\n",
       "│ 1    │ 0.18681           │ 0.25833           │ 0.33369           │ 0.37231           │\n",
       "│ 2    │ 0.20406           │ 0.27835           │ 0.37739           │ 0.41131           │\n",
       "│ 3    │ 0.17365           │ 0.24328           │ 0.32465           │ 0.36110           │\n",
       "│ 4    │ 0.18290           │ 0.25330           │ 0.34191           │ 0.37592           │\n",
       "│ 5    │ 0.17789           │ 0.24731           │ 0.33947           │ 0.37457           │\n",
       "├──────┼───────────────────┼───────────────────┼───────────────────┼───────────────────┤\n",
       "│      │ 0.18506 ± 0.01049 │ 0.25612 ± 0.01224 │ 0.34342 ± 0.01800 │ 0.37904 ± 0.01696 │\n",
       "└──────┴───────────────────┴───────────────────┴───────────────────┴───────────────────┘\n",
       "</pre>\n"
      ],
      "text/plain": [
       "┏━━━━━━┳━━━━━━━━━━━━━━━━━━━┳━━━━━━━━━━━━━━━━━━━┳━━━━━━━━━━━━━━━━━━━┳━━━━━━━━━━━━━━━━━━━┓\n",
       "┃\u001b[1;35m \u001b[0m\u001b[1;35mFold\u001b[0m\u001b[1;35m \u001b[0m┃\u001b[1;35m \u001b[0m\u001b[1;35mRecall@5         \u001b[0m\u001b[1;35m \u001b[0m┃\u001b[1;35m \u001b[0m\u001b[1;35mRecall@10        \u001b[0m\u001b[1;35m \u001b[0m┃\u001b[1;35m \u001b[0m\u001b[1;35mnDCG@5           \u001b[0m\u001b[1;35m \u001b[0m┃\u001b[1;35m \u001b[0m\u001b[1;35mnDCG@10          \u001b[0m\u001b[1;35m \u001b[0m┃\n",
       "┡━━━━━━╇━━━━━━━━━━━━━━━━━━━╇━━━━━━━━━━━━━━━━━━━╇━━━━━━━━━━━━━━━━━━━╇━━━━━━━━━━━━━━━━━━━┩\n",
       "│ 1    │ 0.18681           │ 0.25833           │ 0.33369           │ 0.37231           │\n",
       "│ 2    │ 0.20406           │ 0.27835           │ 0.37739           │ 0.41131           │\n",
       "│ 3    │ 0.17365           │ 0.24328           │ 0.32465           │ 0.36110           │\n",
       "│ 4    │ 0.18290           │ 0.25330           │ 0.34191           │ 0.37592           │\n",
       "│ 5    │ 0.17789           │ 0.24731           │ 0.33947           │ 0.37457           │\n",
       "├──────┼───────────────────┼───────────────────┼───────────────────┼───────────────────┤\n",
       "│      │ 0.18506 ± 0.01049 │ 0.25612 ± 0.01224 │ 0.34342 ± 0.01800 │ 0.37904 ± 0.01696 │\n",
       "└──────┴───────────────────┴───────────────────┴───────────────────┴───────────────────┘\n"
      ]
     },
     "metadata": {},
     "output_type": "display_data"
    },
    {
     "data": {
      "image/png": "[encoded data removed]",
      "text/plain": [
       "<Figure size 432x288 with 1 Axes>"
      ]
     },
     "metadata": {
      "needs_background": "light"
     },
     "output_type": "display_data"
    }
   ],
   "source": [
    "%run mfi_experiment_plot.py experiment-group"
   ]
  },
  {
   "cell_type": "code",
   "execution_count": null,
   "id": "bf22146b-fdc8-45ef-bd88-d516314fc911",
   "metadata": {},
   "outputs": [],
   "source": []
  }
 ],
 "metadata": {
  "kernelspec": {
   "display_name": "Python 3 (ipykernel)",
   "language": "python",
   "name": "python3"
  },
  "language_info": {
   "codemirror_mode": {
    "name": "ipython",
    "version": 3
   },
   "file_extension": ".py",
   "mimetype": "text/x-python",
   "name": "python",
   "nbconvert_exporter": "python",
   "pygments_lexer": "ipython3",
   "version": "3.8.5"
  }
 },
 "nbformat": 4,
 "nbformat_minor": 5
}
