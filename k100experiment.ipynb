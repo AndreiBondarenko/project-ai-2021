{
 "cells": [
  {
   "cell_type": "code",
   "execution_count": 1,
   "id": "1749976e-9f1e-4f33-bd62-379355714eb3",
   "metadata": {},
   "outputs": [],
   "source": [
    "from recommenders.mfi import MatrixFactorizationImplicit"
   ]
  },
  {
   "cell_type": "code",
   "execution_count": 2,
   "id": "f5476b43-575c-471e-a03c-837263ca9c18",
   "metadata": {},
   "outputs": [],
   "source": [
    "import numpy as np\n",
    "from tqdm.auto import tqdm\n",
    "import scipy.sparse as sps\n",
    "import matplotlib.pyplot as plt\n",
    "%matplotlib inline"
   ]
  },
  {
   "cell_type": "code",
   "execution_count": 3,
   "id": "e507ec99-6685-4c22-a58e-8f4c14f8fd7e",
   "metadata": {},
   "outputs": [],
   "source": [
    "train_sets = [sps.load_npz(f'./data/train{i}.npz') for i in range(1, 6)]\n",
    "test_sets = [sps.load_npz(f'./data/test{i}.npz') for i in range(1, 6)]"
   ]
  },
  {
   "cell_type": "code",
   "execution_count": 4,
   "id": "0c655622-f1f8-49a7-bf23-bc352753e38d",
   "metadata": {},
   "outputs": [],
   "source": [
    "recommenders = [MatrixFactorizationImplicit() for _ in range(5)]"
   ]
  },
  {
   "cell_type": "code",
   "execution_count": 5,
   "id": "407c2958-c115-4d33-89ce-fbea38743742",
   "metadata": {},
   "outputs": [],
   "source": [
    "train_losses = []\n",
    "test_losses = []"
   ]
  },
  {
   "cell_type": "code",
   "execution_count": 6,
   "id": "2bc947b3-b7c4-4cbf-9cf1-0282ed3a6103",
   "metadata": {},
   "outputs": [],
   "source": [
    "# for rec, train, test in zip(recommenders, train_sets, test_sets):\n",
    "#     train_loss, test_loss = rec.train(train, test)\n",
    "#     train_losses.append(train_loss)\n",
    "#     test_losses.append(test_loss)"
   ]
  },
  {
   "cell_type": "code",
   "execution_count": 7,
   "id": "b6386eb1-9e5a-43e1-99a9-8fd6846f4f14",
   "metadata": {},
   "outputs": [],
   "source": [
    "# for i, rec in enumerate(recommenders, start=1):\n",
    "#     rec.save(f'./data/model{i}.pkl')"
   ]
  },
  {
   "cell_type": "code",
   "execution_count": 8,
   "id": "1af28791-37d0-422c-ad8b-8479b071eda4",
   "metadata": {},
   "outputs": [],
   "source": [
    "for i, rec in enumerate(recommenders, start=1):\n",
    "    rec.load(f'./data/model{i}.pkl')"
   ]
  },
  {
   "cell_type": "code",
   "execution_count": 9,
   "id": "fccb5d61-07b8-4f77-8292-d4759496a01d",
   "metadata": {},
   "outputs": [],
   "source": [
    "rec_at_5 = []\n",
    "rec_at_10 = []\n",
    "ndcg_at_5 = []\n",
    "ndcg_at_10 = []"
   ]
  },
  {
   "cell_type": "code",
   "execution_count": 10,
   "id": "af0b2bf8-76fd-41e4-8631-b5794822560d",
   "metadata": {},
   "outputs": [],
   "source": [
    "import utils\n",
    "from recommenders.mfi import utils as mfi_utils"
   ]
  },
  {
   "cell_type": "code",
   "execution_count": 11,
   "id": "8696b669-fdf5-457f-93c5-107b67da78de",
   "metadata": {},
   "outputs": [
    {
     "data": {
      "application/vnd.jupyter.widget-view+json": {
       "model_id": "8aa0fd7520004fc291ddc0c448239c84",
       "version_major": 2,
       "version_minor": 0
      },
      "text/plain": [
       "  0%|          | 0/148438 [00:00<?, ?it/s]"
      ]
     },
     "metadata": {},
     "output_type": "display_data"
    },
    {
     "data": {
      "application/vnd.jupyter.widget-view+json": {
       "model_id": "6f69a189bd534e1088810d5591f7e091",
       "version_major": 2,
       "version_minor": 0
      },
      "text/plain": [
       "  0%|          | 0/148438 [00:00<?, ?it/s]"
      ]
     },
     "metadata": {},
     "output_type": "display_data"
    },
    {
     "data": {
      "application/vnd.jupyter.widget-view+json": {
       "model_id": "c685272065774c3c95d80d82f9b774b5",
       "version_major": 2,
       "version_minor": 0
      },
      "text/plain": [
       "  0%|          | 0/148438 [00:00<?, ?it/s]"
      ]
     },
     "metadata": {},
     "output_type": "display_data"
    },
    {
     "data": {
      "application/vnd.jupyter.widget-view+json": {
       "model_id": "ddf9f75c9855410ea903e7983f0ed11d",
       "version_major": 2,
       "version_minor": 0
      },
      "text/plain": [
       "  0%|          | 0/148438 [00:00<?, ?it/s]"
      ]
     },
     "metadata": {},
     "output_type": "display_data"
    },
    {
     "data": {
      "application/vnd.jupyter.widget-view+json": {
       "model_id": "7fe4a8a23667406eb03c3a39dd51fe94",
       "version_major": 2,
       "version_minor": 0
      },
      "text/plain": [
       "  0%|          | 0/148438 [00:00<?, ?it/s]"
      ]
     },
     "metadata": {},
     "output_type": "display_data"
    }
   ],
   "source": [
    "for rec, test in zip(recommenders, test_sets):\n",
    "    _test = mfi_utils.build_conf_mat(test).tocsr()\n",
    "    rec_at_5.append([])\n",
    "    rec_at_10.append([])\n",
    "    ndcg_at_5.append([])\n",
    "    ndcg_at_10.append([])\n",
    "    for i in tqdm(range(_test.shape[0])):\n",
    "    # for i in tqdm(range(89271, 89275)):\n",
    "        topk = rec.recommend(k=10, user=i)\n",
    "        actual = _test[i]\n",
    "        rec_at_5[-1].append(utils.recall_at_k(topk[:5], actual))\n",
    "        rec_at_10[-1].append(utils.recall_at_k(topk, actual))\n",
    "        ndcg_at_5[-1].append(utils.ndcg_at_k(topk[:5], actual))\n",
    "        ndcg_at_10[-1].append(utils.ndcg_at_k(topk, actual))"
   ]
  },
  {
   "cell_type": "code",
   "execution_count": 19,
   "id": "44f4b244-9a84-436d-b503-59d53b27cf5d",
   "metadata": {},
   "outputs": [],
   "source": [
    "import pickle\n",
    "with open('./data/metrics.pkl', 'wb') as f:\n",
    "    pickle.dump([rec_at_5, rec_at_10, ndcg_at_5, ndcg_at_10], f)"
   ]
  },
  {
   "cell_type": "code",
   "execution_count": 15,
   "id": "ec004783-b05e-43fa-a3f9-bc53639e6e90",
   "metadata": {
    "tags": []
   },
   "outputs": [
    {
     "name": "stdout",
     "output_type": "stream",
     "text": [
      "AVG. RECALL @ 5\n",
      "\tFOLD 1: 0.17638614366079036\n",
      "\tFOLD 2: 0.17616829631984882\n",
      "\tFOLD 3: 0.1871915122314225\n",
      "\tFOLD 4: 0.17272039592558183\n",
      "\tFOLD 5: 0.18201576306917258\n",
      "AVG. OVER FOLDS: 0.1788964222413632 ± 0.005107372627724864\n"
     ]
    }
   ],
   "source": [
    "rec_5_avgs = []\n",
    "print(f'AVG. RECALL @ 5')\n",
    "for i, scores in enumerate(rec_at_5, start=1):\n",
    "    avg_rec = np.mean(scores)\n",
    "    rec_5_avgs.append(avg_rec)\n",
    "    print(f'\\tFOLD {i}: {avg_rec}')\n",
    "print(f'AVG. OVER FOLDS: {np.mean(rec_5_avgs)} \\u00B1 {np.std(rec_5_avgs)}')"
   ]
  },
  {
   "cell_type": "code",
   "execution_count": 16,
   "id": "7e1ea5e5-58e5-4dad-95aa-9584dc1723bf",
   "metadata": {
    "jupyter": {
     "source_hidden": true
    },
    "tags": []
   },
   "outputs": [
    {
     "name": "stdout",
     "output_type": "stream",
     "text": [
      "AVG. RECALL @ 10\n",
      "\tFOLD 1: 0.24681410601864756\n",
      "\tFOLD 2: 0.24431465847574663\n",
      "\tFOLD 3: 0.2577641470850341\n",
      "\tFOLD 4: 0.2402187986697141\n",
      "\tFOLD 5: 0.25002586470338695\n",
      "AVG. OVER FOLDS: 0.24782751499050587 ± 0.0059131907043481185\n"
     ]
    }
   ],
   "source": [
    "rec_10_avgs = []\n",
    "print(f'AVG. RECALL @ 10')\n",
    "for i, scores in enumerate(rec_at_10, start=1):\n",
    "    avg_rec = np.mean(scores)\n",
    "    rec_10_avgs.append(avg_rec)\n",
    "    print(f'\\tFOLD {i}: {avg_rec}')\n",
    "print(f'AVG. OVER FOLDS: {np.mean(rec_10_avgs)} \\u00B1 {np.std(rec_10_avgs)}')"
   ]
  },
  {
   "cell_type": "code",
   "execution_count": 17,
   "id": "1ce10833-a205-48d8-b12d-4918e823dae1",
   "metadata": {
    "jupyter": {
     "source_hidden": true
    },
    "tags": []
   },
   "outputs": [
    {
     "name": "stdout",
     "output_type": "stream",
     "text": [
      "AVG. NDCG @ 5\n",
      "\tFOLD 1: 0.3315721916927829\n",
      "\tFOLD 2: 0.3361803089961092\n",
      "\tFOLD 3: 0.3476064521306807\n",
      "\tFOLD 4: 0.33267275557732723\n",
      "\tFOLD 5: 0.33961901669804556\n",
      "AVG. OVER FOLDS: 0.3375301450189891 ± 0.005775964806239298\n"
     ]
    }
   ],
   "source": [
    "ndcg_5_avgs = []\n",
    "print(f'AVG. NDCG @ 5')\n",
    "for i, scores in enumerate(ndcg_at_5, start=1):\n",
    "    avg_ndcg = np.mean(scores)\n",
    "    ndcg_5_avgs.append(avg_ndcg)\n",
    "    print(f'\\tFOLD {i}: {avg_ndcg}')\n",
    "print(f'AVG. OVER FOLDS: {np.mean(ndcg_5_avgs)} \\u00B1 {np.std(ndcg_5_avgs)}')"
   ]
  },
  {
   "cell_type": "code",
   "execution_count": 18,
   "id": "60b562ae-12b9-41ad-9f02-cc07e2aaefa1",
   "metadata": {
    "jupyter": {
     "source_hidden": true
    },
    "tags": []
   },
   "outputs": [
    {
     "name": "stdout",
     "output_type": "stream",
     "text": [
      "AVG. NDCG @ 10\n",
      "\tFOLD 1: 0.36782502961300007\n",
      "\tFOLD 2: 0.37296343555370093\n",
      "\tFOLD 3: 0.38314175391352934\n",
      "\tFOLD 4: 0.3677694763559074\n",
      "\tFOLD 5: 0.3756627568133843\n",
      "AVG. OVER FOLDS: 0.3734724904499044 ± 0.005709102262528303\n"
     ]
    }
   ],
   "source": [
    "ndcg_10_avgs = []\n",
    "print(f'AVG. NDCG @ 10')\n",
    "for i, scores in enumerate(ndcg_at_10, start=1):\n",
    "    avg_ndcg = np.mean(scores)\n",
    "    ndcg_10_avgs.append(avg_ndcg)\n",
    "    print(f'\\tFOLD {i}: {avg_ndcg}')\n",
    "print(f'AVG. OVER FOLDS: {np.mean(ndcg_10_avgs)} \\u00B1 {np.std(ndcg_10_avgs)}')"
   ]
  },
  {
   "cell_type": "code",
   "execution_count": null,
   "id": "94c51de5-4cce-4b58-8707-6d68b727717a",
   "metadata": {},
   "outputs": [],
   "source": []
  }
 ],
 "metadata": {
  "kernelspec": {
   "display_name": "Python 3 (ipykernel)",
   "language": "python",
   "name": "python3"
  },
  "language_info": {
   "codemirror_mode": {
    "name": "ipython",
    "version": 3
   },
   "file_extension": ".py",
   "mimetype": "text/x-python",
   "name": "python",
   "nbconvert_exporter": "python",
   "pygments_lexer": "ipython3",
   "version": "3.8.5"
  }
 },
 "nbformat": 4,
 "nbformat_minor": 5
}
