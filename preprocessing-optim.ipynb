{
 "cells": [
  {
   "cell_type": "markdown",
   "metadata": {
    "tags": []
   },
   "source": [
    "# Data loading and preprocessing"
   ]
  },
  {
   "cell_type": "markdown",
   "metadata": {},
   "source": [
    "In this notebook we retrieve our dataset and preprocess it into a format that is ready to use for training our matrix factorization based recommender system."
   ]
  },
  {
   "cell_type": "markdown",
   "metadata": {},
   "source": [
    "First, we import the necessary Python packages."
   ]
  },
  {
   "cell_type": "code",
   "execution_count": 1,
   "metadata": {},
   "outputs": [],
   "source": [
    "import gdown\n",
    "import numpy as np\n",
    "import pandas as pd\n",
    "import scipy.sparse\n",
    "from tqdm.auto import tqdm\n",
    "import itertools\n",
    "import json\n",
    "import gzip\n",
    "import math\n",
    "from utils import read_json_fast\n",
    "tqdm.pandas() # for progress_apply etc."
   ]
  },
  {
   "cell_type": "markdown",
   "metadata": {
    "tags": []
   },
   "source": [
    "## Loading"
   ]
  },
  {
   "cell_type": "markdown",
   "metadata": {},
   "source": [
    "Next, we download the files for our dataset (Goodreads). We use the gdown package to retrieve them from the Google Drive they're originally hosted on. \n",
    "\n",
    "> Since we will be implementing a collaborative filtering algorithm, we only need the interactions part of the dataset. The code for reading in the other parts of the dataset were left as comments for potential future reference."
   ]
  },
  {
   "cell_type": "markdown",
   "metadata": {},
   "source": [
    "We define the URLs for each file..."
   ]
  },
  {
   "cell_type": "code",
   "execution_count": 2,
   "metadata": {},
   "outputs": [],
   "source": [
    "URLS = {\n",
    "    # \"BOOKS\": \"https://drive.google.com/uc?id=1ICk5x0HXvXDp5Zt54CKPh5qz1HyUIn9m\",\n",
    "    # \"AUTHORS\": \"https://drive.google.com/uc?id=19cdwyXwfXx_HDIgxXaHzH0mrx8nMyLvC\",\n",
    "    # \"REVIEWS\": \"https://drive.google.com/u/0/uc?id=1V4MLeoEiPQdocCbUHjR_7L9ZmxTufPFe\",\n",
    "    \"INTERACTIONS\": \"https://drive.google.com/uc?id=1CCj-cQw_mJLMdvF_YYfQ7ibKA-dC_GA2\"\n",
    "}"
   ]
  },
  {
   "cell_type": "markdown",
   "metadata": {},
   "source": [
    "and download each file. (if they haven't been downloaded in a previous run of the notebook)"
   ]
  },
  {
   "cell_type": "code",
   "execution_count": 3,
   "metadata": {},
   "outputs": [
    {
     "name": "stdout",
     "output_type": "stream",
     "text": [
      "File exists: ./data/INTERACTIONS.json.gz\n"
     ]
    }
   ],
   "source": [
    "for name, url in URLS.items():\n",
    "    gdown.cached_download(url, f\"./data/{name}.json.gz\", quiet=False)"
   ]
  },
  {
   "cell_type": "markdown",
   "metadata": {},
   "source": [
    "We define the dataset file locations..."
   ]
  },
  {
   "cell_type": "code",
   "execution_count": 4,
   "metadata": {},
   "outputs": [],
   "source": [
    "# books_file = './data/BOOKS.json.gz' # book metadata\n",
    "interactions_file = './data/INTERACTIONS.json.gz' # user-book interactions (ratings)\n",
    "# reviews_file = './data/REVIEWS.json.gz' # user-book interactions (reviews)\n",
    "# authors_file = './data/AUTHORS.json.gz' # author metadata"
   ]
  },
  {
   "cell_type": "markdown",
   "metadata": {},
   "source": [
    "and load the necessary files."
   ]
  },
  {
   "cell_type": "code",
   "execution_count": 5,
   "metadata": {},
   "outputs": [
    {
     "name": "stdout",
     "output_type": "stream",
     "text": [
      "Processing INTERACTIONS.json.gz:\n"
     ]
    },
    {
     "data": {
      "application/vnd.jupyter.widget-view+json": {
       "model_id": "37b3136345104e888961f149aadd42fe",
       "version_major": 2,
       "version_minor": 0
      },
      "text/plain": [
       "0lines [00:00, ?lines/s]"
      ]
     },
     "metadata": {},
     "output_type": "display_data"
    },
    {
     "name": "stdout",
     "output_type": "stream",
     "text": [
      "Wall time: 55.1 s\n"
     ]
    }
   ],
   "source": [
    "%%time\n",
    "# df_books = read_json_fast(books_file)\n",
    "df_interactions = read_json_fast(interactions_file)\n",
    "# df_authors =  read_json_fast(authors_file)"
   ]
  },
  {
   "cell_type": "markdown",
   "metadata": {},
   "source": [
    "Now we look at the contents of the loaded dataset."
   ]
  },
  {
   "cell_type": "code",
   "execution_count": 6,
   "metadata": {},
   "outputs": [
    {
     "data": {
      "text/html": [
       "<div>\n",
       "<style scoped>\n",
       "    .dataframe tbody tr th:only-of-type {\n",
       "        vertical-align: middle;\n",
       "    }\n",
       "\n",
       "    .dataframe tbody tr th {\n",
       "        vertical-align: top;\n",
       "    }\n",
       "\n",
       "    .dataframe thead th {\n",
       "        text-align: right;\n",
       "    }\n",
       "</style>\n",
       "<table border=\"1\" class=\"dataframe\">\n",
       "  <thead>\n",
       "    <tr style=\"text-align: right;\">\n",
       "      <th></th>\n",
       "      <th>user_id</th>\n",
       "      <th>book_id</th>\n",
       "      <th>review_id</th>\n",
       "      <th>is_read</th>\n",
       "      <th>rating</th>\n",
       "      <th>review_text_incomplete</th>\n",
       "      <th>date_added</th>\n",
       "      <th>date_updated</th>\n",
       "      <th>read_at</th>\n",
       "      <th>started_at</th>\n",
       "    </tr>\n",
       "  </thead>\n",
       "  <tbody>\n",
       "    <tr>\n",
       "      <th>0</th>\n",
       "      <td>8842281e1d1347389f2ab93d60773d4d</td>\n",
       "      <td>836610</td>\n",
       "      <td>6b4db26aafeaf0da77c7de6214331e1e</td>\n",
       "      <td>False</td>\n",
       "      <td>0</td>\n",
       "      <td></td>\n",
       "      <td>Mon Aug 21 12:11:00 -0700 2017</td>\n",
       "      <td>Mon Aug 21 12:11:00 -0700 2017</td>\n",
       "      <td></td>\n",
       "      <td></td>\n",
       "    </tr>\n",
       "  </tbody>\n",
       "</table>\n",
       "</div>"
      ],
      "text/plain": [
       "                            user_id book_id                         review_id  \\\n",
       "0  8842281e1d1347389f2ab93d60773d4d  836610  6b4db26aafeaf0da77c7de6214331e1e   \n",
       "\n",
       "   is_read  rating review_text_incomplete                      date_added  \\\n",
       "0    False       0                         Mon Aug 21 12:11:00 -0700 2017   \n",
       "\n",
       "                     date_updated read_at started_at  \n",
       "0  Mon Aug 21 12:11:00 -0700 2017                     "
      ]
     },
     "metadata": {},
     "output_type": "display_data"
    }
   ],
   "source": [
    "display(df_interactions.head(1))"
   ]
  },
  {
   "cell_type": "markdown",
   "metadata": {},
   "source": [
    "We can see that the dataset contains quite a few columns that are of no use to us. To make everything a little less cluttered we remove the columns that we don't use from the dataframe."
   ]
  },
  {
   "cell_type": "code",
   "execution_count": 7,
   "metadata": {},
   "outputs": [],
   "source": [
    "df_interactions = df_interactions[['user_id', 'book_id', 'rating']]"
   ]
  },
  {
   "cell_type": "code",
   "execution_count": 8,
   "metadata": {},
   "outputs": [
    {
     "data": {
      "text/html": [
       "<div>\n",
       "<style scoped>\n",
       "    .dataframe tbody tr th:only-of-type {\n",
       "        vertical-align: middle;\n",
       "    }\n",
       "\n",
       "    .dataframe tbody tr th {\n",
       "        vertical-align: top;\n",
       "    }\n",
       "\n",
       "    .dataframe thead th {\n",
       "        text-align: right;\n",
       "    }\n",
       "</style>\n",
       "<table border=\"1\" class=\"dataframe\">\n",
       "  <thead>\n",
       "    <tr style=\"text-align: right;\">\n",
       "      <th></th>\n",
       "      <th>user_id</th>\n",
       "      <th>book_id</th>\n",
       "      <th>rating</th>\n",
       "    </tr>\n",
       "  </thead>\n",
       "  <tbody>\n",
       "    <tr>\n",
       "      <th>0</th>\n",
       "      <td>8842281e1d1347389f2ab93d60773d4d</td>\n",
       "      <td>836610</td>\n",
       "      <td>0</td>\n",
       "    </tr>\n",
       "  </tbody>\n",
       "</table>\n",
       "</div>"
      ],
      "text/plain": [
       "                            user_id book_id  rating\n",
       "0  8842281e1d1347389f2ab93d60773d4d  836610       0"
      ]
     },
     "metadata": {},
     "output_type": "display_data"
    }
   ],
   "source": [
    "display(df_interactions.head(1))"
   ]
  },
  {
   "cell_type": "markdown",
   "metadata": {
    "tags": []
   },
   "source": [
    "## Pre-processing"
   ]
  },
  {
   "cell_type": "markdown",
   "metadata": {},
   "source": [
    "Now we define a pre-processing function that removes users that occur in less than minsup interactions."
   ]
  },
  {
   "cell_type": "code",
   "execution_count": 9,
   "metadata": {},
   "outputs": [],
   "source": [
    "def preprocess(df, minsup=5):\n",
    "    \"\"\"\n",
    "    Goal: - Remove users that have less than minsup interactions\n",
    "               \n",
    "    :input df: Dataframe containing user_id and item_id \n",
    "    \"\"\"\n",
    "    # drop users with less then minsup items in history\n",
    "    before = df.shape[0]\n",
    "    g = df.groupby('user_id', as_index=False)['book_id'].size()\n",
    "    g = g.rename({'size': 'user_sup'}, axis='columns')\n",
    "    g = g[g.user_sup >= minsup]\n",
    "    df = pd.merge(df, g, how='inner', on=['user_id'])\n",
    "    print(f\"After dropping users with less than {minsup} interactions: {before} -> {df.shape[0]}\")\n",
    "    return df"
   ]
  },
  {
   "cell_type": "markdown",
   "metadata": {},
   "source": [
    "Then we apply the pre-processing function to the dataframe and log the change in number of samples, number of unique users and number of unique items."
   ]
  },
  {
   "cell_type": "code",
   "execution_count": 12,
   "metadata": {},
   "outputs": [
    {
     "name": "stdout",
     "output_type": "stream",
     "text": [
      "number of unique users: 342415\n",
      "number of unique items: 89411\n",
      "After dropping users with less than 5 interactions: 7347630 -> 6995891\n",
      "number of unique users: 148438\n",
      "number of unique items: 89276\n"
     ]
    },
    {
     "data": {
      "text/html": [
       "<div>\n",
       "<style scoped>\n",
       "    .dataframe tbody tr th:only-of-type {\n",
       "        vertical-align: middle;\n",
       "    }\n",
       "\n",
       "    .dataframe tbody tr th {\n",
       "        vertical-align: top;\n",
       "    }\n",
       "\n",
       "    .dataframe thead th {\n",
       "        text-align: right;\n",
       "    }\n",
       "</style>\n",
       "<table border=\"1\" class=\"dataframe\">\n",
       "  <thead>\n",
       "    <tr style=\"text-align: right;\">\n",
       "      <th></th>\n",
       "      <th>user_id</th>\n",
       "      <th>book_id</th>\n",
       "      <th>rating</th>\n",
       "      <th>user_sup</th>\n",
       "      <th>user_id_seq</th>\n",
       "      <th>book_id_seq</th>\n",
       "    </tr>\n",
       "  </thead>\n",
       "  <tbody>\n",
       "    <tr>\n",
       "      <th>0</th>\n",
       "      <td>8842281e1d1347389f2ab93d60773d4d</td>\n",
       "      <td>836610</td>\n",
       "      <td>0</td>\n",
       "      <td>14</td>\n",
       "      <td>79093</td>\n",
       "      <td>84684</td>\n",
       "    </tr>\n",
       "    <tr>\n",
       "      <th>1</th>\n",
       "      <td>8842281e1d1347389f2ab93d60773d4d</td>\n",
       "      <td>7648967</td>\n",
       "      <td>0</td>\n",
       "      <td>14</td>\n",
       "      <td>79093</td>\n",
       "      <td>82142</td>\n",
       "    </tr>\n",
       "    <tr>\n",
       "      <th>2</th>\n",
       "      <td>8842281e1d1347389f2ab93d60773d4d</td>\n",
       "      <td>15704307</td>\n",
       "      <td>0</td>\n",
       "      <td>14</td>\n",
       "      <td>79093</td>\n",
       "      <td>13284</td>\n",
       "    </tr>\n",
       "    <tr>\n",
       "      <th>3</th>\n",
       "      <td>8842281e1d1347389f2ab93d60773d4d</td>\n",
       "      <td>6902644</td>\n",
       "      <td>0</td>\n",
       "      <td>14</td>\n",
       "      <td>79093</td>\n",
       "      <td>79463</td>\n",
       "    </tr>\n",
       "    <tr>\n",
       "      <th>4</th>\n",
       "      <td>8842281e1d1347389f2ab93d60773d4d</td>\n",
       "      <td>9844623</td>\n",
       "      <td>0</td>\n",
       "      <td>14</td>\n",
       "      <td>79093</td>\n",
       "      <td>88989</td>\n",
       "    </tr>\n",
       "  </tbody>\n",
       "</table>\n",
       "</div>"
      ],
      "text/plain": [
       "                            user_id   book_id  rating  user_sup  user_id_seq  \\\n",
       "0  8842281e1d1347389f2ab93d60773d4d    836610       0        14        79093   \n",
       "1  8842281e1d1347389f2ab93d60773d4d   7648967       0        14        79093   \n",
       "2  8842281e1d1347389f2ab93d60773d4d  15704307       0        14        79093   \n",
       "3  8842281e1d1347389f2ab93d60773d4d   6902644       0        14        79093   \n",
       "4  8842281e1d1347389f2ab93d60773d4d   9844623       0        14        79093   \n",
       "\n",
       "   book_id_seq  \n",
       "0        84684  \n",
       "1        82142  \n",
       "2        13284  \n",
       "3        79463  \n",
       "4        88989  "
      ]
     },
     "metadata": {},
     "output_type": "display_data"
    }
   ],
   "source": [
    "#print number of users and items\n",
    "print(f\"number of unique users: {df_interactions['user_id'].nunique()}\")\n",
    "print(f\"number of unique items: {df_interactions['book_id'].nunique()}\")\n",
    "processed_df_interactions = preprocess(df_interactions.copy())\n",
    "# display(processed_df_interactions.head(5))\n",
    "print(f\"number of unique users: {processed_df_interactions['user_id'].nunique()}\")\n",
    "print(f\"number of unique items: {processed_df_interactions['book_id'].nunique()}\")\n",
    "# create sequential ids\n",
    "processed_df_interactions['user_id_seq'] = processed_df_interactions['user_id'].astype('category').cat.codes\n",
    "processed_df_interactions['book_id_seq'] = processed_df_interactions['book_id'].astype('category').cat.codes\n",
    "# merge book id and rating for easier \n",
    "display(processed_df_interactions.head(5))"
   ]
  },
  {
   "cell_type": "markdown",
   "metadata": {},
   "source": [
    "We store the mapping from user/book id's to their sequential id in an external file. This might come in handy in other notebooks."
   ]
  },
  {
   "cell_type": "code",
   "execution_count": 13,
   "metadata": {},
   "outputs": [],
   "source": [
    "processed_df_interactions[['user_id', 'user_id_seq']].drop_duplicates().to_pickle(\"./data/user_id_map_optim.pkl\")\n",
    "processed_df_interactions[['book_id', 'book_id_seq']].drop_duplicates().to_pickle(\"./data/book_id_map_optim.pkl\")"
   ]
  },
  {
   "cell_type": "markdown",
   "metadata": {},
   "source": [
    "We group the interactions by user."
   ]
  },
  {
   "cell_type": "code",
   "execution_count": 23,
   "metadata": {},
   "outputs": [],
   "source": [
    "# Group per user\n",
    "grouped_df = processed_df_interactions.groupby(by='user_id_seq')[['book_id_seq', 'rating']].agg(list)"
   ]
  },
  {
   "cell_type": "code",
   "execution_count": 24,
   "metadata": {},
   "outputs": [
    {
     "data": {
      "text/html": [
       "<div>\n",
       "<style scoped>\n",
       "    .dataframe tbody tr th:only-of-type {\n",
       "        vertical-align: middle;\n",
       "    }\n",
       "\n",
       "    .dataframe tbody tr th {\n",
       "        vertical-align: top;\n",
       "    }\n",
       "\n",
       "    .dataframe thead th {\n",
       "        text-align: right;\n",
       "    }\n",
       "</style>\n",
       "<table border=\"1\" class=\"dataframe\">\n",
       "  <thead>\n",
       "    <tr style=\"text-align: right;\">\n",
       "      <th></th>\n",
       "      <th>book_id_seq</th>\n",
       "      <th>rating</th>\n",
       "    </tr>\n",
       "    <tr>\n",
       "      <th>user_id_seq</th>\n",
       "      <th></th>\n",
       "      <th></th>\n",
       "    </tr>\n",
       "  </thead>\n",
       "  <tbody>\n",
       "    <tr>\n",
       "      <th>0</th>\n",
       "      <td>[72891, 72893, 72892, 54114, 54119, 54116, 541...</td>\n",
       "      <td>[5, 5, 5, 4, 4, 4, 5, 4, 4, 4, 4, 4, 3, 4, 4, ...</td>\n",
       "    </tr>\n",
       "    <tr>\n",
       "      <th>1</th>\n",
       "      <td>[80948, 74947, 21936, 58280, 71625, 66209, 825...</td>\n",
       "      <td>[3, 3, 3, 3, 3, 4, 4, 0, 0, 0, 0, 0, 4, 4]</td>\n",
       "    </tr>\n",
       "    <tr>\n",
       "      <th>2</th>\n",
       "      <td>[46254, 14134, 10124, 10037, 8229, 19262, 5738...</td>\n",
       "      <td>[0, 4, 4, 4, 4, 5, 5, 0, 4, 4, 5, 0, 0, 4, 4, ...</td>\n",
       "    </tr>\n",
       "    <tr>\n",
       "      <th>3</th>\n",
       "      <td>[3360, 58805, 16295, 73323, 84853, 72690, 1291...</td>\n",
       "      <td>[4, 4, 4, 3, 4, 4, 4, 4, 4, 4, 5, 4, 4, 3, 5, ...</td>\n",
       "    </tr>\n",
       "    <tr>\n",
       "      <th>4</th>\n",
       "      <td>[35464, 13870, 38229, 19984, 10867, 29282]</td>\n",
       "      <td>[0, 2, 0, 0, 4, 2]</td>\n",
       "    </tr>\n",
       "  </tbody>\n",
       "</table>\n",
       "</div>"
      ],
      "text/plain": [
       "                                                   book_id_seq  \\\n",
       "user_id_seq                                                      \n",
       "0            [72891, 72893, 72892, 54114, 54119, 54116, 541...   \n",
       "1            [80948, 74947, 21936, 58280, 71625, 66209, 825...   \n",
       "2            [46254, 14134, 10124, 10037, 8229, 19262, 5738...   \n",
       "3            [3360, 58805, 16295, 73323, 84853, 72690, 1291...   \n",
       "4                   [35464, 13870, 38229, 19984, 10867, 29282]   \n",
       "\n",
       "                                                        rating  \n",
       "user_id_seq                                                     \n",
       "0            [5, 5, 5, 4, 4, 4, 5, 4, 4, 4, 4, 4, 3, 4, 4, ...  \n",
       "1                   [3, 3, 3, 3, 3, 4, 4, 0, 0, 0, 0, 0, 4, 4]  \n",
       "2            [0, 4, 4, 4, 4, 5, 5, 0, 4, 4, 5, 0, 0, 4, 4, ...  \n",
       "3            [4, 4, 4, 3, 4, 4, 4, 4, 4, 4, 5, 4, 4, 3, 5, ...  \n",
       "4                                           [0, 2, 0, 0, 4, 2]  "
      ]
     },
     "execution_count": 24,
     "metadata": {},
     "output_type": "execute_result"
    }
   ],
   "source": [
    "grouped_df.head()"
   ]
  },
  {
   "cell_type": "markdown",
   "metadata": {},
   "source": [
    "We zip the book_id_seq and rating columns for easier random splitting."
   ]
  },
  {
   "cell_type": "code",
   "execution_count": 27,
   "metadata": {},
   "outputs": [
    {
     "data": {
      "application/vnd.jupyter.widget-view+json": {
       "model_id": "42c5a0ac1ae94e07a6022e03be20ce39",
       "version_major": 2,
       "version_minor": 0
      },
      "text/plain": [
       "  0%|          | 0/148438 [00:00<?, ?it/s]"
      ]
     },
     "metadata": {},
     "output_type": "display_data"
    },
    {
     "data": {
      "text/html": [
       "<div>\n",
       "<style scoped>\n",
       "    .dataframe tbody tr th:only-of-type {\n",
       "        vertical-align: middle;\n",
       "    }\n",
       "\n",
       "    .dataframe tbody tr th {\n",
       "        vertical-align: top;\n",
       "    }\n",
       "\n",
       "    .dataframe thead th {\n",
       "        text-align: right;\n",
       "    }\n",
       "</style>\n",
       "<table border=\"1\" class=\"dataframe\">\n",
       "  <thead>\n",
       "    <tr style=\"text-align: right;\">\n",
       "      <th></th>\n",
       "      <th>book_id_seq</th>\n",
       "      <th>rating</th>\n",
       "      <th>interactions</th>\n",
       "    </tr>\n",
       "    <tr>\n",
       "      <th>user_id_seq</th>\n",
       "      <th></th>\n",
       "      <th></th>\n",
       "      <th></th>\n",
       "    </tr>\n",
       "  </thead>\n",
       "  <tbody>\n",
       "    <tr>\n",
       "      <th>0</th>\n",
       "      <td>[72891, 72893, 72892, 54114, 54119, 54116, 541...</td>\n",
       "      <td>[5, 5, 5, 4, 4, 4, 5, 4, 4, 4, 4, 4, 3, 4, 4, ...</td>\n",
       "      <td>[(72891, 5), (72893, 5), (72892, 5), (54114, 4...</td>\n",
       "    </tr>\n",
       "    <tr>\n",
       "      <th>1</th>\n",
       "      <td>[80948, 74947, 21936, 58280, 71625, 66209, 825...</td>\n",
       "      <td>[3, 3, 3, 3, 3, 4, 4, 0, 0, 0, 0, 0, 4, 4]</td>\n",
       "      <td>[(80948, 3), (74947, 3), (21936, 3), (58280, 3...</td>\n",
       "    </tr>\n",
       "    <tr>\n",
       "      <th>2</th>\n",
       "      <td>[46254, 14134, 10124, 10037, 8229, 19262, 5738...</td>\n",
       "      <td>[0, 4, 4, 4, 4, 5, 5, 0, 4, 4, 5, 0, 0, 4, 4, ...</td>\n",
       "      <td>[(46254, 0), (14134, 4), (10124, 4), (10037, 4...</td>\n",
       "    </tr>\n",
       "    <tr>\n",
       "      <th>3</th>\n",
       "      <td>[3360, 58805, 16295, 73323, 84853, 72690, 1291...</td>\n",
       "      <td>[4, 4, 4, 3, 4, 4, 4, 4, 4, 4, 5, 4, 4, 3, 5, ...</td>\n",
       "      <td>[(3360, 4), (58805, 4), (16295, 4), (73323, 3)...</td>\n",
       "    </tr>\n",
       "    <tr>\n",
       "      <th>4</th>\n",
       "      <td>[35464, 13870, 38229, 19984, 10867, 29282]</td>\n",
       "      <td>[0, 2, 0, 0, 4, 2]</td>\n",
       "      <td>[(35464, 0), (13870, 2), (38229, 0), (19984, 0...</td>\n",
       "    </tr>\n",
       "  </tbody>\n",
       "</table>\n",
       "</div>"
      ],
      "text/plain": [
       "                                                   book_id_seq  \\\n",
       "user_id_seq                                                      \n",
       "0            [72891, 72893, 72892, 54114, 54119, 54116, 541...   \n",
       "1            [80948, 74947, 21936, 58280, 71625, 66209, 825...   \n",
       "2            [46254, 14134, 10124, 10037, 8229, 19262, 5738...   \n",
       "3            [3360, 58805, 16295, 73323, 84853, 72690, 1291...   \n",
       "4                   [35464, 13870, 38229, 19984, 10867, 29282]   \n",
       "\n",
       "                                                        rating  \\\n",
       "user_id_seq                                                      \n",
       "0            [5, 5, 5, 4, 4, 4, 5, 4, 4, 4, 4, 4, 3, 4, 4, ...   \n",
       "1                   [3, 3, 3, 3, 3, 4, 4, 0, 0, 0, 0, 0, 4, 4]   \n",
       "2            [0, 4, 4, 4, 4, 5, 5, 0, 4, 4, 5, 0, 0, 4, 4, ...   \n",
       "3            [4, 4, 4, 3, 4, 4, 4, 4, 4, 4, 5, 4, 4, 3, 5, ...   \n",
       "4                                           [0, 2, 0, 0, 4, 2]   \n",
       "\n",
       "                                                  interactions  \n",
       "user_id_seq                                                     \n",
       "0            [(72891, 5), (72893, 5), (72892, 5), (54114, 4...  \n",
       "1            [(80948, 3), (74947, 3), (21936, 3), (58280, 3...  \n",
       "2            [(46254, 0), (14134, 4), (10124, 4), (10037, 4...  \n",
       "3            [(3360, 4), (58805, 4), (16295, 4), (73323, 3)...  \n",
       "4            [(35464, 0), (13870, 2), (38229, 0), (19984, 0...  "
      ]
     },
     "execution_count": 27,
     "metadata": {},
     "output_type": "execute_result"
    }
   ],
   "source": [
    "grouped_df['interactions'] = grouped_df.progress_apply(lambda row: list(zip(row['book_id_seq'], row['rating'])), axis=1)\n",
    "grouped_df.head()"
   ]
  },
  {
   "cell_type": "markdown",
   "metadata": {},
   "source": [
    "We create 5 random 80/20 train/test splits for validation."
   ]
  },
  {
   "cell_type": "code",
   "execution_count": 29,
   "metadata": {},
   "outputs": [],
   "source": [
    "from sklearn.model_selection import train_test_split as split"
   ]
  },
  {
   "cell_type": "code",
   "execution_count": 32,
   "metadata": {},
   "outputs": [
    {
     "data": {
      "application/vnd.jupyter.widget-view+json": {
       "model_id": "b069f11ceb8a4a10b7bd6440bf745e68",
       "version_major": 2,
       "version_minor": 0
      },
      "text/plain": [
       "  0%|          | 0/148438 [00:00<?, ?it/s]"
      ]
     },
     "metadata": {},
     "output_type": "display_data"
    },
    {
     "data": {
      "application/vnd.jupyter.widget-view+json": {
       "model_id": "f19ae99ef78c4c059ae2c6a4eb8ee99b",
       "version_major": 2,
       "version_minor": 0
      },
      "text/plain": [
       "  0%|          | 0/148438 [00:00<?, ?it/s]"
      ]
     },
     "metadata": {},
     "output_type": "display_data"
    },
    {
     "data": {
      "application/vnd.jupyter.widget-view+json": {
       "model_id": "27b684303ef94750b817d198129d3f63",
       "version_major": 2,
       "version_minor": 0
      },
      "text/plain": [
       "  0%|          | 0/148438 [00:00<?, ?it/s]"
      ]
     },
     "metadata": {},
     "output_type": "display_data"
    },
    {
     "data": {
      "application/vnd.jupyter.widget-view+json": {
       "model_id": "6646bd9f3adc44ebb2aa7868e6641e36",
       "version_major": 2,
       "version_minor": 0
      },
      "text/plain": [
       "  0%|          | 0/148438 [00:00<?, ?it/s]"
      ]
     },
     "metadata": {},
     "output_type": "display_data"
    },
    {
     "data": {
      "application/vnd.jupyter.widget-view+json": {
       "model_id": "9680c5f290764c1d95c1230010a1b0e7",
       "version_major": 2,
       "version_minor": 0
      },
      "text/plain": [
       "  0%|          | 0/148438 [00:00<?, ?it/s]"
      ]
     },
     "metadata": {},
     "output_type": "display_data"
    }
   ],
   "source": [
    "# Split dataset into 0.8 training and 0.2 test samples, split randomly into 5 folds\n",
    "percentage_train = 0.8\n",
    "\n",
    "for i in range(1,6):\n",
    "    grouped_df[[f'train{i}', f'test{i}']] = grouped_df.progress_apply(\n",
    "        lambda row: split(row['interactions'], train_size=percentage_train, random_state=i), \n",
    "        axis=1, \n",
    "        result_type='expand'\n",
    "    )"
   ]
  },
  {
   "cell_type": "code",
   "execution_count": 31,
   "metadata": {},
   "outputs": [
    {
     "data": {
      "text/html": [
       "<div>\n",
       "<style scoped>\n",
       "    .dataframe tbody tr th:only-of-type {\n",
       "        vertical-align: middle;\n",
       "    }\n",
       "\n",
       "    .dataframe tbody tr th {\n",
       "        vertical-align: top;\n",
       "    }\n",
       "\n",
       "    .dataframe thead th {\n",
       "        text-align: right;\n",
       "    }\n",
       "</style>\n",
       "<table border=\"1\" class=\"dataframe\">\n",
       "  <thead>\n",
       "    <tr style=\"text-align: right;\">\n",
       "      <th></th>\n",
       "      <th>book_id_seq</th>\n",
       "      <th>rating</th>\n",
       "      <th>interactions</th>\n",
       "      <th>train1</th>\n",
       "      <th>test1</th>\n",
       "      <th>train2</th>\n",
       "      <th>test2</th>\n",
       "      <th>train3</th>\n",
       "      <th>test3</th>\n",
       "      <th>train4</th>\n",
       "      <th>test4</th>\n",
       "      <th>train5</th>\n",
       "      <th>test5</th>\n",
       "    </tr>\n",
       "    <tr>\n",
       "      <th>user_id_seq</th>\n",
       "      <th></th>\n",
       "      <th></th>\n",
       "      <th></th>\n",
       "      <th></th>\n",
       "      <th></th>\n",
       "      <th></th>\n",
       "      <th></th>\n",
       "      <th></th>\n",
       "      <th></th>\n",
       "      <th></th>\n",
       "      <th></th>\n",
       "      <th></th>\n",
       "      <th></th>\n",
       "    </tr>\n",
       "  </thead>\n",
       "  <tbody>\n",
       "    <tr>\n",
       "      <th>0</th>\n",
       "      <td>[72891, 72893, 72892, 54114, 54119, 54116, 541...</td>\n",
       "      <td>[5, 5, 5, 4, 4, 4, 5, 4, 4, 4, 4, 4, 3, 4, 4, ...</td>\n",
       "      <td>[(72891, 5), (72893, 5), (72892, 5), (54114, 4...</td>\n",
       "      <td>[(54117, 4), (54128, 4), (54119, 4), (72892, 5...</td>\n",
       "      <td>[(54113, 4), (54129, 4), (54114, 4), (54125, 4...</td>\n",
       "      <td>[(54121, 4), (54114, 4), (54131, 3), (54126, 4...</td>\n",
       "      <td>[(54122, 4), (72891, 5), (54123, 4), (54111, 5...</td>\n",
       "      <td>[(54121, 4), (72893, 5), (72892, 5), (54122, 4...</td>\n",
       "      <td>[(54123, 4), (54131, 3), (54117, 4), (54120, 4...</td>\n",
       "      <td>[(54128, 4), (54111, 5), (54130, 4), (72892, 5...</td>\n",
       "      <td>[(54123, 4), (54122, 4), (72891, 5), (54114, 4...</td>\n",
       "      <td>[(49843, 4), (54113, 4), (54128, 4), (54116, 4...</td>\n",
       "      <td>[(54124, 4), (72892, 5), (54117, 4), (54129, 4...</td>\n",
       "    </tr>\n",
       "    <tr>\n",
       "      <th>1</th>\n",
       "      <td>[80948, 74947, 21936, 58280, 71625, 66209, 825...</td>\n",
       "      <td>[3, 3, 3, 3, 3, 4, 4, 0, 0, 0, 0, 0, 4, 4]</td>\n",
       "      <td>[(80948, 3), (74947, 3), (21936, 3), (58280, 3...</td>\n",
       "      <td>[(21936, 3), (74222, 0), (71625, 3), (74947, 3...</td>\n",
       "      <td>[(58280, 3), (6866, 0), (82526, 4)]</td>\n",
       "      <td>[(80948, 3), (42502, 0), (58280, 3), (74947, 3...</td>\n",
       "      <td>[(31470, 0), (71625, 3), (66209, 4)]</td>\n",
       "      <td>[(21936, 3), (72186, 4), (82526, 4), (66209, 4...</td>\n",
       "      <td>[(6866, 0), (71625, 3), (74947, 3)]</td>\n",
       "      <td>[(42502, 0), (82526, 4), (72186, 4), (21936, 3...</td>\n",
       "      <td>[(71625, 3), (58280, 3), (31470, 0)]</td>\n",
       "      <td>[(21936, 3), (74222, 0), (72186, 4), (31470, 0...</td>\n",
       "      <td>[(66209, 4), (74947, 3), (6866, 0)]</td>\n",
       "    </tr>\n",
       "    <tr>\n",
       "      <th>2</th>\n",
       "      <td>[46254, 14134, 10124, 10037, 8229, 19262, 5738...</td>\n",
       "      <td>[0, 4, 4, 4, 4, 5, 5, 0, 4, 4, 5, 0, 0, 4, 4, ...</td>\n",
       "      <td>[(46254, 0), (14134, 4), (10124, 4), (10037, 4...</td>\n",
       "      <td>[(10915, 4), (42454, 0), (8905, 0), (8229, 4),...</td>\n",
       "      <td>[(57385, 5), (10037, 4), (14227, 4), (10124, 4)]</td>\n",
       "      <td>[(70563, 5), (19262, 5), (10037, 4), (14134, 4...</td>\n",
       "      <td>[(30219, 4), (8229, 4), (82626, 5), (46254, 0)]</td>\n",
       "      <td>[(8229, 4), (14227, 4), (57385, 5), (42454, 0)...</td>\n",
       "      <td>[(76666, 0), (10124, 4), (14134, 4), (10915, 4)]</td>\n",
       "      <td>[(8229, 4), (46254, 0), (8905, 0), (4462, 0), ...</td>\n",
       "      <td>[(57385, 5), (10037, 4), (82626, 5), (76666, 0)]</td>\n",
       "      <td>[(76666, 0), (71452, 5), (4462, 0), (42454, 0)...</td>\n",
       "      <td>[(19262, 5), (14134, 4), (70563, 5), (10124, 4)]</td>\n",
       "    </tr>\n",
       "    <tr>\n",
       "      <th>3</th>\n",
       "      <td>[3360, 58805, 16295, 73323, 84853, 72690, 1291...</td>\n",
       "      <td>[4, 4, 4, 3, 4, 4, 4, 4, 4, 4, 5, 4, 4, 3, 5, ...</td>\n",
       "      <td>[(3360, 4), (58805, 4), (16295, 4), (73323, 3)...</td>\n",
       "      <td>[(70, 5), (87812, 3), (84853, 4), (16295, 4), ...</td>\n",
       "      <td>[(1102, 3), (42878, 5), (73323, 3), (87898, 3)...</td>\n",
       "      <td>[(76791, 4), (72074, 4), (87898, 3), (84853, 4...</td>\n",
       "      <td>[(42878, 5), (12912, 4), (3360, 4), (70, 5), (...</td>\n",
       "      <td>[(1102, 3), (72074, 4), (84853, 4), (87875, 4)...</td>\n",
       "      <td>[(87761, 4), (86969, 3), (58805, 4), (16295, 4...</td>\n",
       "      <td>[(87754, 5), (1102, 3), (84853, 4), (87812, 3)...</td>\n",
       "      <td>[(87761, 4), (87898, 3), (73323, 3), (3360, 4)...</td>\n",
       "      <td>[(72690, 4), (58805, 4), (86969, 3), (72074, 4...</td>\n",
       "      <td>[(16295, 4), (87875, 4), (87761, 4), (87754, 5...</td>\n",
       "    </tr>\n",
       "    <tr>\n",
       "      <th>4</th>\n",
       "      <td>[35464, 13870, 38229, 19984, 10867, 29282]</td>\n",
       "      <td>[0, 2, 0, 0, 4, 2]</td>\n",
       "      <td>[(35464, 0), (13870, 2), (38229, 0), (19984, 0...</td>\n",
       "      <td>[(10867, 4), (35464, 0), (19984, 0), (29282, 2)]</td>\n",
       "      <td>[(38229, 0), (13870, 2)]</td>\n",
       "      <td>[(19984, 0), (38229, 0), (29282, 2), (35464, 0)]</td>\n",
       "      <td>[(10867, 4), (13870, 2)]</td>\n",
       "      <td>[(10867, 4), (13870, 2), (35464, 0), (38229, 0)]</td>\n",
       "      <td>[(19984, 0), (29282, 2)]</td>\n",
       "      <td>[(19984, 0), (35464, 0), (13870, 2), (38229, 0)]</td>\n",
       "      <td>[(10867, 4), (29282, 2)]</td>\n",
       "      <td>[(10867, 4), (13870, 2), (35464, 0), (19984, 0)]</td>\n",
       "      <td>[(29282, 2), (38229, 0)]</td>\n",
       "    </tr>\n",
       "  </tbody>\n",
       "</table>\n",
       "</div>"
      ],
      "text/plain": [
       "                                                   book_id_seq  \\\n",
       "user_id_seq                                                      \n",
       "0            [72891, 72893, 72892, 54114, 54119, 54116, 541...   \n",
       "1            [80948, 74947, 21936, 58280, 71625, 66209, 825...   \n",
       "2            [46254, 14134, 10124, 10037, 8229, 19262, 5738...   \n",
       "3            [3360, 58805, 16295, 73323, 84853, 72690, 1291...   \n",
       "4                   [35464, 13870, 38229, 19984, 10867, 29282]   \n",
       "\n",
       "                                                        rating  \\\n",
       "user_id_seq                                                      \n",
       "0            [5, 5, 5, 4, 4, 4, 5, 4, 4, 4, 4, 4, 3, 4, 4, ...   \n",
       "1                   [3, 3, 3, 3, 3, 4, 4, 0, 0, 0, 0, 0, 4, 4]   \n",
       "2            [0, 4, 4, 4, 4, 5, 5, 0, 4, 4, 5, 0, 0, 4, 4, ...   \n",
       "3            [4, 4, 4, 3, 4, 4, 4, 4, 4, 4, 5, 4, 4, 3, 5, ...   \n",
       "4                                           [0, 2, 0, 0, 4, 2]   \n",
       "\n",
       "                                                  interactions  \\\n",
       "user_id_seq                                                      \n",
       "0            [(72891, 5), (72893, 5), (72892, 5), (54114, 4...   \n",
       "1            [(80948, 3), (74947, 3), (21936, 3), (58280, 3...   \n",
       "2            [(46254, 0), (14134, 4), (10124, 4), (10037, 4...   \n",
       "3            [(3360, 4), (58805, 4), (16295, 4), (73323, 3)...   \n",
       "4            [(35464, 0), (13870, 2), (38229, 0), (19984, 0...   \n",
       "\n",
       "                                                        train1  \\\n",
       "user_id_seq                                                      \n",
       "0            [(54117, 4), (54128, 4), (54119, 4), (72892, 5...   \n",
       "1            [(21936, 3), (74222, 0), (71625, 3), (74947, 3...   \n",
       "2            [(10915, 4), (42454, 0), (8905, 0), (8229, 4),...   \n",
       "3            [(70, 5), (87812, 3), (84853, 4), (16295, 4), ...   \n",
       "4             [(10867, 4), (35464, 0), (19984, 0), (29282, 2)]   \n",
       "\n",
       "                                                         test1  \\\n",
       "user_id_seq                                                      \n",
       "0            [(54113, 4), (54129, 4), (54114, 4), (54125, 4...   \n",
       "1                          [(58280, 3), (6866, 0), (82526, 4)]   \n",
       "2             [(57385, 5), (10037, 4), (14227, 4), (10124, 4)]   \n",
       "3            [(1102, 3), (42878, 5), (73323, 3), (87898, 3)...   \n",
       "4                                     [(38229, 0), (13870, 2)]   \n",
       "\n",
       "                                                        train2  \\\n",
       "user_id_seq                                                      \n",
       "0            [(54121, 4), (54114, 4), (54131, 3), (54126, 4...   \n",
       "1            [(80948, 3), (42502, 0), (58280, 3), (74947, 3...   \n",
       "2            [(70563, 5), (19262, 5), (10037, 4), (14134, 4...   \n",
       "3            [(76791, 4), (72074, 4), (87898, 3), (84853, 4...   \n",
       "4             [(19984, 0), (38229, 0), (29282, 2), (35464, 0)]   \n",
       "\n",
       "                                                         test2  \\\n",
       "user_id_seq                                                      \n",
       "0            [(54122, 4), (72891, 5), (54123, 4), (54111, 5...   \n",
       "1                         [(31470, 0), (71625, 3), (66209, 4)]   \n",
       "2              [(30219, 4), (8229, 4), (82626, 5), (46254, 0)]   \n",
       "3            [(42878, 5), (12912, 4), (3360, 4), (70, 5), (...   \n",
       "4                                     [(10867, 4), (13870, 2)]   \n",
       "\n",
       "                                                        train3  \\\n",
       "user_id_seq                                                      \n",
       "0            [(54121, 4), (72893, 5), (72892, 5), (54122, 4...   \n",
       "1            [(21936, 3), (72186, 4), (82526, 4), (66209, 4...   \n",
       "2            [(8229, 4), (14227, 4), (57385, 5), (42454, 0)...   \n",
       "3            [(1102, 3), (72074, 4), (84853, 4), (87875, 4)...   \n",
       "4             [(10867, 4), (13870, 2), (35464, 0), (38229, 0)]   \n",
       "\n",
       "                                                         test3  \\\n",
       "user_id_seq                                                      \n",
       "0            [(54123, 4), (54131, 3), (54117, 4), (54120, 4...   \n",
       "1                          [(6866, 0), (71625, 3), (74947, 3)]   \n",
       "2             [(76666, 0), (10124, 4), (14134, 4), (10915, 4)]   \n",
       "3            [(87761, 4), (86969, 3), (58805, 4), (16295, 4...   \n",
       "4                                     [(19984, 0), (29282, 2)]   \n",
       "\n",
       "                                                        train4  \\\n",
       "user_id_seq                                                      \n",
       "0            [(54128, 4), (54111, 5), (54130, 4), (72892, 5...   \n",
       "1            [(42502, 0), (82526, 4), (72186, 4), (21936, 3...   \n",
       "2            [(8229, 4), (46254, 0), (8905, 0), (4462, 0), ...   \n",
       "3            [(87754, 5), (1102, 3), (84853, 4), (87812, 3)...   \n",
       "4             [(19984, 0), (35464, 0), (13870, 2), (38229, 0)]   \n",
       "\n",
       "                                                         test4  \\\n",
       "user_id_seq                                                      \n",
       "0            [(54123, 4), (54122, 4), (72891, 5), (54114, 4...   \n",
       "1                         [(71625, 3), (58280, 3), (31470, 0)]   \n",
       "2             [(57385, 5), (10037, 4), (82626, 5), (76666, 0)]   \n",
       "3            [(87761, 4), (87898, 3), (73323, 3), (3360, 4)...   \n",
       "4                                     [(10867, 4), (29282, 2)]   \n",
       "\n",
       "                                                        train5  \\\n",
       "user_id_seq                                                      \n",
       "0            [(49843, 4), (54113, 4), (54128, 4), (54116, 4...   \n",
       "1            [(21936, 3), (74222, 0), (72186, 4), (31470, 0...   \n",
       "2            [(76666, 0), (71452, 5), (4462, 0), (42454, 0)...   \n",
       "3            [(72690, 4), (58805, 4), (86969, 3), (72074, 4...   \n",
       "4             [(10867, 4), (13870, 2), (35464, 0), (19984, 0)]   \n",
       "\n",
       "                                                         test5  \n",
       "user_id_seq                                                     \n",
       "0            [(54124, 4), (72892, 5), (54117, 4), (54129, 4...  \n",
       "1                          [(66209, 4), (74947, 3), (6866, 0)]  \n",
       "2             [(19262, 5), (14134, 4), (70563, 5), (10124, 4)]  \n",
       "3            [(16295, 4), (87875, 4), (87761, 4), (87754, 5...  \n",
       "4                                     [(29282, 2), (38229, 0)]  "
      ]
     },
     "execution_count": 33,
     "metadata": {},
     "output_type": "execute_result"
    }
   ],
   "source": [
    "grouped_df.head()"
   ]
  },
  {
   "cell_type": "markdown",
   "metadata": {},
   "source": [
    "Finally, we create a sparse representation of the user-item interaction matrix for our train and test set."
   ]
  },
  {
   "cell_type": "code",
   "execution_count": 39,
   "metadata": {},
   "outputs": [
    {
     "data": {
      "application/vnd.jupyter.widget-view+json": {
       "model_id": "40d574bf88d1452199b1cc9757b3c34a",
       "version_major": 2,
       "version_minor": 0
      },
      "text/plain": [
       "0it [00:00, ?it/s]"
      ]
     },
     "metadata": {},
     "output_type": "display_data"
    },
    {
     "data": {
      "application/vnd.jupyter.widget-view+json": {
       "model_id": "99650a4d93b940b09e76f54a4b5eccc9",
       "version_major": 2,
       "version_minor": 0
      },
      "text/plain": [
       "0it [00:00, ?it/s]"
      ]
     },
     "metadata": {},
     "output_type": "display_data"
    },
    {
     "data": {
      "application/vnd.jupyter.widget-view+json": {
       "model_id": "d78fc897796440978c07c3d6faca55b2",
       "version_major": 2,
       "version_minor": 0
      },
      "text/plain": [
       "0it [00:00, ?it/s]"
      ]
     },
     "metadata": {},
     "output_type": "display_data"
    },
    {
     "data": {
      "application/vnd.jupyter.widget-view+json": {
       "model_id": "2c67e152e1d74becaf3a9104329ebecb",
       "version_major": 2,
       "version_minor": 0
      },
      "text/plain": [
       "0it [00:00, ?it/s]"
      ]
     },
     "metadata": {},
     "output_type": "display_data"
    },
    {
     "data": {
      "application/vnd.jupyter.widget-view+json": {
       "model_id": "c8c5777b5c454f148ec7c10eb756b2e0",
       "version_major": 2,
       "version_minor": 0
      },
      "text/plain": [
       "0it [00:00, ?it/s]"
      ]
     },
     "metadata": {},
     "output_type": "display_data"
    },
    {
     "data": {
      "application/vnd.jupyter.widget-view+json": {
       "model_id": "c22dd64f8788406aac479d3557f20959",
       "version_major": 2,
       "version_minor": 0
      },
      "text/plain": [
       "0it [00:00, ?it/s]"
      ]
     },
     "metadata": {},
     "output_type": "display_data"
    },
    {
     "data": {
      "application/vnd.jupyter.widget-view+json": {
       "model_id": "73a42c811f8f4c9c92996dff78d637ac",
       "version_major": 2,
       "version_minor": 0
      },
      "text/plain": [
       "0it [00:00, ?it/s]"
      ]
     },
     "metadata": {},
     "output_type": "display_data"
    },
    {
     "data": {
      "application/vnd.jupyter.widget-view+json": {
       "model_id": "bdb6a9aead4c4c4a8be72efa8e194271",
       "version_major": 2,
       "version_minor": 0
      },
      "text/plain": [
       "0it [00:00, ?it/s]"
      ]
     },
     "metadata": {},
     "output_type": "display_data"
    },
    {
     "data": {
      "application/vnd.jupyter.widget-view+json": {
       "model_id": "227ed8050b3b44908139a787411e9ceb",
       "version_major": 2,
       "version_minor": 0
      },
      "text/plain": [
       "0it [00:00, ?it/s]"
      ]
     },
     "metadata": {},
     "output_type": "display_data"
    },
    {
     "data": {
      "application/vnd.jupyter.widget-view+json": {
       "model_id": "575737a07ba848d388521fdbe7e7ac1f",
       "version_major": 2,
       "version_minor": 0
      },
      "text/plain": [
       "0it [00:00, ?it/s]"
      ]
     },
     "metadata": {},
     "output_type": "display_data"
    }
   ],
   "source": [
    "def create_sparse_repr(df, column, shape):\n",
    "    user_ids = []\n",
    "    item_ids = []\n",
    "    values = []\n",
    "    for idx, row in tqdm(df.iterrows()):\n",
    "        interactions = row[column]\n",
    "        items, ratings = list(zip(*interactions))\n",
    "        item_ids.extend(items)\n",
    "        values.extend(ratings)\n",
    "        user_ids.extend([idx] * len(items))\n",
    "    matrix = scipy.sparse.coo_matrix((values, (user_ids, item_ids)), shape=shape, dtype=np.int32)\n",
    "    return matrix\n",
    "    \n",
    "\n",
    "shape = (processed_df_interactions['user_id_seq'].max() + 1,  processed_df_interactions['book_id_seq'].max() + 1)\n",
    "\n",
    "for i in range(1,6):\n",
    "    train = create_sparse_repr(grouped_df, column=f'train{i}', shape=shape)\n",
    "    test = create_sparse_repr(grouped_df, column=f'test{i}', shape=shape)\n",
    "    # We store the train and test set externally to be used in the training and evaluating notebook.\n",
    "    scipy.sparse.save_npz(f'./data/train{i}.npz', train)\n",
    "    scipy.sparse.save_npz(f'./data/test{i}.npz', test)"
   ]
  },
  {
   "cell_type": "code",
   "execution_count": null,
   "metadata": {},
   "outputs": [],
   "source": []
  }
 ],
 "metadata": {
  "kernelspec": {
   "display_name": "Python 3 (ipykernel)",
   "language": "python",
   "name": "python3"
  },
  "language_info": {
   "codemirror_mode": {
    "name": "ipython",
    "version": 3
   },
   "file_extension": ".py",
   "mimetype": "text/x-python",
   "name": "python",
   "nbconvert_exporter": "python",
   "pygments_lexer": "ipython3",
   "version": "3.8.5"
  }
 },
 "nbformat": 4,
 "nbformat_minor": 4
}
