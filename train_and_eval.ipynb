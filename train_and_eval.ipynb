{
 "cells": [
  {
   "cell_type": "code",
   "execution_count": 1,
   "metadata": {
    "tags": []
   },
   "outputs": [],
   "source": [
    "import numpy as np\n",
    "from tqdm import tqdm\n",
    "import matplotlib.pyplot as plt\n",
    "from mf import MatrixFactorization\n",
    "import scipy.sparse\n",
    "%matplotlib inline"
   ]
  },
  {
   "cell_type": "code",
   "execution_count": 2,
   "metadata": {},
   "outputs": [],
   "source": [
    "def recall_at_k(k: int, scores: np.ndarray, actual: np.ndarray):\n",
    "    ind = np.argsort(scores)[::-1][:k]\n",
    "    return actual[ind].sum() / actual.sum()\n",
    "\n",
    "def precision_at_k(k: int, scores: np.ndarray, actual: np.ndarray):\n",
    "    ind = np.argsort(scores)[::-1][:k]\n",
    "    return actual[ind].sum() / k\n",
    "\n",
    "def ndcg_at_k(k: int, scores: np.ndarray, actual: np.ndarray):\n",
    "    ind = np.argsort(scores)[:k:-1]\n",
    "    rel = actual[ind]\n",
    "    dcg = 0\n",
    "    for i in range(len(rel)):\n",
    "        dcg += rel[i] / np.log2(i + 1 + 1)\n",
    "    rec_set = np.sort(rel)[::-1]\n",
    "    idcg = 0\n",
    "    for i in range(len(rec_set)):\n",
    "        idcg += rec_set[i] / np.log2(i + 1 + 1)\n",
    "    return dcg / idcg\n"
   ]
  },
  {
   "cell_type": "code",
   "execution_count": 3,
   "metadata": {},
   "outputs": [],
   "source": [
    "x = scipy.sparse.load_npz('./data/train.npz')\n",
    "y = scipy.sparse.load_npz('./data/test.npz')"
   ]
  },
  {
   "cell_type": "code",
   "execution_count": 4,
   "metadata": {},
   "outputs": [
    {
     "data": {
      "application/vnd.jupyter.widget-view+json": {
       "model_id": "ab510aebb2f54ba7985d96d14590253b",
       "version_major": 2,
       "version_minor": 0
      },
      "text/plain": [
       "  0%|          | 0/500 [00:00<?, ?it/s]"
      ]
     },
     "metadata": {},
     "output_type": "display_data"
    },
    {
     "data": {
      "image/png": "[encoded data removed]",
      "text/plain": [
       "<Figure size 432x288 with 1 Axes>"
      ]
     },
     "metadata": {
      "needs_background": "light"
     },
     "output_type": "display_data"
    }
   ],
   "source": [
    "M = MatrixFactorization(K=100, iterations=500)\n",
    "e_train, e_test = M.train(x, y, leave_pbar=True)\n",
    "plt.plot(e_train, label=\"train\")\n",
    "plt.plot(e_test, label=\"test\")\n",
    "plt.xlabel(\"iteration\")\n",
    "plt.ylabel(\"SSE\")\n",
    "plt.legend()\n",
    "plt.show()"
   ]
  },
  {
   "cell_type": "code",
   "execution_count": 5,
   "metadata": {},
   "outputs": [
    {
     "name": "stderr",
     "output_type": "stream",
     "text": [
      "100%|███████████████████████████████████████████████████████████████████████████████████████████████████████████| 66726/66726 [20:30<00:00, 54.23it/s]\n"
     ]
    }
   ],
   "source": [
    "y_array = y.toarray()\n",
    "\n",
    "recall_scores = []\n",
    "ndcg_scores = []\n",
    "\n",
    "for i in tqdm(range(y.shape[0])):\n",
    "    scores = M.recommend(k=10, user=i)\n",
    "    recall_scores.append(recall_at_k(k=10, scores=scores, actual=y_array[i]))\n",
    "    # ndcg_scores.append(ndcg_at_k(k=10, scores=scores, actual=y[i]))"
   ]
  },
  {
   "cell_type": "code",
   "execution_count": 6,
   "metadata": {},
   "outputs": [
    {
     "data": {
      "image/png": "[encoded data removed]",
      "text/plain": [
       "<Figure size 576x324 with 1 Axes>"
      ]
     },
     "metadata": {
      "needs_background": "light"
     },
     "output_type": "display_data"
    }
   ],
   "source": [
    "plt.figure(figsize=(8, 4.5))\n",
    "plt.plot(recall_scores, label=\"recall\")\n",
    "plt.legend()\n",
    "plt.show()"
   ]
  },
  {
   "cell_type": "code",
   "execution_count": 7,
   "metadata": {},
   "outputs": [
    {
     "data": {
      "text/plain": [
       "5.135934641004798e-05"
      ]
     },
     "execution_count": 7,
     "metadata": {},
     "output_type": "execute_result"
    }
   ],
   "source": [
    "np.mean(recall_scores)"
   ]
  },
  {
   "cell_type": "code",
   "execution_count": null,
   "metadata": {},
   "outputs": [],
   "source": []
  }
 ],
 "metadata": {
  "kernelspec": {
   "display_name": "Python 3 (ipykernel)",
   "language": "python",
   "name": "python3"
  },
  "language_info": {
   "codemirror_mode": {
    "name": "ipython",
    "version": 3
   },
   "file_extension": ".py",
   "mimetype": "text/x-python",
   "name": "python",
   "nbconvert_exporter": "python",
   "pygments_lexer": "ipython3",
   "version": "3.8.5"
  }
 },
 "nbformat": 4,
 "nbformat_minor": 4
}