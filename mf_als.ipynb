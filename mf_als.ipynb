{
 "cells": [
  {
   "cell_type": "markdown",
   "id": "b68ece19-9031-4993-986b-cac2b406611d",
   "metadata": {},
   "source": [
    "# MatrixFactorization Alternating-Least-Squares"
   ]
  },
  {
   "cell_type": "code",
   "execution_count": 1,
   "id": "f9c81e00-fb9f-4ffb-9ed1-e1c1785c8154",
   "metadata": {},
   "outputs": [],
   "source": [
    "import utils\n",
    "import pickle\n",
    "import numpy as np\n",
    "# from tqdm.auto import tqdm\n",
    "from tqdm.notebook import trange, tqdm\n",
    "import scipy.sparse\n",
    "import matplotlib.pyplot as plt\n",
    "# from recommenders.mf import MatrixFactorization\n",
    "%matplotlib inline\n",
    "from numba import njit, prange"
   ]
  },
  {
   "cell_type": "code",
   "execution_count": 2,
   "id": "f6fcf7a4-e551-41e5-89c7-5a9a2d44e869",
   "metadata": {},
   "outputs": [],
   "source": [
    "cui = scipy.sparse.load_npz('./data/cui2.npz')\n",
    "# y = scipy.sparse.load_npz('./data/test.npz')\n",
    "# _y = y.tocsr()"
   ]
  },
  {
   "cell_type": "code",
   "execution_count": 3,
   "id": "591e7ee7-fcb7-4737-baf4-1cf14647a71d",
   "metadata": {},
   "outputs": [],
   "source": [
    "# cui.count_nonzero()"
   ]
  },
  {
   "cell_type": "code",
   "execution_count": 4,
   "id": "29272506-f62f-4f06-a529-759e02599f38",
   "metadata": {},
   "outputs": [],
   "source": [
    "# import pyximport\n",
    "# pyximport.install(reload_support=True)\n",
    "# import _als"
   ]
  },
  {
   "cell_type": "markdown",
   "id": "0c7a4d68-2f97-49eb-a863-38cd9d746d28",
   "metadata": {},
   "source": [
    "## Alternating Least Squares recommender"
   ]
  },
  {
   "cell_type": "code",
   "execution_count": 5,
   "id": "edcf9b3d-db63-48f9-92d1-ac33badee95a",
   "metadata": {},
   "outputs": [],
   "source": [
    "@njit\n",
    "def nonzeros(indptr, indices, data, row):\n",
    "    \"\"\"returns the non zeroes of a row in csr_matrix\"\"\"\n",
    "    start, stop = indptr[row], indptr[row + 1]\n",
    "    return indices[start:stop], data[start:stop]\n",
    "\n",
    "@njit    \n",
    "def user_linear_equation(Y, YtY, indptr, indices, data, u, regularization, n_factors):\n",
    "    # Xu = (YtCuY + regularization * I)^-1 (YtCuPu)\n",
    "    # YtCuY = YtY + Yt(Cu-I)Y\n",
    "    # YtCuY + regularization * I = YtY regularization * I + Yt(Cu-I)Y\n",
    "\n",
    "    # accumulate YtCuY + regularization*I in A\n",
    "    # A = YtCuY + regularization * I \n",
    "    # A = YtY regularization * I + Yt(Cu-I)Y\n",
    "    A = YtY + regularization * np.eye(n_factors)\n",
    "\n",
    "    # accumulate YtCuPu in b\n",
    "    b = np.zeros(n_factors)\n",
    "    \n",
    "    indices, data = nonzeros(indptr, indices, data, u)\n",
    "    for _i in range(indices.size):\n",
    "        i = indices[_i]\n",
    "        confidence = data[_i]\n",
    "        factor = Y[i]\n",
    "\n",
    "        if confidence > 0:\n",
    "            b += confidence * factor\n",
    "        else:\n",
    "            confidence *= -1\n",
    "\n",
    "        A += (confidence - 1) * np.outer(factor, factor)\n",
    "    return A, b\n",
    "\n",
    "@njit\n",
    "def user_factor(Y, YtY, indptr, indices, data, u, regularization, n_factors):\n",
    "    # Xu = (YtCuY + regularization * I)^-1 (YtCuPu)\n",
    "    A, b = user_linear_equation(Y, YtY, indptr, indices, data, u, regularization, n_factors)\n",
    "    return np.linalg.solve(A, b)\n",
    "\n",
    "@njit(parallel=True)\n",
    "def fast_least_squares(indptr, indices, data, X, Y, regularization):\n",
    "    \"\"\"For each user in Cui, calculate factors Xu for them using least squares on Y\"\"\"\n",
    "    # Xu = (YtCuY + regularization * I)^-1 (YtCuPu)\n",
    "    users, n_factors = X.shape\n",
    "    YtY = Y.T.dot(Y)\n",
    "    for u in prange(users):\n",
    "        X[u] = user_factor(Y, YtY, indptr, indices, data, u, regularization, n_factors)\n",
    "    \n",
    "def least_squares(Cui, X, Y, regularization):    \n",
    "    fast_least_squares(Cui.indptr, Cui.indices, Cui.data, X, Y, regularization)\n",
    "    \n",
    "@njit(parallel=True)\n",
    "def fast_calculate_loss(indptr, indices, data, X, Y, regularization):\n",
    "    users = X.shape[0]\n",
    "    items = Y.shape[0]\n",
    "    user_loss = np.zeros(users)\n",
    "    loss = 0\n",
    "    user_confidence = np.zeros(users)\n",
    "    total_confidence = 0\n",
    "    user_norm_entries = np.empty(users)\n",
    "    user_norm = 0\n",
    "    item_norm = 0\n",
    "    \n",
    "    YtY = np.dot(np.transpose(Y), Y)\n",
    "    # Calculate loss = SUM(u,i)[Cui(u,i)(Pui(u,i) - X(u)Y(i))^2] + regularization*(user_norm^2 + item_norm^2)\n",
    "    for u in prange(users):\n",
    "        # calculate r = YtY * Xu\n",
    "        r = np.dot(YtY, X[u])\n",
    "        for index in range(indptr[u], indptr[u + 1]):\n",
    "            i = indices[index]\n",
    "            confidence = data[index]\n",
    "            \n",
    "            if confidence > 0:\n",
    "                temp = -2 * confidence\n",
    "            else:\n",
    "                temp = 0\n",
    "                confidence = -1 * confidence\n",
    "                \n",
    "                # calculates (-2 * confidence) + (confidence - 1) * YiXu\n",
    "                temp = temp + (confidence - 1) * np.dot(Y[i], X[u])\n",
    "                # calculates r = [(-2 * confidence) + (confidence - 1) * YiXu]Yi + YtY*Xu\n",
    "                r = temp * Y[i] + r\n",
    "                user_confidence[u] += confidence\n",
    "                user_loss[u] += confidence\n",
    "                \n",
    "        # calculates [[(-2 * confidence) + (confidence - 1) * YiXu]Yi + YtY*Xu] * Xu\n",
    "        # = [(-2 * confidence) + (confidence - 1) * YiXu]YiXu + YtY*XuXu\n",
    "        # = -2*confidence*YiXu + confidence*YtYXuXu\n",
    "        user_loss[u] += np.dot(r, X[u])\n",
    "        user_norm_entries[u] = np.dot(X[u], X[u])\n",
    "    \n",
    "    for i in range(items):\n",
    "        item_norm += np.dot(Y[i], Y[i])\n",
    "    \n",
    "    user_norm = user_norm_entries.sum()\n",
    "    loss = user_loss.sum()\n",
    "    loss += regularization * (item_norm + user_norm)\n",
    "    total_confidence = user_confidence.sum()\n",
    "    return loss / (total_confidence + users * items - len(data))"
   ]
  },
  {
   "cell_type": "code",
   "execution_count": null,
   "id": "e233315f-6d96-48a2-817f-0bce2389589d",
   "metadata": {},
   "outputs": [],
   "source": [
    "seed = 1\n",
    "cui = scipy.sparse.load_npz(f'./data/train2_{seed}.npz')\n",
    "regularization = 0.01\n",
    "K = 50\n",
    "users, items = cui.shape\n",
    "random_state = np.random.RandomState(seed)\n",
    "X = random_state.rand(users, K).astype(np.float64) * 0.01\n",
    "Y = random_state.rand(items, K).astype(np.float64) * 0.01\n",
    "n_factors = K\n",
    "YtY = Y.T.dot(Y)\n",
    "u = 2"
   ]
  },
  {
   "cell_type": "code",
   "execution_count": null,
   "id": "0510d37d-12a2-4295-8a7b-4c4ccd527b8f",
   "metadata": {},
   "outputs": [],
   "source": [
    "%%time\n",
    "least_squares(cui, X, Y, regularization)"
   ]
  },
  {
   "cell_type": "code",
   "execution_count": null,
   "id": "f030cf5b-c4ab-4c63-89b7-dc1ca38a9a26",
   "metadata": {},
   "outputs": [],
   "source": [
    "# %%timeit\n",
    "# user_factor(Y, YtY, cui.indptr, cui.indices, cui.data, u, 0.01, K)"
   ]
  },
  {
   "cell_type": "code",
   "execution_count": 6,
   "id": "17d07714-0e60-443f-a879-4aca6e34e507",
   "metadata": {},
   "outputs": [],
   "source": [
    "class AlternatingLeastSquares:\n",
    "    \"\"\"\n",
    "    Alternating Least Squares\n",
    "    A Recommender based on the algorithms described in the paper 'Collaborative\n",
    "    Filtering for Implicit Feedback Datasets'    \n",
    "\n",
    "    Args:\n",
    "        K: number of latent factors\n",
    "        regularization: regularization parameter\n",
    "        iterations: number of training iterations to perform\n",
    "        seed: random seed\n",
    "      \n",
    "    Attribs:\n",
    "        item_factors (numpy.ndarray): Array of latent factors for each item in the training set\n",
    "        user_factors (numpy.ndarray): Array of latent factors for each user in the training set\n",
    "    \"\"\"\n",
    "    \n",
    "    \n",
    "    def __init__(self, K=100, regularization=0.01, iterations=10, seed=None):\n",
    "        self.K = K\n",
    "        self.regularization = regularization\n",
    "        self.iterations = iterations\n",
    "        self.seed = seed\n",
    "        self.random_state = np.random.RandomState(seed)\n",
    "        \n",
    "        # learned factors\n",
    "        self.item_factors = None\n",
    "        self.user_factors = None\n",
    "        \n",
    "        # cache of user, item norms (useful for calculating similar items)\n",
    "        self._user_norms = None\n",
    "        self._item_norms = None\n",
    "        \n",
    "        # cache for item factors squared\n",
    "        self._YtY = None\n",
    "        # cache for user factors squared\n",
    "        self._XtX = None\n",
    "        \n",
    "\n",
    "    @property\n",
    "    def YtY(self):\n",
    "        if self._YtY is None:\n",
    "            Y = self.item_factors\n",
    "            self._YtY = Y.T.dot(Y)\n",
    "        return self._YtY\n",
    "    \n",
    "    \n",
    "    @property\n",
    "    def XtX(self):\n",
    "        if self._XtX is None:\n",
    "            X = self.user_factors\n",
    "            self._XtX = X.T.dot(X)\n",
    "        return self._XtX\n",
    "    \n",
    "    \n",
    "    def calculate_loss(self, Cui, X, Y, regularization):\n",
    "        indptr = np.array(Cui.indptr)\n",
    "        indices = np.array(Cui.indices)\n",
    "        data = np.array(Cui.data)\n",
    "        return fast_calculate_loss(indptr, indices, data, X, Y, regularization)\n",
    "\n",
    "\n",
    "    def train(self, x, y, show_progress=True):\n",
    "        \"\"\"Factorizes the item_users matrix.\n",
    "        \n",
    "        The user-item matrix x defines which items are liked by which users (P_iu in the original paper), \n",
    "        as well as how much confidence we have that the user liked the item (C_iu).\n",
    "        The positive items (rating > 2.5) are defined with a positive C_ui, \n",
    "        the negative items (rating < 2.5 ) are defined with a negative C_ui.\n",
    "        Unseen items (rating 0) are defined with negative C_ui = -2.\n",
    "        items without a rating are implicitly defined with C_ui = -1 but are not stored in the matrix.\n",
    "\n",
    "        Args:\n",
    "            x (scipy.sparse.csr_matrix): \n",
    "                Matrix of confidences for the liked items. This matrix should be a csr_matrix where\n",
    "                the rows of the matrix are the user, the columns are the item that the user liked,\n",
    "                and the value is the confidence that the user liked the item.\n",
    "            seed (int): \n",
    "                The random seed to use\n",
    "            show_progress (bool):\n",
    "                Whether to show a progress bar during fitting\n",
    "        \n",
    "        Returns:\n",
    "            mse (List[int]): \n",
    "                The training mean square error of each training iteration\n",
    "        \"\"\"\n",
    "        if not isinstance(x, scipy.sparse.csr_matrix):\n",
    "            x = x.tocsr()\n",
    "        if not isinstance(y, scipy.sparse.csr_matrix):\n",
    "            y = y.tocsr()\n",
    "            \n",
    "        # Initialize the variables randomly if they haven't already been set\n",
    "        users, items = x.shape\n",
    "\n",
    "        if self.user_factors is None:\n",
    "            self.user_factors = self.random_state.rand(users, self.K).astype(np.float64) * 0.01\n",
    "        if self.item_factors is None:\n",
    "            self.item_factors = self.random_state.rand(items, self.K).astype(np.float64) * 0.01\n",
    "        \n",
    "        # invalidate cached norms and squared factors\n",
    "        self._item_norms = None\n",
    "        self._user_norms = None\n",
    "        self._YtY = None\n",
    "        self._XtX = None\n",
    "               \n",
    "        train_mse = []\n",
    "        test_mse = []\n",
    "        \n",
    "        with tqdm(total=self.iterations, disable=not show_progress, desc='train_iterations') as progress:\n",
    "            # alternate between learning the user_factors from the item_factors and vice-versa\n",
    "            for iteration in range(self.iterations):\n",
    "                with tqdm(total=1, disable=not show_progress, desc='least_squares_users') as progress_lsq_users:\n",
    "                    least_squares(\n",
    "                        x,\n",
    "                        self.user_factors,\n",
    "                        self.item_factors,\n",
    "                        self.regularization\n",
    "                    )\n",
    "                    progress_lsq_users.update(1)\n",
    "                \n",
    "                with tqdm(total=1, disable=not show_progress, desc='least_squares_items') as progress_lsq_items:\n",
    "                    least_squares(\n",
    "                        x,\n",
    "                        self.item_factors,\n",
    "                        self.user_factors,\n",
    "                        self.regularization\n",
    "                    )\n",
    "                    progress_lsq_items.update(1)\n",
    "\n",
    "                with tqdm(total=1, disable=not show_progress, desc='train_loss') as progress_train_loss:\n",
    "                    train_error = self.calculate_loss(\n",
    "                        x,\n",
    "                        self.user_factors,\n",
    "                        self.item_factors,\n",
    "                        self.regularization)\n",
    "                    progress_train_loss.update(1)\n",
    "\n",
    "                with tqdm(total=1, disable=not show_progress, desc='test_loss') as progress_test_loss:\n",
    "                    test_error = self.calculate_loss(\n",
    "                        y,\n",
    "                        self.user_factors,\n",
    "                        self.item_factors,\n",
    "                        self.regularization)\n",
    "                    progress_test_loss.update(1)\n",
    "   \n",
    "                train_mse.append(train_error)\n",
    "                test_mse.append(test_error)\n",
    "                progress.update(1)\n",
    "                progress.set_postfix(test_error=test_error, train_error=train_error)\n",
    "        \n",
    "        return train_mse, test_mse\n",
    "\n",
    "\n",
    "    def recommend(self, user, k, oldrecs):\n",
    "        user_factors = self.user_factors[user]\n",
    "        scores = self.item_factors.dot(user_factors)\n",
    "        # sort items in descending order by their score\n",
    "        ind = np.argsort(scores)[::-1]\n",
    "        # remove consumed items, i.e. items from training set\n",
    "        consumed = np.array(oldrecs.getrow(user).nonzero()[1])\n",
    "        ind = np.setdiff1d(ind, consumed, assume_unique=True)\n",
    "        # take top-k\n",
    "        return ind[:k]\n",
    "    \n",
    " \n",
    "    def save(self, path):\n",
    "        with open(path, 'wb') as f:\n",
    "            pickle.dump(self, f)\n",
    "\n",
    "\n",
    "    def load(self, path):\n",
    "        with open(path, 'rb') as f:\n",
    "            m = pickle.load(f)\n",
    "            self.K = m.K\n",
    "            self.regularization = m.regularization\n",
    "            self.iterations = m.iterations\n",
    "            # learned factors\n",
    "            self.item_factors = m.item_factors\n",
    "            self.user_factors = m.user_factors\n",
    "            # cache of user, item norms (useful for calculating similar items)\n",
    "            self._user_norms = m._user_norms\n",
    "            self._item_norms = m._item_norms\n",
    "            # cache for item factors squared\n",
    "            self._YtY = m._YtY\n",
    "            # cache for user factors squared\n",
    "            self._XtX = m._XtX"
   ]
  },
  {
   "cell_type": "markdown",
   "id": "0217bc77-49df-4c6b-8189-9b857d75bfe0",
   "metadata": {},
   "source": [
    "## Train-test split\n",
    "\n",
    "- For validation we do 5 random 80%/20% train-test splits\n",
    "- for each of the 5 random splits we use agreed seeds, i.e. {1,2,3,4,5}\n",
    "- For each train-test pair:\n",
    "  - Perform hyperparameter optimisation on the train part (via cross-validation) \n",
    "  - Evaluate on the test part.\n",
    " - This gives us 5 (recall@10, ndcg@10) tuples for which we compute the mean and stdev."
   ]
  },
  {
   "cell_type": "code",
   "execution_count": null,
   "id": "d08d40f8-f142-48c6-9d03-1bc8e883f220",
   "metadata": {},
   "outputs": [],
   "source": [
    "def create_train_test_split(cui, test_size=0.20, seed=1):\n",
    "    m = cui.tolil()\n",
    "    train_rows = np.empty_like(m.rows)\n",
    "    test_rows = np.empty_like(m.rows)\n",
    "    train_data = np.empty_like(m.rows)\n",
    "    test_data = np.empty_like(m.rows)\n",
    "    random_state = np.random.RandomState(seed)\n",
    "    for row in trange(m.shape[0], desc='train_test_split_users'):\n",
    "        columns = np.array(m.rows[row])\n",
    "        nr_cols = columns.shape[0]\n",
    "        all_indices = np.arange(nr_cols)\n",
    "        test_indices = random_state.choice(all_indices, size=int(test_size * nr_cols), replace=False)\n",
    "        train_indices = np.setdiff1d(all_indices, test_indices, assume_unique=True)\n",
    "        train_rows[row] = np.array(m.rows[row])[train_indices].tolist()\n",
    "        test_rows[row] = np.array(m.rows[row])[test_indices].tolist()\n",
    "        train_data[row] = np.array(m.data[row])[train_indices].tolist()\n",
    "        test_data[row] = np.array(m.data[row])[test_indices].tolist()\n",
    "    train_lil = m.copy()\n",
    "    train_lil.rows = train_rows\n",
    "    train_lil.data = train_data\n",
    "    test_lil = m.copy()\n",
    "    test_lil.rows = test_rows\n",
    "    test_lil.data = test_data\n",
    "    return train_lil.tocsr(), test_lil.tocsr()"
   ]
  },
  {
   "cell_type": "code",
   "execution_count": null,
   "id": "7c34d1c1-a057-409d-975d-b90dfeff3e15",
   "metadata": {},
   "outputs": [],
   "source": [
    "import numpy as np\n",
    "from sklearn.model_selection import train_test_split\n",
    "\n",
    "outer_loops = 5 # nr. of random train-test splits\n",
    "traintest_list = []\n",
    "for i in tqdm(range(outer_loops), desc='train_test_splits'):\n",
    "    seed = i + 1\n",
    "    # cui is of type scipy.sparse.coo_matrix\n",
    "    # x and y are of type scipy.sparse.csr_matrix\n",
    "    train, test = create_train_test_split(cui, test_size=0.20, seed=seed)\n",
    "    scipy.sparse.save_npz(f'./data/train2_{seed}.npz', train)\n",
    "    scipy.sparse.save_npz(f'./data/test2_{seed}.npz', test)\n",
    "    traintest_list.append((train, test, seed))\n"
   ]
  },
  {
   "cell_type": "markdown",
   "id": "dc29e4a1-7bc0-4cfb-8730-b67c40bb8fb7",
   "metadata": {},
   "source": [
    "## Training"
   ]
  },
  {
   "cell_type": "code",
   "execution_count": 7,
   "id": "64a14911-b2d7-45a5-8447-13e343d9f092",
   "metadata": {},
   "outputs": [
    {
     "data": {
      "application/vnd.jupyter.widget-view+json": {
       "model_id": "16504833e2a2481b97f65dc19ba08c91",
       "version_major": 2,
       "version_minor": 0
      },
      "text/plain": [
       "train_loops:   0%|          | 0/1 [00:00<?, ?it/s]"
      ]
     },
     "metadata": {},
     "output_type": "display_data"
    },
    {
     "data": {
      "application/vnd.jupyter.widget-view+json": {
       "model_id": "26a27eab53924e208f38447ae35c6998",
       "version_major": 2,
       "version_minor": 0
      },
      "text/plain": [
       "train_iterations:   0%|          | 0/10 [00:00<?, ?it/s]"
      ]
     },
     "metadata": {},
     "output_type": "display_data"
    },
    {
     "data": {
      "application/vnd.jupyter.widget-view+json": {
       "model_id": "065807ee86224ae0a875ba84a36ef1dd",
       "version_major": 2,
       "version_minor": 0
      },
      "text/plain": [
       "least_squares_users:   0%|          | 0/1 [00:00<?, ?it/s]"
      ]
     },
     "metadata": {},
     "output_type": "display_data"
    },
    {
     "data": {
      "application/vnd.jupyter.widget-view+json": {
       "model_id": "9f0980660dec40428bc4b30bab5b4eb6",
       "version_major": 2,
       "version_minor": 0
      },
      "text/plain": [
       "least_squares_items:   0%|          | 0/1 [00:00<?, ?it/s]"
      ]
     },
     "metadata": {},
     "output_type": "display_data"
    },
    {
     "data": {
      "application/vnd.jupyter.widget-view+json": {
       "model_id": "10f180c08dc14ba7bf90f9720ab8e5c7",
       "version_major": 2,
       "version_minor": 0
      },
      "text/plain": [
       "train_loss:   0%|          | 0/1 [00:00<?, ?it/s]"
      ]
     },
     "metadata": {},
     "output_type": "display_data"
    },
    {
     "data": {
      "application/vnd.jupyter.widget-view+json": {
       "model_id": "dc1ea43b23834ad38c5a6006476f9fbb",
       "version_major": 2,
       "version_minor": 0
      },
      "text/plain": [
       "test_loss:   0%|          | 0/1 [00:00<?, ?it/s]"
      ]
     },
     "metadata": {},
     "output_type": "display_data"
    },
    {
     "data": {
      "application/vnd.jupyter.widget-view+json": {
       "model_id": "57a3e176d80946cc9ec467646944eb07",
       "version_major": 2,
       "version_minor": 0
      },
      "text/plain": [
       "least_squares_users:   0%|          | 0/1 [00:00<?, ?it/s]"
      ]
     },
     "metadata": {},
     "output_type": "display_data"
    },
    {
     "data": {
      "application/vnd.jupyter.widget-view+json": {
       "model_id": "f912e049fd3649e9a35be6ba36db145b",
       "version_major": 2,
       "version_minor": 0
      },
      "text/plain": [
       "least_squares_items:   0%|          | 0/1 [00:00<?, ?it/s]"
      ]
     },
     "metadata": {},
     "output_type": "display_data"
    },
    {
     "data": {
      "application/vnd.jupyter.widget-view+json": {
       "model_id": "d1b101b3d5244d2da8e00aa4a6159cbb",
       "version_major": 2,
       "version_minor": 0
      },
      "text/plain": [
       "train_loss:   0%|          | 0/1 [00:00<?, ?it/s]"
      ]
     },
     "metadata": {},
     "output_type": "display_data"
    },
    {
     "data": {
      "application/vnd.jupyter.widget-view+json": {
       "model_id": "dfffab84ee6342c48e6d8fedf864ea0b",
       "version_major": 2,
       "version_minor": 0
      },
      "text/plain": [
       "test_loss:   0%|          | 0/1 [00:00<?, ?it/s]"
      ]
     },
     "metadata": {},
     "output_type": "display_data"
    },
    {
     "data": {
      "application/vnd.jupyter.widget-view+json": {
       "model_id": "436ace500e684cfe9a1c5bedfa6d848d",
       "version_major": 2,
       "version_minor": 0
      },
      "text/plain": [
       "least_squares_users:   0%|          | 0/1 [00:00<?, ?it/s]"
      ]
     },
     "metadata": {},
     "output_type": "display_data"
    },
    {
     "data": {
      "application/vnd.jupyter.widget-view+json": {
       "model_id": "85a2b6347f114b08b6ceda37de7a8d98",
       "version_major": 2,
       "version_minor": 0
      },
      "text/plain": [
       "least_squares_items:   0%|          | 0/1 [00:00<?, ?it/s]"
      ]
     },
     "metadata": {},
     "output_type": "display_data"
    },
    {
     "data": {
      "application/vnd.jupyter.widget-view+json": {
       "model_id": "a12afbfce0024139890f082ebb01b432",
       "version_major": 2,
       "version_minor": 0
      },
      "text/plain": [
       "train_loss:   0%|          | 0/1 [00:00<?, ?it/s]"
      ]
     },
     "metadata": {},
     "output_type": "display_data"
    },
    {
     "data": {
      "application/vnd.jupyter.widget-view+json": {
       "model_id": "2980cfdf8ede41beb7dd87d9569edb20",
       "version_major": 2,
       "version_minor": 0
      },
      "text/plain": [
       "test_loss:   0%|          | 0/1 [00:00<?, ?it/s]"
      ]
     },
     "metadata": {},
     "output_type": "display_data"
    },
    {
     "data": {
      "application/vnd.jupyter.widget-view+json": {
       "model_id": "bff5974343714336ad68dab35752af99",
       "version_major": 2,
       "version_minor": 0
      },
      "text/plain": [
       "least_squares_users:   0%|          | 0/1 [00:00<?, ?it/s]"
      ]
     },
     "metadata": {},
     "output_type": "display_data"
    },
    {
     "data": {
      "application/vnd.jupyter.widget-view+json": {
       "model_id": "d55b03bafe8644a59a85f415827b7e62",
       "version_major": 2,
       "version_minor": 0
      },
      "text/plain": [
       "least_squares_items:   0%|          | 0/1 [00:00<?, ?it/s]"
      ]
     },
     "metadata": {},
     "output_type": "display_data"
    },
    {
     "data": {
      "application/vnd.jupyter.widget-view+json": {
       "model_id": "243bebc6e2874e528dd9f0e5f4ac0a68",
       "version_major": 2,
       "version_minor": 0
      },
      "text/plain": [
       "train_loss:   0%|          | 0/1 [00:00<?, ?it/s]"
      ]
     },
     "metadata": {},
     "output_type": "display_data"
    },
    {
     "data": {
      "application/vnd.jupyter.widget-view+json": {
       "model_id": "2f0aa154800c4b21a7986051a26eae29",
       "version_major": 2,
       "version_minor": 0
      },
      "text/plain": [
       "test_loss:   0%|          | 0/1 [00:00<?, ?it/s]"
      ]
     },
     "metadata": {},
     "output_type": "display_data"
    },
    {
     "data": {
      "application/vnd.jupyter.widget-view+json": {
       "model_id": "e9933cc2cdd143469469962d02495f2f",
       "version_major": 2,
       "version_minor": 0
      },
      "text/plain": [
       "least_squares_users:   0%|          | 0/1 [00:00<?, ?it/s]"
      ]
     },
     "metadata": {},
     "output_type": "display_data"
    },
    {
     "data": {
      "application/vnd.jupyter.widget-view+json": {
       "model_id": "5598363a072a4762a7e1564c3a9e8cf7",
       "version_major": 2,
       "version_minor": 0
      },
      "text/plain": [
       "least_squares_items:   0%|          | 0/1 [00:00<?, ?it/s]"
      ]
     },
     "metadata": {},
     "output_type": "display_data"
    },
    {
     "data": {
      "application/vnd.jupyter.widget-view+json": {
       "model_id": "8cd0ea7ef0ef494b9818e915a9fef061",
       "version_major": 2,
       "version_minor": 0
      },
      "text/plain": [
       "train_loss:   0%|          | 0/1 [00:00<?, ?it/s]"
      ]
     },
     "metadata": {},
     "output_type": "display_data"
    },
    {
     "data": {
      "application/vnd.jupyter.widget-view+json": {
       "model_id": "a550fecdb2dc46e299023b4de5af6eeb",
       "version_major": 2,
       "version_minor": 0
      },
      "text/plain": [
       "test_loss:   0%|          | 0/1 [00:00<?, ?it/s]"
      ]
     },
     "metadata": {},
     "output_type": "display_data"
    },
    {
     "data": {
      "application/vnd.jupyter.widget-view+json": {
       "model_id": "e2f4ac2f74794d29bf88b347b7367553",
       "version_major": 2,
       "version_minor": 0
      },
      "text/plain": [
       "least_squares_users:   0%|          | 0/1 [00:00<?, ?it/s]"
      ]
     },
     "metadata": {},
     "output_type": "display_data"
    },
    {
     "data": {
      "application/vnd.jupyter.widget-view+json": {
       "model_id": "0289d8cce07941549bff1f82ea91fa90",
       "version_major": 2,
       "version_minor": 0
      },
      "text/plain": [
       "least_squares_items:   0%|          | 0/1 [00:00<?, ?it/s]"
      ]
     },
     "metadata": {},
     "output_type": "display_data"
    },
    {
     "data": {
      "application/vnd.jupyter.widget-view+json": {
       "model_id": "9322635ac0ce449e9161bfb0013e41d3",
       "version_major": 2,
       "version_minor": 0
      },
      "text/plain": [
       "train_loss:   0%|          | 0/1 [00:00<?, ?it/s]"
      ]
     },
     "metadata": {},
     "output_type": "display_data"
    },
    {
     "data": {
      "application/vnd.jupyter.widget-view+json": {
       "model_id": "415e5c8d74f444dd833b419b7b5a2a07",
       "version_major": 2,
       "version_minor": 0
      },
      "text/plain": [
       "test_loss:   0%|          | 0/1 [00:00<?, ?it/s]"
      ]
     },
     "metadata": {},
     "output_type": "display_data"
    },
    {
     "data": {
      "application/vnd.jupyter.widget-view+json": {
       "model_id": "93dd9c31690949ae8b18c1a2503ba169",
       "version_major": 2,
       "version_minor": 0
      },
      "text/plain": [
       "least_squares_users:   0%|          | 0/1 [00:00<?, ?it/s]"
      ]
     },
     "metadata": {},
     "output_type": "display_data"
    },
    {
     "data": {
      "application/vnd.jupyter.widget-view+json": {
       "model_id": "f1260b6e7cea456ab4e70db49f935793",
       "version_major": 2,
       "version_minor": 0
      },
      "text/plain": [
       "least_squares_items:   0%|          | 0/1 [00:00<?, ?it/s]"
      ]
     },
     "metadata": {},
     "output_type": "display_data"
    },
    {
     "data": {
      "application/vnd.jupyter.widget-view+json": {
       "model_id": "c8d6c526c69a48fcbe23e2872d4f69ea",
       "version_major": 2,
       "version_minor": 0
      },
      "text/plain": [
       "train_loss:   0%|          | 0/1 [00:00<?, ?it/s]"
      ]
     },
     "metadata": {},
     "output_type": "display_data"
    },
    {
     "data": {
      "application/vnd.jupyter.widget-view+json": {
       "model_id": "7646beaa7a824458a6acf22fa670ac42",
       "version_major": 2,
       "version_minor": 0
      },
      "text/plain": [
       "test_loss:   0%|          | 0/1 [00:00<?, ?it/s]"
      ]
     },
     "metadata": {},
     "output_type": "display_data"
    },
    {
     "data": {
      "application/vnd.jupyter.widget-view+json": {
       "model_id": "27ea49bbf1d3443eb0b0e41cfdc7bee8",
       "version_major": 2,
       "version_minor": 0
      },
      "text/plain": [
       "least_squares_users:   0%|          | 0/1 [00:00<?, ?it/s]"
      ]
     },
     "metadata": {},
     "output_type": "display_data"
    },
    {
     "data": {
      "application/vnd.jupyter.widget-view+json": {
       "model_id": "6d3e006e0d8243d5bee7c249a8264e67",
       "version_major": 2,
       "version_minor": 0
      },
      "text/plain": [
       "least_squares_items:   0%|          | 0/1 [00:00<?, ?it/s]"
      ]
     },
     "metadata": {},
     "output_type": "display_data"
    },
    {
     "data": {
      "application/vnd.jupyter.widget-view+json": {
       "model_id": "9f89515654fa4d73844fe38cccd57f5c",
       "version_major": 2,
       "version_minor": 0
      },
      "text/plain": [
       "train_loss:   0%|          | 0/1 [00:00<?, ?it/s]"
      ]
     },
     "metadata": {},
     "output_type": "display_data"
    },
    {
     "data": {
      "application/vnd.jupyter.widget-view+json": {
       "model_id": "e5a03c66537a42bb9be5b6ae1fc4eef8",
       "version_major": 2,
       "version_minor": 0
      },
      "text/plain": [
       "test_loss:   0%|          | 0/1 [00:00<?, ?it/s]"
      ]
     },
     "metadata": {},
     "output_type": "display_data"
    },
    {
     "data": {
      "application/vnd.jupyter.widget-view+json": {
       "model_id": "b0c15bdae6754733aac6460c5c4bce69",
       "version_major": 2,
       "version_minor": 0
      },
      "text/plain": [
       "least_squares_users:   0%|          | 0/1 [00:00<?, ?it/s]"
      ]
     },
     "metadata": {},
     "output_type": "display_data"
    },
    {
     "data": {
      "application/vnd.jupyter.widget-view+json": {
       "model_id": "6cb22adf3ed448ef813dfd3e0f6a9f0f",
       "version_major": 2,
       "version_minor": 0
      },
      "text/plain": [
       "least_squares_items:   0%|          | 0/1 [00:00<?, ?it/s]"
      ]
     },
     "metadata": {},
     "output_type": "display_data"
    },
    {
     "data": {
      "application/vnd.jupyter.widget-view+json": {
       "model_id": "7121feee241f432cac868f2a79b72fc0",
       "version_major": 2,
       "version_minor": 0
      },
      "text/plain": [
       "train_loss:   0%|          | 0/1 [00:00<?, ?it/s]"
      ]
     },
     "metadata": {},
     "output_type": "display_data"
    },
    {
     "data": {
      "application/vnd.jupyter.widget-view+json": {
       "model_id": "ca63de42c4f545d1b14f2cbe186b0f91",
       "version_major": 2,
       "version_minor": 0
      },
      "text/plain": [
       "test_loss:   0%|          | 0/1 [00:00<?, ?it/s]"
      ]
     },
     "metadata": {},
     "output_type": "display_data"
    },
    {
     "data": {
      "application/vnd.jupyter.widget-view+json": {
       "model_id": "5da1adc043bc4bb29b4322f21656a0ba",
       "version_major": 2,
       "version_minor": 0
      },
      "text/plain": [
       "least_squares_users:   0%|          | 0/1 [00:00<?, ?it/s]"
      ]
     },
     "metadata": {},
     "output_type": "display_data"
    },
    {
     "data": {
      "application/vnd.jupyter.widget-view+json": {
       "model_id": "a80898960575411f85c4f675a830b74b",
       "version_major": 2,
       "version_minor": 0
      },
      "text/plain": [
       "least_squares_items:   0%|          | 0/1 [00:00<?, ?it/s]"
      ]
     },
     "metadata": {},
     "output_type": "display_data"
    },
    {
     "data": {
      "application/vnd.jupyter.widget-view+json": {
       "model_id": "c6bf41bb08f942f9b24918eb4164daba",
       "version_major": 2,
       "version_minor": 0
      },
      "text/plain": [
       "train_loss:   0%|          | 0/1 [00:00<?, ?it/s]"
      ]
     },
     "metadata": {},
     "output_type": "display_data"
    },
    {
     "data": {
      "application/vnd.jupyter.widget-view+json": {
       "model_id": "90780652e2da4165bb2e300f11788370",
       "version_major": 2,
       "version_minor": 0
      },
      "text/plain": [
       "test_loss:   0%|          | 0/1 [00:00<?, ?it/s]"
      ]
     },
     "metadata": {},
     "output_type": "display_data"
    }
   ],
   "source": [
    "outer_loops = 1 #5 # nr. of random train-test splits\n",
    "recall_list = []\n",
    "ndgc_list = []\n",
    "e_train_list = []\n",
    "e_test_list = []\n",
    "for i in trange(outer_loops, desc='train_loops'):\n",
    "    seed = i + 1\n",
    "    x = scipy.sparse.load_npz(f'./data/train_{seed}.npz')\n",
    "    y = scipy.sparse.load_npz(f'./data/test_{seed}.npz')\n",
    "    # x and y are of type scipy.sparse.csr_matrix\n",
    "    recommender = AlternatingLeastSquares(K=50, regularization=0.01, iterations=10, seed=seed)\n",
    "    e_train, e_test = recommender.train(x, y)\n",
    "    e_train_list.append(e_train)\n",
    "    e_test_list.append(e_test)"
   ]
  },
  {
   "cell_type": "code",
   "execution_count": 8,
   "id": "ece6eee2-d699-41e6-be47-636f20f93dfe",
   "metadata": {},
   "outputs": [
    {
     "data": {
      "image/png": "[encoded data removed]",
      "text/plain": [
       "<Figure size 432x288 with 1 Axes>"
      ]
     },
     "metadata": {
      "needs_background": "light"
     },
     "output_type": "display_data"
    }
   ],
   "source": [
    "e_train, e_test = e_train_list[0], e_test_list[0]\n",
    "plt.plot(e_train, label=\"train\")\n",
    "plt.plot(e_test, label=\"test\")\n",
    "plt.xlabel(\"iteration\")\n",
    "plt.ylabel(\"MSE\")\n",
    "plt.legend()\n",
    "plt.show()\n",
    "recommender.save(\"checkpoint.model\")"
   ]
  },
  {
   "cell_type": "code",
   "execution_count": 11,
   "id": "e7ebc670-b772-4a44-8e14-1843c353f911",
   "metadata": {},
   "outputs": [
    {
     "data": {
      "text/plain": [
       "[[0.0015775385992791594,\n",
       "  0.0015859511025935185,\n",
       "  0.0016165437393339502,\n",
       "  0.0016423961278740512,\n",
       "  0.0016736778771197069,\n",
       "  0.0017188224515854891,\n",
       "  0.0017101753300677908,\n",
       "  0.0017559934285112468,\n",
       "  0.0017488922281912985,\n",
       "  0.0017539011944842635]]"
      ]
     },
     "execution_count": 11,
     "metadata": {},
     "output_type": "execute_result"
    }
   ],
   "source": [
    "e_train_list"
   ]
  },
  {
   "cell_type": "markdown",
   "id": "44075c58-884c-42d0-8094-7152f8a9fbd4",
   "metadata": {},
   "source": [
    "## Confidence based recommendations"
   ]
  },
  {
   "cell_type": "code",
   "execution_count": null,
   "id": "4afb3e82-05a0-4048-9305-c1ec64554be6",
   "metadata": {},
   "outputs": [],
   "source": [
    "seed = 1\n",
    "x = scipy.sparse.load_npz(f'./data/train2_{seed}.npz')\n",
    "y = scipy.sparse.load_npz(f'./data/test2_{seed}.npz')"
   ]
  },
  {
   "cell_type": "code",
   "execution_count": null,
   "id": "45c0a691-14bc-48f7-9d0d-10b03902e851",
   "metadata": {},
   "outputs": [],
   "source": [
    "precision_scores = []\n",
    "recall_scores = []\n",
    "ndcg_scores = []\n",
    "K = 10\n",
    "for u in trange(y.shape[0], desc='recommend'):\n",
    "    actual = y[u]\n",
    "    # if we don't have any test items, skip this user\n",
    "    if actual.count_nonzero() == 0:\n",
    "        continue\n",
    "    topk = recommender.recommend(user=i, k=K, oldrecs=x)\n",
    "    precision_scores.append(utils.precision_at_k(topk, actual))\n",
    "    recall_scores.append(utils.recall_at_k(topk, actual))\n",
    "    ndcg_scores.append(utils.ndcg_at_k(topk, actual))\n",
    "print(f'AVG. PRECISION@{K}: ', np.mean(precision_scores))\n",
    "print(f'AVG. RECALL@{K}: ', np.mean(recall_scores))\n",
    "print(f'AVG. NDCG@{K}: ', np.mean(ndcg_scores))"
   ]
  },
  {
   "cell_type": "code",
   "execution_count": null,
   "id": "7fe131b1-cd96-4fc6-8e69-4c061de42871",
   "metadata": {},
   "outputs": [],
   "source": [
    "actual.nonzero()"
   ]
  },
  {
   "cell_type": "code",
   "execution_count": null,
   "id": "450dda33-37b3-4c77-a741-13402d0dc64b",
   "metadata": {},
   "outputs": [],
   "source": [
    "topk"
   ]
  },
  {
   "cell_type": "code",
   "execution_count": null,
   "id": "c3988cdc-7e05-49e0-98ee-da8a722f266f",
   "metadata": {},
   "outputs": [],
   "source": [
    "actual[:, topk].nonzero()"
   ]
  },
  {
   "cell_type": "code",
   "execution_count": null,
   "id": "c9f4baf1-6651-4419-9ed3-0c7483b6085e",
   "metadata": {},
   "outputs": [],
   "source": [
    "len(recall_scores)"
   ]
  },
  {
   "cell_type": "code",
   "execution_count": null,
   "id": "23c77395-0696-4472-9f35-1dd77b497842",
   "metadata": {},
   "outputs": [],
   "source": []
  }
 ],
 "metadata": {
  "kernelspec": {
   "display_name": "venv-project-ai",
   "language": "python",
   "name": "venv-project-ai"
  },
  "language_info": {
   "codemirror_mode": {
    "name": "ipython",
    "version": 3
   },
   "file_extension": ".py",
   "mimetype": "text/x-python",
   "name": "python",
   "nbconvert_exporter": "python",
   "pygments_lexer": "ipython3",
   "version": "3.9.6"
  }
 },
 "nbformat": 4,
 "nbformat_minor": 5
}
