{
 "cells": [
  {
   "cell_type": "code",
   "execution_count": 6,
   "id": "119d7056-cf53-4165-ad71-f1512f6fc1fa",
   "metadata": {},
   "outputs": [],
   "source": [
    "import numpy as np\n",
    "from tqdm.auto import tqdm\n",
    "import scipy.sparse as sps\n",
    "import matplotlib.pyplot as plt\n",
    "%matplotlib inline"
   ]
  },
  {
   "cell_type": "code",
   "execution_count": 7,
   "id": "2c018739-7235-4577-a5bd-318362b44992",
   "metadata": {},
   "outputs": [],
   "source": [
    "from numba import njit, prange"
   ]
  },
  {
   "cell_type": "code",
   "execution_count": 8,
   "id": "c6f8824b-6aa6-4287-96e4-c4c62b2c7bbb",
   "metadata": {},
   "outputs": [],
   "source": [
    "from recommenders.mfi.utils import build_conf_mat, build_pref_mat"
   ]
  },
  {
   "cell_type": "code",
   "execution_count": 9,
   "id": "072743b2-c76d-4fe4-bb2b-0ebba039f50b",
   "metadata": {},
   "outputs": [],
   "source": [
    "train = sps.load_npz('./data/train1.npz')\n",
    "test = sps.load_npz('./data/test1.npz')"
   ]
  },
  {
   "cell_type": "code",
   "execution_count": 10,
   "id": "986e3a45-2f1a-4d5f-b52e-b62ccb659006",
   "metadata": {},
   "outputs": [],
   "source": [
    "n_users, n_items = train.shape\n",
    "Cui_sparse = build_conf_mat(train)\n",
    "Pui_sparse = build_pref_mat(train)"
   ]
  },
  {
   "cell_type": "code",
   "execution_count": 11,
   "id": "37488a90-e154-46ee-a07a-69b297c6ca88",
   "metadata": {},
   "outputs": [
    {
     "name": "stdout",
     "output_type": "stream",
     "text": [
      "148438 89276\n"
     ]
    }
   ],
   "source": [
    "print(n_users, n_items)"
   ]
  },
  {
   "cell_type": "code",
   "execution_count": 12,
   "id": "3b8de6c8-b79f-4a3e-8fe1-2a77f00dbf66",
   "metadata": {},
   "outputs": [],
   "source": [
    "K = 10"
   ]
  },
  {
   "cell_type": "code",
   "execution_count": 13,
   "id": "95b682b5-0f2a-483b-816b-c920c8e8a4f4",
   "metadata": {},
   "outputs": [],
   "source": [
    "user_factors = np.random.normal(scale=1./K, size=(n_users, K))\n",
    "item_factors = np.random.normal(scale=1./K, size=(n_items, K))"
   ]
  },
  {
   "cell_type": "code",
   "execution_count": 14,
   "id": "9d891313-ddb2-4779-a0f8-3dc75909ad75",
   "metadata": {},
   "outputs": [],
   "source": [
    "# can be used as assertion\n",
    "@njit\n",
    "def is_sorted(a):\n",
    "    for i in range(a.size-1):\n",
    "        if a[i+1] < a[i] :\n",
    "            return False\n",
    "    return True"
   ]
  },
  {
   "cell_type": "code",
   "execution_count": 15,
   "id": "612fecfc-b4fb-4483-9549-20ad47b7b61d",
   "metadata": {},
   "outputs": [
    {
     "data": {
      "text/plain": [
       "True"
      ]
     },
     "execution_count": 15,
     "metadata": {},
     "output_type": "execute_result"
    }
   ],
   "source": [
    "is_sorted(Cui_sparse.row)"
   ]
  },
  {
   "cell_type": "code",
   "execution_count": 16,
   "id": "fb6a5ab4-1aeb-4a10-a391-48aa009bc0d6",
   "metadata": {},
   "outputs": [],
   "source": [
    "@njit\n",
    "def nonzeros(u, rows, cols, vals):\n",
    "    i = np.searchsorted(rows, u, side='left')\n",
    "    j = np.searchsorted(rows, u, side='right')\n",
    "    return cols[i:j], vals[i:j]"
   ]
  },
  {
   "cell_type": "code",
   "execution_count": 18,
   "id": "80942d4c-578e-4958-bd2e-354a16a2fd08",
   "metadata": {},
   "outputs": [
    {
     "name": "stdout",
     "output_type": "stream",
     "text": [
      "1.44 µs ± 4.78 ns per loop (mean ± std. dev. of 7 runs, 1000000 loops each)\n"
     ]
    }
   ],
   "source": [
    "%%timeit\n",
    "nonzeros(2, Cui_sparse.row, Cui_sparse.col, Cui_sparse.data)"
   ]
  },
  {
   "cell_type": "code",
   "execution_count": 23,
   "id": "9908abfd-c19e-4408-a34a-94a1de8b5058",
   "metadata": {},
   "outputs": [],
   "source": [
    "@njit\n",
    "def nonzeros_csr(indptr, indices, data, row):\n",
    "    \"\"\"returns the non zeroes of a row in csr_matrix\"\"\"\n",
    "    start, stop = indptr[row], indptr[row + 1]\n",
    "    for i in range(start, stop):\n",
    "        yield indices[i], data[i]\n",
    "    # return indices[start:stop], data[start:stop]"
   ]
  },
  {
   "cell_type": "code",
   "execution_count": 20,
   "id": "d34db1db-ae29-4299-b80b-939191618ee6",
   "metadata": {},
   "outputs": [],
   "source": [
    "Cui_csr = Cui_sparse.tocsr()"
   ]
  },
  {
   "cell_type": "code",
   "execution_count": 24,
   "id": "32b7b211-0088-4353-b698-af81e99044be",
   "metadata": {},
   "outputs": [
    {
     "name": "stdout",
     "output_type": "stream",
     "text": [
      "1.82 µs ± 6.81 ns per loop (mean ± std. dev. of 7 runs, 1000000 loops each)\n"
     ]
    }
   ],
   "source": [
    "%%timeit\n",
    "for t in nonzeros_csr(Cui_csr.indptr, Cui_csr.indices, Cui_csr.data, 2):\n",
    "    pass"
   ]
  },
  {
   "cell_type": "code",
   "execution_count": 15,
   "id": "0ef68c01-5b3b-4b48-80e1-b794ab8ca4a7",
   "metadata": {},
   "outputs": [],
   "source": [
    "@njit\n",
    "def build_lin_equation(Y, YtY, u, Cui_rows, Cui_cols, Cui_vals, regularization, n_factors):\n",
    "    A = YtY + regularization * np.eye(n_factors)\n",
    "    b = np.zeros(n_factors)\n",
    "    \n",
    "    nz_cols, nz_vals = nonzeros(u, Cui_rows, Cui_cols, Cui_vals)\n",
    "    for _i in range(nz_cols.size):\n",
    "        i = nz_cols[_i]\n",
    "        confidence = nz_vals[_i]\n",
    "        factor = Y[i]\n",
    "\n",
    "        # need to make change here I think wrt. preferences\n",
    "        if confidence > 0:\n",
    "            b += confidence * factor\n",
    "        else:\n",
    "            confidence *= -1\n",
    "\n",
    "        A += (confidence - 1) * np.outer(factor, factor)\n",
    "    return A, b"
   ]
  },
  {
   "cell_type": "code",
   "execution_count": 16,
   "id": "0768eec1-0dad-4150-9412-2776a92cd146",
   "metadata": {},
   "outputs": [],
   "source": [
    "Y = item_factors\n",
    "YtY = item_factors.T.dot(item_factors)"
   ]
  },
  {
   "cell_type": "code",
   "execution_count": 19,
   "id": "87ac010d-27ee-4d93-95a0-84466991d46b",
   "metadata": {},
   "outputs": [
    {
     "name": "stdout",
     "output_type": "stream",
     "text": [
      "10 µs ± 25.1 ns per loop (mean ± std. dev. of 7 runs, 100000 loops each)\n"
     ]
    }
   ],
   "source": [
    "%%timeit\n",
    "build_lin_equation(Y, YtY, 2, Cui_sparse.row, Cui_sparse.col, Cui_sparse.data, 0.01, K)"
   ]
  },
  {
   "cell_type": "code",
   "execution_count": 20,
   "id": "f42d6eb7-86d2-428c-8a17-dc59007ac78e",
   "metadata": {},
   "outputs": [],
   "source": [
    "def user_factor(Y, YtY, u, Cui_rows, Cui_cols, Cui_vals, regularization, n_factors):\n",
    "    # Xu = (YtCuY + regularization * I)^-1 (YtCuPu)\n",
    "    A, b = build_lin_equation(Y, YtY, u, Cui_rows, Cui_cols, Cui_vals, regularization, n_factors)\n",
    "    return np.linalg.solve(A, b)"
   ]
  },
  {
   "cell_type": "code",
   "execution_count": 21,
   "id": "c0eb6f0c-50bd-47e1-aa59-c5aa31cd63f6",
   "metadata": {},
   "outputs": [],
   "source": [
    "@njit\n",
    "def njit_user_factor(Y, YtY, u, Cui_rows, Cui_cols, Cui_vals, regularization, n_factors):\n",
    "    # Xu = (YtCuY + regularization * I)^-1 (YtCuPu)\n",
    "    A, b = build_lin_equation(Y, YtY, u, Cui_rows, Cui_cols, Cui_vals, regularization, n_factors)\n",
    "    return np.linalg.solve(A, b)"
   ]
  },
  {
   "cell_type": "code",
   "execution_count": 23,
   "id": "ed2b0e1c-f482-4644-8f17-54a842b44cdf",
   "metadata": {},
   "outputs": [
    {
     "name": "stdout",
     "output_type": "stream",
     "text": [
      "17 µs ± 55.4 ns per loop (mean ± std. dev. of 7 runs, 100000 loops each)\n"
     ]
    }
   ],
   "source": [
    "%%timeit\n",
    "user_factor(Y, YtY, 2, Cui_sparse.row, Cui_sparse.col, Cui_sparse.data, 0.01, 10)"
   ]
  },
  {
   "cell_type": "code",
   "execution_count": 25,
   "id": "42799d88-0638-4405-b53a-34f89457a0c4",
   "metadata": {},
   "outputs": [
    {
     "name": "stdout",
     "output_type": "stream",
     "text": [
      "11.3 µs ± 35.4 ns per loop (mean ± std. dev. of 7 runs, 100000 loops each)\n"
     ]
    }
   ],
   "source": [
    "%%timeit\n",
    "njit_user_factor(Y, YtY, 2, Cui_sparse.row, Cui_sparse.col, Cui_sparse.data, 0.01, 10)"
   ]
  },
  {
   "cell_type": "code",
   "execution_count": 26,
   "id": "312e4081-4ce3-40a9-9560-3de80221617a",
   "metadata": {},
   "outputs": [],
   "source": [
    "def least_squares(Cui_rows, Cui_cols, Cui_vals, X, Y, regularization):\n",
    "    \n",
    "    users, n_factors = X.shape\n",
    "    YtY = Y.T.dot(Y)\n",
    "\n",
    "    for u in tqdm(range(users)):\n",
    "        X[u] = user_factor(Y, YtY, u, Cui_rows, Cui_cols, Cui_vals, regularization, n_factors)"
   ]
  },
  {
   "cell_type": "code",
   "execution_count": 44,
   "id": "94bd2c91-966f-43f1-9e84-a20fb6f7bbea",
   "metadata": {},
   "outputs": [
    {
     "data": {
      "application/vnd.jupyter.widget-view+json": {
       "model_id": "8bb5305a1c1141f99eadfc6c04e79f78",
       "version_major": 2,
       "version_minor": 0
      },
      "text/plain": [
       "  0%|          | 0/148438 [00:00<?, ?it/s]"
      ]
     },
     "metadata": {},
     "output_type": "display_data"
    }
   ],
   "source": [
    "least_squares(Cui_sparse.row, Cui_sparse.col, Cui_sparse.data, user_factors, item_factors, 0.01)"
   ]
  },
  {
   "cell_type": "code",
   "execution_count": 28,
   "id": "8729b4d3-1152-47ae-a51e-7742584c4171",
   "metadata": {},
   "outputs": [],
   "source": [
    "user_factors = np.random.normal(scale=1./K, size=(n_users, K))\n",
    "item_factors = np.random.normal(scale=1./K, size=(n_items, K))"
   ]
  },
  {
   "cell_type": "code",
   "execution_count": 31,
   "id": "5142bc15-e790-413b-a36c-b086ba80b9d7",
   "metadata": {},
   "outputs": [],
   "source": [
    "@njit\n",
    "def njit_least_squares(Cui_rows, Cui_cols, Cui_vals, X, Y, regularization):\n",
    "    \n",
    "    users, n_factors = X.shape\n",
    "    YtY = Y.T.dot(Y)\n",
    "\n",
    "    for u in range(users):\n",
    "        X[u] = njit_user_factor(Y, YtY, u, Cui_rows, Cui_cols, Cui_vals, regularization, n_factors)"
   ]
  },
  {
   "cell_type": "code",
   "execution_count": 42,
   "id": "41f7d01a-dc6d-4f6d-84df-24f5c191bc64",
   "metadata": {},
   "outputs": [
    {
     "name": "stdout",
     "output_type": "stream",
     "text": [
      "Wall time: 3.43 s\n"
     ]
    }
   ],
   "source": [
    "%%time\n",
    "njit_least_squares(Cui_sparse.row, Cui_sparse.col, Cui_sparse.data, user_factors, item_factors, 0.01)"
   ]
  },
  {
   "cell_type": "code",
   "execution_count": 33,
   "id": "47aec449-3c7c-4901-a5a2-d125eec6f7f8",
   "metadata": {},
   "outputs": [],
   "source": [
    "user_factors = np.random.normal(scale=1./K, size=(n_users, K))\n",
    "item_factors = np.random.normal(scale=1./K, size=(n_items, K))"
   ]
  },
  {
   "cell_type": "code",
   "execution_count": 36,
   "id": "351439f3-112a-4c3b-8438-1926050e16f7",
   "metadata": {},
   "outputs": [],
   "source": [
    "@njit(parallel=True)\n",
    "def njitp_least_squares(Cui_rows, Cui_cols, Cui_vals, X, Y, regularization):\n",
    "    \n",
    "    users, n_factors = X.shape\n",
    "    YtY = Y.T.dot(Y)\n",
    "\n",
    "    for u in prange(users):\n",
    "        X[u] = njit_user_factor(Y, YtY, u, Cui_rows, Cui_cols, Cui_vals, regularization, n_factors)"
   ]
  },
  {
   "cell_type": "code",
   "execution_count": 41,
   "id": "dceca52c-501d-487a-8756-954f95a15af5",
   "metadata": {},
   "outputs": [
    {
     "name": "stdout",
     "output_type": "stream",
     "text": [
      "Wall time: 1.35 s\n"
     ]
    }
   ],
   "source": [
    "%%time\n",
    "njitp_least_squares(Cui_sparse.row, Cui_sparse.col, Cui_sparse.data, user_factors, item_factors, 0.01)"
   ]
  },
  {
   "cell_type": "code",
   "execution_count": null,
   "id": "cc38dff1-f0cc-4192-881e-9ed3f08a8e56",
   "metadata": {},
   "outputs": [],
   "source": []
  }
 ],
 "metadata": {
  "kernelspec": {
   "display_name": "Python 3 (ipykernel)",
   "language": "python",
   "name": "python3"
  },
  "language_info": {
   "codemirror_mode": {
    "name": "ipython",
    "version": 3
   },
   "file_extension": ".py",
   "mimetype": "text/x-python",
   "name": "python",
   "nbconvert_exporter": "python",
   "pygments_lexer": "ipython3",
   "version": "3.8.5"
  }
 },
 "nbformat": 4,
 "nbformat_minor": 5
}
