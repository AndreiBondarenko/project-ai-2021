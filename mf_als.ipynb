{
 "cells": [
  {
   "cell_type": "code",
   "execution_count": 1,
   "id": "119d7056-cf53-4165-ad71-f1512f6fc1fa",
   "metadata": {},
   "outputs": [],
   "source": [
    "import numpy as np\n",
    "from tqdm.auto import tqdm\n",
    "import scipy.sparse as sps\n",
    "import matplotlib.pyplot as plt\n",
    "%matplotlib inline"
   ]
  },
  {
   "cell_type": "code",
   "execution_count": 2,
   "id": "2c018739-7235-4577-a5bd-318362b44992",
   "metadata": {},
   "outputs": [],
   "source": [
    "from numba import njit, prange"
   ]
  },
  {
   "cell_type": "code",
   "execution_count": 3,
   "id": "c6f8824b-6aa6-4287-96e4-c4c62b2c7bbb",
   "metadata": {},
   "outputs": [],
   "source": [
    "from recommenders.mfi.utils import build_conf_mat, build_pref_mat"
   ]
  },
  {
   "cell_type": "code",
   "execution_count": 4,
   "id": "072743b2-c76d-4fe4-bb2b-0ebba039f50b",
   "metadata": {},
   "outputs": [],
   "source": [
    "train = sps.load_npz('./data/train1.npz')\n",
    "test = sps.load_npz('./data/test1.npz')"
   ]
  },
  {
   "cell_type": "code",
   "execution_count": 5,
   "id": "986e3a45-2f1a-4d5f-b52e-b62ccb659006",
   "metadata": {},
   "outputs": [],
   "source": [
    "n_users, n_items = train.shape\n",
    "Cui_sparse = build_conf_mat(train)\n",
    "Pui_sparse = build_pref_mat(train)"
   ]
  },
  {
   "cell_type": "code",
   "execution_count": 6,
   "id": "37488a90-e154-46ee-a07a-69b297c6ca88",
   "metadata": {},
   "outputs": [
    {
     "name": "stdout",
     "output_type": "stream",
     "text": [
      "148438 89276\n"
     ]
    }
   ],
   "source": [
    "print(n_users, n_items)"
   ]
  },
  {
   "cell_type": "code",
   "execution_count": 7,
   "id": "3b8de6c8-b79f-4a3e-8fe1-2a77f00dbf66",
   "metadata": {},
   "outputs": [],
   "source": [
    "K = 100"
   ]
  },
  {
   "cell_type": "code",
   "execution_count": 8,
   "id": "95b682b5-0f2a-483b-816b-c920c8e8a4f4",
   "metadata": {},
   "outputs": [],
   "source": [
    "user_factors = np.random.normal(scale=1./K, size=(n_users, K))\n",
    "item_factors = np.random.normal(scale=1./K, size=(n_items, K))"
   ]
  },
  {
   "cell_type": "code",
   "execution_count": 9,
   "id": "fb6a5ab4-1aeb-4a10-a391-48aa009bc0d6",
   "metadata": {},
   "outputs": [],
   "source": [
    "@njit\n",
    "def nonzeros(u, rows, cols, vals):\n",
    "    indices = np.nonzero(rows == u)\n",
    "    return cols[indices], vals[indices]"
   ]
  },
  {
   "cell_type": "code",
   "execution_count": 10,
   "id": "26424d58-50ff-448d-a7d9-e637879cd8be",
   "metadata": {},
   "outputs": [
    {
     "name": "stdout",
     "output_type": "stream",
     "text": [
      "3.83 ms ± 59.4 µs per loop (mean ± std. dev. of 7 runs, 1 loop each)\n"
     ]
    }
   ],
   "source": [
    "%%timeit\n",
    "nonzeros(2, Cui_sparse.row, Cui_sparse.col, Cui_sparse.data)"
   ]
  },
  {
   "cell_type": "code",
   "execution_count": 11,
   "id": "a4620bc4-c24e-498b-9923-83d114fd01de",
   "metadata": {},
   "outputs": [],
   "source": [
    "@njit\n",
    "def build_lin_equation(Y, YtY, u, Cui_rows, Cui_cols, Cui_vals, regularization, n_factors):\n",
    "    A = YtY + regularization * np.eye(n_factors)\n",
    "    b = np.zeros(n_factors)\n",
    "    \n",
    "    nz_rows, nz_vals = nonzeros(u, Cui_rows, Cui_cols, Cui_vals)\n",
    "    for _i in range(nz_rows.size):\n",
    "        i = nz_rows[_i]\n",
    "        confidence = nz_vals[_i]\n",
    "        factor = Y[i]\n",
    "\n",
    "        # need to make change here I think wrt. preferences\n",
    "        if confidence > 0:\n",
    "            b += confidence * factor\n",
    "        else:\n",
    "            confidence *= -1\n",
    "\n",
    "        A += (confidence - 1) * np.outer(factor, factor)\n",
    "    return A, b"
   ]
  },
  {
   "cell_type": "code",
   "execution_count": 12,
   "id": "0768eec1-0dad-4150-9412-2776a92cd146",
   "metadata": {},
   "outputs": [],
   "source": [
    "Y = item_factors\n",
    "YtY = item_factors.T.dot(item_factors)"
   ]
  },
  {
   "cell_type": "code",
   "execution_count": 13,
   "id": "87ac010d-27ee-4d93-95a0-84466991d46b",
   "metadata": {},
   "outputs": [
    {
     "name": "stdout",
     "output_type": "stream",
     "text": [
      "4.15 ms ± 54.2 µs per loop (mean ± std. dev. of 7 runs, 1 loop each)\n"
     ]
    }
   ],
   "source": [
    "%%timeit\n",
    "build_lin_equation(Y, YtY, 2, Cui_sparse.row, Cui_sparse.col, Cui_sparse.data, 0.01, 100)"
   ]
  },
  {
   "cell_type": "code",
   "execution_count": 14,
   "id": "c0eb6f0c-50bd-47e1-aa59-c5aa31cd63f6",
   "metadata": {},
   "outputs": [],
   "source": [
    "@njit\n",
    "def user_factor(Y, YtY, u, Cui_rows, Cui_cols, Cui_vals, regularization, n_factors):\n",
    "    # Xu = (YtCuY + regularization * I)^-1 (YtCuPu)\n",
    "    A, b = build_lin_equation(Y, YtY, u, Cui_rows, Cui_cols, Cui_vals, regularization, n_factors)\n",
    "    return np.linalg.solve(A, b)"
   ]
  },
  {
   "cell_type": "code",
   "execution_count": 15,
   "id": "42799d88-0638-4405-b53a-34f89457a0c4",
   "metadata": {},
   "outputs": [
    {
     "name": "stdout",
     "output_type": "stream",
     "text": [
      "6.47 ms ± 164 µs per loop (mean ± std. dev. of 7 runs, 1 loop each)\n"
     ]
    }
   ],
   "source": [
    "%%timeit\n",
    "user_factor(Y, YtY, 2, Cui_sparse.row, Cui_sparse.col, Cui_sparse.data, 0.01, 100)"
   ]
  },
  {
   "cell_type": "code",
   "execution_count": 16,
   "id": "312e4081-4ce3-40a9-9560-3de80221617a",
   "metadata": {},
   "outputs": [],
   "source": [
    "def least_squares(Cui_rows, Cui_cols, Cui_vals, X, Y, regularization):\n",
    "    \n",
    "    users, n_factors = X.shape\n",
    "    YtY = Y.T.dot(Y)\n",
    "\n",
    "    for u in tqdm(range(users)):\n",
    "        X[u] = user_factor(Y, YtY, u, Cui_rows, Cui_cols, Cui_vals, regularization, n_factors)"
   ]
  },
  {
   "cell_type": "code",
   "execution_count": 17,
   "id": "94bd2c91-966f-43f1-9e84-a20fb6f7bbea",
   "metadata": {},
   "outputs": [
    {
     "data": {
      "application/vnd.jupyter.widget-view+json": {
       "model_id": "ee8506bee7004dafa4cfae3969e8f18a",
       "version_major": 2,
       "version_minor": 0
      },
      "text/plain": [
       "  0%|          | 0/148438 [00:00<?, ?it/s]"
      ]
     },
     "metadata": {},
     "output_type": "display_data"
    },
    {
     "name": "stdout",
     "output_type": "stream",
     "text": [
      "Wall time: 17min 21s\n"
     ]
    }
   ],
   "source": [
    "%%time\n",
    "least_squares(Cui_sparse.row, Cui_sparse.col, Cui_sparse.data, user_factors, item_factors, 0.01)"
   ]
  },
  {
   "cell_type": "code",
   "execution_count": 18,
   "id": "8729b4d3-1152-47ae-a51e-7742584c4171",
   "metadata": {},
   "outputs": [],
   "source": [
    "user_factors = np.random.normal(scale=1./K, size=(n_users, K))\n",
    "item_factors = np.random.normal(scale=1./K, size=(n_items, K))"
   ]
  },
  {
   "cell_type": "code",
   "execution_count": 24,
   "id": "5142bc15-e790-413b-a36c-b086ba80b9d7",
   "metadata": {},
   "outputs": [],
   "source": [
    "@njit\n",
    "def njit_least_squares(Cui_rows, Cui_cols, Cui_vals, X, Y, regularization):\n",
    "    \n",
    "    users, n_factors = X.shape\n",
    "    YtY = Y.T.dot(Y)\n",
    "\n",
    "    for u in range(users):\n",
    "        X[u] = user_factor(Y, YtY, u, Cui_rows, Cui_cols, Cui_vals, regularization, n_factors)"
   ]
  },
  {
   "cell_type": "code",
   "execution_count": 25,
   "id": "41f7d01a-dc6d-4f6d-84df-24f5c191bc64",
   "metadata": {},
   "outputs": [
    {
     "name": "stdout",
     "output_type": "stream",
     "text": [
      "Wall time: 17min 4s\n"
     ]
    }
   ],
   "source": [
    "%%time\n",
    "njit_least_squares(Cui_sparse.row, Cui_sparse.col, Cui_sparse.data, user_factors, item_factors, 0.01)"
   ]
  },
  {
   "cell_type": "code",
   "execution_count": 21,
   "id": "47aec449-3c7c-4901-a5a2-d125eec6f7f8",
   "metadata": {},
   "outputs": [],
   "source": [
    "user_factors = np.random.normal(scale=1./K, size=(n_users, K))\n",
    "item_factors = np.random.normal(scale=1./K, size=(n_items, K))"
   ]
  },
  {
   "cell_type": "code",
   "execution_count": 22,
   "id": "351439f3-112a-4c3b-8438-1926050e16f7",
   "metadata": {},
   "outputs": [],
   "source": [
    "@njit(parallel=True)\n",
    "def njitp_least_squares(Cui_rows, Cui_cols, Cui_vals, X, Y, regularization):\n",
    "    \n",
    "    users, n_factors = X.shape\n",
    "    YtY = Y.T.dot(Y)\n",
    "\n",
    "    for u in prange(users):\n",
    "        X[u] = user_factor(Y, YtY, u, Cui_rows, Cui_cols, Cui_vals, regularization, n_factors)"
   ]
  },
  {
   "cell_type": "code",
   "execution_count": 23,
   "id": "dceca52c-501d-487a-8756-954f95a15af5",
   "metadata": {},
   "outputs": [
    {
     "name": "stdout",
     "output_type": "stream",
     "text": [
      "Wall time: 10min 7s\n"
     ]
    }
   ],
   "source": [
    "%%time\n",
    "njitp_least_squares(Cui_sparse.row, Cui_sparse.col, Cui_sparse.data, user_factors, item_factors, 0.01)"
   ]
  },
  {
   "cell_type": "code",
   "execution_count": null,
   "id": "cc38dff1-f0cc-4192-881e-9ed3f08a8e56",
   "metadata": {},
   "outputs": [],
   "source": []
  }
 ],
 "metadata": {
  "kernelspec": {
   "display_name": "Python 3 (ipykernel)",
   "language": "python",
   "name": "python3"
  },
  "language_info": {
   "codemirror_mode": {
    "name": "ipython",
    "version": 3
   },
   "file_extension": ".py",
   "mimetype": "text/x-python",
   "name": "python",
   "nbconvert_exporter": "python",
   "pygments_lexer": "ipython3",
   "version": "3.8.5"
  }
 },
 "nbformat": 4,
 "nbformat_minor": 5
}
