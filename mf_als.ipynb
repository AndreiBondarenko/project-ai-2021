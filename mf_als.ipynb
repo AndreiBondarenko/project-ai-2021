{
 "cells": [
  {
   "cell_type": "markdown",
   "id": "b68ece19-9031-4993-986b-cac2b406611d",
   "metadata": {},
   "source": [
    "# MatrixFactorization Alternating-Least-Squares"
   ]
  },
  {
   "cell_type": "code",
   "execution_count": 7,
   "id": "f9c81e00-fb9f-4ffb-9ed1-e1c1785c8154",
   "metadata": {},
   "outputs": [],
   "source": [
    "import utils\n",
    "import pickle\n",
    "import numpy as np\n",
    "from tqdm.auto import tqdm\n",
    "import scipy.sparse\n",
    "import matplotlib.pyplot as plt\n",
    "# from recommenders.mf import MatrixFactorization\n",
    "%matplotlib inline"
   ]
  },
  {
   "cell_type": "code",
   "execution_count": 2,
   "id": "f6fcf7a4-e551-41e5-89c7-5a9a2d44e869",
   "metadata": {},
   "outputs": [],
   "source": [
    "cui = scipy.sparse.load_npz('./data/cui.npz')\n",
    "# y = scipy.sparse.load_npz('./data/test.npz')\n",
    "# _y = y.tocsr()"
   ]
  },
  {
   "cell_type": "code",
   "execution_count": 3,
   "id": "591e7ee7-fcb7-4737-baf4-1cf14647a71d",
   "metadata": {},
   "outputs": [],
   "source": [
    "# cui.count_nonzero()"
   ]
  },
  {
   "cell_type": "code",
   "execution_count": 4,
   "id": "29272506-f62f-4f06-a529-759e02599f38",
   "metadata": {},
   "outputs": [],
   "source": [
    "# import pyximport\n",
    "# pyximport.install(reload_support=True)\n",
    "# import _als"
   ]
  },
  {
   "cell_type": "markdown",
   "id": "0c7a4d68-2f97-49eb-a863-38cd9d746d28",
   "metadata": {},
   "source": [
    "## Alternating Least Squares recommender"
   ]
  },
  {
   "cell_type": "code",
   "execution_count": 2,
   "id": "edcf9b3d-db63-48f9-92d1-ac33badee95a",
   "metadata": {},
   "outputs": [],
   "source": [
    "def nonzeros(m, row):\n",
    "    \"\"\"returns the non zeroes of a row in csr_matrix\"\"\"\n",
    "    for index in range(m.indptr[row], m.indptr[row + 1]):\n",
    "        yield m.indices[index], m.data[index]\n",
    "\n",
    "    \n",
    "def user_linear_equation(Y, YtY, Cui, u, regularization, n_factors):\n",
    "    # Xu = (YtCuY + regularization * I)^-1 (YtCuPu)\n",
    "    # YtCuY = YtY + Yt(Cu-I)Y\n",
    "    # YtCuY + regularization * I = YtY regularization * I + Yt(Cu-I)Y\n",
    "\n",
    "    # accumulate YtCuY + regularization*I in A\n",
    "    A = YtY + regularization * np.eye(n_factors)\n",
    "\n",
    "    # accumulate YtCuPu in b\n",
    "    b = np.zeros(n_factors)\n",
    "\n",
    "    for i, confidence in nonzeros(Cui, u):\n",
    "        factor = Y[i]\n",
    "\n",
    "        if confidence > 0:\n",
    "            b += confidence * factor\n",
    "        else:\n",
    "            confidence *= -1\n",
    "\n",
    "        A += (confidence - 1) * np.outer(factor, factor)\n",
    "    return A, b\n",
    "\n",
    "\n",
    "def user_factor(Y, YtY, Cui, u, regularization, n_factors):\n",
    "    # Xu = (YtCuY + regularization * I)^-1 (YtCuPu)\n",
    "    A, b = user_linear_equation(Y, YtY, Cui, u, regularization, n_factors)\n",
    "    return np.linalg.solve(A, b)\n",
    "\n",
    "\n",
    "def item_factor(X, XtX, Cui, u, regularization, n_factors):\n",
    "    # Yu = (XtCuX + regularization * I)^-1 (XtCuPu)\n",
    "    A, b = user_linear_equation(X, XtX, Cui, u, regularization, n_factors)\n",
    "    return np.linalg.solve(A, b)\n",
    "\n",
    "\n",
    "def least_squares(Cui, X, Y, regularization, num_threads=0):\n",
    "    \"\"\"For each user in Cui, calculate factors Xu for them using least squares on Y\"\"\"\n",
    "    users, n_factors = X.shape\n",
    "    YtY = Y.T.dot(Y)\n",
    "    for u in range(users):\n",
    "        X[u] = user_factor(Y, YtY, Cui, u, regularization, n_factors)\n"
   ]
  },
  {
   "cell_type": "code",
   "execution_count": 3,
   "id": "17d07714-0e60-443f-a879-4aca6e34e507",
   "metadata": {},
   "outputs": [],
   "source": [
    "import _als\n",
    "\n",
    "class AlternatingLeastSquares:\n",
    "    \"\"\"\n",
    "    Alternating Least Squares\n",
    "    A Recommender based on the algorithms described in the paper 'Collaborative\n",
    "    Filtering for Implicit Feedback Datasets'    \n",
    "\n",
    "    Args:\n",
    "        K: number of latent factors\n",
    "        regularization: regularization parameter\n",
    "        iterations: number of training iterations to perform\n",
    "        num_threads: number of threads to use for fitting. 0 means to use the number of cores on the machine\n",
    "        seed: random seed\n",
    "      \n",
    "    Attribs:\n",
    "        item_factors (numpy.ndarray): Array of latent factors for each item in the training set\n",
    "        user_factors (numpy.ndarray): Array of latent factors for each user in the training set\n",
    "    \"\"\"\n",
    "    \n",
    "    \n",
    "    def __init__(self, K=100, regularization=0.01, iterations=10, num_threads=0, seed=None):\n",
    "        self.K = K\n",
    "        self.regularization = regularization\n",
    "        self.iterations = iterations\n",
    "        self.random_state = np.random.RandomState(seed)\n",
    "        self.num_threads = num_threads\n",
    "        \n",
    "        # learned factors\n",
    "        self.item_factors = None\n",
    "        self.user_factors = None\n",
    "        \n",
    "        # cache of user, item norms (useful for calculating similar items)\n",
    "        self._user_norms = None\n",
    "        self._item_norms = None\n",
    "        \n",
    "        # cache for item factors squared\n",
    "        self._YtY = None\n",
    "        # cache for user factors squared\n",
    "        self._XtX = None\n",
    "        \n",
    "\n",
    "    @property\n",
    "    def YtY(self):\n",
    "        if self._YtY is None:\n",
    "            Y = self.item_factors\n",
    "            self._YtY = Y.T.dot(Y)\n",
    "        return self._YtY\n",
    "    \n",
    "    \n",
    "    @property\n",
    "    def XtX(self):\n",
    "        if self._XtX is None:\n",
    "            X = self.user_factors\n",
    "            self._XtX = X.T.dot(X)\n",
    "        return self._XtX\n",
    "    \n",
    "    \n",
    "    def calculate_loss(self, Cui, X, Y, regularization):\n",
    "        indptr = np.array(Cui.indptr)\n",
    "        indices = np.array(Cui.indices)\n",
    "        data = np.array(Cui.data)\n",
    "        return _als.calculate_loss(indptr, indices, data, X, Y, regularization)\n",
    "\n",
    "\n",
    "    def train(self, x, y, show_progress=True):\n",
    "        \"\"\"Factorizes the item_users matrix.\n",
    "        \n",
    "        The user-item matrix x defines which items are liked by which users (P_iu in the original paper), \n",
    "        as well as how much confidence we have that the user liked the item (C_iu).\n",
    "        The positive items (rating > 2.5) are defined with a positive C_ui, \n",
    "        the negative items (rating < 2.5 ) are defined with a negative C_ui.\n",
    "        Unseen items (rating 0) are defined with negative C_ui = -2.\n",
    "        items without a rating are implicitly defined with C_ui = -1 but are not stored in the matrix.\n",
    "\n",
    "        Args:\n",
    "            x (scipy.sparse.csr_matrix): \n",
    "                Matrix of confidences for the liked items. This matrix should be a csr_matrix where\n",
    "                the rows of the matrix are the user, the columns are the item that the user liked,\n",
    "                and the value is the confidence that the user liked the item.\n",
    "            seed (int): \n",
    "                The random seed to use\n",
    "            show_progress (bool):\n",
    "                Whether to show a progress bar during fitting\n",
    "        \n",
    "        Returns:\n",
    "            mse (List[int]): \n",
    "                The training mean square error of each training iteration\n",
    "        \"\"\"\n",
    "        if not isinstance(x, scipy.sparse.csr_matrix):\n",
    "            x = x.tocsr()\n",
    "        if not isinstance(y, scipy.sparse.csr_matrix):\n",
    "            y = y.tocsr()\n",
    "            \n",
    "        # Initialize the variables randomly if they haven't already been set\n",
    "        users, items = x.shape\n",
    "\n",
    "        if self.user_factors is None:\n",
    "            self.user_factors = self.random_state.rand(users, self.K).astype(np.float64) * 0.01\n",
    "        if self.item_factors is None:\n",
    "            self.item_factors = self.random_state.rand(items, self.K).astype(np.float64) * 0.01\n",
    "        \n",
    "        # invalidate cached norms and squared factors\n",
    "        self._item_norms = None\n",
    "        self._user_norms = None\n",
    "        self._YtY = None\n",
    "        self._XtX = None\n",
    "               \n",
    "        train_mse = []\n",
    "        test_mse = []\n",
    "        \n",
    "        tst = self.calculate_loss(x,\n",
    "                                  self.user_factors,\n",
    "                                  self.item_factors,\n",
    "                                  self.regularization)\n",
    "        \n",
    "        with tqdm(total=self.iterations, disable=not show_progress) as progress:\n",
    "            # alternate between learning the user_factors from the item_factors and vice-versa\n",
    "            for iteration in range(self.iterations):\n",
    "                least_squares(\n",
    "                    x,\n",
    "                    self.user_factors,\n",
    "                    self.item_factors,\n",
    "                    self.regularization\n",
    "                )\n",
    "                least_squares(\n",
    "                    x,\n",
    "                    self.item_factors,\n",
    "                    self.user_factors,\n",
    "                    self.regularization\n",
    "                )\n",
    "                progress.update(1)\n",
    "                train_error = self.calculate_loss(\n",
    "                        x,\n",
    "                        self.user_factors,\n",
    "                        self.item_factors,\n",
    "                        self.regularization)\n",
    "                test_error = self.calculate_loss(\n",
    "                        y,\n",
    "                        self.user_factors,\n",
    "                        self.item_factors,\n",
    "                        self.regularization)\n",
    "                train_mse.append(train_error)\n",
    "                test_mse.append(test_error)\n",
    "                progress.set_postfix(test_error=test_error, train_error=train_error)\n",
    "        \n",
    "        return train_mse, test_mse\n",
    "\n",
    "\n",
    "    def recommend(self, user, k, oldrecs):\n",
    "        user_factors = self.user_factors[user]\n",
    "        scores = self.item_factors.dot(user_factors)\n",
    "        # sort items in descending order by their score\n",
    "        ind = np.argsort(scores)[::-1]\n",
    "        # remove consumed items, i.e. items from training set\n",
    "        consumed = np.array(old_recs.getrow(user).nonzero()[1])\n",
    "        ind = np.setdiff1d(ind, consumed, assume_unique=True)\n",
    "        # take top-k\n",
    "        return ind[:k]\n",
    "    \n",
    " \n",
    "    def save(self, path):\n",
    "        with open(path, 'wb') as f:\n",
    "            pickle.dump(self, f)\n",
    "\n",
    "\n",
    "    def load(self, path):\n",
    "        with open(path, 'rb') as f:\n",
    "            m = pickle.load(f)\n",
    "            self.K = m.K\n",
    "            self.regularization = m.regularization\n",
    "            self.iterations = m.iterations"
   ]
  },
  {
   "cell_type": "markdown",
   "id": "0217bc77-49df-4c6b-8189-9b857d75bfe0",
   "metadata": {},
   "source": [
    "## Train-test split\n",
    "\n",
    "- For validation we do 5 random 80%/20% train-test splits\n",
    "- for each of the 5 random splits we use agreed seeds, i.e. {1,2,3,4,5}\n",
    "- For each train-test pair:\n",
    "  - Perform hyperparameter optimisation on the train part (via cross-validation) \n",
    "  - Evaluate on the test part.\n",
    " - This gives us 5 (recall@10, ndcg@10) tuples for which we compute the mean and stdev."
   ]
  },
  {
   "cell_type": "code",
   "execution_count": 72,
   "id": "d08d40f8-f142-48c6-9d03-1bc8e883f220",
   "metadata": {},
   "outputs": [],
   "source": [
    "def create_train_test_split(cui, test_size=0.20, seed=1):\n",
    "    m = cui.tolil()\n",
    "    train_rows = np.empty_like(m.rows)\n",
    "    test_rows = np.empty_like(m.rows)\n",
    "    train_data = np.empty_like(m.rows)\n",
    "    test_data = np.empty_like(m.rows)\n",
    "    random_state = np.random.RandomState(seed)\n",
    "    for row in range(m.shape[0]):\n",
    "        columns = np.array(m.rows[row])\n",
    "        nr_cols = columns.shape[0]\n",
    "        all_indices = np.arange(nr_cols)\n",
    "        test_indices = random_state.choice(all_indices, size=int(test_size * nr_cols), replace=False)\n",
    "        train_indices = np.setdiff1d(all_indices, test_indices, assume_unique=True)\n",
    "        train_rows[row] = np.array(m.rows[row])[train_indices].tolist()\n",
    "        test_rows[row] = np.array(m.rows[row])[test_indices].tolist()\n",
    "        train_data[row] = np.array(m.data[row])[train_indices].tolist()\n",
    "        test_data[row] = np.array(m.data[row])[test_indices].tolist()\n",
    "    train_lil = m.copy()\n",
    "    train_lil.rows = train_rows\n",
    "    train_lil.data = train_data\n",
    "    test_lil = m.copy()\n",
    "    test_lil.rows = test_rows\n",
    "    test_lil.data = test_data\n",
    "    return train_lil.tocsr(), test_lil.tocsr()"
   ]
  },
  {
   "cell_type": "code",
   "execution_count": 73,
   "id": "7c34d1c1-a057-409d-975d-b90dfeff3e15",
   "metadata": {},
   "outputs": [
    {
     "data": {
      "application/vnd.jupyter.widget-view+json": {
       "model_id": "bd1d47ecdaf34b4d935e104d3b0b2439",
       "version_major": 2,
       "version_minor": 0
      },
      "text/plain": [
       "  0%|          | 0/5 [00:00<?, ?it/s]"
      ]
     },
     "metadata": {},
     "output_type": "display_data"
    }
   ],
   "source": [
    "import numpy as np\n",
    "from sklearn.model_selection import train_test_split\n",
    "\n",
    "outer_loops = 5 # nr. of random train-test splits\n",
    "traintest_list = []\n",
    "for i in tqdm(range(outer_loops)):\n",
    "    seed = i + 1\n",
    "    # cui is of type scipy.sparse.coo_matrix\n",
    "    # x and y are of type scipy.sparse.csr_matrix\n",
    "    train, test = create_train_test_split(cui, test_size=0.20, seed=seed)\n",
    "    scipy.sparse.save_npz(f'./data/train_{seed}.npz', train)\n",
    "    scipy.sparse.save_npz(f'./data/test_{seed}.npz', test)\n",
    "    traintest_list.append((train, test, seed))\n"
   ]
  },
  {
   "cell_type": "markdown",
   "id": "dc29e4a1-7bc0-4cfb-8730-b67c40bb8fb7",
   "metadata": {},
   "source": [
    "## Training"
   ]
  },
  {
   "cell_type": "code",
   "execution_count": 4,
   "id": "64a14911-b2d7-45a5-8447-13e343d9f092",
   "metadata": {},
   "outputs": [
    {
     "data": {
      "application/vnd.jupyter.widget-view+json": {
       "model_id": "cd819abed1714739b2231641de467d63",
       "version_major": 2,
       "version_minor": 0
      },
      "text/plain": [
       "  0%|          | 0/10 [00:00<?, ?it/s]"
      ]
     },
     "metadata": {},
     "output_type": "display_data"
    }
   ],
   "source": [
    "import numpy as np\n",
    "from sklearn.model_selection import train_test_split\n",
    "\n",
    "outer_loops = 1 #5 # nr. of random train-test splits\n",
    "recall_list = []\n",
    "ndgc_list = []\n",
    "e_train_list = []\n",
    "e_test_list = []\n",
    "for i in range(outer_loops):\n",
    "    seed = i + 1\n",
    "    x = scipy.sparse.load_npz(f'./data/train_{seed}.npz')\n",
    "    y = scipy.sparse.load_npz(f'./data/test_{seed}.npz')\n",
    "    # x and y are of type scipy.sparse.csr_matrix\n",
    "    recommender = AlternatingLeastSquares(K=10, regularization=0.01, iterations=10, seed=seed)\n",
    "    e_train, e_test = recommender.train(x, y)\n",
    "    e_train_list.append(e_train)\n",
    "    e_test_list.append(e_test)"
   ]
  },
  {
   "cell_type": "code",
   "execution_count": 8,
   "id": "ece6eee2-d699-41e6-be47-636f20f93dfe",
   "metadata": {},
   "outputs": [
    {
     "data": {
      "image/png": "[encoded data removed]",
      "text/plain": [
       "<Figure size 432x288 with 1 Axes>"
      ]
     },
     "metadata": {
      "needs_background": "light"
     },
     "output_type": "display_data"
    }
   ],
   "source": [
    "e_train, e_test = e_train_list[0], e_test_list[0]\n",
    "plt.plot(e_train, label=\"train\")\n",
    "plt.plot(e_test, label=\"test\")\n",
    "plt.xlabel(\"iteration\")\n",
    "plt.ylabel(\"MSE\")\n",
    "plt.legend()\n",
    "plt.show()\n",
    "recommender.save(\"checkpoint.model\")"
   ]
  },
  {
   "cell_type": "markdown",
   "id": "44075c58-884c-42d0-8094-7152f8a9fbd4",
   "metadata": {},
   "source": [
    "## Confidence based recommendations"
   ]
  },
  {
   "cell_type": "code",
   "execution_count": 13,
   "id": "71746f8f-d228-4ab4-bb6d-568794c264c5",
   "metadata": {},
   "outputs": [],
   "source": [
    "def recommend(rec, user, k, oldrecs):\n",
    "    user_factors = rec.user_factors[user]\n",
    "    scores = rec.item_factors.dot(user_factors)\n",
    "    # sort items in descending order by their score\n",
    "    ind = np.argsort(scores)[::-1]\n",
    "    # remove consumed items, i.e. items from training set\n",
    "    consumed = np.array(oldrecs.getrow(user).nonzero()[1])\n",
    "    ind = np.setdiff1d(ind, consumed, assume_unique=True)\n",
    "    # take top-k\n",
    "    return ind[:k]"
   ]
  },
  {
   "cell_type": "code",
   "execution_count": 14,
   "id": "4afb3e82-05a0-4048-9305-c1ec64554be6",
   "metadata": {},
   "outputs": [],
   "source": [
    "seed = 1\n",
    "x = scipy.sparse.load_npz(f'./data/train_{seed}.npz')\n",
    "y = scipy.sparse.load_npz(f'./data/test_{seed}.npz')"
   ]
  },
  {
   "cell_type": "code",
   "execution_count": 17,
   "id": "45c0a691-14bc-48f7-9d0d-10b03902e851",
   "metadata": {},
   "outputs": [
    {
     "data": {
      "application/vnd.jupyter.widget-view+json": {
       "model_id": "cadd0913c4334a628a8bde506e49a146",
       "version_major": 2,
       "version_minor": 0
      },
      "text/plain": [
       "  0%|          | 0/148438 [00:00<?, ?it/s]"
      ]
     },
     "metadata": {},
     "output_type": "display_data"
    },
    {
     "name": "stdout",
     "output_type": "stream",
     "text": [
      "AVG. PRECISION@10:  0.0005288403239062775\n",
      "AVG. RECALL@10:  0.00045364159415135964\n",
      "AVG. NDCG@10:  0.003622711232155607\n"
     ]
    }
   ],
   "source": [
    "precision_scores = []\n",
    "recall_scores = []\n",
    "ndcg_scores = []\n",
    "K = 10\n",
    "for i in tqdm(range(y.shape[0])):\n",
    "    topk = recommend(recommender, user=i, k=K, oldrecs=x)\n",
    "    actual = y[i]\n",
    "    precision_scores.append(utils.precision_at_k(topk, actual))\n",
    "    recall_scores.append(utils.recall_at_k(topk, actual))\n",
    "    ndcg_scores.append(utils.ndcg_at_k(topk, actual))\n",
    "print(f'AVG. PRECISION@{K}: ', np.mean(precision_scores))\n",
    "print(f'AVG. RECALL@{K}: ', np.mean(recall_scores))\n",
    "print(f'AVG. NDCG@{K}: ', np.mean(ndcg_scores))"
   ]
  },
  {
   "cell_type": "code",
   "execution_count": null,
   "id": "7fe131b1-cd96-4fc6-8e69-4c061de42871",
   "metadata": {},
   "outputs": [],
   "source": []
  }
 ],
 "metadata": {
  "kernelspec": {
   "display_name": "venv-project-ai",
   "language": "python",
   "name": "venv-project-ai"
  },
  "language_info": {
   "codemirror_mode": {
    "name": "ipython",
    "version": 3
   },
   "file_extension": ".py",
   "mimetype": "text/x-python",
   "name": "python",
   "nbconvert_exporter": "python",
   "pygments_lexer": "ipython3",
   "version": "3.9.6"
  }
 },
 "nbformat": 4,
 "nbformat_minor": 5
}
