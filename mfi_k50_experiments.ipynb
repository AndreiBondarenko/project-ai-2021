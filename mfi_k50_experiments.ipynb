{
 "cells": [
  {
   "cell_type": "code",
   "execution_count": 1,
   "id": "9eb4cd4c-f9ec-4bce-9c5f-2ddc0e14fec2",
   "metadata": {
    "collapsed": true,
    "jupyter": {
     "outputs_hidden": true,
     "source_hidden": true
    },
    "tags": []
   },
   "outputs": [
    {
     "data": {
      "application/vnd.jupyter.widget-view+json": {
       "model_id": "74d164d0d3b54c8ea553996ff25d0eb5",
       "version_major": 2,
       "version_minor": 0
      },
      "text/plain": [
       "  0%|          | 0/10 [00:00<?, ?it/s]"
      ]
     },
     "metadata": {},
     "output_type": "display_data"
    },
    {
     "data": {
      "application/vnd.jupyter.widget-view+json": {
       "model_id": "d10e6097bf374550a437595443a76ef9",
       "version_major": 2,
       "version_minor": 0
      },
      "text/plain": [
       "  0%|          | 0/10 [00:00<?, ?it/s]"
      ]
     },
     "metadata": {},
     "output_type": "display_data"
    },
    {
     "data": {
      "application/vnd.jupyter.widget-view+json": {
       "model_id": "67597263c9c0497b90aeae669a8c79a3",
       "version_major": 2,
       "version_minor": 0
      },
      "text/plain": [
       "  0%|          | 0/10 [00:00<?, ?it/s]"
      ]
     },
     "metadata": {},
     "output_type": "display_data"
    },
    {
     "data": {
      "application/vnd.jupyter.widget-view+json": {
       "model_id": "22b21af337644016989252527e8de97f",
       "version_major": 2,
       "version_minor": 0
      },
      "text/plain": [
       "  0%|          | 0/10 [00:00<?, ?it/s]"
      ]
     },
     "metadata": {},
     "output_type": "display_data"
    },
    {
     "data": {
      "application/vnd.jupyter.widget-view+json": {
       "model_id": "9bd3a0ff7d714d0782ec1c643bfd2f7a",
       "version_major": 2,
       "version_minor": 0
      },
      "text/plain": [
       "  0%|          | 0/10 [00:00<?, ?it/s]"
      ]
     },
     "metadata": {},
     "output_type": "display_data"
    },
    {
     "data": {
      "application/vnd.jupyter.widget-view+json": {
       "model_id": "6b434375df3b4348aaefdde1d5028c37",
       "version_major": 2,
       "version_minor": 0
      },
      "text/plain": [
       "  0%|          | 0/148438 [00:00<?, ?it/s]"
      ]
     },
     "metadata": {},
     "output_type": "display_data"
    },
    {
     "data": {
      "application/vnd.jupyter.widget-view+json": {
       "model_id": "609abf5105ae453fa1a055b32f5b9af8",
       "version_major": 2,
       "version_minor": 0
      },
      "text/plain": [
       "  0%|          | 0/148438 [00:00<?, ?it/s]"
      ]
     },
     "metadata": {},
     "output_type": "display_data"
    },
    {
     "data": {
      "application/vnd.jupyter.widget-view+json": {
       "model_id": "e8e7b1eea4704fd5bda1b5fe9d649d43",
       "version_major": 2,
       "version_minor": 0
      },
      "text/plain": [
       "  0%|          | 0/148438 [00:00<?, ?it/s]"
      ]
     },
     "metadata": {},
     "output_type": "display_data"
    },
    {
     "data": {
      "application/vnd.jupyter.widget-view+json": {
       "model_id": "7f8372a611aa4d3caa0ec0e4af924303",
       "version_major": 2,
       "version_minor": 0
      },
      "text/plain": [
       "  0%|          | 0/148438 [00:00<?, ?it/s]"
      ]
     },
     "metadata": {},
     "output_type": "display_data"
    },
    {
     "data": {
      "application/vnd.jupyter.widget-view+json": {
       "model_id": "a72f032b902241e6b6769498741dca6c",
       "version_major": 2,
       "version_minor": 0
      },
      "text/plain": [
       "  0%|          | 0/148438 [00:00<?, ?it/s]"
      ]
     },
     "metadata": {},
     "output_type": "display_data"
    }
   ],
   "source": [
    "%run mfi_experiment.py experiment-k50-l001 50 0.01"
   ]
  },
  {
   "cell_type": "code",
   "execution_count": 5,
   "id": "5f2c11ab-a945-428d-9b7f-cbbe9fb671e9",
   "metadata": {},
   "outputs": [
    {
     "data": {
      "text/html": [
       "<pre style=\"white-space:pre;overflow-x:auto;line-height:normal;font-family:Menlo,'DejaVu Sans Mono',consolas,'Courier New',monospace\">┏━━━━━━┳━━━━━━━━━━━━━━━━━━━┳━━━━━━━━━━━━━━━━━━━┳━━━━━━━━━━━━━━━━━━━┳━━━━━━━━━━━━━━━━━━━┓\n",
       "┃<span style=\"color: #800080; text-decoration-color: #800080; font-weight: bold\"> Fold </span>┃<span style=\"color: #800080; text-decoration-color: #800080; font-weight: bold\"> Recall@5          </span>┃<span style=\"color: #800080; text-decoration-color: #800080; font-weight: bold\"> Recall@10         </span>┃<span style=\"color: #800080; text-decoration-color: #800080; font-weight: bold\"> nDCG@5            </span>┃<span style=\"color: #800080; text-decoration-color: #800080; font-weight: bold\"> nDCG@10           </span>┃\n",
       "┡━━━━━━╇━━━━━━━━━━━━━━━━━━━╇━━━━━━━━━━━━━━━━━━━╇━━━━━━━━━━━━━━━━━━━╇━━━━━━━━━━━━━━━━━━━┩\n",
       "│ 1    │ 0.15067           │ 0.21551           │ 0.28349           │ 0.32068           │\n",
       "│ 2    │ 0.14901           │ 0.21184           │ 0.28303           │ 0.32149           │\n",
       "│ 3    │ 0.16205           │ 0.22830           │ 0.29950           │ 0.33671           │\n",
       "│ 4    │ 0.15010           │ 0.21264           │ 0.28908           │ 0.32497           │\n",
       "│ 5    │ 0.15928           │ 0.22205           │ 0.29395           │ 0.33139           │\n",
       "├──────┼───────────────────┼───────────────────┼───────────────────┼───────────────────┤\n",
       "│      │ 0.15422 ± 0.00536 │ 0.21807 ± 0.00625 │ 0.28981 ± 0.00628 │ 0.32705 ± 0.00613 │\n",
       "└──────┴───────────────────┴───────────────────┴───────────────────┴───────────────────┘\n",
       "</pre>\n"
      ],
      "text/plain": [
       "┏━━━━━━┳━━━━━━━━━━━━━━━━━━━┳━━━━━━━━━━━━━━━━━━━┳━━━━━━━━━━━━━━━━━━━┳━━━━━━━━━━━━━━━━━━━┓\n",
       "┃\u001b[1;35m \u001b[0m\u001b[1;35mFold\u001b[0m\u001b[1;35m \u001b[0m┃\u001b[1;35m \u001b[0m\u001b[1;35mRecall@5         \u001b[0m\u001b[1;35m \u001b[0m┃\u001b[1;35m \u001b[0m\u001b[1;35mRecall@10        \u001b[0m\u001b[1;35m \u001b[0m┃\u001b[1;35m \u001b[0m\u001b[1;35mnDCG@5           \u001b[0m\u001b[1;35m \u001b[0m┃\u001b[1;35m \u001b[0m\u001b[1;35mnDCG@10          \u001b[0m\u001b[1;35m \u001b[0m┃\n",
       "┡━━━━━━╇━━━━━━━━━━━━━━━━━━━╇━━━━━━━━━━━━━━━━━━━╇━━━━━━━━━━━━━━━━━━━╇━━━━━━━━━━━━━━━━━━━┩\n",
       "│ 1    │ 0.15067           │ 0.21551           │ 0.28349           │ 0.32068           │\n",
       "│ 2    │ 0.14901           │ 0.21184           │ 0.28303           │ 0.32149           │\n",
       "│ 3    │ 0.16205           │ 0.22830           │ 0.29950           │ 0.33671           │\n",
       "│ 4    │ 0.15010           │ 0.21264           │ 0.28908           │ 0.32497           │\n",
       "│ 5    │ 0.15928           │ 0.22205           │ 0.29395           │ 0.33139           │\n",
       "├──────┼───────────────────┼───────────────────┼───────────────────┼───────────────────┤\n",
       "│      │ 0.15422 ± 0.00536 │ 0.21807 ± 0.00625 │ 0.28981 ± 0.00628 │ 0.32705 ± 0.00613 │\n",
       "└──────┴───────────────────┴───────────────────┴───────────────────┴───────────────────┘\n"
      ]
     },
     "metadata": {},
     "output_type": "display_data"
    },
    {
     "data": {
      "image/png": "[encoded data removed]",
      "text/plain": [
       "<Figure size 432x288 with 1 Axes>"
      ]
     },
     "metadata": {
      "needs_background": "light"
     },
     "output_type": "display_data"
    }
   ],
   "source": [
    "%run mfi_experiment_plot.py experiment-k50-l001"
   ]
  },
  {
   "cell_type": "code",
   "execution_count": 3,
   "id": "5085c482-1c0e-4a16-8acb-52a2531937d1",
   "metadata": {
    "collapsed": true,
    "jupyter": {
     "outputs_hidden": true,
     "source_hidden": true
    },
    "tags": []
   },
   "outputs": [
    {
     "data": {
      "application/vnd.jupyter.widget-view+json": {
       "model_id": "7322c7c26b9541edbaa2c66325e7df9a",
       "version_major": 2,
       "version_minor": 0
      },
      "text/plain": [
       "  0%|          | 0/10 [00:00<?, ?it/s]"
      ]
     },
     "metadata": {},
     "output_type": "display_data"
    },
    {
     "data": {
      "application/vnd.jupyter.widget-view+json": {
       "model_id": "86b18a04b07242929314ef67b5d510a6",
       "version_major": 2,
       "version_minor": 0
      },
      "text/plain": [
       "  0%|          | 0/10 [00:00<?, ?it/s]"
      ]
     },
     "metadata": {},
     "output_type": "display_data"
    },
    {
     "data": {
      "application/vnd.jupyter.widget-view+json": {
       "model_id": "54a3c74857e64fc39a49bd4bc19a1c94",
       "version_major": 2,
       "version_minor": 0
      },
      "text/plain": [
       "  0%|          | 0/10 [00:00<?, ?it/s]"
      ]
     },
     "metadata": {},
     "output_type": "display_data"
    },
    {
     "data": {
      "application/vnd.jupyter.widget-view+json": {
       "model_id": "9c3a56409a924880a5339b24aba19fd1",
       "version_major": 2,
       "version_minor": 0
      },
      "text/plain": [
       "  0%|          | 0/10 [00:00<?, ?it/s]"
      ]
     },
     "metadata": {},
     "output_type": "display_data"
    },
    {
     "data": {
      "application/vnd.jupyter.widget-view+json": {
       "model_id": "3dd4a79c198e40a7b78f1d9065ebc25e",
       "version_major": 2,
       "version_minor": 0
      },
      "text/plain": [
       "  0%|          | 0/10 [00:00<?, ?it/s]"
      ]
     },
     "metadata": {},
     "output_type": "display_data"
    },
    {
     "data": {
      "application/vnd.jupyter.widget-view+json": {
       "model_id": "33c6c3f7ada04268a7ce627f63d84e31",
       "version_major": 2,
       "version_minor": 0
      },
      "text/plain": [
       "  0%|          | 0/148438 [00:00<?, ?it/s]"
      ]
     },
     "metadata": {},
     "output_type": "display_data"
    },
    {
     "data": {
      "application/vnd.jupyter.widget-view+json": {
       "model_id": "03b65b1b9d0f460fbcb0ec1f54c55e44",
       "version_major": 2,
       "version_minor": 0
      },
      "text/plain": [
       "  0%|          | 0/148438 [00:00<?, ?it/s]"
      ]
     },
     "metadata": {},
     "output_type": "display_data"
    },
    {
     "data": {
      "application/vnd.jupyter.widget-view+json": {
       "model_id": "964a23e65ed8424787c44d4db6ee11e4",
       "version_major": 2,
       "version_minor": 0
      },
      "text/plain": [
       "  0%|          | 0/148438 [00:00<?, ?it/s]"
      ]
     },
     "metadata": {},
     "output_type": "display_data"
    },
    {
     "data": {
      "application/vnd.jupyter.widget-view+json": {
       "model_id": "de53f1a0b1ed4f748b385a5771692802",
       "version_major": 2,
       "version_minor": 0
      },
      "text/plain": [
       "  0%|          | 0/148438 [00:00<?, ?it/s]"
      ]
     },
     "metadata": {},
     "output_type": "display_data"
    },
    {
     "data": {
      "application/vnd.jupyter.widget-view+json": {
       "model_id": "ff272b1a3e98420ab78f414536b8f743",
       "version_major": 2,
       "version_minor": 0
      },
      "text/plain": [
       "  0%|          | 0/148438 [00:00<?, ?it/s]"
      ]
     },
     "metadata": {},
     "output_type": "display_data"
    }
   ],
   "source": [
    "%run mfi_experiment.py experiment-k50-l005 50 0.05"
   ]
  },
  {
   "cell_type": "code",
   "execution_count": 6,
   "id": "8441b017-c761-48d9-acb9-d5a406f06a44",
   "metadata": {},
   "outputs": [
    {
     "data": {
      "text/html": [
       "<pre style=\"white-space:pre;overflow-x:auto;line-height:normal;font-family:Menlo,'DejaVu Sans Mono',consolas,'Courier New',monospace\">┏━━━━━━┳━━━━━━━━━━━━━━━━━━━┳━━━━━━━━━━━━━━━━━━━┳━━━━━━━━━━━━━━━━━━━┳━━━━━━━━━━━━━━━━━━━┓\n",
       "┃<span style=\"color: #800080; text-decoration-color: #800080; font-weight: bold\"> Fold </span>┃<span style=\"color: #800080; text-decoration-color: #800080; font-weight: bold\"> Recall@5          </span>┃<span style=\"color: #800080; text-decoration-color: #800080; font-weight: bold\"> Recall@10         </span>┃<span style=\"color: #800080; text-decoration-color: #800080; font-weight: bold\"> nDCG@5            </span>┃<span style=\"color: #800080; text-decoration-color: #800080; font-weight: bold\"> nDCG@10           </span>┃\n",
       "┡━━━━━━╇━━━━━━━━━━━━━━━━━━━╇━━━━━━━━━━━━━━━━━━━╇━━━━━━━━━━━━━━━━━━━╇━━━━━━━━━━━━━━━━━━━┩\n",
       "│ 1    │ 0.15003           │ 0.21603           │ 0.28228           │ 0.31994           │\n",
       "│ 2    │ 0.14855           │ 0.21187           │ 0.28355           │ 0.32262           │\n",
       "│ 3    │ 0.16290           │ 0.22865           │ 0.29902           │ 0.33651           │\n",
       "│ 4    │ 0.14916           │ 0.21126           │ 0.28649           │ 0.32237           │\n",
       "│ 5    │ 0.15965           │ 0.22279           │ 0.29544           │ 0.33312           │\n",
       "├──────┼───────────────────┼───────────────────┼───────────────────┼───────────────────┤\n",
       "│      │ 0.15406 ± 0.00600 │ 0.21812 ± 0.00668 │ 0.28935 ± 0.00667 │ 0.32692 ± 0.00661 │\n",
       "└──────┴───────────────────┴───────────────────┴───────────────────┴───────────────────┘\n",
       "</pre>\n"
      ],
      "text/plain": [
       "┏━━━━━━┳━━━━━━━━━━━━━━━━━━━┳━━━━━━━━━━━━━━━━━━━┳━━━━━━━━━━━━━━━━━━━┳━━━━━━━━━━━━━━━━━━━┓\n",
       "┃\u001b[1;35m \u001b[0m\u001b[1;35mFold\u001b[0m\u001b[1;35m \u001b[0m┃\u001b[1;35m \u001b[0m\u001b[1;35mRecall@5         \u001b[0m\u001b[1;35m \u001b[0m┃\u001b[1;35m \u001b[0m\u001b[1;35mRecall@10        \u001b[0m\u001b[1;35m \u001b[0m┃\u001b[1;35m \u001b[0m\u001b[1;35mnDCG@5           \u001b[0m\u001b[1;35m \u001b[0m┃\u001b[1;35m \u001b[0m\u001b[1;35mnDCG@10          \u001b[0m\u001b[1;35m \u001b[0m┃\n",
       "┡━━━━━━╇━━━━━━━━━━━━━━━━━━━╇━━━━━━━━━━━━━━━━━━━╇━━━━━━━━━━━━━━━━━━━╇━━━━━━━━━━━━━━━━━━━┩\n",
       "│ 1    │ 0.15003           │ 0.21603           │ 0.28228           │ 0.31994           │\n",
       "│ 2    │ 0.14855           │ 0.21187           │ 0.28355           │ 0.32262           │\n",
       "│ 3    │ 0.16290           │ 0.22865           │ 0.29902           │ 0.33651           │\n",
       "│ 4    │ 0.14916           │ 0.21126           │ 0.28649           │ 0.32237           │\n",
       "│ 5    │ 0.15965           │ 0.22279           │ 0.29544           │ 0.33312           │\n",
       "├──────┼───────────────────┼───────────────────┼───────────────────┼───────────────────┤\n",
       "│      │ 0.15406 ± 0.00600 │ 0.21812 ± 0.00668 │ 0.28935 ± 0.00667 │ 0.32692 ± 0.00661 │\n",
       "└──────┴───────────────────┴───────────────────┴───────────────────┴───────────────────┘\n"
      ]
     },
     "metadata": {},
     "output_type": "display_data"
    },
    {
     "data": {
      "image/png": "[encoded data removed]",
      "text/plain": [
       "<Figure size 432x288 with 1 Axes>"
      ]
     },
     "metadata": {
      "needs_background": "light"
     },
     "output_type": "display_data"
    }
   ],
   "source": [
    "%run mfi_experiment_plot.py experiment-k50-l005"
   ]
  },
  {
   "cell_type": "code",
   "execution_count": 4,
   "id": "d424e652-2512-4b98-89f4-a05b8bf2d4f6",
   "metadata": {
    "collapsed": true,
    "jupyter": {
     "outputs_hidden": true,
     "source_hidden": true
    },
    "tags": []
   },
   "outputs": [
    {
     "data": {
      "application/vnd.jupyter.widget-view+json": {
       "model_id": "efedb232547f49c9af48e8ff7167867f",
       "version_major": 2,
       "version_minor": 0
      },
      "text/plain": [
       "  0%|          | 0/10 [00:00<?, ?it/s]"
      ]
     },
     "metadata": {},
     "output_type": "display_data"
    },
    {
     "data": {
      "application/vnd.jupyter.widget-view+json": {
       "model_id": "b2e857b85aa645648c0bc67cd71c8a0d",
       "version_major": 2,
       "version_minor": 0
      },
      "text/plain": [
       "  0%|          | 0/10 [00:00<?, ?it/s]"
      ]
     },
     "metadata": {},
     "output_type": "display_data"
    },
    {
     "data": {
      "application/vnd.jupyter.widget-view+json": {
       "model_id": "76d360d4dc674688be60a87f46f97586",
       "version_major": 2,
       "version_minor": 0
      },
      "text/plain": [
       "  0%|          | 0/10 [00:00<?, ?it/s]"
      ]
     },
     "metadata": {},
     "output_type": "display_data"
    },
    {
     "data": {
      "application/vnd.jupyter.widget-view+json": {
       "model_id": "1b67c47e74c3416c8f90d366d6860959",
       "version_major": 2,
       "version_minor": 0
      },
      "text/plain": [
       "  0%|          | 0/10 [00:00<?, ?it/s]"
      ]
     },
     "metadata": {},
     "output_type": "display_data"
    },
    {
     "data": {
      "application/vnd.jupyter.widget-view+json": {
       "model_id": "80ebee99368749a390d387fa371494b0",
       "version_major": 2,
       "version_minor": 0
      },
      "text/plain": [
       "  0%|          | 0/10 [00:00<?, ?it/s]"
      ]
     },
     "metadata": {},
     "output_type": "display_data"
    },
    {
     "data": {
      "application/vnd.jupyter.widget-view+json": {
       "model_id": "2f729b844e6f4f2e8e0b345bea48fba3",
       "version_major": 2,
       "version_minor": 0
      },
      "text/plain": [
       "  0%|          | 0/148438 [00:00<?, ?it/s]"
      ]
     },
     "metadata": {},
     "output_type": "display_data"
    },
    {
     "data": {
      "application/vnd.jupyter.widget-view+json": {
       "model_id": "4ae5706159b84da6b3fb93059f9be17d",
       "version_major": 2,
       "version_minor": 0
      },
      "text/plain": [
       "  0%|          | 0/148438 [00:00<?, ?it/s]"
      ]
     },
     "metadata": {},
     "output_type": "display_data"
    },
    {
     "data": {
      "application/vnd.jupyter.widget-view+json": {
       "model_id": "f8aa93ebbfd548bc954c1c92b6769af4",
       "version_major": 2,
       "version_minor": 0
      },
      "text/plain": [
       "  0%|          | 0/148438 [00:00<?, ?it/s]"
      ]
     },
     "metadata": {},
     "output_type": "display_data"
    },
    {
     "data": {
      "application/vnd.jupyter.widget-view+json": {
       "model_id": "3eb8de4f850743a4b51208c8e4279704",
       "version_major": 2,
       "version_minor": 0
      },
      "text/plain": [
       "  0%|          | 0/148438 [00:00<?, ?it/s]"
      ]
     },
     "metadata": {},
     "output_type": "display_data"
    },
    {
     "data": {
      "application/vnd.jupyter.widget-view+json": {
       "model_id": "ddff4fe0d504463ca605d5b3bfcf02e8",
       "version_major": 2,
       "version_minor": 0
      },
      "text/plain": [
       "  0%|          | 0/148438 [00:00<?, ?it/s]"
      ]
     },
     "metadata": {},
     "output_type": "display_data"
    }
   ],
   "source": [
    "%run mfi_experiment.py experiment-k50-l01 50 0.1"
   ]
  },
  {
   "cell_type": "code",
   "execution_count": 7,
   "id": "e100adee-085f-4bed-8b06-4d48c8191c77",
   "metadata": {},
   "outputs": [
    {
     "data": {
      "text/html": [
       "<pre style=\"white-space:pre;overflow-x:auto;line-height:normal;font-family:Menlo,'DejaVu Sans Mono',consolas,'Courier New',monospace\">┏━━━━━━┳━━━━━━━━━━━━━━━━━━━┳━━━━━━━━━━━━━━━━━━━┳━━━━━━━━━━━━━━━━━━━┳━━━━━━━━━━━━━━━━━━━┓\n",
       "┃<span style=\"color: #800080; text-decoration-color: #800080; font-weight: bold\"> Fold </span>┃<span style=\"color: #800080; text-decoration-color: #800080; font-weight: bold\"> Recall@5          </span>┃<span style=\"color: #800080; text-decoration-color: #800080; font-weight: bold\"> Recall@10         </span>┃<span style=\"color: #800080; text-decoration-color: #800080; font-weight: bold\"> nDCG@5            </span>┃<span style=\"color: #800080; text-decoration-color: #800080; font-weight: bold\"> nDCG@10           </span>┃\n",
       "┡━━━━━━╇━━━━━━━━━━━━━━━━━━━╇━━━━━━━━━━━━━━━━━━━╇━━━━━━━━━━━━━━━━━━━╇━━━━━━━━━━━━━━━━━━━┩\n",
       "│ 1    │ 0.15088           │ 0.21689           │ 0.28403           │ 0.32396           │\n",
       "│ 2    │ 0.14852           │ 0.21182           │ 0.28319           │ 0.32158           │\n",
       "│ 3    │ 0.16162           │ 0.22626           │ 0.29706           │ 0.33387           │\n",
       "│ 4    │ 0.15071           │ 0.21262           │ 0.28988           │ 0.32538           │\n",
       "│ 5    │ 0.15830           │ 0.22177           │ 0.29203           │ 0.32954           │\n",
       "├──────┼───────────────────┼───────────────────┼───────────────────┼───────────────────┤\n",
       "│      │ 0.15401 ± 0.00504 │ 0.21787 ± 0.00549 │ 0.28924 ± 0.00516 │ 0.32687 ± 0.00435 │\n",
       "└──────┴───────────────────┴───────────────────┴───────────────────┴───────────────────┘\n",
       "</pre>\n"
      ],
      "text/plain": [
       "┏━━━━━━┳━━━━━━━━━━━━━━━━━━━┳━━━━━━━━━━━━━━━━━━━┳━━━━━━━━━━━━━━━━━━━┳━━━━━━━━━━━━━━━━━━━┓\n",
       "┃\u001b[1;35m \u001b[0m\u001b[1;35mFold\u001b[0m\u001b[1;35m \u001b[0m┃\u001b[1;35m \u001b[0m\u001b[1;35mRecall@5         \u001b[0m\u001b[1;35m \u001b[0m┃\u001b[1;35m \u001b[0m\u001b[1;35mRecall@10        \u001b[0m\u001b[1;35m \u001b[0m┃\u001b[1;35m \u001b[0m\u001b[1;35mnDCG@5           \u001b[0m\u001b[1;35m \u001b[0m┃\u001b[1;35m \u001b[0m\u001b[1;35mnDCG@10          \u001b[0m\u001b[1;35m \u001b[0m┃\n",
       "┡━━━━━━╇━━━━━━━━━━━━━━━━━━━╇━━━━━━━━━━━━━━━━━━━╇━━━━━━━━━━━━━━━━━━━╇━━━━━━━━━━━━━━━━━━━┩\n",
       "│ 1    │ 0.15088           │ 0.21689           │ 0.28403           │ 0.32396           │\n",
       "│ 2    │ 0.14852           │ 0.21182           │ 0.28319           │ 0.32158           │\n",
       "│ 3    │ 0.16162           │ 0.22626           │ 0.29706           │ 0.33387           │\n",
       "│ 4    │ 0.15071           │ 0.21262           │ 0.28988           │ 0.32538           │\n",
       "│ 5    │ 0.15830           │ 0.22177           │ 0.29203           │ 0.32954           │\n",
       "├──────┼───────────────────┼───────────────────┼───────────────────┼───────────────────┤\n",
       "│      │ 0.15401 ± 0.00504 │ 0.21787 ± 0.00549 │ 0.28924 ± 0.00516 │ 0.32687 ± 0.00435 │\n",
       "└──────┴───────────────────┴───────────────────┴───────────────────┴───────────────────┘\n"
      ]
     },
     "metadata": {},
     "output_type": "display_data"
    },
    {
     "data": {
      "image/png": "[encoded data removed]",
      "text/plain": [
       "<Figure size 432x288 with 1 Axes>"
      ]
     },
     "metadata": {
      "needs_background": "light"
     },
     "output_type": "display_data"
    }
   ],
   "source": [
    "%run mfi_experiment_plot.py experiment-k50-l01"
   ]
  },
  {
   "cell_type": "code",
   "execution_count": null,
   "id": "bf22146b-fdc8-45ef-bd88-d516314fc911",
   "metadata": {},
   "outputs": [],
   "source": []
  }
 ],
 "metadata": {
  "kernelspec": {
   "display_name": "Python 3 (ipykernel)",
   "language": "python",
   "name": "python3"
  },
  "language_info": {
   "codemirror_mode": {
    "name": "ipython",
    "version": 3
   },
   "file_extension": ".py",
   "mimetype": "text/x-python",
   "name": "python",
   "nbconvert_exporter": "python",
   "pygments_lexer": "ipython3",
   "version": "3.8.5"
  }
 },
 "nbformat": 4,
 "nbformat_minor": 5
}
