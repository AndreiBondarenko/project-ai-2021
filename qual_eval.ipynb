{
 "cells": [
  {
   "cell_type": "code",
   "execution_count": 2,
   "id": "a29b34b2-6091-478e-8731-d56eb7a0caa3",
   "metadata": {},
   "outputs": [],
   "source": [
    "import numpy as np\n",
    "from tqdm import tqdm\n",
    "import matplotlib.pyplot as plt\n",
    "from recommenders.mf import MatrixFactorization\n",
    "import scipy.sparse\n",
    "from utils import read_json_fast\n",
    "import gdown\n",
    "import pandas as pd\n",
    "import random\n",
    "%matplotlib inline"
   ]
  },
  {
   "cell_type": "code",
   "execution_count": 3,
   "id": "6f0839ef-86b7-4573-a4f1-38b0e85a784a",
   "metadata": {},
   "outputs": [],
   "source": [
    "x = scipy.sparse.load_npz('./data/train.npz')\n",
    "y = scipy.sparse.load_npz('./data/test.npz')"
   ]
  },
  {
   "cell_type": "code",
   "execution_count": 4,
   "id": "8d09b660-c0ab-4cc0-bfb9-5739074399b9",
   "metadata": {},
   "outputs": [],
   "source": [
    "M = MatrixFactorization(K=100, iterations=200, gamma=0.3) # after 200-250 iterations, test error increases"
   ]
  },
  {
   "cell_type": "code",
   "execution_count": 5,
   "id": "d02ace7b-96c9-4f42-b2c7-48ea3d91f961",
   "metadata": {},
   "outputs": [],
   "source": [
    "M.load(\"checkpoint.model\")"
   ]
  },
  {
   "cell_type": "code",
   "execution_count": 6,
   "id": "b54212f7-c1a6-455d-b19e-ceaa4e6383fd",
   "metadata": {},
   "outputs": [],
   "source": [
    "_y = y.tocsr()"
   ]
  },
  {
   "cell_type": "code",
   "execution_count": 7,
   "id": "c43f3f3e-a54e-4e4a-81de-88a85ed2880e",
   "metadata": {},
   "outputs": [
    {
     "name": "stdout",
     "output_type": "stream",
     "text": [
      "File exists: ./data/BOOKS.json.gz\n"
     ]
    },
    {
     "data": {
      "text/plain": [
       "'./data/BOOKS.json.gz'"
      ]
     },
     "execution_count": 7,
     "metadata": {},
     "output_type": "execute_result"
    }
   ],
   "source": [
    "gdown.cached_download(\"https://drive.google.com/uc?id=1ICk5x0HXvXDp5Zt54CKPh5qz1HyUIn9m\", \"./data/BOOKS.json.gz\", quiet=False)"
   ]
  },
  {
   "cell_type": "code",
   "execution_count": 8,
   "id": "5d679ab7-e10a-4914-b9eb-d96fca6ad5a0",
   "metadata": {},
   "outputs": [
    {
     "name": "stdout",
     "output_type": "stream",
     "text": [
      "Processing BOOKS.json.gz:\n"
     ]
    },
    {
     "data": {
      "application/vnd.jupyter.widget-view+json": {
       "model_id": "812d396ba27847e4821ee276b99f2b3b",
       "version_major": 2,
       "version_minor": 0
      },
      "text/plain": [
       "0lines [00:00, ?lines/s]"
      ]
     },
     "metadata": {},
     "output_type": "display_data"
    }
   ],
   "source": [
    "df_books = read_json_fast(\"./data/BOOKS.json.gz\")"
   ]
  },
  {
   "cell_type": "code",
   "execution_count": 9,
   "id": "4c24540d-a1f3-4bac-98c3-d7dffb47db3f",
   "metadata": {},
   "outputs": [],
   "source": [
    "df_books = df_books.set_index('book_id').sort_index()"
   ]
  },
  {
   "cell_type": "code",
   "execution_count": 10,
   "id": "37360cee-beed-4228-a305-834651361b20",
   "metadata": {},
   "outputs": [],
   "source": [
    "user_id_map = pd.read_pickle(\"./data/user_id_map.pkl\")\n",
    "item_id_map = pd.read_pickle(\"./data/book_id_map.pkl\")"
   ]
  },
  {
   "cell_type": "code",
   "execution_count": 11,
   "id": "ffe9959b-5832-4f4e-9463-7390e0503799",
   "metadata": {},
   "outputs": [],
   "source": [
    "user_id_map = user_id_map.set_index('user_id_seq').sort_index()"
   ]
  },
  {
   "cell_type": "code",
   "execution_count": 12,
   "id": "7fcf92ee-95a0-4fd6-9d69-85bdd2ca8ff9",
   "metadata": {},
   "outputs": [],
   "source": [
    "item_id_map = item_id_map.set_index('book_id_seq').sort_index()"
   ]
  },
  {
   "cell_type": "code",
   "execution_count": 22,
   "id": "a84db3b4-599f-4074-8ab9-336a72943e0c",
   "metadata": {},
   "outputs": [],
   "source": [
    "u = random.randrange(y.shape[0])"
   ]
  },
  {
   "cell_type": "code",
   "execution_count": 23,
   "id": "20bbe4bb-255d-4891-a895-4b1c55c0313e",
   "metadata": {},
   "outputs": [],
   "source": [
    "topk = M.recommend(k=10, user=u)\n",
    "topk_conv = item_id_map.iloc[topk]"
   ]
  },
  {
   "cell_type": "code",
   "execution_count": 24,
   "id": "b7f3bee2-592e-4549-9075-457e92729e65",
   "metadata": {},
   "outputs": [
    {
     "name": "stdout",
     "output_type": "stream",
     "text": [
      "RECOMMENDATIONS:\n"
     ]
    },
    {
     "data": {
      "text/plain": [
       "book_id\n",
       "472331                                      Watchmen\n",
       "15704307                     Saga, Vol. 1 (Saga, #1)\n",
       "17131869                     Saga, Vol. 2 (Saga, #2)\n",
       "23754          Preludes & Nocturnes (The Sandman #1)\n",
       "19358975                     Saga, Vol. 3 (Saga, #3)\n",
       "5805                                  V for Vendetta\n",
       "138398      The Walking Dead, Vol. 01: Days Gone Bye\n",
       "15195                 The Complete Maus (Maus, #1-2)\n",
       "23093367                     Saga, Vol. 4 (Saga, #4)\n",
       "77727                              Calvin and Hobbes\n",
       "Name: title, dtype: object"
      ]
     },
     "metadata": {},
     "output_type": "display_data"
    }
   ],
   "source": [
    "print('RECOMMENDATIONS:')\n",
    "display(df_books.loc[topk_conv['book_id']]['title'])"
   ]
  },
  {
   "cell_type": "code",
   "execution_count": 25,
   "id": "3b650bd1-8052-4fae-86e0-b5a546010dc1",
   "metadata": {},
   "outputs": [
    {
     "name": "stdout",
     "output_type": "stream",
     "text": [
      "HISTORY\n"
     ]
    },
    {
     "data": {
      "text/plain": [
       "book_id\n",
       "13226173    The Infernal Devices: Clockwork Angel (The Inf...\n",
       "13226217    The Infernal Devices: Clockwork Prince (The In...\n",
       "13226246    The Infernal Devices: Clockwork Princess (The ...\n",
       "13532194                            Death: The Deluxe Edition\n",
       "15196       Maus I: A Survivor's Tale: My Father Bleeds Hi...\n",
       "15197       Maus II: A Survivor's Tale: And Here My Troubl...\n",
       "17571564    Hyperbole and a Half: Unfortunate Situations, ...\n",
       "1823114                                         Three Shadows\n",
       "18310944                                The Sandman: Overture\n",
       "21433253                    Manga Classics: Pride & Prejudice\n",
       "22040598                                         The Sculptor\n",
       "22571758    Legend: The Graphic Novel (Legend: The Graphic...\n",
       "2258253                                        X-23: Target X\n",
       "26025984    Prodigy: The Graphic Novel (Legend: The Graphi...\n",
       "26135825                        Fun Home: A Family Tragicomic\n",
       "29396738         Monstress, Vol. 1: Awakening (Monstress, #1)\n",
       "330659                     Penguin Dreams and Stranger Things\n",
       "6307034                        The Sandman: The Dream Hunters\n",
       "6657541                 Preludes & Nocturnes (The Sandman #1)\n",
       "6860432                         Johnny Cash: I See a Darkness\n",
       "7619398                              American Vampire, Vol. 1\n",
       "91714                        Civil War: A Marvel Comics Event\n",
       "991197                                The Complete Persepolis\n",
       "Name: title, dtype: object"
      ]
     },
     "metadata": {},
     "output_type": "display_data"
    }
   ],
   "source": [
    "print('HISTORY')\n",
    "history = M.old_recs[u]\n",
    "history_conv = item_id_map.iloc[history.nonzero()[1]]\n",
    "display(df_books.loc[history_conv['book_id']]['title'])"
   ]
  },
  {
   "cell_type": "code",
   "execution_count": 26,
   "id": "725a084b-705e-41df-971b-3db86e8d42fc",
   "metadata": {},
   "outputs": [
    {
     "name": "stdout",
     "output_type": "stream",
     "text": [
      "FUTURE\n"
     ]
    },
    {
     "data": {
      "text/plain": [
       "book_id\n",
       "17261174    Delilah Dirk and the Turkish Lieutenant (Delil...\n",
       "23366837                                    Gotham Academy #1\n",
       "23532871                          Spill Zone (Spill Zone, #1)\n",
       "25855506          Adulthood Is a Myth (Sarah's Scribbles, #1)\n",
       "2999495                             Tales from Outer Suburbia\n",
       "6634538                                               Mercury\n",
       "7326875     Library Wars: Love & War, Vol. 2  (Library War...\n",
       "7338243     Library Wars: Love & War, Vol. 1 (Library Wars...\n",
       "8174533     Library Wars: Love & War, Vol. 3 (Library Wars...\n",
       "8318017                                             Dawn Land\n",
       "Name: title, dtype: object"
      ]
     },
     "metadata": {},
     "output_type": "display_data"
    }
   ],
   "source": [
    "print('FUTURE')\n",
    "future = _y[u]\n",
    "future_conv = item_id_map.iloc[future.nonzero()[1]]\n",
    "display(df_books.loc[future_conv['book_id']]['title'])"
   ]
  },
  {
   "cell_type": "code",
   "execution_count": 18,
   "id": "62ecb1a1-2538-4854-b59a-d765d702b251",
   "metadata": {},
   "outputs": [
    {
     "name": "stdout",
     "output_type": "stream",
     "text": [
      "RECALL@10\n"
     ]
    },
    {
     "data": {
      "text/plain": [
       "0.0"
      ]
     },
     "execution_count": 18,
     "metadata": {},
     "output_type": "execute_result"
    }
   ],
   "source": [
    "print('RECALL@10')\n",
    "future[:,topk].count_nonzero() / future.count_nonzero()"
   ]
  },
  {
   "cell_type": "code",
   "execution_count": null,
   "id": "d3d9f0e2-fbc0-4f60-9a70-07247d051585",
   "metadata": {},
   "outputs": [],
   "source": []
  },
  {
   "cell_type": "code",
   "execution_count": null,
   "id": "d9b614d1-5218-4183-9cc8-a8be8b60cd85",
   "metadata": {},
   "outputs": [],
   "source": []
  }
 ],
 "metadata": {
  "kernelspec": {
   "display_name": "Python 3 (ipykernel)",
   "language": "python",
   "name": "python3"
  },
  "language_info": {
   "codemirror_mode": {
    "name": "ipython",
    "version": 3
   },
   "file_extension": ".py",
   "mimetype": "text/x-python",
   "name": "python",
   "nbconvert_exporter": "python",
   "pygments_lexer": "ipython3",
   "version": "3.8.5"
  }
 },
 "nbformat": 4,
 "nbformat_minor": 5
}
