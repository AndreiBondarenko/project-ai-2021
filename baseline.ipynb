{
 "cells": [
  {
   "cell_type": "code",
   "execution_count": 1,
   "id": "240324d7-52f3-4477-b75c-add673a39c2c",
   "metadata": {},
   "outputs": [],
   "source": [
    "import utils\n",
    "import numpy as np\n",
    "from tqdm.auto import tqdm\n",
    "import scipy.sparse as sps\n",
    "import matplotlib.pyplot as plt\n",
    "from recommenders.popularity import Popularity\n",
    "%matplotlib inline"
   ]
  },
  {
   "cell_type": "code",
   "execution_count": 2,
   "id": "29c81fc2-72ec-423e-8abd-5bf368f1c30e",
   "metadata": {},
   "outputs": [],
   "source": [
    "x = sps.load_npz('./data/train.npz')\n",
    "y = sps.load_npz('./data/test.npz')\n",
    "_y = y.tocsr()"
   ]
  },
  {
   "cell_type": "code",
   "execution_count": 3,
   "id": "0cd9b6bc-5fd7-4d46-900c-f4e2bf11dc51",
   "metadata": {},
   "outputs": [],
   "source": [
    "K = 10"
   ]
  },
  {
   "cell_type": "code",
   "execution_count": 4,
   "id": "726de6eb-ee36-4ea4-aecb-199c3f3ca5ce",
   "metadata": {},
   "outputs": [],
   "source": [
    "recommender = Popularity()"
   ]
  },
  {
   "cell_type": "code",
   "execution_count": 5,
   "id": "dfd6c704-d099-462c-a58a-8e45641b7daa",
   "metadata": {},
   "outputs": [],
   "source": [
    "recommender.train(x)"
   ]
  },
  {
   "cell_type": "code",
   "execution_count": 6,
   "id": "0c8d81a0-fcd7-450a-932f-bdad9cc79370",
   "metadata": {},
   "outputs": [
    {
     "data": {
      "application/vnd.jupyter.widget-view+json": {
       "model_id": "b5e106b1d67c487b90f5ae22fd617d70",
       "version_major": 2,
       "version_minor": 0
      },
      "text/plain": [
       "  0%|          | 0/68401 [00:00<?, ?it/s]"
      ]
     },
     "metadata": {},
     "output_type": "display_data"
    },
    {
     "name": "stdout",
     "output_type": "stream",
     "text": [
      "AVG. PRECISION@10:  0.02622183886200494\n",
      "AVG. RECALL@10:  0.02738771483092605\n",
      "AVG. NDCG@10:  0.1033515119916591\n"
     ]
    }
   ],
   "source": [
    "precision_scores = []\n",
    "recall_scores = []\n",
    "ndcg_scores = []\n",
    "for i in tqdm(range(y.shape[0])):\n",
    "    topk = recommender.recommend(k=K, user=i)\n",
    "    actual = _y[i]\n",
    "    precision_scores.append(utils.precision_at_k(topk, actual))\n",
    "    recall_scores.append(utils.recall_at_k(topk, actual))\n",
    "    ndcg_scores.append(utils.ndcg_at_k(topk, actual))\n",
    "print(f'AVG. PRECISION@{K}: ', np.mean(precision_scores))\n",
    "print(f'AVG. RECALL@{K}: ', np.mean(recall_scores))\n",
    "print(f'AVG. NDCG@{K}: ', np.mean(ndcg_scores))"
   ]
  },
  {
   "cell_type": "code",
   "execution_count": 7,
   "id": "29d9d005-02be-4e25-9fe4-b52dba36a308",
   "metadata": {},
   "outputs": [
    {
     "data": {
      "image/png": "[encoded data removed]",
      "text/plain": [
       "<Figure size 576x324 with 1 Axes>"
      ]
     },
     "metadata": {
      "needs_background": "light"
     },
     "output_type": "display_data"
    }
   ],
   "source": [
    "plt.figure(figsize=(8, 4.5))\n",
    "plt.plot(sorted(precision_scores), label=f\"precision@{K}\")\n",
    "plt.plot(sorted(recall_scores), label=f\"recall@{K}\",linestyle='dashed')\n",
    "plt.plot(sorted(ndcg_scores), label=f\"ndcg@{K}\", linestyle='dotted')\n",
    "plt.legend()\n",
    "plt.show()"
   ]
  }
 ],
 "metadata": {
  "kernelspec": {
   "display_name": "Python 3 (ipykernel)",
   "language": "python",
   "name": "python3"
  },
  "language_info": {
   "codemirror_mode": {
    "name": "ipython",
    "version": 3
   },
   "file_extension": ".py",
   "mimetype": "text/x-python",
   "name": "python",
   "nbconvert_exporter": "python",
   "pygments_lexer": "ipython3",
   "version": "3.8.5"
  }
 },
 "nbformat": 4,
 "nbformat_minor": 5
}