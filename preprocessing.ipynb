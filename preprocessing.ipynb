{
 "cells": [
  {
   "cell_type": "markdown",
   "metadata": {
    "tags": []
   },
   "source": [
    "# Data loading and preprocessing"
   ]
  },
  {
   "cell_type": "markdown",
   "metadata": {},
   "source": [
    "In this notebook we retrieve our dataset and preprocess it into a format that is ready to use for training our matrix factorization based recommender system."
   ]
  },
  {
   "cell_type": "markdown",
   "metadata": {},
   "source": [
    "First, we import the necessary Python packages."
   ]
  },
  {
   "cell_type": "code",
   "execution_count": 18,
   "metadata": {},
   "outputs": [],
   "source": [
    "import gdown\n",
    "import numpy as np\n",
    "import pandas as pd\n",
    "import scipy.sparse\n",
    "from tqdm.auto import tqdm\n",
    "import itertools\n",
    "import json\n",
    "import gzip\n",
    "import math\n",
    "tqdm.pandas() # for progress_apply etc."
   ]
  },
  {
   "cell_type": "markdown",
   "metadata": {
    "tags": []
   },
   "source": [
    "## Loading"
   ]
  },
  {
   "cell_type": "markdown",
   "metadata": {},
   "source": [
    "Next, we download the files for our dataset (Goodreads). We use the gdown package to retrieve them from the Google Drive they're originally hosted on. \n",
    "\n",
    "> Since we will be implementing a collaborative filtering algorithm, we only need the interactions part of the dataset. The code for reading in the other parts of the dataset were left as comments for potential future reference."
   ]
  },
  {
   "cell_type": "markdown",
   "metadata": {},
   "source": [
    "We define the URLs for each file..."
   ]
  },
  {
   "cell_type": "code",
   "execution_count": 2,
   "metadata": {},
   "outputs": [],
   "source": [
    "URLS = {\n",
    "    # \"BOOKS\": \"https://drive.google.com/uc?id=1ICk5x0HXvXDp5Zt54CKPh5qz1HyUIn9m\",\n",
    "    # \"AUTHORS\": \"https://drive.google.com/uc?id=19cdwyXwfXx_HDIgxXaHzH0mrx8nMyLvC\",\n",
    "    # \"REVIEWS\": \"https://drive.google.com/u/0/uc?id=1V4MLeoEiPQdocCbUHjR_7L9ZmxTufPFe\",\n",
    "    \"INTERACTIONS\": \"https://drive.google.com/uc?id=1CCj-cQw_mJLMdvF_YYfQ7ibKA-dC_GA2\"\n",
    "}"
   ]
  },
  {
   "cell_type": "markdown",
   "metadata": {},
   "source": [
    "and download each file. (if they haven't been downloaded in a previous run of the notebook)"
   ]
  },
  {
   "cell_type": "code",
   "execution_count": 3,
   "metadata": {},
   "outputs": [
    {
     "name": "stdout",
     "output_type": "stream",
     "text": [
      "File exists: ./data/INTERACTIONS.json.gz\n"
     ]
    }
   ],
   "source": [
    "for name, url in URLS.items():\n",
    "    gdown.cached_download(url, f\"./data/{name}.json.gz\", quiet=False)"
   ]
  },
  {
   "cell_type": "markdown",
   "metadata": {},
   "source": [
    "We now define a function to read the dataset into a Pandas dataframe. This implementation is faster and more memory efficient than the read_json function provided by Pandas."
   ]
  },
  {
   "cell_type": "code",
   "execution_count": 4,
   "metadata": {},
   "outputs": [],
   "source": [
    "def read_json_fast(filename, nrows=None):\n",
    "  \"\"\"\n",
    "  Loads line delimited JSON files faster than the \n",
    "  read_json function provided by Pandas.\n",
    "  \n",
    "  Iterates over file line per line, so shouldn't\n",
    "  cause out-of-memory issues, except if resulting\n",
    "  DataFrame is too big.\n",
    "  \n",
    "  Args:\n",
    "    filename: path of the JSON file\n",
    "    nrows: total number of rows to read from the file\n",
    "  \n",
    "  Returns:\n",
    "    Pandas DataFrame containing (part of) the data. \n",
    "  \"\"\"\n",
    "  with gzip.open(filename) as f:\n",
    "        print(f\"Processing {filename.split('/')[-1]}:\")\n",
    "        if nrows is not None:\n",
    "            pbar = tqdm(itertools.islice(f, nrows), unit=\"lines\")\n",
    "        else:\n",
    "            pbar = tqdm(f, unit=\"lines\")\n",
    "        return pd.DataFrame(json.loads(l) for l in pbar)"
   ]
  },
  {
   "cell_type": "markdown",
   "metadata": {},
   "source": [
    "We define the dataset file locations..."
   ]
  },
  {
   "cell_type": "code",
   "execution_count": 5,
   "metadata": {},
   "outputs": [],
   "source": [
    "# books_file = './data/BOOKS.json.gz' # book metadata\n",
    "interactions_file = './data/INTERACTIONS.json.gz' # user-book interactions (ratings)\n",
    "# reviews_file = './data/REVIEWS.json.gz' # user-book interactions (reviews)\n",
    "# authors_file = './data/AUTHORS.json.gz' # author metadata"
   ]
  },
  {
   "cell_type": "markdown",
   "metadata": {},
   "source": [
    "and load the necessary files."
   ]
  },
  {
   "cell_type": "code",
   "execution_count": 6,
   "metadata": {},
   "outputs": [
    {
     "name": "stdout",
     "output_type": "stream",
     "text": [
      "Processing INTERACTIONS.json.gz:\n"
     ]
    },
    {
     "data": {
      "text/plain": "0lines [00:00, ?lines/s]",
      "application/vnd.jupyter.widget-view+json": {
       "version_major": 2,
       "version_minor": 0,
       "model_id": "4cf90b643cb446948236bb9ce46547dd"
      }
     },
     "metadata": {},
     "output_type": "display_data"
    }
   ],
   "source": [
    "# df_books = read_json_fast(books_file)\n",
    "df_interactions = read_json_fast(interactions_file)\n",
    "# df_authors =  read_json_fast(authors_file)"
   ]
  },
  {
   "cell_type": "markdown",
   "metadata": {},
   "source": [
    "Now we look at the contents of the loaded dataset."
   ]
  },
  {
   "cell_type": "code",
   "execution_count": 7,
   "metadata": {},
   "outputs": [
    {
     "data": {
      "text/plain": "                            user_id book_id                         review_id  \\\n0  8842281e1d1347389f2ab93d60773d4d  836610  6b4db26aafeaf0da77c7de6214331e1e   \n\n   is_read  rating review_text_incomplete                      date_added  \\\n0    False       0                         Mon Aug 21 12:11:00 -0700 2017   \n\n                     date_updated read_at started_at  \n0  Mon Aug 21 12:11:00 -0700 2017                     ",
      "text/html": "<div>\n<style scoped>\n    .dataframe tbody tr th:only-of-type {\n        vertical-align: middle;\n    }\n\n    .dataframe tbody tr th {\n        vertical-align: top;\n    }\n\n    .dataframe thead th {\n        text-align: right;\n    }\n</style>\n<table border=\"1\" class=\"dataframe\">\n  <thead>\n    <tr style=\"text-align: right;\">\n      <th></th>\n      <th>user_id</th>\n      <th>book_id</th>\n      <th>review_id</th>\n      <th>is_read</th>\n      <th>rating</th>\n      <th>review_text_incomplete</th>\n      <th>date_added</th>\n      <th>date_updated</th>\n      <th>read_at</th>\n      <th>started_at</th>\n    </tr>\n  </thead>\n  <tbody>\n    <tr>\n      <th>0</th>\n      <td>8842281e1d1347389f2ab93d60773d4d</td>\n      <td>836610</td>\n      <td>6b4db26aafeaf0da77c7de6214331e1e</td>\n      <td>False</td>\n      <td>0</td>\n      <td></td>\n      <td>Mon Aug 21 12:11:00 -0700 2017</td>\n      <td>Mon Aug 21 12:11:00 -0700 2017</td>\n      <td></td>\n      <td></td>\n    </tr>\n  </tbody>\n</table>\n</div>"
     },
     "metadata": {},
     "output_type": "display_data"
    }
   ],
   "source": [
    "display(df_interactions.head(1))"
   ]
  },
  {
   "cell_type": "markdown",
   "metadata": {},
   "source": [
    "We can see that the dataset contains quite a few columns that are of no use to us. To make everything a little less cluttered we remove the columns that we don't use from the dataframe."
   ]
  },
  {
   "cell_type": "code",
   "execution_count": 8,
   "metadata": {},
   "outputs": [],
   "source": [
    "df_interactions = df_interactions[['user_id', 'book_id', 'rating', 'date_updated']]"
   ]
  },
  {
   "cell_type": "code",
   "execution_count": 9,
   "metadata": {},
   "outputs": [
    {
     "data": {
      "text/plain": "                            user_id book_id  rating  \\\n0  8842281e1d1347389f2ab93d60773d4d  836610       0   \n\n                     date_updated  \n0  Mon Aug 21 12:11:00 -0700 2017  ",
      "text/html": "<div>\n<style scoped>\n    .dataframe tbody tr th:only-of-type {\n        vertical-align: middle;\n    }\n\n    .dataframe tbody tr th {\n        vertical-align: top;\n    }\n\n    .dataframe thead th {\n        text-align: right;\n    }\n</style>\n<table border=\"1\" class=\"dataframe\">\n  <thead>\n    <tr style=\"text-align: right;\">\n      <th></th>\n      <th>user_id</th>\n      <th>book_id</th>\n      <th>rating</th>\n      <th>date_updated</th>\n    </tr>\n  </thead>\n  <tbody>\n    <tr>\n      <th>0</th>\n      <td>8842281e1d1347389f2ab93d60773d4d</td>\n      <td>836610</td>\n      <td>0</td>\n      <td>Mon Aug 21 12:11:00 -0700 2017</td>\n    </tr>\n  </tbody>\n</table>\n</div>"
     },
     "metadata": {},
     "output_type": "display_data"
    }
   ],
   "source": [
    "display(df_interactions.head(1))"
   ]
  },
  {
   "cell_type": "markdown",
   "metadata": {
    "tags": []
   },
   "source": [
    "## Pre-processing"
   ]
  },
  {
   "cell_type": "markdown",
   "metadata": {},
   "source": [
    "The first pre-processing step we apply is converting all dates into a more standardized format."
   ]
  },
  {
   "cell_type": "code",
   "execution_count": 10,
   "metadata": {},
   "outputs": [
    {
     "data": {
      "text/plain": "  0%|          | 0/7347630 [00:00<?, ?it/s]",
      "application/vnd.jupyter.widget-view+json": {
       "version_major": 2,
       "version_minor": 0,
       "model_id": "199b324ae97949dc8646587495206553"
      }
     },
     "metadata": {},
     "output_type": "display_data"
    }
   ],
   "source": [
    "format_str = '%a %b %d %H:%M:%S %z %Y' #see https://docs.python.org/3/library/datetime.html#strftime-strptime-behavior\n",
    "def convert_date(date_string):\n",
    "  return pd.to_datetime(date_string, utc=True, format=format_str)\n",
    "\n",
    "_df_interactions = df_interactions.copy()\n",
    "_df_interactions['date_updated'] =  _df_interactions['date_updated'].progress_apply(convert_date)\n",
    "_df_interactions['date_updated'] = _df_interactions['date_updated'].dt.tz_localize(None)  # drops utc timezone"
   ]
  },
  {
   "cell_type": "markdown",
   "metadata": {},
   "source": [
    "Now we define a pre-processing function that:\n",
    "\n",
    "1. Drops ratings below 3, as we consider these to be non-relevant items fo rthe user.\n",
    "2. Removes duplicate (user, item) pairs.\n",
    "3. Removes users that occur in less than minsup interactions."
   ]
  },
  {
   "cell_type": "code",
   "execution_count": 11,
   "metadata": {},
   "outputs": [],
   "source": [
    "def preprocess(df, minsup=10):\n",
    "    \"\"\"\n",
    "    Goal: - Remove reconsumption items\n",
    "          - Remove users that have less than minsup interactions \n",
    "          - Drop ratings below 3\n",
    "               \n",
    "    :input df: Dataframe containing user_id, item_id and time\n",
    "    \"\"\"\n",
    "    # drop 0 ratings\n",
    "    before = df.shape[0]\n",
    "    df = df[(df[\"rating\"] >= 3)]\n",
    "    print(\"After dropping  ratings below 3: {} -> {}\".format(before,df.shape[0]))\n",
    "    # drop reconsumption items\n",
    "    before = df.shape[0]\n",
    "    df = df.drop_duplicates(subset=[\"user_id\",\"book_id\"])\n",
    "    print(\"After drop_duplicates (reconsumption items): {} -> {}\".format(before,df.shape[0]))\n",
    "    # drop users with less then minsup items in history\n",
    "    g = df.groupby('user_id', as_index=False)['book_id'].size()\n",
    "    g = g.rename({'size': 'user_sup'}, axis='columns')\n",
    "    df = pd.merge(df, g, how='left', on=['user_id'])\n",
    "    before = df.shape[0]\n",
    "    df = df[df['user_sup'] >= minsup]\n",
    "    print(\"After dropping users with less than {} interactions: {} -> {}\".format(minsup, before,df.shape[0]))\n",
    "    return df"
   ]
  },
  {
   "cell_type": "markdown",
   "metadata": {},
   "source": [
    "Then we apply the pre-processing function to the dataframe and log the change in number of samples, number of unique users and number of unique items."
   ]
  },
  {
   "cell_type": "code",
   "execution_count": 12,
   "metadata": {},
   "outputs": [
    {
     "name": "stdout",
     "output_type": "stream",
     "text": [
      "number of unique users: 342415\n",
      "number of unique items: 89411\n",
      "After dropping  ratings below 3: 7347630 -> 4255398\n",
      "After drop_duplicates (reconsumption items): 4255398 -> 4255398\n",
      "After dropping users with less than 10 interactions: 4255398 -> 3791893\n",
      "number of unique users: 66726\n",
      "number of unique items: 86819\n"
     ]
    },
    {
     "data": {
      "text/plain": "                             user_id book_id  rating        date_updated  \\\n20  06316bec7a49286f1f98d5acce24f923  575753       4 2012-06-05 16:35:39   \n21  06316bec7a49286f1f98d5acce24f923   47694       4 2012-06-05 16:35:15   \n22  06316bec7a49286f1f98d5acce24f923   47700       3 2012-06-05 16:34:57   \n23  06316bec7a49286f1f98d5acce24f923   47720       4 2012-06-05 16:34:37   \n24  06316bec7a49286f1f98d5acce24f923   25104       5 2012-06-05 16:34:26   \n\n    user_sup  user_id_seq  book_id_seq  \n20        34         1670        71970  \n21        34         1670        70123  \n22        34         1670        70127  \n23        34         1670        70135  \n24        34         1670        41306  ",
      "text/html": "<div>\n<style scoped>\n    .dataframe tbody tr th:only-of-type {\n        vertical-align: middle;\n    }\n\n    .dataframe tbody tr th {\n        vertical-align: top;\n    }\n\n    .dataframe thead th {\n        text-align: right;\n    }\n</style>\n<table border=\"1\" class=\"dataframe\">\n  <thead>\n    <tr style=\"text-align: right;\">\n      <th></th>\n      <th>user_id</th>\n      <th>book_id</th>\n      <th>rating</th>\n      <th>date_updated</th>\n      <th>user_sup</th>\n      <th>user_id_seq</th>\n      <th>book_id_seq</th>\n    </tr>\n  </thead>\n  <tbody>\n    <tr>\n      <th>20</th>\n      <td>06316bec7a49286f1f98d5acce24f923</td>\n      <td>575753</td>\n      <td>4</td>\n      <td>2012-06-05 16:35:39</td>\n      <td>34</td>\n      <td>1670</td>\n      <td>71970</td>\n    </tr>\n    <tr>\n      <th>21</th>\n      <td>06316bec7a49286f1f98d5acce24f923</td>\n      <td>47694</td>\n      <td>4</td>\n      <td>2012-06-05 16:35:15</td>\n      <td>34</td>\n      <td>1670</td>\n      <td>70123</td>\n    </tr>\n    <tr>\n      <th>22</th>\n      <td>06316bec7a49286f1f98d5acce24f923</td>\n      <td>47700</td>\n      <td>3</td>\n      <td>2012-06-05 16:34:57</td>\n      <td>34</td>\n      <td>1670</td>\n      <td>70127</td>\n    </tr>\n    <tr>\n      <th>23</th>\n      <td>06316bec7a49286f1f98d5acce24f923</td>\n      <td>47720</td>\n      <td>4</td>\n      <td>2012-06-05 16:34:37</td>\n      <td>34</td>\n      <td>1670</td>\n      <td>70135</td>\n    </tr>\n    <tr>\n      <th>24</th>\n      <td>06316bec7a49286f1f98d5acce24f923</td>\n      <td>25104</td>\n      <td>5</td>\n      <td>2012-06-05 16:34:26</td>\n      <td>34</td>\n      <td>1670</td>\n      <td>41306</td>\n    </tr>\n  </tbody>\n</table>\n</div>"
     },
     "metadata": {},
     "output_type": "display_data"
    }
   ],
   "source": [
    "#print number of users and items\n",
    "print(f\"number of unique users: {_df_interactions['user_id'].nunique()}\")\n",
    "print(f\"number of unique items: {_df_interactions['book_id'].nunique()}\")\n",
    "processed_df_interactions = preprocess(_df_interactions.copy())\n",
    "# display(processed_df_interactions.head(5))\n",
    "print(f\"number of unique users: {processed_df_interactions['user_id'].nunique()}\")\n",
    "print(f\"number of unique items: {processed_df_interactions['book_id'].nunique()}\")\n",
    "# create sequential ids\n",
    "processed_df_interactions['user_id_seq'] = processed_df_interactions['user_id'].astype('category').cat.codes\n",
    "processed_df_interactions['book_id_seq'] = processed_df_interactions['book_id'].astype('category').cat.codes\n",
    "# merge book id and rating for easier \n",
    "display(processed_df_interactions.head(5))"
   ]
  },
  {
   "cell_type": "markdown",
   "metadata": {},
   "source": [
    "We store the mapping from user/book id's to their sequential id in an external file. This might come in handy in other notebooks."
   ]
  },
  {
   "cell_type": "code",
   "execution_count": 13,
   "metadata": {},
   "outputs": [],
   "source": [
    "processed_df_interactions[['user_id', 'user_id_seq']].drop_duplicates().to_pickle(\"./data/user_id_map.pkl\")\n",
    "processed_df_interactions[['book_id', 'book_id_seq']].drop_duplicates().to_pickle(\"./data/book_id_map.pkl\")"
   ]
  },
  {
   "cell_type": "markdown",
   "metadata": {},
   "source": [
    "We sort the interactions by their date and group them by user. This allows us to perform a session-based split."
   ]
  },
  {
   "cell_type": "code",
   "execution_count": 14,
   "metadata": {},
   "outputs": [
    {
     "data": {
      "text/plain": "   user_id_seq                                        book_id_seq  \\\n0            0  [48428, 52579, 52580, 52581, 52587, 52584, 525...   \n1            1  [69287, 80303, 13869, 10662, 68414, 29382, 336...   \n2            2  [85330, 85335, 85471, 85449, 1074, 67, 84561, ...   \n3            3  [70006, 72026, 55090, 68723, 80867, 85411, 845...   \n4            4  [70006, 72497, 17298, 58173, 69192, 79640, 864...   \n\n                                        date_updated  \\\n0  [2013-06-21 17:23:44, 2013-06-21 17:24:05, 201...   \n1  [2012-10-21 16:23:19, 2012-10-21 16:27:04, 201...   \n2  [2008-02-22 22:33:45, 2008-02-23 03:14:49, 200...   \n3  [2013-11-10 22:46:12, 2013-11-10 22:47:06, 201...   \n4  [2012-10-19 15:54:06, 2012-10-19 16:03:30, 201...   \n\n                                             history  \\\n0  [48428, 52579, 52580, 52581, 52587, 52584, 525...   \n1  [69287, 80303, 13869, 10662, 68414, 29382, 336...   \n2  [85330, 85335, 85471, 85449, 1074, 67, 84561, ...   \n3  [70006, 72026, 55090, 68723, 80867, 85411, 845...   \n4  [70006, 72497, 17298, 58173, 69192, 79640, 864...   \n\n                                              future  \n0         [52585, 52574, 52578, 70707, 70708, 70706]  \n1                         [9894, 13781, 8024, 18775]  \n2          [71135, 15885, 57106, 3286, 85386, 62357]  \n3  [72736, 22541, 64310, 77197, 25323, 69475, 305...  \n4                              [70349, 86268, 70346]  ",
      "text/html": "<div>\n<style scoped>\n    .dataframe tbody tr th:only-of-type {\n        vertical-align: middle;\n    }\n\n    .dataframe tbody tr th {\n        vertical-align: top;\n    }\n\n    .dataframe thead th {\n        text-align: right;\n    }\n</style>\n<table border=\"1\" class=\"dataframe\">\n  <thead>\n    <tr style=\"text-align: right;\">\n      <th></th>\n      <th>user_id_seq</th>\n      <th>book_id_seq</th>\n      <th>date_updated</th>\n      <th>history</th>\n      <th>future</th>\n    </tr>\n  </thead>\n  <tbody>\n    <tr>\n      <th>0</th>\n      <td>0</td>\n      <td>[48428, 52579, 52580, 52581, 52587, 52584, 525...</td>\n      <td>[2013-06-21 17:23:44, 2013-06-21 17:24:05, 201...</td>\n      <td>[48428, 52579, 52580, 52581, 52587, 52584, 525...</td>\n      <td>[52585, 52574, 52578, 70707, 70708, 70706]</td>\n    </tr>\n    <tr>\n      <th>1</th>\n      <td>1</td>\n      <td>[69287, 80303, 13869, 10662, 68414, 29382, 336...</td>\n      <td>[2012-10-21 16:23:19, 2012-10-21 16:27:04, 201...</td>\n      <td>[69287, 80303, 13869, 10662, 68414, 29382, 336...</td>\n      <td>[9894, 13781, 8024, 18775]</td>\n    </tr>\n    <tr>\n      <th>2</th>\n      <td>2</td>\n      <td>[85330, 85335, 85471, 85449, 1074, 67, 84561, ...</td>\n      <td>[2008-02-22 22:33:45, 2008-02-23 03:14:49, 200...</td>\n      <td>[85330, 85335, 85471, 85449, 1074, 67, 84561, ...</td>\n      <td>[71135, 15885, 57106, 3286, 85386, 62357]</td>\n    </tr>\n    <tr>\n      <th>3</th>\n      <td>3</td>\n      <td>[70006, 72026, 55090, 68723, 80867, 85411, 845...</td>\n      <td>[2013-11-10 22:46:12, 2013-11-10 22:47:06, 201...</td>\n      <td>[70006, 72026, 55090, 68723, 80867, 85411, 845...</td>\n      <td>[72736, 22541, 64310, 77197, 25323, 69475, 305...</td>\n    </tr>\n    <tr>\n      <th>4</th>\n      <td>4</td>\n      <td>[70006, 72497, 17298, 58173, 69192, 79640, 864...</td>\n      <td>[2012-10-19 15:54:06, 2012-10-19 16:03:30, 201...</td>\n      <td>[70006, 72497, 17298, 58173, 69192, 79640, 864...</td>\n      <td>[70349, 86268, 70346]</td>\n    </tr>\n  </tbody>\n</table>\n</div>"
     },
     "metadata": {},
     "output_type": "display_data"
    }
   ],
   "source": [
    "# Sort on date and group per user\n",
    "sessions_df = processed_df_interactions.sort_values(['date_updated'],ascending=True).groupby(by='user_id_seq', as_index=False)[['book_id_seq','date_updated']].agg(list)\n",
    "\n",
    "# Function to perform split\n",
    "def split(items, percentage_train):\n",
    "  no_train_items = math.floor(len(items) * percentage_train)\n",
    "  return items[0:no_train_items], items[no_train_items:]\n",
    "\n",
    "# Split dataset into 0.75 training and 0.25 test samples, split in the temporal dimension.\n",
    "percentage_train = 0.75\n",
    "sessions_df['history'] = sessions_df['book_id_seq'].apply(lambda items: split(items, percentage_train)[0])\n",
    "sessions_df['future'] = sessions_df['book_id_seq'].apply(lambda items: split(items, percentage_train)[1])\n",
    "display(sessions_df.head(5))"
   ]
  },
  {
   "cell_type": "markdown",
   "metadata": {},
   "source": [
    "Finally, we create a sparse representation of the binary user-item interaction matrix for our train and test set."
   ]
  },
  {
   "cell_type": "code",
   "execution_count": 19,
   "metadata": {},
   "outputs": [
    {
     "data": {
      "text/plain": "0it [00:00, ?it/s]",
      "application/vnd.jupyter.widget-view+json": {
       "version_major": 2,
       "version_minor": 0,
       "model_id": "9475da3c6b324b42bef2c399b426db3d"
      }
     },
     "metadata": {},
     "output_type": "display_data"
    },
    {
     "data": {
      "text/plain": "0it [00:00, ?it/s]",
      "application/vnd.jupyter.widget-view+json": {
       "version_major": 2,
       "version_minor": 0,
       "model_id": "7af7fc60143b4d4ab1d836c0275229eb"
      }
     },
     "metadata": {},
     "output_type": "display_data"
    }
   ],
   "source": [
    "def create_sparse_repr(df, column, shape):\n",
    "    user_ids = []\n",
    "    item_ids = []\n",
    "    for idx, row in tqdm(df.iterrows()):\n",
    "        items = row[column]\n",
    "        item_ids.extend(items)\n",
    "        user = row['user_id_seq']\n",
    "        user_ids.extend([user] * len(items))\n",
    "    values = np.ones(len(user_ids))\n",
    "    matrix = scipy.sparse.coo_matrix((values, (user_ids, item_ids)), shape=shape, dtype=np.int32)\n",
    "    return matrix\n",
    "    \n",
    "\n",
    "shape = (processed_df_interactions['user_id_seq'].max() + 1,  processed_df_interactions['book_id_seq'].max() + 1)\n",
    "train = create_sparse_repr(sessions_df, column='history', shape=shape)\n",
    "test = create_sparse_repr(sessions_df, column='future', shape=shape)"
   ]
  },
  {
   "cell_type": "markdown",
   "metadata": {},
   "source": [
    "We store the train and test set externally to be used in the training and evaluating notebook."
   ]
  },
  {
   "cell_type": "code",
   "execution_count": 20,
   "metadata": {},
   "outputs": [],
   "source": [
    "scipy.sparse.save_npz('./data/train.npz', train)\n",
    "scipy.sparse.save_npz('./data/test.npz', test)"
   ]
  },
  {
   "cell_type": "code",
   "execution_count": null,
   "metadata": {},
   "outputs": [],
   "source": []
  }
 ],
 "metadata": {
  "kernelspec": {
   "display_name": "Python 3 (ipykernel)",
   "language": "python",
   "name": "python3"
  },
  "language_info": {
   "codemirror_mode": {
    "name": "ipython",
    "version": 3
   },
   "file_extension": ".py",
   "mimetype": "text/x-python",
   "name": "python",
   "nbconvert_exporter": "python",
   "pygments_lexer": "ipython3",
   "version": "3.8.5"
  }
 },
 "nbformat": 4,
 "nbformat_minor": 4
}