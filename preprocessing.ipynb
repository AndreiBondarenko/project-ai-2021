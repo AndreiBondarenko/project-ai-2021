{
 "cells": [
  {
   "cell_type": "markdown",
   "metadata": {
    "tags": []
   },
   "source": [
    "# Data loading and preprocessing"
   ]
  },
  {
   "cell_type": "markdown",
   "metadata": {},
   "source": [
    "In this notebook we retrieve our dataset and preprocess it into a format that is ready to use for training our matrix factorization based recommender system."
   ]
  },
  {
   "cell_type": "markdown",
   "metadata": {},
   "source": [
    "First, we import the necessary Python packages."
   ]
  },
  {
   "cell_type": "code",
   "execution_count": null,
   "metadata": {},
   "outputs": [],
   "source": [
    "import gdown\n",
    "import numpy as np\n",
    "import pandas as pd\n",
    "import scipy.sparse\n",
    "from tqdm.auto import tqdm\n",
    "import itertools\n",
    "import json\n",
    "import gzip\n",
    "import math\n",
    "tqdm.pandas() # for progress_apply etc."
   ]
  },
  {
   "cell_type": "markdown",
   "metadata": {
    "tags": []
   },
   "source": [
    "## Loading"
   ]
  },
  {
   "cell_type": "markdown",
   "metadata": {},
   "source": [
    "Next, we download the files for our dataset (Goodreads). We use the gdown package to retrieve them from the Google Drive they're originally hosted on. \n",
    "\n",
    "> Since we will be implementing a collaborative filtering algorithm, we only need the interactions part of the dataset. The code for reading in the other parts of the dataset were left as comments for potential future reference."
   ]
  },
  {
   "cell_type": "markdown",
   "metadata": {},
   "source": [
    "We define the URLs for each file..."
   ]
  },
  {
   "cell_type": "code",
   "execution_count": null,
   "metadata": {},
   "outputs": [],
   "source": [
    "URLS = {\n",
    "    # \"BOOKS\": \"https://drive.google.com/uc?id=1ICk5x0HXvXDp5Zt54CKPh5qz1HyUIn9m\",\n",
    "    # \"AUTHORS\": \"https://drive.google.com/uc?id=19cdwyXwfXx_HDIgxXaHzH0mrx8nMyLvC\",\n",
    "    # \"REVIEWS\": \"https://drive.google.com/u/0/uc?id=1V4MLeoEiPQdocCbUHjR_7L9ZmxTufPFe\",\n",
    "    \"INTERACTIONS\": \"https://drive.google.com/uc?id=1CCj-cQw_mJLMdvF_YYfQ7ibKA-dC_GA2\"\n",
    "}"
   ]
  },
  {
   "cell_type": "markdown",
   "metadata": {},
   "source": [
    "and download each file. (if they haven't been downloaded in a previous run of the notebook)"
   ]
  },
  {
   "cell_type": "code",
   "execution_count": null,
   "metadata": {},
   "outputs": [],
   "source": [
    "for name, url in URLS.items():\n",
    "    gdown.cached_download(url, f\"./data/{name}.json.gz\", quiet=False)"
   ]
  },
  {
   "cell_type": "markdown",
   "metadata": {},
   "source": [
    "We now define a function to read the dataset into a Pandas dataframe. This implementation is faster and more memory efficient than the read_json function provided by Pandas."
   ]
  },
  {
   "cell_type": "code",
   "execution_count": null,
   "metadata": {},
   "outputs": [],
   "source": [
    "from collections import defaultdict\n",
    "\n",
    "def read_json_fast(filename, nrows=None):\n",
    "  \"\"\"\n",
    "  Loads line delimited JSON files faster than the \n",
    "  read_json function provided by Pandas.\n",
    "  \n",
    "  Iterates over file line per line, so shouldn't\n",
    "  cause out-of-memory issues, except if resulting\n",
    "  DataFrame is too big.\n",
    "  \n",
    "  Args:\n",
    "    filename: path of the JSON file\n",
    "    nrows: total number of rows to read from the file\n",
    "  \n",
    "  Returns:\n",
    "    Pandas DataFrame containing (part of) the data. \n",
    "  \"\"\"\n",
    "  with gzip.open(filename) as f:\n",
    "        d = defaultdict(list)\n",
    "        \n",
    "        print(f\"Processing {filename.split('/')[-1]}:\")\n",
    "        if nrows is not None:\n",
    "            pbar = tqdm(itertools.islice(f, nrows), unit=\"lines\")\n",
    "        else:\n",
    "            pbar = tqdm(f, unit=\"lines\")\n",
    "        for l in pbar:\n",
    "            for k,v in json.loads(l).items():\n",
    "                d[k].append(v) \n",
    "        return pd.DataFrame(d)"
   ]
  },
  {
   "cell_type": "markdown",
   "metadata": {},
   "source": [
    "We define the dataset file locations..."
   ]
  },
  {
   "cell_type": "code",
   "execution_count": null,
   "metadata": {},
   "outputs": [],
   "source": [
    "# books_file = './data/BOOKS.json.gz' # book metadata\n",
    "interactions_file = './data/INTERACTIONS.json.gz' # user-book interactions (ratings)\n",
    "# reviews_file = './data/REVIEWS.json.gz' # user-book interactions (reviews)\n",
    "# authors_file = './data/AUTHORS.json.gz' # author metadata"
   ]
  },
  {
   "cell_type": "markdown",
   "metadata": {},
   "source": [
    "and load the necessary files."
   ]
  },
  {
   "cell_type": "code",
   "execution_count": null,
   "metadata": {},
   "outputs": [],
   "source": [
    "%%time\n",
    "# df_books = read_json_fast(books_file)\n",
    "df_interactions = read_json_fast(interactions_file)\n",
    "# df_authors =  read_json_fast(authors_file)"
   ]
  },
  {
   "cell_type": "markdown",
   "metadata": {},
   "source": [
    "Now we look at the contents of the loaded dataset."
   ]
  },
  {
   "cell_type": "code",
   "execution_count": null,
   "metadata": {},
   "outputs": [],
   "source": [
    "display(df_interactions.head(1))"
   ]
  },
  {
   "cell_type": "markdown",
   "metadata": {},
   "source": [
    "We can see that the dataset contains quite a few columns that are of no use to us. To make everything a little less cluttered we remove the columns that we don't use from the dataframe."
   ]
  },
  {
   "cell_type": "code",
   "execution_count": null,
   "metadata": {},
   "outputs": [],
   "source": [
    "df_interactions = df_interactions[['user_id', 'book_id', 'rating', 'date_updated']]"
   ]
  },
  {
   "cell_type": "code",
   "execution_count": null,
   "metadata": {},
   "outputs": [],
   "source": [
    "display(df_interactions.head(1))"
   ]
  },
  {
   "cell_type": "markdown",
   "metadata": {
    "tags": []
   },
   "source": [
    "## Pre-processing"
   ]
  },
  {
   "cell_type": "markdown",
   "metadata": {},
   "source": [
    "The first pre-processing step we apply is converting all dates into a more standardized format."
   ]
  },
  {
   "cell_type": "code",
   "execution_count": null,
   "metadata": {},
   "outputs": [],
   "source": [
    "%%time\n",
    "\n",
    "from datetime import datetime\n",
    "\n",
    "format_str = '%a %b %d %H:%M:%S %z %Y' #see https://docs.python.org/3/library/datetime.html#strftime-strptime-behavior\n",
    "def convert_date(date_string):\n",
    "  return pd.to_datetime(date_string, utc=True, format=format_str)\n",
    "\n",
    "_df_interactions = df_interactions.copy()\n",
    "# _df_interactions['date_updated'] =  _df_interactions['date_updated'].progress_apply(convert_date)\n",
    "_df_interactions['date_updated'] = _df_interactions['date_updated'].progress_apply(lambda s: np.datetime64(datetime.strptime(s,format_str)))\n",
    "_df_interactions['date_updated'] = _df_interactions['date_updated'].dt.tz_localize(None)  # drops utc timezone"
   ]
  },
  {
   "cell_type": "markdown",
   "metadata": {},
   "source": [
    "Now we define a pre-processing function that:\n",
    "\n",
    "1. Drops ratings below 1, as we consider these to be non-relevant items fo rthe user.\n",
    "2. Removes duplicate (user, item) pairs.\n",
    "3. Removes users that occur in less than minsup interactions."
   ]
  },
  {
   "cell_type": "code",
   "execution_count": null,
   "metadata": {},
   "outputs": [],
   "source": [
    "def preprocess(df, minsup=10, min_score=1):\n",
    "    \"\"\"\n",
    "    Goal: - Remove reconsumption items\n",
    "          - Remove users that have less than minsup interactions \n",
    "          - Drop ratings == 0, i.e. \"not provided\"\n",
    "               \n",
    "    :input df: Dataframe containing user_id, item_id and time\n",
    "    \"\"\"\n",
    "    # drop 0 ratings\n",
    "    before = df.shape[0]\n",
    "    df = df[(df[\"rating\"] >= min_score)]\n",
    "    print(f\"After dropping ratings below {min_score}: {before} -> {df.shape[0]}\")\n",
    "    # drop reconsumption items\n",
    "    before = df.shape[0]\n",
    "    df = df.drop_duplicates(subset=[\"user_id\",\"book_id\"])\n",
    "    print(f\"After drop_duplicates (reconsumption items): {before} -> {df.shape[0]}\")\n",
    "    # drop users with less then minsup items in history\n",
    "    g = df.groupby('user_id', as_index=False)['book_id'].size()\n",
    "    g = g.rename({'size': 'user_sup'}, axis='columns')\n",
    "    g = g[g.user_sup >= minsup]\n",
    "    df = pd.merge(df, g, how='inner', on=['user_id'])\n",
    "    print(f\"After dropping users with less than {minsup} interactions: {before} -> {df.shape[0]}\")\n",
    "    return df"
   ]
  },
  {
   "cell_type": "markdown",
   "metadata": {},
   "source": [
    "Then we apply the pre-processing function to the dataframe and log the change in number of samples, number of unique users and number of unique items."
   ]
  },
  {
   "cell_type": "code",
   "execution_count": null,
   "metadata": {},
   "outputs": [],
   "source": [
    "#print number of users and items\n",
    "print(f\"number of unique users: {_df_interactions['user_id'].nunique()}\")\n",
    "print(f\"number of unique items: {_df_interactions['book_id'].nunique()}\")\n",
    "processed_df_interactions = preprocess(_df_interactions.copy())\n",
    "# display(processed_df_interactions.head(5))\n",
    "print(f\"number of unique users: {processed_df_interactions['user_id'].nunique()}\")\n",
    "print(f\"number of unique items: {processed_df_interactions['book_id'].nunique()}\")\n",
    "# create sequential ids\n",
    "processed_df_interactions['user_id_seq'] = processed_df_interactions['user_id'].astype('category').cat.codes\n",
    "processed_df_interactions['book_id_seq'] = processed_df_interactions['book_id'].astype('category').cat.codes\n",
    "# merge book id and rating for easier \n",
    "display(processed_df_interactions.head(5))"
   ]
  },
  {
   "cell_type": "markdown",
   "metadata": {},
   "source": [
    "We store the mapping from user/book id's to their sequential id in an external file. This might come in handy in other notebooks."
   ]
  },
  {
   "cell_type": "code",
   "execution_count": null,
   "metadata": {},
   "outputs": [],
   "source": [
    "processed_df_interactions[['user_id', 'user_id_seq']].drop_duplicates().to_pickle(\"./data/user_id_map.pkl\")\n",
    "processed_df_interactions[['book_id', 'book_id_seq']].drop_duplicates().to_pickle(\"./data/book_id_map.pkl\")"
   ]
  },
  {
   "cell_type": "markdown",
   "metadata": {},
   "source": [
    "We sort the interactions by their date and group them by user. This allows us to perform a session-based train-test split."
   ]
  },
  {
   "cell_type": "code",
   "execution_count": null,
   "metadata": {},
   "outputs": [],
   "source": [
    "# Sort on date and group per user\n",
    "sessions_df = processed_df_interactions.sort_values(['date_updated'],ascending=True).groupby(by='user_id_seq', as_index=False)[['book_id_seq','date_updated', 'rating']].agg(list)"
   ]
  },
  {
   "cell_type": "markdown",
   "metadata": {},
   "source": [
    "Perform session-based split."
   ]
  },
  {
   "cell_type": "code",
   "execution_count": null,
   "metadata": {},
   "outputs": [],
   "source": [
    "# Sort on date and group per user\n",
    "sessions_df = processed_df_interactions.sort_values(['date_updated'],ascending=True).groupby(by='user_id_seq', as_index=False)[['book_id_seq', 'rating', 'date_updated']].agg(list)\n",
    "\n",
    "# Function to perform split\n",
    "def split(row, col, percentage_train):\n",
    "    items = row[col]\n",
    "    no_train_items = math.floor(len(items) * percentage_train)\n",
    "    return items[0:no_train_items], items[no_train_items:]\n",
    "\n",
    "# Split dataset into 0.7 training and 0.3 test samples, split in the temporal dimension.\n",
    "percentage_train = 0.7\n",
    "# train_items, test_items = split(items, percentage_train)\n",
    "sessions_df[['history', 'future']] = sessions_df.progress_apply(lambda row: split(row, 'book_id_seq', percentage_train), axis=1, result_type='expand')\n",
    "sessions_df[['history_ratings', 'future_ratings']] = sessions_df.progress_apply(lambda row: split(row, 'rating', percentage_train), axis=1, result_type='expand')\n",
    "display(sessions_df.head(5))"
   ]
  },
  {
   "cell_type": "markdown",
   "metadata": {},
   "source": [
    "Finally, we create a sparse representation of the user-item interaction matrix for our train and test set."
   ]
  },
  {
   "cell_type": "code",
   "execution_count": null,
   "metadata": {},
   "outputs": [],
   "source": [
    "def create_sparse_repr(df, column, shape):\n",
    "    user_ids = []\n",
    "    item_ids = []\n",
    "    values = []\n",
    "    for idx, row in tqdm(df.iterrows()):\n",
    "        items = row[column]\n",
    "        item_ids.extend(items)\n",
    "        user = row['user_id_seq']\n",
    "        user_ids.extend([user] * len(items))\n",
    "        ratings = row[column + \"_ratings\"]\n",
    "        values.extend(ratings)\n",
    "    matrix = scipy.sparse.coo_matrix((values, (user_ids, item_ids)), shape=shape, dtype=np.int32)\n",
    "    return matrix\n",
    "    \n",
    "\n",
    "shape = (processed_df_interactions['user_id_seq'].max() + 1,  processed_df_interactions['book_id_seq'].max() + 1)\n",
    "train = create_sparse_repr(sessions_df, column='history', shape=shape)\n",
    "test = create_sparse_repr(sessions_df, column='future', shape=shape)"
   ]
  },
  {
   "cell_type": "markdown",
   "metadata": {},
   "source": [
    "We store the train and test set externally to be used in the training and evaluating notebook."
   ]
  },
  {
   "cell_type": "code",
   "execution_count": null,
   "metadata": {},
   "outputs": [],
   "source": [
    "scipy.sparse.save_npz('./data/train.npz', train)\n",
    "scipy.sparse.save_npz('./data/test.npz', test)"
   ]
  },
  {
   "cell_type": "code",
   "execution_count": null,
   "metadata": {},
   "outputs": [],
   "source": []
  }
 ],
 "metadata": {
  "kernelspec": {
   "display_name": "venv-project-ai",
   "language": "python",
   "name": "venv-project-ai"
  },
  "language_info": {
   "codemirror_mode": {
    "name": "ipython",
    "version": 3
   },
   "file_extension": ".py",
   "mimetype": "text/x-python",
   "name": "python",
   "nbconvert_exporter": "python",
   "pygments_lexer": "ipython3",
   "version": "3.9.6"
  }
 },
 "nbformat": 4,
 "nbformat_minor": 4
}
