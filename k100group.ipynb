{
 "cells": [
  {
   "cell_type": "markdown",
   "id": "ab5d449b-c223-4bf7-a8c5-7913d4b8acdf",
   "metadata": {},
   "source": [
    "# Group dataset training and evaluation"
   ]
  },
  {
   "cell_type": "code",
   "execution_count": 2,
   "id": "1749976e-9f1e-4f33-bd62-379355714eb3",
   "metadata": {},
   "outputs": [],
   "source": [
    "from recommenders.mfi import MatrixFactorizationImplicit"
   ]
  },
  {
   "cell_type": "code",
   "execution_count": 2,
   "id": "f5476b43-575c-471e-a03c-837263ca9c18",
   "metadata": {},
   "outputs": [],
   "source": [
    "import numpy as np\n",
    "import pandas as pd\n",
    "from tqdm.auto import tqdm\n",
    "import scipy.sparse as sps\n",
    "import matplotlib.pyplot as plt\n",
    "%matplotlib inline"
   ]
  },
  {
   "cell_type": "markdown",
   "id": "22915f0e-343c-4b9f-bce4-4df9f815d701",
   "metadata": {},
   "source": [
    "## Read interactions data set"
   ]
  },
  {
   "cell_type": "code",
   "execution_count": 3,
   "id": "406fa919-cdb2-4be8-9422-10e55db39e04",
   "metadata": {},
   "outputs": [
    {
     "name": "stdout",
     "output_type": "stream",
     "text": [
      "Processing INTERACTIONS.json.gz:\n"
     ]
    },
    {
     "data": {
      "application/vnd.jupyter.widget-view+json": {
       "model_id": "85fe6290602246188ec098f761aee551",
       "version_major": 2,
       "version_minor": 0
      },
      "text/plain": [
       "0lines [00:00, ?lines/s]"
      ]
     },
     "metadata": {},
     "output_type": "display_data"
    }
   ],
   "source": [
    "from utils import read_json_fast\n",
    "\n",
    "interactions_file = './data/INTERACTIONS.json.gz' # user-book interactions (ratings)\n",
    "df_interactions = read_json_fast(interactions_file)\n",
    "df_interactions = df_interactions.loc[:, ['user_id', 'book_id', 'rating']]\n",
    "df_interactions = df_interactions.rename(columns={'book_id': 'old_item', 'user_id': 'old_user'})"
   ]
  },
  {
   "cell_type": "code",
   "execution_count": 4,
   "id": "b89f0add-391a-44fc-9133-5f9dd09d5fc7",
   "metadata": {},
   "outputs": [
    {
     "data": {
      "text/html": [
       "<div>\n",
       "<style scoped>\n",
       "    .dataframe tbody tr th:only-of-type {\n",
       "        vertical-align: middle;\n",
       "    }\n",
       "\n",
       "    .dataframe tbody tr th {\n",
       "        vertical-align: top;\n",
       "    }\n",
       "\n",
       "    .dataframe thead th {\n",
       "        text-align: right;\n",
       "    }\n",
       "</style>\n",
       "<table border=\"1\" class=\"dataframe\">\n",
       "  <thead>\n",
       "    <tr style=\"text-align: right;\">\n",
       "      <th></th>\n",
       "      <th>old_user</th>\n",
       "      <th>old_item</th>\n",
       "      <th>rating</th>\n",
       "    </tr>\n",
       "  </thead>\n",
       "  <tbody>\n",
       "    <tr>\n",
       "      <th>0</th>\n",
       "      <td>8842281e1d1347389f2ab93d60773d4d</td>\n",
       "      <td>836610</td>\n",
       "      <td>0</td>\n",
       "    </tr>\n",
       "    <tr>\n",
       "      <th>1</th>\n",
       "      <td>8842281e1d1347389f2ab93d60773d4d</td>\n",
       "      <td>7648967</td>\n",
       "      <td>0</td>\n",
       "    </tr>\n",
       "    <tr>\n",
       "      <th>2</th>\n",
       "      <td>8842281e1d1347389f2ab93d60773d4d</td>\n",
       "      <td>15704307</td>\n",
       "      <td>0</td>\n",
       "    </tr>\n",
       "  </tbody>\n",
       "</table>\n",
       "</div>"
      ],
      "text/plain": [
       "                           old_user  old_item  rating\n",
       "0  8842281e1d1347389f2ab93d60773d4d    836610       0\n",
       "1  8842281e1d1347389f2ab93d60773d4d   7648967       0\n",
       "2  8842281e1d1347389f2ab93d60773d4d  15704307       0"
      ]
     },
     "execution_count": 4,
     "metadata": {},
     "output_type": "execute_result"
    }
   ],
   "source": [
    "df_interactions.head(3)"
   ]
  },
  {
   "cell_type": "code",
   "execution_count": 5,
   "id": "c1acd70a-3ea6-4639-835c-5d0ccc670145",
   "metadata": {},
   "outputs": [
    {
     "name": "stdout",
     "output_type": "stream",
     "text": [
      "8842281e1d1347389f2ab93d60773d4d\n"
     ]
    }
   ],
   "source": [
    "print(df_interactions.iloc[0].old_user)"
   ]
  },
  {
   "cell_type": "code",
   "execution_count": 6,
   "id": "d59b0e5f-4a1f-48a9-99d8-c84c26269ff3",
   "metadata": {},
   "outputs": [
    {
     "name": "stdout",
     "output_type": "stream",
     "text": [
      "<class 'pandas.core.frame.DataFrame'>\n",
      "RangeIndex: 7347630 entries, 0 to 7347629\n",
      "Data columns (total 3 columns):\n",
      " #   Column    Dtype \n",
      "---  ------    ----- \n",
      " 0   old_user  object\n",
      " 1   old_item  object\n",
      " 2   rating    int64 \n",
      "dtypes: int64(1), object(2)\n",
      "memory usage: 168.2+ MB\n"
     ]
    }
   ],
   "source": [
    "df_interactions.info()"
   ]
  },
  {
   "cell_type": "markdown",
   "id": "8e4d3e9f-8fa3-436b-975e-700abca0246e",
   "metadata": {},
   "source": [
    "## Read group train-test split"
   ]
  },
  {
   "cell_type": "code",
   "execution_count": 7,
   "id": "929d9abb-813d-4662-8614-a35667e88bfd",
   "metadata": {},
   "outputs": [],
   "source": [
    "df_grp_train0 = pd.read_csv('./group/train0.csv', dtype={'old_item': object})\n",
    "df_grp_test0 = pd.read_csv('./group/test0.csv', dtype={'old_item': object})"
   ]
  },
  {
   "cell_type": "code",
   "execution_count": 8,
   "id": "6aa976ea-a61a-4932-b7bd-720c7f39de91",
   "metadata": {},
   "outputs": [],
   "source": [
    "df_grp_train0 = df_grp_train0.loc[:, ['user_id', 'item_id', 'old_user', 'old_item']]\n",
    "df_grp_test0 = df_grp_test0.loc[:, ['user_id', 'item_id', 'old_user', 'old_item']]"
   ]
  },
  {
   "cell_type": "code",
   "execution_count": 9,
   "id": "b10d33d4-ddc7-4538-8597-c7f8dc9f78da",
   "metadata": {},
   "outputs": [
    {
     "name": "stdout",
     "output_type": "stream",
     "text": [
      "<class 'pandas.core.frame.DataFrame'>\n",
      "RangeIndex: 5084691 entries, 0 to 5084690\n",
      "Data columns (total 4 columns):\n",
      " #   Column    Dtype \n",
      "---  ------    ----- \n",
      " 0   user_id   int64 \n",
      " 1   item_id   int64 \n",
      " 2   old_user  object\n",
      " 3   old_item  object\n",
      "dtypes: int64(2), object(2)\n",
      "memory usage: 155.2+ MB\n",
      "None\n",
      "(5084691, 4)\n",
      "(1271173, 4)\n"
     ]
    }
   ],
   "source": [
    "print(df_grp_train0.info())\n",
    "print(df_grp_train0.shape)\n",
    "print(df_grp_test0.shape)"
   ]
  },
  {
   "cell_type": "markdown",
   "id": "82968101-1783-415c-8324-b408faddd974",
   "metadata": {},
   "source": [
    "## Merge interactions with train-test datasets"
   ]
  },
  {
   "cell_type": "code",
   "execution_count": 10,
   "id": "71e77b49-b0fb-409c-ae80-cc64ca01e63f",
   "metadata": {},
   "outputs": [
    {
     "name": "stdout",
     "output_type": "stream",
     "text": [
      "(5084691, 5)\n",
      "(1271173, 5)\n"
     ]
    }
   ],
   "source": [
    "df_train = df_grp_train0.merge(df_interactions, how='inner', on=['old_user', 'old_item'])\n",
    "print(df_train.shape)\n",
    "df_test = df_grp_test0.merge(df_interactions, how='inner', on=['old_user', 'old_item'])\n",
    "print(df_test.shape)"
   ]
  },
  {
   "cell_type": "code",
   "execution_count": 11,
   "id": "f3436f07-f786-4e8d-abd8-704bbcddaf94",
   "metadata": {},
   "outputs": [],
   "source": [
    "df_train = df_train.loc[:, ['user_id', 'item_id', 'rating']]\n",
    "df_test = df_test.loc[:, ['user_id', 'item_id', 'rating']]"
   ]
  },
  {
   "cell_type": "code",
   "execution_count": 12,
   "id": "4f33117b-d80c-4c77-9d46-c65986d4171c",
   "metadata": {},
   "outputs": [
    {
     "name": "stdout",
     "output_type": "stream",
     "text": [
      "(6355864, 3)\n"
     ]
    }
   ],
   "source": [
    "df_all = pd.concat([df_train, df_test], ignore_index=True)\n",
    "print(df_all.shape)"
   ]
  },
  {
   "cell_type": "code",
   "execution_count": 13,
   "id": "521b6860-5937-43bd-b848-0dee16d53399",
   "metadata": {},
   "outputs": [],
   "source": [
    "df_train = df_train.sort_values(['user_id', 'item_id'])\n",
    "df_test = df_test.sort_values(['user_id', 'item_id'])"
   ]
  },
  {
   "cell_type": "markdown",
   "id": "a52cfd50-3bd9-4398-9bb7-2b28cb49ac69",
   "metadata": {},
   "source": [
    "## Create sparse matrices"
   ]
  },
  {
   "cell_type": "code",
   "execution_count": 14,
   "id": "8739a74e-1bef-4716-a229-d92903d84517",
   "metadata": {},
   "outputs": [],
   "source": [
    "shape = (df_all.user_id.max() + 1,  df_all.item_id.max() + 1)\n",
    "train = sps.coo_matrix((df_train.rating.values, (df_train.user_id.values, df_train.item_id.values)), shape=shape, dtype=np.int32)\n",
    "test = sps.coo_matrix((df_test.rating.values, (df_test.user_id.values, df_test.item_id.values)), shape=shape, dtype=np.int32)\n",
    "# We store the train and test set externally to be used in the training and evaluating notebook.\n",
    "sps.save_npz(f'./group/train0.npz', train)\n",
    "sps.save_npz(f'./group/test0.npz', test)"
   ]
  },
  {
   "cell_type": "code",
   "execution_count": 17,
   "id": "d38cee16-24ec-4be4-83e1-a6fb0189cf8d",
   "metadata": {},
   "outputs": [
    {
     "data": {
      "text/plain": [
       "numpy.ndarray"
      ]
     },
     "execution_count": 17,
     "metadata": {},
     "output_type": "execute_result"
    }
   ],
   "source": [
    "type(df_train.rating.values)"
   ]
  },
  {
   "cell_type": "markdown",
   "id": "bfb75f6e-69e6-46d0-bbaa-905dfe4318b0",
   "metadata": {},
   "source": [
    "## Train"
   ]
  },
  {
   "cell_type": "code",
   "execution_count": 18,
   "id": "0c655622-f1f8-49a7-bf23-bc352753e38d",
   "metadata": {},
   "outputs": [],
   "source": [
    "rec = MatrixFactorizationImplicit(K=100, regularization=0.01)"
   ]
  },
  {
   "cell_type": "code",
   "execution_count": null,
   "id": "2bc947b3-b7c4-4cbf-9cf1-0282ed3a6103",
   "metadata": {},
   "outputs": [
    {
     "data": {
      "application/vnd.jupyter.widget-view+json": {
       "model_id": "ddb36f124eb74f0ca628f7ba64bbc013",
       "version_major": 2,
       "version_minor": 0
      },
      "text/plain": [
       "  0%|          | 0/10 [00:00<?, ?it/s]"
      ]
     },
     "metadata": {},
     "output_type": "display_data"
    }
   ],
   "source": [
    "train_loss, test_loss = rec.train(train, test)"
   ]
  },
  {
   "cell_type": "code",
   "execution_count": 7,
   "id": "b6386eb1-9e5a-43e1-99a9-8fd6846f4f14",
   "metadata": {},
   "outputs": [],
   "source": [
    "# for i, rec in enumerate(recommenders, start=1):\n",
    "#     rec.save(f'./data/model{i}.pkl')"
   ]
  },
  {
   "cell_type": "code",
   "execution_count": 8,
   "id": "1af28791-37d0-422c-ad8b-8479b071eda4",
   "metadata": {},
   "outputs": [],
   "source": [
    "for i, rec in enumerate(recommenders, start=1):\n",
    "    rec.load(f'./data/model{i}.pkl')"
   ]
  },
  {
   "cell_type": "code",
   "execution_count": 9,
   "id": "fccb5d61-07b8-4f77-8292-d4759496a01d",
   "metadata": {},
   "outputs": [],
   "source": [
    "rec_at_5 = []\n",
    "rec_at_10 = []\n",
    "ndcg_at_5 = []\n",
    "ndcg_at_10 = []"
   ]
  },
  {
   "cell_type": "code",
   "execution_count": 10,
   "id": "af0b2bf8-76fd-41e4-8631-b5794822560d",
   "metadata": {},
   "outputs": [],
   "source": [
    "import utils\n",
    "from recommenders.mfi import utils as mfi_utils"
   ]
  },
  {
   "cell_type": "code",
   "execution_count": 11,
   "id": "8696b669-fdf5-457f-93c5-107b67da78de",
   "metadata": {},
   "outputs": [
    {
     "data": {
      "application/vnd.jupyter.widget-view+json": {
       "model_id": "8aa0fd7520004fc291ddc0c448239c84",
       "version_major": 2,
       "version_minor": 0
      },
      "text/plain": [
       "  0%|          | 0/148438 [00:00<?, ?it/s]"
      ]
     },
     "metadata": {},
     "output_type": "display_data"
    },
    {
     "data": {
      "application/vnd.jupyter.widget-view+json": {
       "model_id": "6f69a189bd534e1088810d5591f7e091",
       "version_major": 2,
       "version_minor": 0
      },
      "text/plain": [
       "  0%|          | 0/148438 [00:00<?, ?it/s]"
      ]
     },
     "metadata": {},
     "output_type": "display_data"
    },
    {
     "data": {
      "application/vnd.jupyter.widget-view+json": {
       "model_id": "c685272065774c3c95d80d82f9b774b5",
       "version_major": 2,
       "version_minor": 0
      },
      "text/plain": [
       "  0%|          | 0/148438 [00:00<?, ?it/s]"
      ]
     },
     "metadata": {},
     "output_type": "display_data"
    },
    {
     "data": {
      "application/vnd.jupyter.widget-view+json": {
       "model_id": "ddf9f75c9855410ea903e7983f0ed11d",
       "version_major": 2,
       "version_minor": 0
      },
      "text/plain": [
       "  0%|          | 0/148438 [00:00<?, ?it/s]"
      ]
     },
     "metadata": {},
     "output_type": "display_data"
    },
    {
     "data": {
      "application/vnd.jupyter.widget-view+json": {
       "model_id": "7fe4a8a23667406eb03c3a39dd51fe94",
       "version_major": 2,
       "version_minor": 0
      },
      "text/plain": [
       "  0%|          | 0/148438 [00:00<?, ?it/s]"
      ]
     },
     "metadata": {},
     "output_type": "display_data"
    }
   ],
   "source": [
    "for rec, test in zip(recommenders, test_sets):\n",
    "    _test = mfi_utils.build_conf_mat(test).tocsr()\n",
    "    rec_at_5.append([])\n",
    "    rec_at_10.append([])\n",
    "    ndcg_at_5.append([])\n",
    "    ndcg_at_10.append([])\n",
    "    for i in tqdm(range(_test.shape[0])):\n",
    "    # for i in tqdm(range(89271, 89275)):\n",
    "        topk = rec.recommend(k=10, user=i)\n",
    "        actual = _test[i]\n",
    "        rec_at_5[-1].append(utils.recall_at_k(topk[:5], actual))\n",
    "        rec_at_10[-1].append(utils.recall_at_k(topk, actual))\n",
    "        ndcg_at_5[-1].append(utils.ndcg_at_k(topk[:5], actual))\n",
    "        ndcg_at_10[-1].append(utils.ndcg_at_k(topk, actual))"
   ]
  },
  {
   "cell_type": "code",
   "execution_count": 19,
   "id": "44f4b244-9a84-436d-b503-59d53b27cf5d",
   "metadata": {},
   "outputs": [],
   "source": [
    "import pickle\n",
    "with open('./data/metrics.pkl', 'wb') as f:\n",
    "    pickle.dump([rec_at_5, rec_at_10, ndcg_at_5, ndcg_at_10], f)"
   ]
  },
  {
   "cell_type": "code",
   "execution_count": 15,
   "id": "ec004783-b05e-43fa-a3f9-bc53639e6e90",
   "metadata": {
    "tags": []
   },
   "outputs": [
    {
     "name": "stdout",
     "output_type": "stream",
     "text": [
      "AVG. RECALL @ 5\n",
      "\tFOLD 1: 0.17638614366079036\n",
      "\tFOLD 2: 0.17616829631984882\n",
      "\tFOLD 3: 0.1871915122314225\n",
      "\tFOLD 4: 0.17272039592558183\n",
      "\tFOLD 5: 0.18201576306917258\n",
      "AVG. OVER FOLDS: 0.1788964222413632 ± 0.005107372627724864\n"
     ]
    }
   ],
   "source": [
    "rec_5_avgs = []\n",
    "print(f'AVG. RECALL @ 5')\n",
    "for i, scores in enumerate(rec_at_5, start=1):\n",
    "    avg_rec = np.mean(scores)\n",
    "    rec_5_avgs.append(avg_rec)\n",
    "    print(f'\\tFOLD {i}: {avg_rec}')\n",
    "print(f'AVG. OVER FOLDS: {np.mean(rec_5_avgs)} \\u00B1 {np.std(rec_5_avgs)}')"
   ]
  },
  {
   "cell_type": "code",
   "execution_count": 16,
   "id": "7e1ea5e5-58e5-4dad-95aa-9584dc1723bf",
   "metadata": {
    "tags": []
   },
   "outputs": [
    {
     "name": "stdout",
     "output_type": "stream",
     "text": [
      "AVG. RECALL @ 10\n",
      "\tFOLD 1: 0.24681410601864756\n",
      "\tFOLD 2: 0.24431465847574663\n",
      "\tFOLD 3: 0.2577641470850341\n",
      "\tFOLD 4: 0.2402187986697141\n",
      "\tFOLD 5: 0.25002586470338695\n",
      "AVG. OVER FOLDS: 0.24782751499050587 ± 0.0059131907043481185\n"
     ]
    }
   ],
   "source": [
    "rec_10_avgs = []\n",
    "print(f'AVG. RECALL @ 10')\n",
    "for i, scores in enumerate(rec_at_10, start=1):\n",
    "    avg_rec = np.mean(scores)\n",
    "    rec_10_avgs.append(avg_rec)\n",
    "    print(f'\\tFOLD {i}: {avg_rec}')\n",
    "print(f'AVG. OVER FOLDS: {np.mean(rec_10_avgs)} \\u00B1 {np.std(rec_10_avgs)}')"
   ]
  },
  {
   "cell_type": "code",
   "execution_count": 17,
   "id": "1ce10833-a205-48d8-b12d-4918e823dae1",
   "metadata": {
    "jupyter": {
     "source_hidden": true
    },
    "tags": []
   },
   "outputs": [
    {
     "name": "stdout",
     "output_type": "stream",
     "text": [
      "AVG. NDCG @ 5\n",
      "\tFOLD 1: 0.3315721916927829\n",
      "\tFOLD 2: 0.3361803089961092\n",
      "\tFOLD 3: 0.3476064521306807\n",
      "\tFOLD 4: 0.33267275557732723\n",
      "\tFOLD 5: 0.33961901669804556\n",
      "AVG. OVER FOLDS: 0.3375301450189891 ± 0.005775964806239298\n"
     ]
    }
   ],
   "source": [
    "ndcg_5_avgs = []\n",
    "print(f'AVG. NDCG @ 5')\n",
    "for i, scores in enumerate(ndcg_at_5, start=1):\n",
    "    avg_ndcg = np.mean(scores)\n",
    "    ndcg_5_avgs.append(avg_ndcg)\n",
    "    print(f'\\tFOLD {i}: {avg_ndcg}')\n",
    "print(f'AVG. OVER FOLDS: {np.mean(ndcg_5_avgs)} \\u00B1 {np.std(ndcg_5_avgs)}')"
   ]
  },
  {
   "cell_type": "code",
   "execution_count": 18,
   "id": "60b562ae-12b9-41ad-9f02-cc07e2aaefa1",
   "metadata": {
    "jupyter": {
     "source_hidden": true
    },
    "tags": []
   },
   "outputs": [
    {
     "name": "stdout",
     "output_type": "stream",
     "text": [
      "AVG. NDCG @ 10\n",
      "\tFOLD 1: 0.36782502961300007\n",
      "\tFOLD 2: 0.37296343555370093\n",
      "\tFOLD 3: 0.38314175391352934\n",
      "\tFOLD 4: 0.3677694763559074\n",
      "\tFOLD 5: 0.3756627568133843\n",
      "AVG. OVER FOLDS: 0.3734724904499044 ± 0.005709102262528303\n"
     ]
    }
   ],
   "source": [
    "ndcg_10_avgs = []\n",
    "print(f'AVG. NDCG @ 10')\n",
    "for i, scores in enumerate(ndcg_at_10, start=1):\n",
    "    avg_ndcg = np.mean(scores)\n",
    "    ndcg_10_avgs.append(avg_ndcg)\n",
    "    print(f'\\tFOLD {i}: {avg_ndcg}')\n",
    "print(f'AVG. OVER FOLDS: {np.mean(ndcg_10_avgs)} \\u00B1 {np.std(ndcg_10_avgs)}')"
   ]
  },
  {
   "cell_type": "code",
   "execution_count": null,
   "id": "94c51de5-4cce-4b58-8707-6d68b727717a",
   "metadata": {},
   "outputs": [],
   "source": []
  }
 ],
 "metadata": {
  "kernelspec": {
   "display_name": "venv-project-ai",
   "language": "python",
   "name": "venv-project-ai"
  },
  "language_info": {
   "codemirror_mode": {
    "name": "ipython",
    "version": 3
   },
   "file_extension": ".py",
   "mimetype": "text/x-python",
   "name": "python",
   "nbconvert_exporter": "python",
   "pygments_lexer": "ipython3",
   "version": "3.9.6"
  }
 },
 "nbformat": 4,
 "nbformat_minor": 5
}
